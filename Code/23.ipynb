{
 "cells": [
  {
   "cell_type": "code",
   "execution_count": 44,
   "id": "5ec36cbd",
   "metadata": {},
   "outputs": [
    {
     "data": {
      "application/vnd.microsoft.datawrangler.viewer.v0+json": {
       "columns": [
        {
         "name": "index",
         "rawType": "int64",
         "type": "integer"
        },
        {
         "name": "Sending_Country",
         "rawType": "object",
         "type": "string"
        },
        {
         "name": "Receiving_Country",
         "rawType": "object",
         "type": "string"
        },
        {
         "name": "Year",
         "rawType": "int64",
         "type": "integer"
        },
        {
         "name": "Value",
         "rawType": "object",
         "type": "string"
        },
        {
         "name": "Unit",
         "rawType": "object",
         "type": "string"
        },
        {
         "name": "Source",
         "rawType": "object",
         "type": "string"
        },
        {
         "name": "Region",
         "rawType": "object",
         "type": "string"
        },
        {
         "name": "Sending_Country_Code",
         "rawType": "object",
         "type": "string"
        },
        {
         "name": "Receiving_Country_Code",
         "rawType": "object",
         "type": "string"
        },
        {
         "name": "Sending_Country_GDP",
         "rawType": "float64",
         "type": "float"
        },
        {
         "name": "Receiving_Country_GDP",
         "rawType": "float64",
         "type": "float"
        }
       ],
       "ref": "6a2199d7-5bd4-40b6-b9bb-69d302bc9b02",
       "rows": [
        [
         "0",
         "Algeria",
         "Senegal",
         "2021",
         "0.183414825",
         "USD millions",
         "BCEAO",
         "Africa",
         "DZA",
         "SEN",
         "199488.88815148495",
         "24359.596784117"
        ],
        [
         "1",
         "Australia",
         "Ethiopia",
         "2020",
         "13.59617511",
         "USD millions",
         "National Bank of Ethiopia",
         "Africa",
         "AUS",
         "ETH",
         "1491062.56626652",
         "95071.77581198268"
        ],
        [
         "2",
         "Australia",
         "Kenya",
         "2024",
         "184,497.099695719",
         "USD millions",
         "Central Bank of Kenya",
         "Africa",
         "AUS",
         "KEN",
         "1665257.959985",
         "104575.203135656"
        ],
        [
         "3",
         "Australia",
         "Uganda",
         "2022",
         "22",
         "USD millions",
         "Bank of Uganda",
         "Africa",
         "AUS",
         "UGA",
         "1587133.48080453",
         "44147.216889624"
        ],
        [
         "4",
         "Austria",
         "Kenya",
         "2024",
         "13,169.065145833",
         "USD millions",
         "Central Bank of Kenya",
         "Africa",
         "AUT",
         "KEN",
         "418190.370366673",
         "104575.203135656"
        ],
        [
         "5",
         "Bahamas",
         "Kenya",
         "2024",
         "1,453.632639905",
         "USD millions",
         "Central Bank of Kenya",
         "Africa",
         "BHS",
         "KEN",
         "13630.9359770689",
         "104575.203135656"
        ],
        [
         "6",
         "Bahrain",
         "Kenya",
         "2024",
         "5,004.769090469",
         "USD millions",
         "Central Bank of Kenya",
         "Africa",
         "BHR",
         "KEN",
         "41172.7091226258",
         "104575.203135656"
        ],
        [
         "7",
         "Bahrain",
         "Morocco",
         "2020",
         "30.3408085",
         "USD millions",
         "Bank Al-Maghrib",
         "Africa",
         "BHR",
         "MAR",
         "34724.7741043146",
         "114775.951852213"
        ],
        [
         "8",
         "Belgium",
         "Kenya",
         "2024",
         "22,844.654997935",
         "USD millions",
         "Central Bank of Kenya",
         "Africa",
         "BEL",
         "KEN",
         "532530.656429071",
         "104575.203135656"
        ],
        [
         "9",
         "Belgium",
         "Morocco",
         "2020",
         "387.629403",
         "USD millions",
         "Bank Al-Maghrib",
         "Africa",
         "BEL",
         "MAR",
         "470417.598101755",
         "114775.951852213"
        ],
        [
         "10",
         "Belgium",
         "Senegal",
         "2021",
         "88.247787762",
         "USD millions",
         "BCEAO",
         "Africa",
         "BEL",
         "SEN",
         "499619.240040636",
         "24359.596784117"
        ],
        [
         "11",
         "Benin",
         "Senegal",
         "2021",
         "25.846190336",
         "USD millions",
         "BCEAO",
         "Africa",
         "BEN",
         "SEN",
         "15779.238957311702",
         "24359.596784117"
        ],
        [
         "12",
         "Brazil",
         "Senegal",
         "2021",
         "29.312422216",
         "USD millions",
         "BCEAO",
         "Africa",
         "BRA",
         "SEN",
         "1843881.1199202",
         "24359.596784117"
        ],
        [
         "13",
         "Burkina Faso",
         "Senegal",
         "2021",
         "35.216150094",
         "USD millions",
         "BCEAO",
         "Africa",
         "BFA",
         "SEN",
         "16396.8501825889",
         "24359.596784117"
        ],
        [
         "14",
         "Cameroon",
         "Senegal",
         "2021",
         "43.126214245",
         "USD millions",
         "BCEAO",
         "Africa",
         "CMR",
         "SEN",
         "38854.942334576896",
         "24359.596784117"
        ],
        [
         "15",
         "Canada",
         "Ethiopia",
         "2020",
         "33.89159808",
         "USD millions",
         "National Bank of Ethiopia",
         "Africa",
         "CAN",
         "ETH",
         "1611126.16562503",
         "95071.77581198268"
        ],
        [
         "16",
         "Canada",
         "Kenya",
         "2024",
         "130,812.76972775",
         "USD millions",
         "Central Bank of Kenya",
         "Africa",
         "CAN",
         "KEN",
         "1833284.62168446",
         "104575.203135656"
        ],
        [
         "17",
         "Canada",
         "Morocco",
         "2020",
         "99.802037",
         "USD millions",
         "Bank Al-Maghrib",
         "Africa",
         "CAN",
         "MAR",
         "1611126.16562503",
         "114775.951852213"
        ],
        [
         "18",
         "Canada",
         "Senegal",
         "2021",
         "2.866648143",
         "USD millions",
         "BCEAO",
         "Africa",
         "CAN",
         "SEN",
         "1706996.67967769",
         "24359.596784117"
        ],
        [
         "19",
         "Canada",
         "Uganda",
         "2022",
         "82.1",
         "USD millions",
         "Bank of Uganda",
         "Africa",
         "CAN",
         "UGA",
         "1778503.389905",
         "44147.216889624"
        ],
        [
         "20",
         "Central African Republic",
         "Senegal",
         "2021",
         "11.097456712",
         "USD millions",
         "BCEAO",
         "Africa",
         "CAF",
         "SEN",
         "2024.49702649048",
         "24359.596784117"
        ],
        [
         "21",
         "Chad",
         "Senegal",
         "2021",
         "8.390086853",
         "USD millions",
         "BCEAO",
         "Africa",
         "TCD",
         "SEN",
         "15284.0054061652",
         "24359.596784117"
        ],
        [
         "22",
         "China",
         "Kenya",
         "2024",
         "5,981.681937719",
         "USD millions",
         "Central Bank of Kenya",
         "Africa",
         "CHN",
         "KEN",
         "18488114.8377693",
         "104575.203135656"
        ],
        [
         "23",
         "China",
         "Senegal",
         "2021",
         "0.358772173",
         "USD millions",
         "BCEAO",
         "Africa",
         "CHN",
         "SEN",
         "16199162.8929086",
         "24359.596784117"
        ],
        [
         "24",
         "China",
         "Uganda",
         "2022",
         "7",
         "USD millions",
         "Bank of Uganda",
         "Africa",
         "CHN",
         "UGA",
         "16706875.2536485",
         "44147.216889624"
        ],
        [
         "25",
         "Congo, Dem. Rep.",
         "Uganda",
         "2022",
         "21",
         "USD millions",
         "Bank of Uganda",
         "Africa",
         "COD",
         "UGA",
         "52355.4947157899",
         "44147.216889624"
        ],
        [
         "26",
         "Congo, Rep.",
         "Senegal",
         "2021",
         "61.407592705",
         "USD millions",
         "BCEAO",
         "Africa",
         "COG",
         "SEN",
         "10027.2616697995",
         "24359.596784117"
        ],
        [
         "27",
         "Côte d'Ivoire",
         "Kenya",
         "2024",
         "4,351.233359615",
         "USD millions",
         "Central Bank of Kenya",
         "Africa",
         "CIV",
         "KEN",
         "76346.66796511861",
         "104575.203135656"
        ],
        [
         "28",
         "Côte d'Ivoire",
         "Senegal",
         "2021",
         "89.989410749",
         "USD millions",
         "BCEAO",
         "Africa",
         "CIV",
         "SEN",
         "63620.99243848179",
         "24359.596784117"
        ],
        [
         "29",
         "Denmark",
         "Morocco",
         "2020",
         "28.261131",
         "USD millions",
         "Bank Al-Maghrib",
         "Africa",
         "DNK",
         "MAR",
         "326176.991232295",
         "114775.951852213"
        ],
        [
         "30",
         "Denmark",
         "Senegal",
         "2021",
         "5.476232008",
         "USD millions",
         "BCEAO",
         "Africa",
         "DNK",
         "SEN",
         "350255.593092935",
         "24359.596784117"
        ],
        [
         "31",
         "Djibouti",
         "Ethiopia",
         "2020",
         "185.47649889",
         "USD millions",
         "National Bank of Ethiopia",
         "Africa",
         "DJI",
         "ETH",
         "3065.13571311422",
         "95071.77581198268"
        ],
        [
         "32",
         "Egypt",
         "Kenya",
         "2024",
         "2,710.849916951",
         "USD millions",
         "Central Bank of Kenya",
         "Africa",
         "EGY",
         "KEN",
         "482189.779212632",
         "104575.203135656"
        ],
        [
         "33",
         "Equatorial Guinea",
         "Senegal",
         "2021",
         "4.981180446",
         "USD millions",
         "BCEAO",
         "Africa",
         "GNQ",
         "SEN",
         "9652.08529325754",
         "24359.596784117"
        ],
        [
         "34",
         "France",
         "Kenya",
         "2024",
         "25,420.562300568",
         "USD millions",
         "Central Bank of Kenya",
         "Africa",
         "FRA",
         "KEN",
         "2702385.0113175",
         "104575.203135656"
        ],
        [
         "35",
         "France",
         "Morocco",
         "2020",
         "2,740.1718325",
         "USD millions",
         "Bank Al-Maghrib",
         "Africa",
         "FRA",
         "MAR",
         "2413981.86767636",
         "114775.951852213"
        ],
        [
         "36",
         "France",
         "Senegal",
         "2021",
         "1,630.192958418",
         "USD millions",
         "BCEAO",
         "Africa",
         "FRA",
         "SEN",
         "2580120.25505175",
         "24359.596784117"
        ],
        [
         "37",
         "Gabon",
         "Senegal",
         "2021",
         "110.182458279",
         "USD millions",
         "BCEAO",
         "Africa",
         "GAB",
         "SEN",
         "15398.8983138373",
         "24359.596784117"
        ],
        [
         "38",
         "Germany",
         "Ethiopia",
         "2020",
         "61.4673327",
         "USD millions",
         "National Bank of Ethiopia",
         "Africa",
         "DEU",
         "ETH",
         "3522914.63971192",
         "95071.77581198268"
        ],
        [
         "39",
         "Germany",
         "Kenya",
         "2024",
         "197,764.185703727",
         "USD millions",
         "Central Bank of Kenya",
         "Africa",
         "DEU",
         "KEN",
         "3683559.54524029",
         "104575.203135656"
        ],
        [
         "40",
         "Germany",
         "Morocco",
         "2020",
         "349.588167",
         "USD millions",
         "Bank Al-Maghrib",
         "Africa",
         "DEU",
         "MAR",
         "3522914.63971192",
         "114775.951852213"
        ],
        [
         "41",
         "Germany",
         "Senegal",
         "2021",
         "81.314844041",
         "USD millions",
         "BCEAO",
         "Africa",
         "DEU",
         "SEN",
         "3652205.60290436",
         "24359.596784117"
        ],
        [
         "42",
         "Germany",
         "Uganda",
         "2022",
         "27.9",
         "USD millions",
         "Bank of Uganda",
         "Africa",
         "DEU",
         "UGA",
         "3702230.99691575",
         "44147.216889624"
        ],
        [
         "43",
         "Greece",
         "Senegal",
         "2021",
         "7.552688969",
         "USD millions",
         "BCEAO",
         "Africa",
         "GRC",
         "SEN",
         "203277.223532871",
         "24359.596784117"
        ],
        [
         "44",
         "Guinea-Bissau",
         "Senegal",
         "2021",
         "20.567153363",
         "USD millions",
         "BCEAO",
         "Africa",
         "GNB",
         "SEN",
         "1497.07263573124",
         "24359.596784117"
        ],
        [
         "45",
         "India",
         "Kenya",
         "2024",
         "20,594.869099147",
         "USD millions",
         "Central Bank of Kenya",
         "Africa",
         "IND",
         "KEN",
         "3477476.26413411",
         "104575.203135656"
        ],
        [
         "46",
         "India",
         "Senegal",
         "2021",
         "0.067644659",
         "USD millions",
         "BCEAO",
         "Africa",
         "IND",
         "SEN",
         "2779348.25893877",
         "24359.596784117"
        ],
        [
         "47",
         "Iraq",
         "Kenya",
         "2024",
         "18,473.974825301",
         "USD millions",
         "Central Bank of Kenya",
         "Africa",
         "IRQ",
         "KEN",
         "192469.260104189",
         "104575.203135656"
        ],
        [
         "48",
         "Israel",
         "Ethiopia",
         "2020",
         "16.12958144",
         "USD millions",
         "National Bank of Ethiopia",
         "Africa",
         "ISR",
         "ETH",
         "349579.824803208",
         "95071.77581198268"
        ],
        [
         "49",
         "Italy",
         "Ethiopia",
         "2020",
         "40.64448902",
         "USD millions",
         "National Bank of Ethiopia",
         "Africa",
         "ITA",
         "ETH",
         "1751650.98723543",
         "95071.77581198268"
        ]
       ],
       "shape": {
        "columns": 11,
        "rows": 3980
       }
      },
      "text/html": [
       "<div>\n",
       "<style scoped>\n",
       "    .dataframe tbody tr th:only-of-type {\n",
       "        vertical-align: middle;\n",
       "    }\n",
       "\n",
       "    .dataframe tbody tr th {\n",
       "        vertical-align: top;\n",
       "    }\n",
       "\n",
       "    .dataframe thead th {\n",
       "        text-align: right;\n",
       "    }\n",
       "</style>\n",
       "<table border=\"1\" class=\"dataframe\">\n",
       "  <thead>\n",
       "    <tr style=\"text-align: right;\">\n",
       "      <th></th>\n",
       "      <th>Sending_Country</th>\n",
       "      <th>Receiving_Country</th>\n",
       "      <th>Year</th>\n",
       "      <th>Value</th>\n",
       "      <th>Unit</th>\n",
       "      <th>Source</th>\n",
       "      <th>Region</th>\n",
       "      <th>Sending_Country_Code</th>\n",
       "      <th>Receiving_Country_Code</th>\n",
       "      <th>Sending_Country_GDP</th>\n",
       "      <th>Receiving_Country_GDP</th>\n",
       "    </tr>\n",
       "  </thead>\n",
       "  <tbody>\n",
       "    <tr>\n",
       "      <th>0</th>\n",
       "      <td>Algeria</td>\n",
       "      <td>Senegal</td>\n",
       "      <td>2021</td>\n",
       "      <td>0.183414825</td>\n",
       "      <td>USD millions</td>\n",
       "      <td>BCEAO</td>\n",
       "      <td>Africa</td>\n",
       "      <td>DZA</td>\n",
       "      <td>SEN</td>\n",
       "      <td>1.994889e+05</td>\n",
       "      <td>2.435960e+04</td>\n",
       "    </tr>\n",
       "    <tr>\n",
       "      <th>1</th>\n",
       "      <td>Australia</td>\n",
       "      <td>Ethiopia</td>\n",
       "      <td>2020</td>\n",
       "      <td>13.59617511</td>\n",
       "      <td>USD millions</td>\n",
       "      <td>National Bank of Ethiopia</td>\n",
       "      <td>Africa</td>\n",
       "      <td>AUS</td>\n",
       "      <td>ETH</td>\n",
       "      <td>1.491063e+06</td>\n",
       "      <td>9.507178e+04</td>\n",
       "    </tr>\n",
       "    <tr>\n",
       "      <th>2</th>\n",
       "      <td>Australia</td>\n",
       "      <td>Kenya</td>\n",
       "      <td>2024</td>\n",
       "      <td>184,497.099695719</td>\n",
       "      <td>USD millions</td>\n",
       "      <td>Central Bank of Kenya</td>\n",
       "      <td>Africa</td>\n",
       "      <td>AUS</td>\n",
       "      <td>KEN</td>\n",
       "      <td>1.665258e+06</td>\n",
       "      <td>1.045752e+05</td>\n",
       "    </tr>\n",
       "    <tr>\n",
       "      <th>3</th>\n",
       "      <td>Australia</td>\n",
       "      <td>Uganda</td>\n",
       "      <td>2022</td>\n",
       "      <td>22</td>\n",
       "      <td>USD millions</td>\n",
       "      <td>Bank of Uganda</td>\n",
       "      <td>Africa</td>\n",
       "      <td>AUS</td>\n",
       "      <td>UGA</td>\n",
       "      <td>1.587133e+06</td>\n",
       "      <td>4.414722e+04</td>\n",
       "    </tr>\n",
       "    <tr>\n",
       "      <th>4</th>\n",
       "      <td>Austria</td>\n",
       "      <td>Kenya</td>\n",
       "      <td>2024</td>\n",
       "      <td>13,169.065145833</td>\n",
       "      <td>USD millions</td>\n",
       "      <td>Central Bank of Kenya</td>\n",
       "      <td>Africa</td>\n",
       "      <td>AUT</td>\n",
       "      <td>KEN</td>\n",
       "      <td>4.181904e+05</td>\n",
       "      <td>1.045752e+05</td>\n",
       "    </tr>\n",
       "    <tr>\n",
       "      <th>...</th>\n",
       "      <td>...</td>\n",
       "      <td>...</td>\n",
       "      <td>...</td>\n",
       "      <td>...</td>\n",
       "      <td>...</td>\n",
       "      <td>...</td>\n",
       "      <td>...</td>\n",
       "      <td>...</td>\n",
       "      <td>...</td>\n",
       "      <td>...</td>\n",
       "      <td>...</td>\n",
       "    </tr>\n",
       "    <tr>\n",
       "      <th>3975</th>\n",
       "      <td>Suriname</td>\n",
       "      <td>United States</td>\n",
       "      <td>2019</td>\n",
       "      <td>5.022</td>\n",
       "      <td>USD millions</td>\n",
       "      <td>Roland Kpodar (IMF)</td>\n",
       "      <td>North America</td>\n",
       "      <td>SUR</td>\n",
       "      <td>USA</td>\n",
       "      <td>5.256434e+03</td>\n",
       "      <td>2.015964e+07</td>\n",
       "    </tr>\n",
       "    <tr>\n",
       "      <th>3976</th>\n",
       "      <td>Suriname</td>\n",
       "      <td>United States</td>\n",
       "      <td>2020</td>\n",
       "      <td>3.275</td>\n",
       "      <td>USD millions</td>\n",
       "      <td>Roland Kpodar (IMF)</td>\n",
       "      <td>North America</td>\n",
       "      <td>SUR</td>\n",
       "      <td>USA</td>\n",
       "      <td>4.416708e+03</td>\n",
       "      <td>1.972358e+07</td>\n",
       "    </tr>\n",
       "    <tr>\n",
       "      <th>3977</th>\n",
       "      <td>Suriname</td>\n",
       "      <td>Vietnam</td>\n",
       "      <td>2018</td>\n",
       "      <td>1.401</td>\n",
       "      <td>USD millions</td>\n",
       "      <td>Roland Kpodar (IMF)</td>\n",
       "      <td>Asia</td>\n",
       "      <td>SUR</td>\n",
       "      <td>VNM</td>\n",
       "      <td>5.195769e+03</td>\n",
       "      <td>2.933586e+05</td>\n",
       "    </tr>\n",
       "    <tr>\n",
       "      <th>3978</th>\n",
       "      <td>Suriname</td>\n",
       "      <td>Vietnam</td>\n",
       "      <td>2019</td>\n",
       "      <td>1.453</td>\n",
       "      <td>USD millions</td>\n",
       "      <td>Roland Kpodar (IMF)</td>\n",
       "      <td>Asia</td>\n",
       "      <td>SUR</td>\n",
       "      <td>VNM</td>\n",
       "      <td>5.256434e+03</td>\n",
       "      <td>3.149476e+05</td>\n",
       "    </tr>\n",
       "    <tr>\n",
       "      <th>3979</th>\n",
       "      <td>Suriname</td>\n",
       "      <td>Vietnam</td>\n",
       "      <td>2020</td>\n",
       "      <td>1.8860000000000001</td>\n",
       "      <td>USD millions</td>\n",
       "      <td>Roland Kpodar (IMF)</td>\n",
       "      <td>Asia</td>\n",
       "      <td>SUR</td>\n",
       "      <td>VNM</td>\n",
       "      <td>4.416708e+03</td>\n",
       "      <td>3.239722e+05</td>\n",
       "    </tr>\n",
       "  </tbody>\n",
       "</table>\n",
       "<p>3980 rows × 11 columns</p>\n",
       "</div>"
      ],
      "text/plain": [
       "     Sending_Country Receiving_Country  Year               Value  \\\n",
       "0            Algeria           Senegal  2021         0.183414825   \n",
       "1          Australia          Ethiopia  2020         13.59617511   \n",
       "2          Australia             Kenya  2024   184,497.099695719   \n",
       "3          Australia            Uganda  2022                  22   \n",
       "4            Austria             Kenya  2024    13,169.065145833   \n",
       "...              ...               ...   ...                 ...   \n",
       "3975        Suriname     United States  2019               5.022   \n",
       "3976        Suriname     United States  2020               3.275   \n",
       "3977        Suriname           Vietnam  2018               1.401   \n",
       "3978        Suriname           Vietnam  2019               1.453   \n",
       "3979        Suriname           Vietnam  2020  1.8860000000000001   \n",
       "\n",
       "              Unit                     Source         Region  \\\n",
       "0     USD millions                      BCEAO         Africa   \n",
       "1     USD millions  National Bank of Ethiopia         Africa   \n",
       "2     USD millions      Central Bank of Kenya         Africa   \n",
       "3     USD millions             Bank of Uganda         Africa   \n",
       "4     USD millions      Central Bank of Kenya         Africa   \n",
       "...            ...                        ...            ...   \n",
       "3975  USD millions        Roland Kpodar (IMF)  North America   \n",
       "3976  USD millions        Roland Kpodar (IMF)  North America   \n",
       "3977  USD millions        Roland Kpodar (IMF)           Asia   \n",
       "3978  USD millions        Roland Kpodar (IMF)           Asia   \n",
       "3979  USD millions        Roland Kpodar (IMF)           Asia   \n",
       "\n",
       "     Sending_Country_Code Receiving_Country_Code  Sending_Country_GDP  \\\n",
       "0                     DZA                    SEN         1.994889e+05   \n",
       "1                     AUS                    ETH         1.491063e+06   \n",
       "2                     AUS                    KEN         1.665258e+06   \n",
       "3                     AUS                    UGA         1.587133e+06   \n",
       "4                     AUT                    KEN         4.181904e+05   \n",
       "...                   ...                    ...                  ...   \n",
       "3975                  SUR                    USA         5.256434e+03   \n",
       "3976                  SUR                    USA         4.416708e+03   \n",
       "3977                  SUR                    VNM         5.195769e+03   \n",
       "3978                  SUR                    VNM         5.256434e+03   \n",
       "3979                  SUR                    VNM         4.416708e+03   \n",
       "\n",
       "      Receiving_Country_GDP  \n",
       "0              2.435960e+04  \n",
       "1              9.507178e+04  \n",
       "2              1.045752e+05  \n",
       "3              4.414722e+04  \n",
       "4              1.045752e+05  \n",
       "...                     ...  \n",
       "3975           2.015964e+07  \n",
       "3976           1.972358e+07  \n",
       "3977           2.933586e+05  \n",
       "3978           3.149476e+05  \n",
       "3979           3.239722e+05  \n",
       "\n",
       "[3980 rows x 11 columns]"
      ]
     },
     "execution_count": 44,
     "metadata": {},
     "output_type": "execute_result"
    }
   ],
   "source": [
    "import pandas as pd\n",
    "\n",
    "df = pd.read_csv(r'C:\\Users\\clint\\Desktop\\RER\\Code\\21.csv')\n",
    "df"
   ]
  },
  {
   "cell_type": "code",
   "execution_count": 45,
   "id": "9d47b78c",
   "metadata": {},
   "outputs": [
    {
     "name": "stdout",
     "output_type": "stream",
     "text": [
      "Dataset shape: (3980, 11)\n",
      "\n",
      "Column names:\n",
      "['Sending_Country', 'Receiving_Country', 'Year', 'Value', 'Unit', 'Source', 'Region', 'Sending_Country_Code', 'Receiving_Country_Code', 'Sending_Country_GDP', 'Receiving_Country_GDP']\n",
      "\n",
      "First few rows:\n"
     ]
    },
    {
     "data": {
      "application/vnd.microsoft.datawrangler.viewer.v0+json": {
       "columns": [
        {
         "name": "index",
         "rawType": "int64",
         "type": "integer"
        },
        {
         "name": "Sending_Country",
         "rawType": "object",
         "type": "string"
        },
        {
         "name": "Receiving_Country",
         "rawType": "object",
         "type": "string"
        },
        {
         "name": "Year",
         "rawType": "int64",
         "type": "integer"
        },
        {
         "name": "Value",
         "rawType": "object",
         "type": "string"
        },
        {
         "name": "Unit",
         "rawType": "object",
         "type": "string"
        },
        {
         "name": "Source",
         "rawType": "object",
         "type": "string"
        },
        {
         "name": "Region",
         "rawType": "object",
         "type": "string"
        },
        {
         "name": "Sending_Country_Code",
         "rawType": "object",
         "type": "string"
        },
        {
         "name": "Receiving_Country_Code",
         "rawType": "object",
         "type": "string"
        },
        {
         "name": "Sending_Country_GDP",
         "rawType": "float64",
         "type": "float"
        },
        {
         "name": "Receiving_Country_GDP",
         "rawType": "float64",
         "type": "float"
        }
       ],
       "ref": "ad7420fc-382c-4d15-8fc2-2c601df16db4",
       "rows": [
        [
         "0",
         "Algeria",
         "Senegal",
         "2021",
         "0.183414825",
         "USD millions",
         "BCEAO",
         "Africa",
         "DZA",
         "SEN",
         "199488.88815148495",
         "24359.596784117"
        ],
        [
         "1",
         "Australia",
         "Ethiopia",
         "2020",
         "13.59617511",
         "USD millions",
         "National Bank of Ethiopia",
         "Africa",
         "AUS",
         "ETH",
         "1491062.56626652",
         "95071.77581198268"
        ],
        [
         "2",
         "Australia",
         "Kenya",
         "2024",
         "184,497.099695719",
         "USD millions",
         "Central Bank of Kenya",
         "Africa",
         "AUS",
         "KEN",
         "1665257.959985",
         "104575.203135656"
        ],
        [
         "3",
         "Australia",
         "Uganda",
         "2022",
         "22",
         "USD millions",
         "Bank of Uganda",
         "Africa",
         "AUS",
         "UGA",
         "1587133.48080453",
         "44147.216889624"
        ],
        [
         "4",
         "Austria",
         "Kenya",
         "2024",
         "13,169.065145833",
         "USD millions",
         "Central Bank of Kenya",
         "Africa",
         "AUT",
         "KEN",
         "418190.370366673",
         "104575.203135656"
        ]
       ],
       "shape": {
        "columns": 11,
        "rows": 5
       }
      },
      "text/html": [
       "<div>\n",
       "<style scoped>\n",
       "    .dataframe tbody tr th:only-of-type {\n",
       "        vertical-align: middle;\n",
       "    }\n",
       "\n",
       "    .dataframe tbody tr th {\n",
       "        vertical-align: top;\n",
       "    }\n",
       "\n",
       "    .dataframe thead th {\n",
       "        text-align: right;\n",
       "    }\n",
       "</style>\n",
       "<table border=\"1\" class=\"dataframe\">\n",
       "  <thead>\n",
       "    <tr style=\"text-align: right;\">\n",
       "      <th></th>\n",
       "      <th>Sending_Country</th>\n",
       "      <th>Receiving_Country</th>\n",
       "      <th>Year</th>\n",
       "      <th>Value</th>\n",
       "      <th>Unit</th>\n",
       "      <th>Source</th>\n",
       "      <th>Region</th>\n",
       "      <th>Sending_Country_Code</th>\n",
       "      <th>Receiving_Country_Code</th>\n",
       "      <th>Sending_Country_GDP</th>\n",
       "      <th>Receiving_Country_GDP</th>\n",
       "    </tr>\n",
       "  </thead>\n",
       "  <tbody>\n",
       "    <tr>\n",
       "      <th>0</th>\n",
       "      <td>Algeria</td>\n",
       "      <td>Senegal</td>\n",
       "      <td>2021</td>\n",
       "      <td>0.183414825</td>\n",
       "      <td>USD millions</td>\n",
       "      <td>BCEAO</td>\n",
       "      <td>Africa</td>\n",
       "      <td>DZA</td>\n",
       "      <td>SEN</td>\n",
       "      <td>1.994889e+05</td>\n",
       "      <td>24359.596784</td>\n",
       "    </tr>\n",
       "    <tr>\n",
       "      <th>1</th>\n",
       "      <td>Australia</td>\n",
       "      <td>Ethiopia</td>\n",
       "      <td>2020</td>\n",
       "      <td>13.59617511</td>\n",
       "      <td>USD millions</td>\n",
       "      <td>National Bank of Ethiopia</td>\n",
       "      <td>Africa</td>\n",
       "      <td>AUS</td>\n",
       "      <td>ETH</td>\n",
       "      <td>1.491063e+06</td>\n",
       "      <td>95071.775812</td>\n",
       "    </tr>\n",
       "    <tr>\n",
       "      <th>2</th>\n",
       "      <td>Australia</td>\n",
       "      <td>Kenya</td>\n",
       "      <td>2024</td>\n",
       "      <td>184,497.099695719</td>\n",
       "      <td>USD millions</td>\n",
       "      <td>Central Bank of Kenya</td>\n",
       "      <td>Africa</td>\n",
       "      <td>AUS</td>\n",
       "      <td>KEN</td>\n",
       "      <td>1.665258e+06</td>\n",
       "      <td>104575.203136</td>\n",
       "    </tr>\n",
       "    <tr>\n",
       "      <th>3</th>\n",
       "      <td>Australia</td>\n",
       "      <td>Uganda</td>\n",
       "      <td>2022</td>\n",
       "      <td>22</td>\n",
       "      <td>USD millions</td>\n",
       "      <td>Bank of Uganda</td>\n",
       "      <td>Africa</td>\n",
       "      <td>AUS</td>\n",
       "      <td>UGA</td>\n",
       "      <td>1.587133e+06</td>\n",
       "      <td>44147.216890</td>\n",
       "    </tr>\n",
       "    <tr>\n",
       "      <th>4</th>\n",
       "      <td>Austria</td>\n",
       "      <td>Kenya</td>\n",
       "      <td>2024</td>\n",
       "      <td>13,169.065145833</td>\n",
       "      <td>USD millions</td>\n",
       "      <td>Central Bank of Kenya</td>\n",
       "      <td>Africa</td>\n",
       "      <td>AUT</td>\n",
       "      <td>KEN</td>\n",
       "      <td>4.181904e+05</td>\n",
       "      <td>104575.203136</td>\n",
       "    </tr>\n",
       "  </tbody>\n",
       "</table>\n",
       "</div>"
      ],
      "text/plain": [
       "  Sending_Country Receiving_Country  Year              Value          Unit  \\\n",
       "0         Algeria           Senegal  2021        0.183414825  USD millions   \n",
       "1       Australia          Ethiopia  2020        13.59617511  USD millions   \n",
       "2       Australia             Kenya  2024  184,497.099695719  USD millions   \n",
       "3       Australia            Uganda  2022                 22  USD millions   \n",
       "4         Austria             Kenya  2024   13,169.065145833  USD millions   \n",
       "\n",
       "                      Source  Region Sending_Country_Code  \\\n",
       "0                      BCEAO  Africa                  DZA   \n",
       "1  National Bank of Ethiopia  Africa                  AUS   \n",
       "2      Central Bank of Kenya  Africa                  AUS   \n",
       "3             Bank of Uganda  Africa                  AUS   \n",
       "4      Central Bank of Kenya  Africa                  AUT   \n",
       "\n",
       "  Receiving_Country_Code  Sending_Country_GDP  Receiving_Country_GDP  \n",
       "0                    SEN         1.994889e+05           24359.596784  \n",
       "1                    ETH         1.491063e+06           95071.775812  \n",
       "2                    KEN         1.665258e+06          104575.203136  \n",
       "3                    UGA         1.587133e+06           44147.216890  \n",
       "4                    KEN         4.181904e+05          104575.203136  "
      ]
     },
     "execution_count": 45,
     "metadata": {},
     "output_type": "execute_result"
    }
   ],
   "source": [
    "# Examine data structure\n",
    "print(\"Dataset shape:\", df.shape)\n",
    "print(\"\\nColumn names:\")\n",
    "print(df.columns.tolist())\n",
    "print(\"\\nFirst few rows:\")\n",
    "df.head()"
   ]
  },
  {
   "cell_type": "code",
   "execution_count": 46,
   "id": "a74fb38c",
   "metadata": {},
   "outputs": [
    {
     "name": "stdout",
     "output_type": "stream",
     "text": [
      "Number of US remittance flows: 47\n",
      "\n",
      "Receiving countries from US (19 countries):\n",
      "['Ethiopia' 'Kenya' 'Morocco' 'Senegal' 'Uganda' 'Armenia' 'Brazil'\n",
      " 'Cabo Verde' 'Dominican Republic' 'Georgia' 'Haiti' 'Jamaica'\n",
      " 'Kyrgyz Republic' 'Nicaragua' 'Pakistan' 'Paraguay' 'Philippines' 'Samoa'\n",
      " 'Suriname']\n",
      "\n",
      "Years available: [np.int64(2018), np.int64(2019), np.int64(2020), np.int64(2021), np.int64(2022), np.int64(2024)]\n",
      "\n",
      "Value column sample:\n",
      "122          387.04401602\n",
      "123    2,637,772.27432718\n",
      "124            422.388121\n",
      "125         479.695927280\n",
      "126                 184.5\n",
      "731             223.97581\n",
      "732    280.91130599999997\n",
      "733            458.719932\n",
      "779                1077.2\n",
      "780                1229.6\n",
      "Name: Value, dtype: object\n",
      "Value data type: object\n"
     ]
    },
    {
     "data": {
      "application/vnd.microsoft.datawrangler.viewer.v0+json": {
       "columns": [
        {
         "name": "index",
         "rawType": "int64",
         "type": "integer"
        },
        {
         "name": "Sending_Country",
         "rawType": "object",
         "type": "string"
        },
        {
         "name": "Receiving_Country",
         "rawType": "object",
         "type": "string"
        },
        {
         "name": "Year",
         "rawType": "int64",
         "type": "integer"
        },
        {
         "name": "Value",
         "rawType": "object",
         "type": "string"
        },
        {
         "name": "Unit",
         "rawType": "object",
         "type": "string"
        },
        {
         "name": "Source",
         "rawType": "object",
         "type": "string"
        },
        {
         "name": "Region",
         "rawType": "object",
         "type": "string"
        },
        {
         "name": "Sending_Country_Code",
         "rawType": "object",
         "type": "string"
        },
        {
         "name": "Receiving_Country_Code",
         "rawType": "object",
         "type": "string"
        },
        {
         "name": "Sending_Country_GDP",
         "rawType": "float64",
         "type": "float"
        },
        {
         "name": "Receiving_Country_GDP",
         "rawType": "float64",
         "type": "float"
        }
       ],
       "ref": "9d36f95f-e279-4143-aa23-244a683ffe6e",
       "rows": [
        [
         "122",
         "United States",
         "Ethiopia",
         "2020",
         "387.04401602",
         "USD millions",
         "National Bank of Ethiopia",
         "Africa",
         "USA",
         "ETH",
         "19723580.2219382",
         "95071.77581198268"
        ],
        [
         "123",
         "United States",
         "Kenya",
         "2024",
         "2,637,772.27432718",
         "USD millions",
         "Central Bank of Kenya",
         "Africa",
         "USA",
         "KEN",
         "22679489.9695556",
         "104575.203135656"
        ],
        [
         "124",
         "United States",
         "Morocco",
         "2020",
         "422.388121",
         "USD millions",
         "Bank Al-Maghrib",
         "Africa",
         "USA",
         "MAR",
         "19723580.2219382",
         "114775.951852213"
        ],
        [
         "125",
         "United States",
         "Senegal",
         "2021",
         "479.695927280",
         "USD millions",
         "BCEAO",
         "Africa",
         "USA",
         "SEN",
         "20917853.4446683",
         "24359.596784117"
        ],
        [
         "126",
         "United States",
         "Uganda",
         "2022",
         "184.5",
         "USD millions",
         "Bank of Uganda",
         "Africa",
         "USA",
         "UGA",
         "21443388.432051",
         "44147.216889624"
        ],
        [
         "731",
         "United States",
         "Armenia",
         "2018",
         "223.97581",
         "USD millions",
         "Roland Kpodar (IMF)",
         "Asia",
         "USA",
         "ARM",
         "19651869.1175825",
         "11958.638938496"
        ],
        [
         "732",
         "United States",
         "Armenia",
         "2019",
         "280.91130599999997",
         "USD millions",
         "Roland Kpodar (IMF)",
         "Asia",
         "USA",
         "ARM",
         "20159639.089698102",
         "12867.4954976469"
        ],
        [
         "733",
         "United States",
         "Armenia",
         "2020",
         "458.719932",
         "USD millions",
         "Roland Kpodar (IMF)",
         "Asia",
         "USA",
         "ARM",
         "19723580.2219382",
         "11941.0358219185"
        ],
        [
         "779",
         "United States",
         "Brazil",
         "2018",
         "1077.2",
         "USD millions",
         "Roland Kpodar (IMF)",
         "Latin America",
         "USA",
         "BRA",
         "19651869.1175825",
         "1797736.84496916"
        ],
        [
         "780",
         "United States",
         "Brazil",
         "2019",
         "1229.6",
         "USD millions",
         "Roland Kpodar (IMF)",
         "Latin America",
         "USA",
         "BRA",
         "20159639.089698102",
         "1819683.21769938"
        ]
       ],
       "shape": {
        "columns": 11,
        "rows": 10
       }
      },
      "text/html": [
       "<div>\n",
       "<style scoped>\n",
       "    .dataframe tbody tr th:only-of-type {\n",
       "        vertical-align: middle;\n",
       "    }\n",
       "\n",
       "    .dataframe tbody tr th {\n",
       "        vertical-align: top;\n",
       "    }\n",
       "\n",
       "    .dataframe thead th {\n",
       "        text-align: right;\n",
       "    }\n",
       "</style>\n",
       "<table border=\"1\" class=\"dataframe\">\n",
       "  <thead>\n",
       "    <tr style=\"text-align: right;\">\n",
       "      <th></th>\n",
       "      <th>Sending_Country</th>\n",
       "      <th>Receiving_Country</th>\n",
       "      <th>Year</th>\n",
       "      <th>Value</th>\n",
       "      <th>Unit</th>\n",
       "      <th>Source</th>\n",
       "      <th>Region</th>\n",
       "      <th>Sending_Country_Code</th>\n",
       "      <th>Receiving_Country_Code</th>\n",
       "      <th>Sending_Country_GDP</th>\n",
       "      <th>Receiving_Country_GDP</th>\n",
       "    </tr>\n",
       "  </thead>\n",
       "  <tbody>\n",
       "    <tr>\n",
       "      <th>122</th>\n",
       "      <td>United States</td>\n",
       "      <td>Ethiopia</td>\n",
       "      <td>2020</td>\n",
       "      <td>387.04401602</td>\n",
       "      <td>USD millions</td>\n",
       "      <td>National Bank of Ethiopia</td>\n",
       "      <td>Africa</td>\n",
       "      <td>USA</td>\n",
       "      <td>ETH</td>\n",
       "      <td>1.972358e+07</td>\n",
       "      <td>9.507178e+04</td>\n",
       "    </tr>\n",
       "    <tr>\n",
       "      <th>123</th>\n",
       "      <td>United States</td>\n",
       "      <td>Kenya</td>\n",
       "      <td>2024</td>\n",
       "      <td>2,637,772.27432718</td>\n",
       "      <td>USD millions</td>\n",
       "      <td>Central Bank of Kenya</td>\n",
       "      <td>Africa</td>\n",
       "      <td>USA</td>\n",
       "      <td>KEN</td>\n",
       "      <td>2.267949e+07</td>\n",
       "      <td>1.045752e+05</td>\n",
       "    </tr>\n",
       "    <tr>\n",
       "      <th>124</th>\n",
       "      <td>United States</td>\n",
       "      <td>Morocco</td>\n",
       "      <td>2020</td>\n",
       "      <td>422.388121</td>\n",
       "      <td>USD millions</td>\n",
       "      <td>Bank Al-Maghrib</td>\n",
       "      <td>Africa</td>\n",
       "      <td>USA</td>\n",
       "      <td>MAR</td>\n",
       "      <td>1.972358e+07</td>\n",
       "      <td>1.147760e+05</td>\n",
       "    </tr>\n",
       "    <tr>\n",
       "      <th>125</th>\n",
       "      <td>United States</td>\n",
       "      <td>Senegal</td>\n",
       "      <td>2021</td>\n",
       "      <td>479.695927280</td>\n",
       "      <td>USD millions</td>\n",
       "      <td>BCEAO</td>\n",
       "      <td>Africa</td>\n",
       "      <td>USA</td>\n",
       "      <td>SEN</td>\n",
       "      <td>2.091785e+07</td>\n",
       "      <td>2.435960e+04</td>\n",
       "    </tr>\n",
       "    <tr>\n",
       "      <th>126</th>\n",
       "      <td>United States</td>\n",
       "      <td>Uganda</td>\n",
       "      <td>2022</td>\n",
       "      <td>184.5</td>\n",
       "      <td>USD millions</td>\n",
       "      <td>Bank of Uganda</td>\n",
       "      <td>Africa</td>\n",
       "      <td>USA</td>\n",
       "      <td>UGA</td>\n",
       "      <td>2.144339e+07</td>\n",
       "      <td>4.414722e+04</td>\n",
       "    </tr>\n",
       "    <tr>\n",
       "      <th>731</th>\n",
       "      <td>United States</td>\n",
       "      <td>Armenia</td>\n",
       "      <td>2018</td>\n",
       "      <td>223.97581</td>\n",
       "      <td>USD millions</td>\n",
       "      <td>Roland Kpodar (IMF)</td>\n",
       "      <td>Asia</td>\n",
       "      <td>USA</td>\n",
       "      <td>ARM</td>\n",
       "      <td>1.965187e+07</td>\n",
       "      <td>1.195864e+04</td>\n",
       "    </tr>\n",
       "    <tr>\n",
       "      <th>732</th>\n",
       "      <td>United States</td>\n",
       "      <td>Armenia</td>\n",
       "      <td>2019</td>\n",
       "      <td>280.91130599999997</td>\n",
       "      <td>USD millions</td>\n",
       "      <td>Roland Kpodar (IMF)</td>\n",
       "      <td>Asia</td>\n",
       "      <td>USA</td>\n",
       "      <td>ARM</td>\n",
       "      <td>2.015964e+07</td>\n",
       "      <td>1.286750e+04</td>\n",
       "    </tr>\n",
       "    <tr>\n",
       "      <th>733</th>\n",
       "      <td>United States</td>\n",
       "      <td>Armenia</td>\n",
       "      <td>2020</td>\n",
       "      <td>458.719932</td>\n",
       "      <td>USD millions</td>\n",
       "      <td>Roland Kpodar (IMF)</td>\n",
       "      <td>Asia</td>\n",
       "      <td>USA</td>\n",
       "      <td>ARM</td>\n",
       "      <td>1.972358e+07</td>\n",
       "      <td>1.194104e+04</td>\n",
       "    </tr>\n",
       "    <tr>\n",
       "      <th>779</th>\n",
       "      <td>United States</td>\n",
       "      <td>Brazil</td>\n",
       "      <td>2018</td>\n",
       "      <td>1077.2</td>\n",
       "      <td>USD millions</td>\n",
       "      <td>Roland Kpodar (IMF)</td>\n",
       "      <td>Latin America</td>\n",
       "      <td>USA</td>\n",
       "      <td>BRA</td>\n",
       "      <td>1.965187e+07</td>\n",
       "      <td>1.797737e+06</td>\n",
       "    </tr>\n",
       "    <tr>\n",
       "      <th>780</th>\n",
       "      <td>United States</td>\n",
       "      <td>Brazil</td>\n",
       "      <td>2019</td>\n",
       "      <td>1229.6</td>\n",
       "      <td>USD millions</td>\n",
       "      <td>Roland Kpodar (IMF)</td>\n",
       "      <td>Latin America</td>\n",
       "      <td>USA</td>\n",
       "      <td>BRA</td>\n",
       "      <td>2.015964e+07</td>\n",
       "      <td>1.819683e+06</td>\n",
       "    </tr>\n",
       "  </tbody>\n",
       "</table>\n",
       "</div>"
      ],
      "text/plain": [
       "    Sending_Country Receiving_Country  Year               Value          Unit  \\\n",
       "122   United States          Ethiopia  2020        387.04401602  USD millions   \n",
       "123   United States             Kenya  2024  2,637,772.27432718  USD millions   \n",
       "124   United States           Morocco  2020          422.388121  USD millions   \n",
       "125   United States           Senegal  2021       479.695927280  USD millions   \n",
       "126   United States            Uganda  2022               184.5  USD millions   \n",
       "731   United States           Armenia  2018           223.97581  USD millions   \n",
       "732   United States           Armenia  2019  280.91130599999997  USD millions   \n",
       "733   United States           Armenia  2020          458.719932  USD millions   \n",
       "779   United States            Brazil  2018              1077.2  USD millions   \n",
       "780   United States            Brazil  2019              1229.6  USD millions   \n",
       "\n",
       "                        Source         Region Sending_Country_Code  \\\n",
       "122  National Bank of Ethiopia         Africa                  USA   \n",
       "123      Central Bank of Kenya         Africa                  USA   \n",
       "124            Bank Al-Maghrib         Africa                  USA   \n",
       "125                      BCEAO         Africa                  USA   \n",
       "126             Bank of Uganda         Africa                  USA   \n",
       "731        Roland Kpodar (IMF)           Asia                  USA   \n",
       "732        Roland Kpodar (IMF)           Asia                  USA   \n",
       "733        Roland Kpodar (IMF)           Asia                  USA   \n",
       "779        Roland Kpodar (IMF)  Latin America                  USA   \n",
       "780        Roland Kpodar (IMF)  Latin America                  USA   \n",
       "\n",
       "    Receiving_Country_Code  Sending_Country_GDP  Receiving_Country_GDP  \n",
       "122                    ETH         1.972358e+07           9.507178e+04  \n",
       "123                    KEN         2.267949e+07           1.045752e+05  \n",
       "124                    MAR         1.972358e+07           1.147760e+05  \n",
       "125                    SEN         2.091785e+07           2.435960e+04  \n",
       "126                    UGA         2.144339e+07           4.414722e+04  \n",
       "731                    ARM         1.965187e+07           1.195864e+04  \n",
       "732                    ARM         2.015964e+07           1.286750e+04  \n",
       "733                    ARM         1.972358e+07           1.194104e+04  \n",
       "779                    BRA         1.965187e+07           1.797737e+06  \n",
       "780                    BRA         2.015964e+07           1.819683e+06  "
      ]
     },
     "execution_count": 46,
     "metadata": {},
     "output_type": "execute_result"
    }
   ],
   "source": [
    "# Filter data for US as sending country\n",
    "us_flows = df[df['Sending_Country'] == 'United States'].copy()\n",
    "\n",
    "print(f\"Number of US remittance flows: {len(us_flows)}\")\n",
    "print(f\"\\nReceiving countries from US ({us_flows['Receiving_Country'].nunique()} countries):\")\n",
    "print(us_flows['Receiving_Country'].unique())\n",
    "print(f\"\\nYears available: {sorted(us_flows['Year'].unique())}\")\n",
    "\n",
    "# Check Value column format\n",
    "print(f\"\\nValue column sample:\")\n",
    "print(us_flows['Value'].head(10))\n",
    "print(f\"Value data type: {us_flows['Value'].dtype}\")\n",
    "\n",
    "us_flows.head(10)"
   ]
  },
  {
   "cell_type": "code",
   "execution_count": 47,
   "id": "8ec60c2f",
   "metadata": {},
   "outputs": [
    {
     "name": "stdout",
     "output_type": "stream",
     "text": [
      "After cleaning: 47 flows\n",
      "Value range: $0.21M to $2,637,772.27M\n",
      "\n",
      "Calculating averages from 2015 to 2024 (last 10 years)\n",
      "Data available in last 10 years: 47 flows\n",
      "Years with data: [np.int64(2018), np.int64(2019), np.int64(2020), np.int64(2021), np.int64(2022), np.int64(2024)]\n",
      "\n",
      "Average flows to 19 countries (last 10 years):\n"
     ]
    },
    {
     "data": {
      "application/vnd.microsoft.datawrangler.viewer.v0+json": {
       "columns": [
        {
         "name": "index",
         "rawType": "int64",
         "type": "integer"
        },
        {
         "name": "Receiving_Country",
         "rawType": "object",
         "type": "string"
        },
        {
         "name": "Receiving_Country_Code",
         "rawType": "object",
         "type": "string"
        },
        {
         "name": "Value_Clean",
         "rawType": "float64",
         "type": "float"
        },
        {
         "name": "Number_of_Years",
         "rawType": "int64",
         "type": "integer"
        },
        {
         "name": "First_Year",
         "rawType": "int64",
         "type": "integer"
        },
        {
         "name": "Last_Year",
         "rawType": "int64",
         "type": "integer"
        }
       ],
       "ref": "c0d58126-c62d-4178-9723-3a4586b44d02",
       "rows": [
        [
         "8",
         "Kenya",
         "KEN",
         "2637772.27432718",
         "1",
         "2024",
         "2024"
        ],
        [
         "14",
         "Philippines",
         "PHL",
         "10709.664313333333",
         "3",
         "2018",
         "2020"
        ],
        [
         "3",
         "Dominican Republic",
         "DOM",
         "5752.746146666667",
         "3",
         "2018",
         "2020"
        ],
        [
         "6",
         "Haiti",
         "HTI",
         "1682.9572393333335",
         "3",
         "2018",
         "2020"
        ],
        [
         "7",
         "Jamaica",
         "JAM",
         "1360.3245333333332",
         "3",
         "2018",
         "2020"
        ],
        [
         "1",
         "Brazil",
         "BRA",
         "1288.9333333333334",
         "3",
         "2018",
         "2020"
        ],
        [
         "11",
         "Nicaragua",
         "NIC",
         "955.8000000000001",
         "3",
         "2018",
         "2020"
        ],
        [
         "16",
         "Senegal",
         "SEN",
         "479.69592728",
         "1",
         "2021",
         "2021"
        ],
        [
         "10",
         "Morocco",
         "MAR",
         "422.388121",
         "1",
         "2020",
         "2020"
        ],
        [
         "4",
         "Ethiopia",
         "ETH",
         "387.04401602",
         "1",
         "2020",
         "2020"
        ],
        [
         "0",
         "Armenia",
         "ARM",
         "321.20234933333336",
         "3",
         "2018",
         "2020"
        ],
        [
         "18",
         "Uganda",
         "UGA",
         "184.5",
         "1",
         "2022",
         "2022"
        ],
        [
         "13",
         "Paraguay",
         "PRY",
         "75.862205",
         "3",
         "2018",
         "2020"
        ],
        [
         "2",
         "Cabo Verde",
         "CPV",
         "43.9042254",
         "3",
         "2018",
         "2020"
        ],
        [
         "15",
         "Samoa",
         "WSM",
         "36.2931056",
         "3",
         "2018",
         "2020"
        ],
        [
         "9",
         "Kyrgyz Republic",
         "KGZ",
         "27.93936103333333",
         "3",
         "2018",
         "2020"
        ],
        [
         "12",
         "Pakistan",
         "PAK",
         "18.614041726666667",
         "3",
         "2018",
         "2020"
        ],
        [
         "17",
         "Suriname",
         "SUR",
         "10.277333333333333",
         "3",
         "2018",
         "2020"
        ],
        [
         "5",
         "Georgia",
         "GEO",
         "0.25898866666666664",
         "3",
         "2018",
         "2020"
        ]
       ],
       "shape": {
        "columns": 6,
        "rows": 19
       }
      },
      "text/html": [
       "<div>\n",
       "<style scoped>\n",
       "    .dataframe tbody tr th:only-of-type {\n",
       "        vertical-align: middle;\n",
       "    }\n",
       "\n",
       "    .dataframe tbody tr th {\n",
       "        vertical-align: top;\n",
       "    }\n",
       "\n",
       "    .dataframe thead th {\n",
       "        text-align: right;\n",
       "    }\n",
       "</style>\n",
       "<table border=\"1\" class=\"dataframe\">\n",
       "  <thead>\n",
       "    <tr style=\"text-align: right;\">\n",
       "      <th></th>\n",
       "      <th>Receiving_Country</th>\n",
       "      <th>Receiving_Country_Code</th>\n",
       "      <th>Value_Clean</th>\n",
       "      <th>Number_of_Years</th>\n",
       "      <th>First_Year</th>\n",
       "      <th>Last_Year</th>\n",
       "    </tr>\n",
       "  </thead>\n",
       "  <tbody>\n",
       "    <tr>\n",
       "      <th>8</th>\n",
       "      <td>Kenya</td>\n",
       "      <td>KEN</td>\n",
       "      <td>2.637772e+06</td>\n",
       "      <td>1</td>\n",
       "      <td>2024</td>\n",
       "      <td>2024</td>\n",
       "    </tr>\n",
       "    <tr>\n",
       "      <th>14</th>\n",
       "      <td>Philippines</td>\n",
       "      <td>PHL</td>\n",
       "      <td>1.070966e+04</td>\n",
       "      <td>3</td>\n",
       "      <td>2018</td>\n",
       "      <td>2020</td>\n",
       "    </tr>\n",
       "    <tr>\n",
       "      <th>3</th>\n",
       "      <td>Dominican Republic</td>\n",
       "      <td>DOM</td>\n",
       "      <td>5.752746e+03</td>\n",
       "      <td>3</td>\n",
       "      <td>2018</td>\n",
       "      <td>2020</td>\n",
       "    </tr>\n",
       "    <tr>\n",
       "      <th>6</th>\n",
       "      <td>Haiti</td>\n",
       "      <td>HTI</td>\n",
       "      <td>1.682957e+03</td>\n",
       "      <td>3</td>\n",
       "      <td>2018</td>\n",
       "      <td>2020</td>\n",
       "    </tr>\n",
       "    <tr>\n",
       "      <th>7</th>\n",
       "      <td>Jamaica</td>\n",
       "      <td>JAM</td>\n",
       "      <td>1.360325e+03</td>\n",
       "      <td>3</td>\n",
       "      <td>2018</td>\n",
       "      <td>2020</td>\n",
       "    </tr>\n",
       "    <tr>\n",
       "      <th>1</th>\n",
       "      <td>Brazil</td>\n",
       "      <td>BRA</td>\n",
       "      <td>1.288933e+03</td>\n",
       "      <td>3</td>\n",
       "      <td>2018</td>\n",
       "      <td>2020</td>\n",
       "    </tr>\n",
       "    <tr>\n",
       "      <th>11</th>\n",
       "      <td>Nicaragua</td>\n",
       "      <td>NIC</td>\n",
       "      <td>9.558000e+02</td>\n",
       "      <td>3</td>\n",
       "      <td>2018</td>\n",
       "      <td>2020</td>\n",
       "    </tr>\n",
       "    <tr>\n",
       "      <th>16</th>\n",
       "      <td>Senegal</td>\n",
       "      <td>SEN</td>\n",
       "      <td>4.796959e+02</td>\n",
       "      <td>1</td>\n",
       "      <td>2021</td>\n",
       "      <td>2021</td>\n",
       "    </tr>\n",
       "    <tr>\n",
       "      <th>10</th>\n",
       "      <td>Morocco</td>\n",
       "      <td>MAR</td>\n",
       "      <td>4.223881e+02</td>\n",
       "      <td>1</td>\n",
       "      <td>2020</td>\n",
       "      <td>2020</td>\n",
       "    </tr>\n",
       "    <tr>\n",
       "      <th>4</th>\n",
       "      <td>Ethiopia</td>\n",
       "      <td>ETH</td>\n",
       "      <td>3.870440e+02</td>\n",
       "      <td>1</td>\n",
       "      <td>2020</td>\n",
       "      <td>2020</td>\n",
       "    </tr>\n",
       "    <tr>\n",
       "      <th>0</th>\n",
       "      <td>Armenia</td>\n",
       "      <td>ARM</td>\n",
       "      <td>3.212023e+02</td>\n",
       "      <td>3</td>\n",
       "      <td>2018</td>\n",
       "      <td>2020</td>\n",
       "    </tr>\n",
       "    <tr>\n",
       "      <th>18</th>\n",
       "      <td>Uganda</td>\n",
       "      <td>UGA</td>\n",
       "      <td>1.845000e+02</td>\n",
       "      <td>1</td>\n",
       "      <td>2022</td>\n",
       "      <td>2022</td>\n",
       "    </tr>\n",
       "    <tr>\n",
       "      <th>13</th>\n",
       "      <td>Paraguay</td>\n",
       "      <td>PRY</td>\n",
       "      <td>7.586221e+01</td>\n",
       "      <td>3</td>\n",
       "      <td>2018</td>\n",
       "      <td>2020</td>\n",
       "    </tr>\n",
       "    <tr>\n",
       "      <th>2</th>\n",
       "      <td>Cabo Verde</td>\n",
       "      <td>CPV</td>\n",
       "      <td>4.390423e+01</td>\n",
       "      <td>3</td>\n",
       "      <td>2018</td>\n",
       "      <td>2020</td>\n",
       "    </tr>\n",
       "    <tr>\n",
       "      <th>15</th>\n",
       "      <td>Samoa</td>\n",
       "      <td>WSM</td>\n",
       "      <td>3.629311e+01</td>\n",
       "      <td>3</td>\n",
       "      <td>2018</td>\n",
       "      <td>2020</td>\n",
       "    </tr>\n",
       "    <tr>\n",
       "      <th>9</th>\n",
       "      <td>Kyrgyz Republic</td>\n",
       "      <td>KGZ</td>\n",
       "      <td>2.793936e+01</td>\n",
       "      <td>3</td>\n",
       "      <td>2018</td>\n",
       "      <td>2020</td>\n",
       "    </tr>\n",
       "    <tr>\n",
       "      <th>12</th>\n",
       "      <td>Pakistan</td>\n",
       "      <td>PAK</td>\n",
       "      <td>1.861404e+01</td>\n",
       "      <td>3</td>\n",
       "      <td>2018</td>\n",
       "      <td>2020</td>\n",
       "    </tr>\n",
       "    <tr>\n",
       "      <th>17</th>\n",
       "      <td>Suriname</td>\n",
       "      <td>SUR</td>\n",
       "      <td>1.027733e+01</td>\n",
       "      <td>3</td>\n",
       "      <td>2018</td>\n",
       "      <td>2020</td>\n",
       "    </tr>\n",
       "    <tr>\n",
       "      <th>5</th>\n",
       "      <td>Georgia</td>\n",
       "      <td>GEO</td>\n",
       "      <td>2.589887e-01</td>\n",
       "      <td>3</td>\n",
       "      <td>2018</td>\n",
       "      <td>2020</td>\n",
       "    </tr>\n",
       "  </tbody>\n",
       "</table>\n",
       "</div>"
      ],
      "text/plain": [
       "     Receiving_Country Receiving_Country_Code   Value_Clean  Number_of_Years  \\\n",
       "8                Kenya                    KEN  2.637772e+06                1   \n",
       "14         Philippines                    PHL  1.070966e+04                3   \n",
       "3   Dominican Republic                    DOM  5.752746e+03                3   \n",
       "6                Haiti                    HTI  1.682957e+03                3   \n",
       "7              Jamaica                    JAM  1.360325e+03                3   \n",
       "1               Brazil                    BRA  1.288933e+03                3   \n",
       "11           Nicaragua                    NIC  9.558000e+02                3   \n",
       "16             Senegal                    SEN  4.796959e+02                1   \n",
       "10             Morocco                    MAR  4.223881e+02                1   \n",
       "4             Ethiopia                    ETH  3.870440e+02                1   \n",
       "0              Armenia                    ARM  3.212023e+02                3   \n",
       "18              Uganda                    UGA  1.845000e+02                1   \n",
       "13            Paraguay                    PRY  7.586221e+01                3   \n",
       "2           Cabo Verde                    CPV  4.390423e+01                3   \n",
       "15               Samoa                    WSM  3.629311e+01                3   \n",
       "9      Kyrgyz Republic                    KGZ  2.793936e+01                3   \n",
       "12            Pakistan                    PAK  1.861404e+01                3   \n",
       "17            Suriname                    SUR  1.027733e+01                3   \n",
       "5              Georgia                    GEO  2.589887e-01                3   \n",
       "\n",
       "    First_Year  Last_Year  \n",
       "8         2024       2024  \n",
       "14        2018       2020  \n",
       "3         2018       2020  \n",
       "6         2018       2020  \n",
       "7         2018       2020  \n",
       "1         2018       2020  \n",
       "11        2018       2020  \n",
       "16        2021       2021  \n",
       "10        2020       2020  \n",
       "4         2020       2020  \n",
       "0         2018       2020  \n",
       "18        2022       2022  \n",
       "13        2018       2020  \n",
       "2         2018       2020  \n",
       "15        2018       2020  \n",
       "9         2018       2020  \n",
       "12        2018       2020  \n",
       "17        2018       2020  \n",
       "5         2018       2020  "
      ]
     },
     "execution_count": 47,
     "metadata": {},
     "output_type": "execute_result"
    }
   ],
   "source": [
    "# Clean and prepare US flows data\n",
    "import numpy as np\n",
    "\n",
    "# Convert Value column to numeric, removing commas\n",
    "us_flows['Value_Clean'] = pd.to_numeric(us_flows['Value'].astype(str).str.replace(',', ''), errors='coerce')\n",
    "\n",
    "# Remove any rows with NaN values\n",
    "us_flows = us_flows.dropna(subset=['Value_Clean'])\n",
    "\n",
    "print(f\"After cleaning: {len(us_flows)} flows\")\n",
    "print(f\"Value range: ${us_flows['Value_Clean'].min():.2f}M to ${us_flows['Value_Clean'].max():,.2f}M\")\n",
    "\n",
    "# Calculate average flows over the last 10 years\n",
    "latest_year = us_flows['Year'].max()\n",
    "ten_years_ago = latest_year - 9  # Last 10 years including current year\n",
    "print(f\"\\nCalculating averages from {ten_years_ago} to {latest_year} (last 10 years)\")\n",
    "\n",
    "# Filter data to last 10 years\n",
    "us_flows_last_10 = us_flows[us_flows['Year'] >= ten_years_ago].copy()\n",
    "\n",
    "print(f\"Data available in last 10 years: {len(us_flows_last_10)} flows\")\n",
    "print(f\"Years with data: {sorted(us_flows_last_10['Year'].unique())}\")\n",
    "\n",
    "# Calculate average flows per country over the last 10 years\n",
    "us_flows_agg = us_flows_last_10.groupby(['Receiving_Country', 'Receiving_Country_Code']).agg({\n",
    "    'Value_Clean': 'mean',  # Changed from 'sum' to 'mean'\n",
    "    'Year': ['count', 'min', 'max']\n",
    "}).reset_index()\n",
    "\n",
    "# Flatten column names\n",
    "us_flows_agg.columns = ['Receiving_Country', 'Receiving_Country_Code', 'Value_Clean', 'Number_of_Years', 'First_Year', 'Last_Year']\n",
    "\n",
    "print(f\"\\nAverage flows to {len(us_flows_agg)} countries (last 10 years):\")\n",
    "us_flows_agg.sort_values('Value_Clean', ascending=False)"
   ]
  },
  {
   "cell_type": "code",
   "execution_count": 48,
   "id": "ae323419",
   "metadata": {},
   "outputs": [],
   "source": [
    "# Install required packages if not already installed\n",
    "import plotly.graph_objects as go\n",
    "import plotly.express as px\n",
    "from plotly.subplots import make_subplots\n",
    "import plotly.offline as pyo"
   ]
  },
  {
   "cell_type": "code",
   "execution_count": 49,
   "id": "34ad27cf",
   "metadata": {},
   "outputs": [
    {
     "data": {
      "application/vnd.plotly.v1+json": {
       "config": {
        "plotlyServerURL": "https://plot.ly"
       },
       "data": [
        {
         "coloraxis": "coloraxis",
         "customdata": {
          "bdata": "jJCn0jwTdEAAAAAAAAAIQAAAAAAAiJ9AAAAAAACQn0C8u7u7uyOUQAAAAAAAAAhAAAAAAACIn0AAAAAAAJCfQDSbbKi980VAAAAAAAAACEAAAAAAAIifQAAAAAAAkJ9AW8t3A794tkAAAAAAAAAIQAAAAAAAiJ9AAAAAAACQn0BnZiRKtDB4QAAAAAAAAPA/AAAAAACQn0AAAAAAAJCfQPaMVzNFk9A/AAAAAAAACEAAAAAAAIifQAAAAAAAkJ9AczyMNtRLmkAAAAAAAAAIQAAAAAAAiJ9AAAAAAACQn0CDVHdSTEGVQAAAAAAAAAhAAAAAAACIn0AAAAAAAJCfQC0nHSPmH0RBAAAAAAAA8D8AAAAAAKCfQAAAAAAAoJ9ArU319nnwO0AAAAAAAAAIQAAAAAAAiJ9AAAAAAACQn0BBnl2+NWZ6QAAAAAAAAPA/AAAAAACQn0AAAAAAAJCfQGdmZmZm3o1AAAAAAAAACEAAAAAAAIifQAAAAAAAkJ9Ap2mu1jGdMkAAAAAAAAAIQAAAAAAAiJ9AAAAAAACQn0CnXOFdLvdSQAAAAAAAAAhAAAAAAACIn0AAAAAAAJCfQHskOAjV6sRAAAAAAAAACEAAAAAAAIifQAAAAAAAkJ9AISP7e4QlQkAAAAAAAAAIQAAAAAAAiJ9AAAAAAACQn0Dov6SEIvt9QAAAAAAAAPA/AAAAAACUn0AAAAAAAJSfQMGDeaL+jSRAAAAAAAAACEAAAAAAAIifQAAAAAAAkJ9AAAAAAAAQZ0AAAAAAAADwPwAAAAAAmJ9AAAAAAACYn0A=",
          "dtype": "f8",
          "shape": "19, 4"
         },
         "geo": "geo",
         "hovertemplate": "<b>%{hovertext}</b><br><br>Receiving_Country_Code=%{location}<br>Average Annual Remittances (USD Millions)=%{z:,.2f}<br>Number_of_Years=%{customdata[1]}<br>First_Year=%{customdata[2]}<br>Last_Year=%{customdata[3]}<extra></extra>",
         "hovertext": [
          "Armenia",
          "Brazil",
          "Cabo Verde",
          "Dominican Republic",
          "Ethiopia",
          "Georgia",
          "Haiti",
          "Jamaica",
          "Kenya",
          "Kyrgyz Republic",
          "Morocco",
          "Nicaragua",
          "Pakistan",
          "Paraguay",
          "Philippines",
          "Samoa",
          "Senegal",
          "Suriname",
          "Uganda"
         ],
         "locations": [
          "ARM",
          "BRA",
          "CPV",
          "DOM",
          "ETH",
          "GEO",
          "HTI",
          "JAM",
          "KEN",
          "KGZ",
          "MAR",
          "NIC",
          "PAK",
          "PRY",
          "PHL",
          "WSM",
          "SEN",
          "SUR",
          "UGA"
         ],
         "name": "",
         "type": "choropleth",
         "z": {
          "bdata": "jJCn0jwTdEC8u7u7uyOUQDSbbKi980VAW8t3A794tkBnZiRKtDB4QPaMVzNFk9A/czyMNtRLmkCDVHdSTEGVQC0nHSPmH0RBrU319nnwO0BBnl2+NWZ6QGdmZmZm3o1Ap2mu1jGdMkCnXOFdLvdSQHskOAjV6sRAISP7e4QlQkDov6SEIvt9QMGDeaL+jSRAAAAAAAAQZ0A=",
          "dtype": "f8"
         }
        }
       ],
       "layout": {
        "coloraxis": {
         "colorbar": {
          "title": {
           "text": "Average Annual Remittances (USD Millions)"
          }
         },
         "colorscale": [
          [
           0,
           "rgb(255,245,240)"
          ],
          [
           0.125,
           "rgb(254,224,210)"
          ],
          [
           0.25,
           "rgb(252,187,161)"
          ],
          [
           0.375,
           "rgb(252,146,114)"
          ],
          [
           0.5,
           "rgb(251,106,74)"
          ],
          [
           0.625,
           "rgb(239,59,44)"
          ],
          [
           0.75,
           "rgb(203,24,29)"
          ],
          [
           0.875,
           "rgb(165,15,21)"
          ],
          [
           1,
           "rgb(103,0,13)"
          ]
         ]
        },
        "geo": {
         "center": {},
         "domain": {
          "x": [
           0,
           1
          ],
          "y": [
           0,
           1
          ]
         },
         "projection": {
          "type": "natural earth"
         },
         "showcoastlines": true,
         "showframe": false
        },
        "height": 700,
        "legend": {
         "tracegroupgap": 0
        },
        "template": {
         "data": {
          "bar": [
           {
            "error_x": {
             "color": "#2a3f5f"
            },
            "error_y": {
             "color": "#2a3f5f"
            },
            "marker": {
             "line": {
              "color": "#E5ECF6",
              "width": 0.5
             },
             "pattern": {
              "fillmode": "overlay",
              "size": 10,
              "solidity": 0.2
             }
            },
            "type": "bar"
           }
          ],
          "barpolar": [
           {
            "marker": {
             "line": {
              "color": "#E5ECF6",
              "width": 0.5
             },
             "pattern": {
              "fillmode": "overlay",
              "size": 10,
              "solidity": 0.2
             }
            },
            "type": "barpolar"
           }
          ],
          "carpet": [
           {
            "aaxis": {
             "endlinecolor": "#2a3f5f",
             "gridcolor": "white",
             "linecolor": "white",
             "minorgridcolor": "white",
             "startlinecolor": "#2a3f5f"
            },
            "baxis": {
             "endlinecolor": "#2a3f5f",
             "gridcolor": "white",
             "linecolor": "white",
             "minorgridcolor": "white",
             "startlinecolor": "#2a3f5f"
            },
            "type": "carpet"
           }
          ],
          "choropleth": [
           {
            "colorbar": {
             "outlinewidth": 0,
             "ticks": ""
            },
            "type": "choropleth"
           }
          ],
          "contour": [
           {
            "colorbar": {
             "outlinewidth": 0,
             "ticks": ""
            },
            "colorscale": [
             [
              0,
              "#0d0887"
             ],
             [
              0.1111111111111111,
              "#46039f"
             ],
             [
              0.2222222222222222,
              "#7201a8"
             ],
             [
              0.3333333333333333,
              "#9c179e"
             ],
             [
              0.4444444444444444,
              "#bd3786"
             ],
             [
              0.5555555555555556,
              "#d8576b"
             ],
             [
              0.6666666666666666,
              "#ed7953"
             ],
             [
              0.7777777777777778,
              "#fb9f3a"
             ],
             [
              0.8888888888888888,
              "#fdca26"
             ],
             [
              1,
              "#f0f921"
             ]
            ],
            "type": "contour"
           }
          ],
          "contourcarpet": [
           {
            "colorbar": {
             "outlinewidth": 0,
             "ticks": ""
            },
            "type": "contourcarpet"
           }
          ],
          "heatmap": [
           {
            "colorbar": {
             "outlinewidth": 0,
             "ticks": ""
            },
            "colorscale": [
             [
              0,
              "#0d0887"
             ],
             [
              0.1111111111111111,
              "#46039f"
             ],
             [
              0.2222222222222222,
              "#7201a8"
             ],
             [
              0.3333333333333333,
              "#9c179e"
             ],
             [
              0.4444444444444444,
              "#bd3786"
             ],
             [
              0.5555555555555556,
              "#d8576b"
             ],
             [
              0.6666666666666666,
              "#ed7953"
             ],
             [
              0.7777777777777778,
              "#fb9f3a"
             ],
             [
              0.8888888888888888,
              "#fdca26"
             ],
             [
              1,
              "#f0f921"
             ]
            ],
            "type": "heatmap"
           }
          ],
          "histogram": [
           {
            "marker": {
             "pattern": {
              "fillmode": "overlay",
              "size": 10,
              "solidity": 0.2
             }
            },
            "type": "histogram"
           }
          ],
          "histogram2d": [
           {
            "colorbar": {
             "outlinewidth": 0,
             "ticks": ""
            },
            "colorscale": [
             [
              0,
              "#0d0887"
             ],
             [
              0.1111111111111111,
              "#46039f"
             ],
             [
              0.2222222222222222,
              "#7201a8"
             ],
             [
              0.3333333333333333,
              "#9c179e"
             ],
             [
              0.4444444444444444,
              "#bd3786"
             ],
             [
              0.5555555555555556,
              "#d8576b"
             ],
             [
              0.6666666666666666,
              "#ed7953"
             ],
             [
              0.7777777777777778,
              "#fb9f3a"
             ],
             [
              0.8888888888888888,
              "#fdca26"
             ],
             [
              1,
              "#f0f921"
             ]
            ],
            "type": "histogram2d"
           }
          ],
          "histogram2dcontour": [
           {
            "colorbar": {
             "outlinewidth": 0,
             "ticks": ""
            },
            "colorscale": [
             [
              0,
              "#0d0887"
             ],
             [
              0.1111111111111111,
              "#46039f"
             ],
             [
              0.2222222222222222,
              "#7201a8"
             ],
             [
              0.3333333333333333,
              "#9c179e"
             ],
             [
              0.4444444444444444,
              "#bd3786"
             ],
             [
              0.5555555555555556,
              "#d8576b"
             ],
             [
              0.6666666666666666,
              "#ed7953"
             ],
             [
              0.7777777777777778,
              "#fb9f3a"
             ],
             [
              0.8888888888888888,
              "#fdca26"
             ],
             [
              1,
              "#f0f921"
             ]
            ],
            "type": "histogram2dcontour"
           }
          ],
          "mesh3d": [
           {
            "colorbar": {
             "outlinewidth": 0,
             "ticks": ""
            },
            "type": "mesh3d"
           }
          ],
          "parcoords": [
           {
            "line": {
             "colorbar": {
              "outlinewidth": 0,
              "ticks": ""
             }
            },
            "type": "parcoords"
           }
          ],
          "pie": [
           {
            "automargin": true,
            "type": "pie"
           }
          ],
          "scatter": [
           {
            "fillpattern": {
             "fillmode": "overlay",
             "size": 10,
             "solidity": 0.2
            },
            "type": "scatter"
           }
          ],
          "scatter3d": [
           {
            "line": {
             "colorbar": {
              "outlinewidth": 0,
              "ticks": ""
             }
            },
            "marker": {
             "colorbar": {
              "outlinewidth": 0,
              "ticks": ""
             }
            },
            "type": "scatter3d"
           }
          ],
          "scattercarpet": [
           {
            "marker": {
             "colorbar": {
              "outlinewidth": 0,
              "ticks": ""
             }
            },
            "type": "scattercarpet"
           }
          ],
          "scattergeo": [
           {
            "marker": {
             "colorbar": {
              "outlinewidth": 0,
              "ticks": ""
             }
            },
            "type": "scattergeo"
           }
          ],
          "scattergl": [
           {
            "marker": {
             "colorbar": {
              "outlinewidth": 0,
              "ticks": ""
             }
            },
            "type": "scattergl"
           }
          ],
          "scattermap": [
           {
            "marker": {
             "colorbar": {
              "outlinewidth": 0,
              "ticks": ""
             }
            },
            "type": "scattermap"
           }
          ],
          "scattermapbox": [
           {
            "marker": {
             "colorbar": {
              "outlinewidth": 0,
              "ticks": ""
             }
            },
            "type": "scattermapbox"
           }
          ],
          "scatterpolar": [
           {
            "marker": {
             "colorbar": {
              "outlinewidth": 0,
              "ticks": ""
             }
            },
            "type": "scatterpolar"
           }
          ],
          "scatterpolargl": [
           {
            "marker": {
             "colorbar": {
              "outlinewidth": 0,
              "ticks": ""
             }
            },
            "type": "scatterpolargl"
           }
          ],
          "scatterternary": [
           {
            "marker": {
             "colorbar": {
              "outlinewidth": 0,
              "ticks": ""
             }
            },
            "type": "scatterternary"
           }
          ],
          "surface": [
           {
            "colorbar": {
             "outlinewidth": 0,
             "ticks": ""
            },
            "colorscale": [
             [
              0,
              "#0d0887"
             ],
             [
              0.1111111111111111,
              "#46039f"
             ],
             [
              0.2222222222222222,
              "#7201a8"
             ],
             [
              0.3333333333333333,
              "#9c179e"
             ],
             [
              0.4444444444444444,
              "#bd3786"
             ],
             [
              0.5555555555555556,
              "#d8576b"
             ],
             [
              0.6666666666666666,
              "#ed7953"
             ],
             [
              0.7777777777777778,
              "#fb9f3a"
             ],
             [
              0.8888888888888888,
              "#fdca26"
             ],
             [
              1,
              "#f0f921"
             ]
            ],
            "type": "surface"
           }
          ],
          "table": [
           {
            "cells": {
             "fill": {
              "color": "#EBF0F8"
             },
             "line": {
              "color": "white"
             }
            },
            "header": {
             "fill": {
              "color": "#C8D4E3"
             },
             "line": {
              "color": "white"
             }
            },
            "type": "table"
           }
          ]
         },
         "layout": {
          "annotationdefaults": {
           "arrowcolor": "#2a3f5f",
           "arrowhead": 0,
           "arrowwidth": 1
          },
          "autotypenumbers": "strict",
          "coloraxis": {
           "colorbar": {
            "outlinewidth": 0,
            "ticks": ""
           }
          },
          "colorscale": {
           "diverging": [
            [
             0,
             "#8e0152"
            ],
            [
             0.1,
             "#c51b7d"
            ],
            [
             0.2,
             "#de77ae"
            ],
            [
             0.3,
             "#f1b6da"
            ],
            [
             0.4,
             "#fde0ef"
            ],
            [
             0.5,
             "#f7f7f7"
            ],
            [
             0.6,
             "#e6f5d0"
            ],
            [
             0.7,
             "#b8e186"
            ],
            [
             0.8,
             "#7fbc41"
            ],
            [
             0.9,
             "#4d9221"
            ],
            [
             1,
             "#276419"
            ]
           ],
           "sequential": [
            [
             0,
             "#0d0887"
            ],
            [
             0.1111111111111111,
             "#46039f"
            ],
            [
             0.2222222222222222,
             "#7201a8"
            ],
            [
             0.3333333333333333,
             "#9c179e"
            ],
            [
             0.4444444444444444,
             "#bd3786"
            ],
            [
             0.5555555555555556,
             "#d8576b"
            ],
            [
             0.6666666666666666,
             "#ed7953"
            ],
            [
             0.7777777777777778,
             "#fb9f3a"
            ],
            [
             0.8888888888888888,
             "#fdca26"
            ],
            [
             1,
             "#f0f921"
            ]
           ],
           "sequentialminus": [
            [
             0,
             "#0d0887"
            ],
            [
             0.1111111111111111,
             "#46039f"
            ],
            [
             0.2222222222222222,
             "#7201a8"
            ],
            [
             0.3333333333333333,
             "#9c179e"
            ],
            [
             0.4444444444444444,
             "#bd3786"
            ],
            [
             0.5555555555555556,
             "#d8576b"
            ],
            [
             0.6666666666666666,
             "#ed7953"
            ],
            [
             0.7777777777777778,
             "#fb9f3a"
            ],
            [
             0.8888888888888888,
             "#fdca26"
            ],
            [
             1,
             "#f0f921"
            ]
           ]
          },
          "colorway": [
           "#636efa",
           "#EF553B",
           "#00cc96",
           "#ab63fa",
           "#FFA15A",
           "#19d3f3",
           "#FF6692",
           "#B6E880",
           "#FF97FF",
           "#FECB52"
          ],
          "font": {
           "color": "#2a3f5f"
          },
          "geo": {
           "bgcolor": "white",
           "lakecolor": "white",
           "landcolor": "#E5ECF6",
           "showlakes": true,
           "showland": true,
           "subunitcolor": "white"
          },
          "hoverlabel": {
           "align": "left"
          },
          "hovermode": "closest",
          "mapbox": {
           "style": "light"
          },
          "paper_bgcolor": "white",
          "plot_bgcolor": "#E5ECF6",
          "polar": {
           "angularaxis": {
            "gridcolor": "white",
            "linecolor": "white",
            "ticks": ""
           },
           "bgcolor": "#E5ECF6",
           "radialaxis": {
            "gridcolor": "white",
            "linecolor": "white",
            "ticks": ""
           }
          },
          "scene": {
           "xaxis": {
            "backgroundcolor": "#E5ECF6",
            "gridcolor": "white",
            "gridwidth": 2,
            "linecolor": "white",
            "showbackground": true,
            "ticks": "",
            "zerolinecolor": "white"
           },
           "yaxis": {
            "backgroundcolor": "#E5ECF6",
            "gridcolor": "white",
            "gridwidth": 2,
            "linecolor": "white",
            "showbackground": true,
            "ticks": "",
            "zerolinecolor": "white"
           },
           "zaxis": {
            "backgroundcolor": "#E5ECF6",
            "gridcolor": "white",
            "gridwidth": 2,
            "linecolor": "white",
            "showbackground": true,
            "ticks": "",
            "zerolinecolor": "white"
           }
          },
          "shapedefaults": {
           "line": {
            "color": "#2a3f5f"
           }
          },
          "ternary": {
           "aaxis": {
            "gridcolor": "white",
            "linecolor": "white",
            "ticks": ""
           },
           "baxis": {
            "gridcolor": "white",
            "linecolor": "white",
            "ticks": ""
           },
           "bgcolor": "#E5ECF6",
           "caxis": {
            "gridcolor": "white",
            "linecolor": "white",
            "ticks": ""
           }
          },
          "title": {
           "x": 0.05
          },
          "xaxis": {
           "automargin": true,
           "gridcolor": "white",
           "linecolor": "white",
           "ticks": "",
           "title": {
            "standoff": 15
           },
           "zerolinecolor": "white",
           "zerolinewidth": 2
          },
          "yaxis": {
           "automargin": true,
           "gridcolor": "white",
           "linecolor": "white",
           "ticks": "",
           "title": {
            "standoff": 15
           },
           "zerolinecolor": "white",
           "zerolinewidth": 2
          }
         }
        },
        "title": {
         "text": "US Remittance Outflows by Receiving Country<br><sub>Average Annual Flows (Last 10 Years: 2015-2024) - USD Millions</sub>",
         "x": 0.5
        },
        "width": 1200
       }
      }
     },
     "metadata": {},
     "output_type": "display_data"
    }
   ],
   "source": [
    "# Create a choropleth map showing average remittance flows from US over last 10 years\n",
    "fig1 = px.choropleth(\n",
    "    us_flows_agg,\n",
    "    locations=\"Receiving_Country_Code\",\n",
    "    color=\"Value_Clean\",\n",
    "    hover_name=\"Receiving_Country\",\n",
    "    hover_data={\"Value_Clean\": \":,.2f\", \"Number_of_Years\": True, \"First_Year\": True, \"Last_Year\": True},\n",
    "    color_continuous_scale=\"Reds\",\n",
    "    title=\"US Remittance Outflows by Receiving Country<br><sub>Average Annual Flows (Last 10 Years: 2015-2024) - USD Millions</sub>\",\n",
    "    labels={\"Value_Clean\": \"Average Annual Remittances (USD Millions)\"}\n",
    ")\n",
    "\n",
    "fig1.update_layout(\n",
    "    width=1200,\n",
    "    height=700,\n",
    "    title_x=0.5,\n",
    "    geo=dict(\n",
    "        projection_type=\"natural earth\",\n",
    "        showframe=False,\n",
    "        showcoastlines=True,\n",
    "    )\n",
    ")\n",
    "\n",
    "fig1.show()"
   ]
  },
  {
   "cell_type": "code",
   "execution_count": 50,
   "id": "f258c0a0",
   "metadata": {},
   "outputs": [
    {
     "data": {
      "application/vnd.plotly.v1+json": {
       "config": {
        "plotlyServerURL": "https://plot.ly"
       },
       "data": [
        {
         "lat": [],
         "lon": [],
         "mode": "markers",
         "showlegend": false,
         "type": "scattergeo"
        },
        {
         "lat": [
          39.8283
         ],
         "lon": [
          -98.5795
         ],
         "marker": {
          "color": "blue",
          "size": 15,
          "symbol": "star"
         },
         "mode": "markers+text",
         "name": "Sending Country (US)",
         "showlegend": true,
         "text": [
          "United States"
         ],
         "textposition": "top center",
         "type": "scattergeo"
        },
        {
         "hoverinfo": "none",
         "lat": [
          39.8283,
          40.0691
         ],
         "line": {
          "color": "red",
          "dash": "solid",
          "width": 1
         },
         "lon": [
          -98.5795,
          45.0382
         ],
         "mode": "lines",
         "opacity": 0.6,
         "showlegend": false,
         "type": "scattergeo"
        },
        {
         "hovertemplate": "<b>Armenia</b><br>Remittances: $321.20M<extra></extra>",
         "lat": [
          40.0691
         ],
         "lon": [
          45.0382
         ],
         "marker": {
          "color": "red",
          "line": {
           "color": "darkred",
           "width": 1
          },
          "opacity": 0.7,
          "size": 8
         },
         "mode": "markers+text",
         "name": "Armenia",
         "showlegend": false,
         "text": [
          "$321.2M"
         ],
         "textposition": "bottom center",
         "type": "scattergeo"
        },
        {
         "hoverinfo": "none",
         "lat": [
          39.8283,
          -14.235
         ],
         "line": {
          "color": "red",
          "dash": "solid",
          "width": 1
         },
         "lon": [
          -98.5795,
          -51.9253
         ],
         "mode": "lines",
         "opacity": 0.6,
         "showlegend": false,
         "type": "scattergeo"
        },
        {
         "hovertemplate": "<b>Brazil</b><br>Remittances: $1,288.93M<extra></extra>",
         "lat": [
          -14.235
         ],
         "lon": [
          -51.9253
         ],
         "marker": {
          "color": "red",
          "line": {
           "color": "darkred",
           "width": 1
          },
          "opacity": 0.7,
          "size": 8
         },
         "mode": "markers+text",
         "name": "Brazil",
         "showlegend": false,
         "text": [
          "$1,288.9M"
         ],
         "textposition": "bottom center",
         "type": "scattergeo"
        },
        {
         "hoverinfo": "none",
         "lat": [
          39.8283,
          16.5388
         ],
         "line": {
          "color": "red",
          "dash": "solid",
          "width": 1
         },
         "lon": [
          -98.5795,
          -24.0132
         ],
         "mode": "lines",
         "opacity": 0.6,
         "showlegend": false,
         "type": "scattergeo"
        },
        {
         "hovertemplate": "<b>Cabo Verde</b><br>Remittances: $43.90M<extra></extra>",
         "lat": [
          16.5388
         ],
         "lon": [
          -24.0132
         ],
         "marker": {
          "color": "red",
          "line": {
           "color": "darkred",
           "width": 1
          },
          "opacity": 0.7,
          "size": 8
         },
         "mode": "markers+text",
         "name": "Cabo Verde",
         "showlegend": false,
         "text": [
          "$43.9M"
         ],
         "textposition": "bottom center",
         "type": "scattergeo"
        },
        {
         "hoverinfo": "none",
         "lat": [
          39.8283,
          18.7357
         ],
         "line": {
          "color": "red",
          "dash": "solid",
          "width": 1
         },
         "lon": [
          -98.5795,
          -70.1627
         ],
         "mode": "lines",
         "opacity": 0.6,
         "showlegend": false,
         "type": "scattergeo"
        },
        {
         "hovertemplate": "<b>Dominican Republic</b><br>Remittances: $5,752.75M<extra></extra>",
         "lat": [
          18.7357
         ],
         "lon": [
          -70.1627
         ],
         "marker": {
          "color": "red",
          "line": {
           "color": "darkred",
           "width": 1
          },
          "opacity": 0.7,
          "size": 8
         },
         "mode": "markers+text",
         "name": "Dominican Republic",
         "showlegend": false,
         "text": [
          "$5,752.7M"
         ],
         "textposition": "bottom center",
         "type": "scattergeo"
        },
        {
         "hoverinfo": "none",
         "lat": [
          39.8283,
          9.145
         ],
         "line": {
          "color": "red",
          "dash": "solid",
          "width": 1
         },
         "lon": [
          -98.5795,
          40.4897
         ],
         "mode": "lines",
         "opacity": 0.6,
         "showlegend": false,
         "type": "scattergeo"
        },
        {
         "hovertemplate": "<b>Ethiopia</b><br>Remittances: $387.04M<extra></extra>",
         "lat": [
          9.145
         ],
         "lon": [
          40.4897
         ],
         "marker": {
          "color": "red",
          "line": {
           "color": "darkred",
           "width": 1
          },
          "opacity": 0.7,
          "size": 8
         },
         "mode": "markers+text",
         "name": "Ethiopia",
         "showlegend": false,
         "text": [
          "$387.0M"
         ],
         "textposition": "bottom center",
         "type": "scattergeo"
        },
        {
         "hoverinfo": "none",
         "lat": [
          39.8283,
          42.3154
         ],
         "line": {
          "color": "red",
          "dash": "solid",
          "width": 1
         },
         "lon": [
          -98.5795,
          43.3569
         ],
         "mode": "lines",
         "opacity": 0.6,
         "showlegend": false,
         "type": "scattergeo"
        },
        {
         "hovertemplate": "<b>Georgia</b><br>Remittances: $0.26M<extra></extra>",
         "lat": [
          42.3154
         ],
         "lon": [
          43.3569
         ],
         "marker": {
          "color": "red",
          "line": {
           "color": "darkred",
           "width": 1
          },
          "opacity": 0.7,
          "size": 8
         },
         "mode": "markers+text",
         "name": "Georgia",
         "showlegend": false,
         "text": [
          "$0.3M"
         ],
         "textposition": "bottom center",
         "type": "scattergeo"
        },
        {
         "hoverinfo": "none",
         "lat": [
          39.8283,
          18.9712
         ],
         "line": {
          "color": "red",
          "dash": "solid",
          "width": 1
         },
         "lon": [
          -98.5795,
          -72.2852
         ],
         "mode": "lines",
         "opacity": 0.6,
         "showlegend": false,
         "type": "scattergeo"
        },
        {
         "hovertemplate": "<b>Haiti</b><br>Remittances: $1,682.96M<extra></extra>",
         "lat": [
          18.9712
         ],
         "lon": [
          -72.2852
         ],
         "marker": {
          "color": "red",
          "line": {
           "color": "darkred",
           "width": 1
          },
          "opacity": 0.7,
          "size": 8
         },
         "mode": "markers+text",
         "name": "Haiti",
         "showlegend": false,
         "text": [
          "$1,683.0M"
         ],
         "textposition": "bottom center",
         "type": "scattergeo"
        },
        {
         "hoverinfo": "none",
         "lat": [
          39.8283,
          18.1096
         ],
         "line": {
          "color": "red",
          "dash": "solid",
          "width": 1
         },
         "lon": [
          -98.5795,
          -77.2975
         ],
         "mode": "lines",
         "opacity": 0.6,
         "showlegend": false,
         "type": "scattergeo"
        },
        {
         "hovertemplate": "<b>Jamaica</b><br>Remittances: $1,360.32M<extra></extra>",
         "lat": [
          18.1096
         ],
         "lon": [
          -77.2975
         ],
         "marker": {
          "color": "red",
          "line": {
           "color": "darkred",
           "width": 1
          },
          "opacity": 0.7,
          "size": 8
         },
         "mode": "markers+text",
         "name": "Jamaica",
         "showlegend": false,
         "text": [
          "$1,360.3M"
         ],
         "textposition": "bottom center",
         "type": "scattergeo"
        },
        {
         "hoverinfo": "none",
         "lat": [
          39.8283,
          -0.0236
         ],
         "line": {
          "color": "red",
          "dash": "solid",
          "width": 10
         },
         "lon": [
          -98.5795,
          37.9062
         ],
         "mode": "lines",
         "opacity": 0.6,
         "showlegend": false,
         "type": "scattergeo"
        },
        {
         "hovertemplate": "<b>Kenya</b><br>Remittances: $2,637,772.27M<extra></extra>",
         "lat": [
          -0.0236
         ],
         "lon": [
          37.9062
         ],
         "marker": {
          "color": "red",
          "line": {
           "color": "darkred",
           "width": 1
          },
          "opacity": 0.7,
          "size": 25
         },
         "mode": "markers+text",
         "name": "Kenya",
         "showlegend": false,
         "text": [
          "$2,637,772.3M"
         ],
         "textposition": "bottom center",
         "type": "scattergeo"
        },
        {
         "hoverinfo": "none",
         "lat": [
          39.8283,
          41.2044
         ],
         "line": {
          "color": "red",
          "dash": "solid",
          "width": 1
         },
         "lon": [
          -98.5795,
          74.7661
         ],
         "mode": "lines",
         "opacity": 0.6,
         "showlegend": false,
         "type": "scattergeo"
        },
        {
         "hovertemplate": "<b>Kyrgyz Republic</b><br>Remittances: $27.94M<extra></extra>",
         "lat": [
          41.2044
         ],
         "lon": [
          74.7661
         ],
         "marker": {
          "color": "red",
          "line": {
           "color": "darkred",
           "width": 1
          },
          "opacity": 0.7,
          "size": 8
         },
         "mode": "markers+text",
         "name": "Kyrgyz Republic",
         "showlegend": false,
         "text": [
          "$27.9M"
         ],
         "textposition": "bottom center",
         "type": "scattergeo"
        },
        {
         "hoverinfo": "none",
         "lat": [
          39.8283,
          31.7917
         ],
         "line": {
          "color": "red",
          "dash": "solid",
          "width": 1
         },
         "lon": [
          -98.5795,
          -7.0926
         ],
         "mode": "lines",
         "opacity": 0.6,
         "showlegend": false,
         "type": "scattergeo"
        },
        {
         "hovertemplate": "<b>Morocco</b><br>Remittances: $422.39M<extra></extra>",
         "lat": [
          31.7917
         ],
         "lon": [
          -7.0926
         ],
         "marker": {
          "color": "red",
          "line": {
           "color": "darkred",
           "width": 1
          },
          "opacity": 0.7,
          "size": 8
         },
         "mode": "markers+text",
         "name": "Morocco",
         "showlegend": false,
         "text": [
          "$422.4M"
         ],
         "textposition": "bottom center",
         "type": "scattergeo"
        },
        {
         "hoverinfo": "none",
         "lat": [
          39.8283,
          12.265
         ],
         "line": {
          "color": "red",
          "dash": "solid",
          "width": 1
         },
         "lon": [
          -98.5795,
          -85.2072
         ],
         "mode": "lines",
         "opacity": 0.6,
         "showlegend": false,
         "type": "scattergeo"
        },
        {
         "hovertemplate": "<b>Nicaragua</b><br>Remittances: $955.80M<extra></extra>",
         "lat": [
          12.265
         ],
         "lon": [
          -85.2072
         ],
         "marker": {
          "color": "red",
          "line": {
           "color": "darkred",
           "width": 1
          },
          "opacity": 0.7,
          "size": 8
         },
         "mode": "markers+text",
         "name": "Nicaragua",
         "showlegend": false,
         "text": [
          "$955.8M"
         ],
         "textposition": "bottom center",
         "type": "scattergeo"
        },
        {
         "hoverinfo": "none",
         "lat": [
          39.8283,
          30.3753
         ],
         "line": {
          "color": "red",
          "dash": "solid",
          "width": 1
         },
         "lon": [
          -98.5795,
          69.3451
         ],
         "mode": "lines",
         "opacity": 0.6,
         "showlegend": false,
         "type": "scattergeo"
        },
        {
         "hovertemplate": "<b>Pakistan</b><br>Remittances: $18.61M<extra></extra>",
         "lat": [
          30.3753
         ],
         "lon": [
          69.3451
         ],
         "marker": {
          "color": "red",
          "line": {
           "color": "darkred",
           "width": 1
          },
          "opacity": 0.7,
          "size": 8
         },
         "mode": "markers+text",
         "name": "Pakistan",
         "showlegend": false,
         "text": [
          "$18.6M"
         ],
         "textposition": "bottom center",
         "type": "scattergeo"
        },
        {
         "hoverinfo": "none",
         "lat": [
          39.8283,
          -23.4425
         ],
         "line": {
          "color": "red",
          "dash": "solid",
          "width": 1
         },
         "lon": [
          -98.5795,
          -58.4438
         ],
         "mode": "lines",
         "opacity": 0.6,
         "showlegend": false,
         "type": "scattergeo"
        },
        {
         "hovertemplate": "<b>Paraguay</b><br>Remittances: $75.86M<extra></extra>",
         "lat": [
          -23.4425
         ],
         "lon": [
          -58.4438
         ],
         "marker": {
          "color": "red",
          "line": {
           "color": "darkred",
           "width": 1
          },
          "opacity": 0.7,
          "size": 8
         },
         "mode": "markers+text",
         "name": "Paraguay",
         "showlegend": false,
         "text": [
          "$75.9M"
         ],
         "textposition": "bottom center",
         "type": "scattergeo"
        },
        {
         "hoverinfo": "none",
         "lat": [
          39.8283,
          12.8797
         ],
         "line": {
          "color": "red",
          "dash": "solid",
          "width": 1
         },
         "lon": [
          -98.5795,
          121.774
         ],
         "mode": "lines",
         "opacity": 0.6,
         "showlegend": false,
         "type": "scattergeo"
        },
        {
         "hovertemplate": "<b>Philippines</b><br>Remittances: $10,709.66M<extra></extra>",
         "lat": [
          12.8797
         ],
         "lon": [
          121.774
         ],
         "marker": {
          "color": "red",
          "line": {
           "color": "darkred",
           "width": 1
          },
          "opacity": 0.7,
          "size": 8
         },
         "mode": "markers+text",
         "name": "Philippines",
         "showlegend": false,
         "text": [
          "$10,709.7M"
         ],
         "textposition": "bottom center",
         "type": "scattergeo"
        },
        {
         "hoverinfo": "none",
         "lat": [
          39.8283,
          -13.759
         ],
         "line": {
          "color": "red",
          "dash": "solid",
          "width": 1
         },
         "lon": [
          -98.5795,
          -172.1046
         ],
         "mode": "lines",
         "opacity": 0.6,
         "showlegend": false,
         "type": "scattergeo"
        },
        {
         "hovertemplate": "<b>Samoa</b><br>Remittances: $36.29M<extra></extra>",
         "lat": [
          -13.759
         ],
         "lon": [
          -172.1046
         ],
         "marker": {
          "color": "red",
          "line": {
           "color": "darkred",
           "width": 1
          },
          "opacity": 0.7,
          "size": 8
         },
         "mode": "markers+text",
         "name": "Samoa",
         "showlegend": false,
         "text": [
          "$36.3M"
         ],
         "textposition": "bottom center",
         "type": "scattergeo"
        },
        {
         "hoverinfo": "none",
         "lat": [
          39.8283,
          14.7167
         ],
         "line": {
          "color": "red",
          "dash": "solid",
          "width": 1
         },
         "lon": [
          -98.5795,
          -17.4677
         ],
         "mode": "lines",
         "opacity": 0.6,
         "showlegend": false,
         "type": "scattergeo"
        },
        {
         "hovertemplate": "<b>Senegal</b><br>Remittances: $479.70M<extra></extra>",
         "lat": [
          14.7167
         ],
         "lon": [
          -17.4677
         ],
         "marker": {
          "color": "red",
          "line": {
           "color": "darkred",
           "width": 1
          },
          "opacity": 0.7,
          "size": 8
         },
         "mode": "markers+text",
         "name": "Senegal",
         "showlegend": false,
         "text": [
          "$479.7M"
         ],
         "textposition": "bottom center",
         "type": "scattergeo"
        },
        {
         "hoverinfo": "none",
         "lat": [
          39.8283,
          3.9193
         ],
         "line": {
          "color": "red",
          "dash": "solid",
          "width": 1
         },
         "lon": [
          -98.5795,
          -56.0278
         ],
         "mode": "lines",
         "opacity": 0.6,
         "showlegend": false,
         "type": "scattergeo"
        },
        {
         "hovertemplate": "<b>Suriname</b><br>Remittances: $10.28M<extra></extra>",
         "lat": [
          3.9193
         ],
         "lon": [
          -56.0278
         ],
         "marker": {
          "color": "red",
          "line": {
           "color": "darkred",
           "width": 1
          },
          "opacity": 0.7,
          "size": 8
         },
         "mode": "markers+text",
         "name": "Suriname",
         "showlegend": false,
         "text": [
          "$10.3M"
         ],
         "textposition": "bottom center",
         "type": "scattergeo"
        },
        {
         "hoverinfo": "none",
         "lat": [
          39.8283,
          1.3733
         ],
         "line": {
          "color": "red",
          "dash": "solid",
          "width": 1
         },
         "lon": [
          -98.5795,
          32.2903
         ],
         "mode": "lines",
         "opacity": 0.6,
         "showlegend": false,
         "type": "scattergeo"
        },
        {
         "hovertemplate": "<b>Uganda</b><br>Remittances: $184.50M<extra></extra>",
         "lat": [
          1.3733
         ],
         "lon": [
          32.2903
         ],
         "marker": {
          "color": "red",
          "line": {
           "color": "darkred",
           "width": 1
          },
          "opacity": 0.7,
          "size": 8
         },
         "mode": "markers+text",
         "name": "Uganda",
         "showlegend": false,
         "text": [
          "$184.5M"
         ],
         "textposition": "bottom center",
         "type": "scattergeo"
        }
       ],
       "layout": {
        "geo": {
         "coastlinecolor": "rgb(204, 204, 204)",
         "countrycolor": "rgb(204, 204, 204)",
         "lakecolor": "rgb(255, 255, 255)",
         "landcolor": "rgb(243, 243, 243)",
         "projection": {
          "type": "natural earth"
         },
         "showcountries": true,
         "showframe": false,
         "showlakes": true,
         "showland": true
        },
        "height": 800,
        "template": {
         "data": {
          "bar": [
           {
            "error_x": {
             "color": "#2a3f5f"
            },
            "error_y": {
             "color": "#2a3f5f"
            },
            "marker": {
             "line": {
              "color": "#E5ECF6",
              "width": 0.5
             },
             "pattern": {
              "fillmode": "overlay",
              "size": 10,
              "solidity": 0.2
             }
            },
            "type": "bar"
           }
          ],
          "barpolar": [
           {
            "marker": {
             "line": {
              "color": "#E5ECF6",
              "width": 0.5
             },
             "pattern": {
              "fillmode": "overlay",
              "size": 10,
              "solidity": 0.2
             }
            },
            "type": "barpolar"
           }
          ],
          "carpet": [
           {
            "aaxis": {
             "endlinecolor": "#2a3f5f",
             "gridcolor": "white",
             "linecolor": "white",
             "minorgridcolor": "white",
             "startlinecolor": "#2a3f5f"
            },
            "baxis": {
             "endlinecolor": "#2a3f5f",
             "gridcolor": "white",
             "linecolor": "white",
             "minorgridcolor": "white",
             "startlinecolor": "#2a3f5f"
            },
            "type": "carpet"
           }
          ],
          "choropleth": [
           {
            "colorbar": {
             "outlinewidth": 0,
             "ticks": ""
            },
            "type": "choropleth"
           }
          ],
          "contour": [
           {
            "colorbar": {
             "outlinewidth": 0,
             "ticks": ""
            },
            "colorscale": [
             [
              0,
              "#0d0887"
             ],
             [
              0.1111111111111111,
              "#46039f"
             ],
             [
              0.2222222222222222,
              "#7201a8"
             ],
             [
              0.3333333333333333,
              "#9c179e"
             ],
             [
              0.4444444444444444,
              "#bd3786"
             ],
             [
              0.5555555555555556,
              "#d8576b"
             ],
             [
              0.6666666666666666,
              "#ed7953"
             ],
             [
              0.7777777777777778,
              "#fb9f3a"
             ],
             [
              0.8888888888888888,
              "#fdca26"
             ],
             [
              1,
              "#f0f921"
             ]
            ],
            "type": "contour"
           }
          ],
          "contourcarpet": [
           {
            "colorbar": {
             "outlinewidth": 0,
             "ticks": ""
            },
            "type": "contourcarpet"
           }
          ],
          "heatmap": [
           {
            "colorbar": {
             "outlinewidth": 0,
             "ticks": ""
            },
            "colorscale": [
             [
              0,
              "#0d0887"
             ],
             [
              0.1111111111111111,
              "#46039f"
             ],
             [
              0.2222222222222222,
              "#7201a8"
             ],
             [
              0.3333333333333333,
              "#9c179e"
             ],
             [
              0.4444444444444444,
              "#bd3786"
             ],
             [
              0.5555555555555556,
              "#d8576b"
             ],
             [
              0.6666666666666666,
              "#ed7953"
             ],
             [
              0.7777777777777778,
              "#fb9f3a"
             ],
             [
              0.8888888888888888,
              "#fdca26"
             ],
             [
              1,
              "#f0f921"
             ]
            ],
            "type": "heatmap"
           }
          ],
          "histogram": [
           {
            "marker": {
             "pattern": {
              "fillmode": "overlay",
              "size": 10,
              "solidity": 0.2
             }
            },
            "type": "histogram"
           }
          ],
          "histogram2d": [
           {
            "colorbar": {
             "outlinewidth": 0,
             "ticks": ""
            },
            "colorscale": [
             [
              0,
              "#0d0887"
             ],
             [
              0.1111111111111111,
              "#46039f"
             ],
             [
              0.2222222222222222,
              "#7201a8"
             ],
             [
              0.3333333333333333,
              "#9c179e"
             ],
             [
              0.4444444444444444,
              "#bd3786"
             ],
             [
              0.5555555555555556,
              "#d8576b"
             ],
             [
              0.6666666666666666,
              "#ed7953"
             ],
             [
              0.7777777777777778,
              "#fb9f3a"
             ],
             [
              0.8888888888888888,
              "#fdca26"
             ],
             [
              1,
              "#f0f921"
             ]
            ],
            "type": "histogram2d"
           }
          ],
          "histogram2dcontour": [
           {
            "colorbar": {
             "outlinewidth": 0,
             "ticks": ""
            },
            "colorscale": [
             [
              0,
              "#0d0887"
             ],
             [
              0.1111111111111111,
              "#46039f"
             ],
             [
              0.2222222222222222,
              "#7201a8"
             ],
             [
              0.3333333333333333,
              "#9c179e"
             ],
             [
              0.4444444444444444,
              "#bd3786"
             ],
             [
              0.5555555555555556,
              "#d8576b"
             ],
             [
              0.6666666666666666,
              "#ed7953"
             ],
             [
              0.7777777777777778,
              "#fb9f3a"
             ],
             [
              0.8888888888888888,
              "#fdca26"
             ],
             [
              1,
              "#f0f921"
             ]
            ],
            "type": "histogram2dcontour"
           }
          ],
          "mesh3d": [
           {
            "colorbar": {
             "outlinewidth": 0,
             "ticks": ""
            },
            "type": "mesh3d"
           }
          ],
          "parcoords": [
           {
            "line": {
             "colorbar": {
              "outlinewidth": 0,
              "ticks": ""
             }
            },
            "type": "parcoords"
           }
          ],
          "pie": [
           {
            "automargin": true,
            "type": "pie"
           }
          ],
          "scatter": [
           {
            "fillpattern": {
             "fillmode": "overlay",
             "size": 10,
             "solidity": 0.2
            },
            "type": "scatter"
           }
          ],
          "scatter3d": [
           {
            "line": {
             "colorbar": {
              "outlinewidth": 0,
              "ticks": ""
             }
            },
            "marker": {
             "colorbar": {
              "outlinewidth": 0,
              "ticks": ""
             }
            },
            "type": "scatter3d"
           }
          ],
          "scattercarpet": [
           {
            "marker": {
             "colorbar": {
              "outlinewidth": 0,
              "ticks": ""
             }
            },
            "type": "scattercarpet"
           }
          ],
          "scattergeo": [
           {
            "marker": {
             "colorbar": {
              "outlinewidth": 0,
              "ticks": ""
             }
            },
            "type": "scattergeo"
           }
          ],
          "scattergl": [
           {
            "marker": {
             "colorbar": {
              "outlinewidth": 0,
              "ticks": ""
             }
            },
            "type": "scattergl"
           }
          ],
          "scattermap": [
           {
            "marker": {
             "colorbar": {
              "outlinewidth": 0,
              "ticks": ""
             }
            },
            "type": "scattermap"
           }
          ],
          "scattermapbox": [
           {
            "marker": {
             "colorbar": {
              "outlinewidth": 0,
              "ticks": ""
             }
            },
            "type": "scattermapbox"
           }
          ],
          "scatterpolar": [
           {
            "marker": {
             "colorbar": {
              "outlinewidth": 0,
              "ticks": ""
             }
            },
            "type": "scatterpolar"
           }
          ],
          "scatterpolargl": [
           {
            "marker": {
             "colorbar": {
              "outlinewidth": 0,
              "ticks": ""
             }
            },
            "type": "scatterpolargl"
           }
          ],
          "scatterternary": [
           {
            "marker": {
             "colorbar": {
              "outlinewidth": 0,
              "ticks": ""
             }
            },
            "type": "scatterternary"
           }
          ],
          "surface": [
           {
            "colorbar": {
             "outlinewidth": 0,
             "ticks": ""
            },
            "colorscale": [
             [
              0,
              "#0d0887"
             ],
             [
              0.1111111111111111,
              "#46039f"
             ],
             [
              0.2222222222222222,
              "#7201a8"
             ],
             [
              0.3333333333333333,
              "#9c179e"
             ],
             [
              0.4444444444444444,
              "#bd3786"
             ],
             [
              0.5555555555555556,
              "#d8576b"
             ],
             [
              0.6666666666666666,
              "#ed7953"
             ],
             [
              0.7777777777777778,
              "#fb9f3a"
             ],
             [
              0.8888888888888888,
              "#fdca26"
             ],
             [
              1,
              "#f0f921"
             ]
            ],
            "type": "surface"
           }
          ],
          "table": [
           {
            "cells": {
             "fill": {
              "color": "#EBF0F8"
             },
             "line": {
              "color": "white"
             }
            },
            "header": {
             "fill": {
              "color": "#C8D4E3"
             },
             "line": {
              "color": "white"
             }
            },
            "type": "table"
           }
          ]
         },
         "layout": {
          "annotationdefaults": {
           "arrowcolor": "#2a3f5f",
           "arrowhead": 0,
           "arrowwidth": 1
          },
          "autotypenumbers": "strict",
          "coloraxis": {
           "colorbar": {
            "outlinewidth": 0,
            "ticks": ""
           }
          },
          "colorscale": {
           "diverging": [
            [
             0,
             "#8e0152"
            ],
            [
             0.1,
             "#c51b7d"
            ],
            [
             0.2,
             "#de77ae"
            ],
            [
             0.3,
             "#f1b6da"
            ],
            [
             0.4,
             "#fde0ef"
            ],
            [
             0.5,
             "#f7f7f7"
            ],
            [
             0.6,
             "#e6f5d0"
            ],
            [
             0.7,
             "#b8e186"
            ],
            [
             0.8,
             "#7fbc41"
            ],
            [
             0.9,
             "#4d9221"
            ],
            [
             1,
             "#276419"
            ]
           ],
           "sequential": [
            [
             0,
             "#0d0887"
            ],
            [
             0.1111111111111111,
             "#46039f"
            ],
            [
             0.2222222222222222,
             "#7201a8"
            ],
            [
             0.3333333333333333,
             "#9c179e"
            ],
            [
             0.4444444444444444,
             "#bd3786"
            ],
            [
             0.5555555555555556,
             "#d8576b"
            ],
            [
             0.6666666666666666,
             "#ed7953"
            ],
            [
             0.7777777777777778,
             "#fb9f3a"
            ],
            [
             0.8888888888888888,
             "#fdca26"
            ],
            [
             1,
             "#f0f921"
            ]
           ],
           "sequentialminus": [
            [
             0,
             "#0d0887"
            ],
            [
             0.1111111111111111,
             "#46039f"
            ],
            [
             0.2222222222222222,
             "#7201a8"
            ],
            [
             0.3333333333333333,
             "#9c179e"
            ],
            [
             0.4444444444444444,
             "#bd3786"
            ],
            [
             0.5555555555555556,
             "#d8576b"
            ],
            [
             0.6666666666666666,
             "#ed7953"
            ],
            [
             0.7777777777777778,
             "#fb9f3a"
            ],
            [
             0.8888888888888888,
             "#fdca26"
            ],
            [
             1,
             "#f0f921"
            ]
           ]
          },
          "colorway": [
           "#636efa",
           "#EF553B",
           "#00cc96",
           "#ab63fa",
           "#FFA15A",
           "#19d3f3",
           "#FF6692",
           "#B6E880",
           "#FF97FF",
           "#FECB52"
          ],
          "font": {
           "color": "#2a3f5f"
          },
          "geo": {
           "bgcolor": "white",
           "lakecolor": "white",
           "landcolor": "#E5ECF6",
           "showlakes": true,
           "showland": true,
           "subunitcolor": "white"
          },
          "hoverlabel": {
           "align": "left"
          },
          "hovermode": "closest",
          "mapbox": {
           "style": "light"
          },
          "paper_bgcolor": "white",
          "plot_bgcolor": "#E5ECF6",
          "polar": {
           "angularaxis": {
            "gridcolor": "white",
            "linecolor": "white",
            "ticks": ""
           },
           "bgcolor": "#E5ECF6",
           "radialaxis": {
            "gridcolor": "white",
            "linecolor": "white",
            "ticks": ""
           }
          },
          "scene": {
           "xaxis": {
            "backgroundcolor": "#E5ECF6",
            "gridcolor": "white",
            "gridwidth": 2,
            "linecolor": "white",
            "showbackground": true,
            "ticks": "",
            "zerolinecolor": "white"
           },
           "yaxis": {
            "backgroundcolor": "#E5ECF6",
            "gridcolor": "white",
            "gridwidth": 2,
            "linecolor": "white",
            "showbackground": true,
            "ticks": "",
            "zerolinecolor": "white"
           },
           "zaxis": {
            "backgroundcolor": "#E5ECF6",
            "gridcolor": "white",
            "gridwidth": 2,
            "linecolor": "white",
            "showbackground": true,
            "ticks": "",
            "zerolinecolor": "white"
           }
          },
          "shapedefaults": {
           "line": {
            "color": "#2a3f5f"
           }
          },
          "ternary": {
           "aaxis": {
            "gridcolor": "white",
            "linecolor": "white",
            "ticks": ""
           },
           "baxis": {
            "gridcolor": "white",
            "linecolor": "white",
            "ticks": ""
           },
           "bgcolor": "#E5ECF6",
           "caxis": {
            "gridcolor": "white",
            "linecolor": "white",
            "ticks": ""
           }
          },
          "title": {
           "x": 0.05
          },
          "xaxis": {
           "automargin": true,
           "gridcolor": "white",
           "linecolor": "white",
           "ticks": "",
           "title": {
            "standoff": 15
           },
           "zerolinecolor": "white",
           "zerolinewidth": 2
          },
          "yaxis": {
           "automargin": true,
           "gridcolor": "white",
           "linecolor": "white",
           "ticks": "",
           "title": {
            "standoff": 15
           },
           "zerolinecolor": "white",
           "zerolinewidth": 2
          }
         }
        },
        "title": {
         "text": "US Remittance Outflows: Flow Map<br><sub>Average annual flows from United States to receiving countries (Last 10 Years: 2015-2024)<br>Line thickness and marker size represent average flow volume (USD Millions)</sub>",
         "x": 0.5
        },
        "width": 1400
       }
      }
     },
     "metadata": {},
     "output_type": "display_data"
    }
   ],
   "source": [
    "# Get country coordinates for flow lines (approximate center coordinates)\n",
    "country_coords = {\n",
    "    'Ethiopia': [9.1450, 40.4897],\n",
    "    'Kenya': [-0.0236, 37.9062],\n",
    "    'Morocco': [31.7917, -7.0926],\n",
    "    'Senegal': [14.7167, -17.4677],\n",
    "    'Uganda': [1.3733, 32.2903],\n",
    "    'Armenia': [40.0691, 45.0382],\n",
    "    'Brazil': [-14.2350, -51.9253],\n",
    "    'Cabo Verde': [16.5388, -24.0132],\n",
    "    'Dominican Republic': [18.7357, -70.1627],\n",
    "    'Georgia': [42.3154, 43.3569],\n",
    "    'Haiti': [18.9712, -72.2852],\n",
    "    'Jamaica': [18.1096, -77.2975],\n",
    "    'Kyrgyz Republic': [41.2044, 74.7661],\n",
    "    'Nicaragua': [12.2650, -85.2072],\n",
    "    'Pakistan': [30.3753, 69.3451],\n",
    "    'Paraguay': [-23.4425, -58.4438],\n",
    "    'Philippines': [12.8797, 121.7740],\n",
    "    'Samoa': [-13.7590, -172.1046],\n",
    "    'Suriname': [3.9193, -56.0278]\n",
    "}\n",
    "\n",
    "# US coordinates\n",
    "us_coords = [39.8283, -98.5795]\n",
    "\n",
    "# Create flow map with lines from US to receiving countries\n",
    "fig2 = go.Figure()\n",
    "\n",
    "# Add base world map\n",
    "fig2.add_trace(go.Scattergeo(\n",
    "    lon=[],\n",
    "    lat=[],\n",
    "    mode='markers',\n",
    "    showlegend=False\n",
    "))\n",
    "\n",
    "# Add US marker\n",
    "fig2.add_trace(go.Scattergeo(\n",
    "    lon=[us_coords[1]],\n",
    "    lat=[us_coords[0]],\n",
    "    mode='markers+text',\n",
    "    marker=dict(size=15, color='blue', symbol='star'),\n",
    "    text=['United States'],\n",
    "    textposition='top center',\n",
    "    name='Sending Country (US)',\n",
    "    showlegend=True\n",
    "))\n",
    "\n",
    "# Add receiving country markers and flow lines\n",
    "for idx, row in us_flows_agg.iterrows():\n",
    "    country = row['Receiving_Country']\n",
    "    value = row['Value_Clean']\n",
    "    \n",
    "    if country in country_coords:\n",
    "        country_lat, country_lon = country_coords[country]\n",
    "        \n",
    "        # Add flow line\n",
    "        fig2.add_trace(go.Scattergeo(\n",
    "            lon=[us_coords[1], country_lon],\n",
    "            lat=[us_coords[0], country_lat],\n",
    "            mode='lines',\n",
    "            line=dict(width=max(1, min(10, value/50000)), color='red', dash='solid'),\n",
    "            opacity=0.6,\n",
    "            showlegend=False,\n",
    "            hoverinfo='none'\n",
    "        ))\n",
    "        \n",
    "        # Add receiving country marker\n",
    "        fig2.add_trace(go.Scattergeo(\n",
    "            lon=[country_lon],\n",
    "            lat=[country_lat],\n",
    "            mode='markers+text',\n",
    "            marker=dict(\n",
    "                size=max(8, min(25, value/100000)), \n",
    "                color='red',\n",
    "                opacity=0.7,\n",
    "                line=dict(width=1, color='darkred')\n",
    "            ),\n",
    "            text=[f'${value:,.1f}M'],\n",
    "            textposition='bottom center',\n",
    "            name=f'{country}',\n",
    "            showlegend=False,\n",
    "            hovertemplate=f'<b>{country}</b><br>Remittances: ${value:,.2f}M<extra></extra>'\n",
    "        ))\n",
    "\n",
    "fig2.update_layout(\n",
    "    title='US Remittance Outflows: Flow Map<br><sub>Average annual flows from United States to receiving countries (Last 10 Years: 2015-2024)<br>Line thickness and marker size represent average flow volume (USD Millions)</sub>',\n",
    "    title_x=0.5,\n",
    "    width=1400,\n",
    "    height=800,\n",
    "    geo=dict(\n",
    "        projection_type='natural earth',\n",
    "        showland=True,\n",
    "        landcolor='rgb(243, 243, 243)',\n",
    "        coastlinecolor='rgb(204, 204, 204)',\n",
    "        showframe=False,\n",
    "        showlakes=True,\n",
    "        lakecolor='rgb(255, 255, 255)',\n",
    "        showcountries=True,\n",
    "        countrycolor='rgb(204, 204, 204)'\n",
    "    )\n",
    ")\n",
    "\n",
    "fig2.show()"
   ]
  },
  {
   "cell_type": "code",
   "execution_count": 51,
   "id": "e6a763bd",
   "metadata": {},
   "outputs": [
    {
     "name": "stdout",
     "output_type": "stream",
     "text": [
      "US REMITTANCE OUTFLOWS SUMMARY (AVERAGE LAST 10 YEARS)\n",
      "======================================================================\n",
      "Total Countries Receiving: 19\n",
      "Average Annual Remittances: $2,661,530.68 Million USD\n",
      "Period Coverage: 2015-2024 (data available for years: 2018-2024)\n",
      "Total Country-Year Observations: 47\n",
      "\n",
      "Top 10 Receiving Countries (by average annual flows):\n",
      "----------------------------------------------------------------------\n",
      "           Country Avg Annual Remittances  % of Total  Years of Data  First Year  Last Year\n",
      "             Kenya         $2,637,772.27M       99.11              1        2024       2024\n",
      "       Philippines            $10,709.66M        0.40              3        2018       2020\n",
      "Dominican Republic             $5,752.75M        0.22              3        2018       2020\n",
      "             Haiti             $1,682.96M        0.06              3        2018       2020\n",
      "           Jamaica             $1,360.32M        0.05              3        2018       2020\n",
      "            Brazil             $1,288.93M        0.05              3        2018       2020\n",
      "         Nicaragua               $955.80M        0.04              3        2018       2020\n",
      "           Senegal               $479.70M        0.02              1        2021       2021\n",
      "           Morocco               $422.39M        0.02              1        2020       2020\n",
      "          Ethiopia               $387.04M        0.01              1        2020       2020\n",
      "\n",
      "Complete list of all 19 receiving countries:\n",
      "----------------------------------------------------------------------\n"
     ]
    },
    {
     "data": {
      "application/vnd.microsoft.datawrangler.viewer.v0+json": {
       "columns": [
        {
         "name": "index",
         "rawType": "int64",
         "type": "integer"
        },
        {
         "name": "Country",
         "rawType": "object",
         "type": "string"
        },
        {
         "name": "Avg Annual Remittances",
         "rawType": "object",
         "type": "string"
        },
        {
         "name": "% of Total",
         "rawType": "float64",
         "type": "float"
        },
        {
         "name": "Years of Data",
         "rawType": "int64",
         "type": "integer"
        },
        {
         "name": "First Year",
         "rawType": "int64",
         "type": "integer"
        },
        {
         "name": "Last Year",
         "rawType": "int64",
         "type": "integer"
        }
       ],
       "ref": "7c23e888-eeeb-46ce-8f50-00909ea84efe",
       "rows": [
        [
         "8",
         "Kenya",
         "$2,637,772.27M",
         "99.11",
         "1",
         "2024",
         "2024"
        ],
        [
         "14",
         "Philippines",
         "$10,709.66M",
         "0.4",
         "3",
         "2018",
         "2020"
        ],
        [
         "3",
         "Dominican Republic",
         "$5,752.75M",
         "0.22",
         "3",
         "2018",
         "2020"
        ],
        [
         "6",
         "Haiti",
         "$1,682.96M",
         "0.06",
         "3",
         "2018",
         "2020"
        ],
        [
         "7",
         "Jamaica",
         "$1,360.32M",
         "0.05",
         "3",
         "2018",
         "2020"
        ],
        [
         "1",
         "Brazil",
         "$1,288.93M",
         "0.05",
         "3",
         "2018",
         "2020"
        ],
        [
         "11",
         "Nicaragua",
         "$955.80M",
         "0.04",
         "3",
         "2018",
         "2020"
        ],
        [
         "16",
         "Senegal",
         "$479.70M",
         "0.02",
         "1",
         "2021",
         "2021"
        ],
        [
         "10",
         "Morocco",
         "$422.39M",
         "0.02",
         "1",
         "2020",
         "2020"
        ],
        [
         "4",
         "Ethiopia",
         "$387.04M",
         "0.01",
         "1",
         "2020",
         "2020"
        ],
        [
         "0",
         "Armenia",
         "$321.20M",
         "0.01",
         "3",
         "2018",
         "2020"
        ],
        [
         "18",
         "Uganda",
         "$184.50M",
         "0.01",
         "1",
         "2022",
         "2022"
        ],
        [
         "13",
         "Paraguay",
         "$75.86M",
         "0.0",
         "3",
         "2018",
         "2020"
        ],
        [
         "2",
         "Cabo Verde",
         "$43.90M",
         "0.0",
         "3",
         "2018",
         "2020"
        ],
        [
         "15",
         "Samoa",
         "$36.29M",
         "0.0",
         "3",
         "2018",
         "2020"
        ],
        [
         "9",
         "Kyrgyz Republic",
         "$27.94M",
         "0.0",
         "3",
         "2018",
         "2020"
        ],
        [
         "12",
         "Pakistan",
         "$18.61M",
         "0.0",
         "3",
         "2018",
         "2020"
        ],
        [
         "17",
         "Suriname",
         "$10.28M",
         "0.0",
         "3",
         "2018",
         "2020"
        ],
        [
         "5",
         "Georgia",
         "$0.26M",
         "0.0",
         "3",
         "2018",
         "2020"
        ]
       ],
       "shape": {
        "columns": 6,
        "rows": 19
       }
      },
      "text/html": [
       "<div>\n",
       "<style scoped>\n",
       "    .dataframe tbody tr th:only-of-type {\n",
       "        vertical-align: middle;\n",
       "    }\n",
       "\n",
       "    .dataframe tbody tr th {\n",
       "        vertical-align: top;\n",
       "    }\n",
       "\n",
       "    .dataframe thead th {\n",
       "        text-align: right;\n",
       "    }\n",
       "</style>\n",
       "<table border=\"1\" class=\"dataframe\">\n",
       "  <thead>\n",
       "    <tr style=\"text-align: right;\">\n",
       "      <th></th>\n",
       "      <th>Country</th>\n",
       "      <th>Avg Annual Remittances</th>\n",
       "      <th>% of Total</th>\n",
       "      <th>Years of Data</th>\n",
       "      <th>First Year</th>\n",
       "      <th>Last Year</th>\n",
       "    </tr>\n",
       "  </thead>\n",
       "  <tbody>\n",
       "    <tr>\n",
       "      <th>8</th>\n",
       "      <td>Kenya</td>\n",
       "      <td>$2,637,772.27M</td>\n",
       "      <td>99.11</td>\n",
       "      <td>1</td>\n",
       "      <td>2024</td>\n",
       "      <td>2024</td>\n",
       "    </tr>\n",
       "    <tr>\n",
       "      <th>14</th>\n",
       "      <td>Philippines</td>\n",
       "      <td>$10,709.66M</td>\n",
       "      <td>0.40</td>\n",
       "      <td>3</td>\n",
       "      <td>2018</td>\n",
       "      <td>2020</td>\n",
       "    </tr>\n",
       "    <tr>\n",
       "      <th>3</th>\n",
       "      <td>Dominican Republic</td>\n",
       "      <td>$5,752.75M</td>\n",
       "      <td>0.22</td>\n",
       "      <td>3</td>\n",
       "      <td>2018</td>\n",
       "      <td>2020</td>\n",
       "    </tr>\n",
       "    <tr>\n",
       "      <th>6</th>\n",
       "      <td>Haiti</td>\n",
       "      <td>$1,682.96M</td>\n",
       "      <td>0.06</td>\n",
       "      <td>3</td>\n",
       "      <td>2018</td>\n",
       "      <td>2020</td>\n",
       "    </tr>\n",
       "    <tr>\n",
       "      <th>7</th>\n",
       "      <td>Jamaica</td>\n",
       "      <td>$1,360.32M</td>\n",
       "      <td>0.05</td>\n",
       "      <td>3</td>\n",
       "      <td>2018</td>\n",
       "      <td>2020</td>\n",
       "    </tr>\n",
       "    <tr>\n",
       "      <th>1</th>\n",
       "      <td>Brazil</td>\n",
       "      <td>$1,288.93M</td>\n",
       "      <td>0.05</td>\n",
       "      <td>3</td>\n",
       "      <td>2018</td>\n",
       "      <td>2020</td>\n",
       "    </tr>\n",
       "    <tr>\n",
       "      <th>11</th>\n",
       "      <td>Nicaragua</td>\n",
       "      <td>$955.80M</td>\n",
       "      <td>0.04</td>\n",
       "      <td>3</td>\n",
       "      <td>2018</td>\n",
       "      <td>2020</td>\n",
       "    </tr>\n",
       "    <tr>\n",
       "      <th>16</th>\n",
       "      <td>Senegal</td>\n",
       "      <td>$479.70M</td>\n",
       "      <td>0.02</td>\n",
       "      <td>1</td>\n",
       "      <td>2021</td>\n",
       "      <td>2021</td>\n",
       "    </tr>\n",
       "    <tr>\n",
       "      <th>10</th>\n",
       "      <td>Morocco</td>\n",
       "      <td>$422.39M</td>\n",
       "      <td>0.02</td>\n",
       "      <td>1</td>\n",
       "      <td>2020</td>\n",
       "      <td>2020</td>\n",
       "    </tr>\n",
       "    <tr>\n",
       "      <th>4</th>\n",
       "      <td>Ethiopia</td>\n",
       "      <td>$387.04M</td>\n",
       "      <td>0.01</td>\n",
       "      <td>1</td>\n",
       "      <td>2020</td>\n",
       "      <td>2020</td>\n",
       "    </tr>\n",
       "    <tr>\n",
       "      <th>0</th>\n",
       "      <td>Armenia</td>\n",
       "      <td>$321.20M</td>\n",
       "      <td>0.01</td>\n",
       "      <td>3</td>\n",
       "      <td>2018</td>\n",
       "      <td>2020</td>\n",
       "    </tr>\n",
       "    <tr>\n",
       "      <th>18</th>\n",
       "      <td>Uganda</td>\n",
       "      <td>$184.50M</td>\n",
       "      <td>0.01</td>\n",
       "      <td>1</td>\n",
       "      <td>2022</td>\n",
       "      <td>2022</td>\n",
       "    </tr>\n",
       "    <tr>\n",
       "      <th>13</th>\n",
       "      <td>Paraguay</td>\n",
       "      <td>$75.86M</td>\n",
       "      <td>0.00</td>\n",
       "      <td>3</td>\n",
       "      <td>2018</td>\n",
       "      <td>2020</td>\n",
       "    </tr>\n",
       "    <tr>\n",
       "      <th>2</th>\n",
       "      <td>Cabo Verde</td>\n",
       "      <td>$43.90M</td>\n",
       "      <td>0.00</td>\n",
       "      <td>3</td>\n",
       "      <td>2018</td>\n",
       "      <td>2020</td>\n",
       "    </tr>\n",
       "    <tr>\n",
       "      <th>15</th>\n",
       "      <td>Samoa</td>\n",
       "      <td>$36.29M</td>\n",
       "      <td>0.00</td>\n",
       "      <td>3</td>\n",
       "      <td>2018</td>\n",
       "      <td>2020</td>\n",
       "    </tr>\n",
       "    <tr>\n",
       "      <th>9</th>\n",
       "      <td>Kyrgyz Republic</td>\n",
       "      <td>$27.94M</td>\n",
       "      <td>0.00</td>\n",
       "      <td>3</td>\n",
       "      <td>2018</td>\n",
       "      <td>2020</td>\n",
       "    </tr>\n",
       "    <tr>\n",
       "      <th>12</th>\n",
       "      <td>Pakistan</td>\n",
       "      <td>$18.61M</td>\n",
       "      <td>0.00</td>\n",
       "      <td>3</td>\n",
       "      <td>2018</td>\n",
       "      <td>2020</td>\n",
       "    </tr>\n",
       "    <tr>\n",
       "      <th>17</th>\n",
       "      <td>Suriname</td>\n",
       "      <td>$10.28M</td>\n",
       "      <td>0.00</td>\n",
       "      <td>3</td>\n",
       "      <td>2018</td>\n",
       "      <td>2020</td>\n",
       "    </tr>\n",
       "    <tr>\n",
       "      <th>5</th>\n",
       "      <td>Georgia</td>\n",
       "      <td>$0.26M</td>\n",
       "      <td>0.00</td>\n",
       "      <td>3</td>\n",
       "      <td>2018</td>\n",
       "      <td>2020</td>\n",
       "    </tr>\n",
       "  </tbody>\n",
       "</table>\n",
       "</div>"
      ],
      "text/plain": [
       "               Country Avg Annual Remittances  % of Total  Years of Data  \\\n",
       "8                Kenya         $2,637,772.27M       99.11              1   \n",
       "14         Philippines            $10,709.66M        0.40              3   \n",
       "3   Dominican Republic             $5,752.75M        0.22              3   \n",
       "6                Haiti             $1,682.96M        0.06              3   \n",
       "7              Jamaica             $1,360.32M        0.05              3   \n",
       "1               Brazil             $1,288.93M        0.05              3   \n",
       "11           Nicaragua               $955.80M        0.04              3   \n",
       "16             Senegal               $479.70M        0.02              1   \n",
       "10             Morocco               $422.39M        0.02              1   \n",
       "4             Ethiopia               $387.04M        0.01              1   \n",
       "0              Armenia               $321.20M        0.01              3   \n",
       "18              Uganda               $184.50M        0.01              1   \n",
       "13            Paraguay                $75.86M        0.00              3   \n",
       "2           Cabo Verde                $43.90M        0.00              3   \n",
       "15               Samoa                $36.29M        0.00              3   \n",
       "9      Kyrgyz Republic                $27.94M        0.00              3   \n",
       "12            Pakistan                $18.61M        0.00              3   \n",
       "17            Suriname                $10.28M        0.00              3   \n",
       "5              Georgia                 $0.26M        0.00              3   \n",
       "\n",
       "    First Year  Last Year  \n",
       "8         2024       2024  \n",
       "14        2018       2020  \n",
       "3         2018       2020  \n",
       "6         2018       2020  \n",
       "7         2018       2020  \n",
       "1         2018       2020  \n",
       "11        2018       2020  \n",
       "16        2021       2021  \n",
       "10        2020       2020  \n",
       "4         2020       2020  \n",
       "0         2018       2020  \n",
       "18        2022       2022  \n",
       "13        2018       2020  \n",
       "2         2018       2020  \n",
       "15        2018       2020  \n",
       "9         2018       2020  \n",
       "12        2018       2020  \n",
       "17        2018       2020  \n",
       "5         2018       2020  "
      ]
     },
     "execution_count": 51,
     "metadata": {},
     "output_type": "execute_result"
    }
   ],
   "source": [
    "# Create a detailed summary table for average flows\n",
    "summary_table = us_flows_agg.sort_values('Value_Clean', ascending=False).copy()\n",
    "summary_table['Value_Formatted'] = summary_table['Value_Clean'].apply(lambda x: f\"${x:,.2f}M\")\n",
    "summary_table['Percentage'] = (summary_table['Value_Clean'] / summary_table['Value_Clean'].sum() * 100).round(2)\n",
    "\n",
    "print(\"US REMITTANCE OUTFLOWS SUMMARY (AVERAGE LAST 10 YEARS)\")\n",
    "print(\"=\" * 70)\n",
    "print(f\"Total Countries Receiving: {len(summary_table)}\")\n",
    "print(f\"Average Annual Remittances: ${summary_table['Value_Clean'].sum():,.2f} Million USD\")\n",
    "print(f\"Period Coverage: 2015-2024 (data available for years: 2018-2024)\")\n",
    "print(f\"Total Country-Year Observations: {summary_table['Number_of_Years'].sum()}\")\n",
    "print(\"\\nTop 10 Receiving Countries (by average annual flows):\")\n",
    "print(\"-\" * 70)\n",
    "\n",
    "display_cols = ['Receiving_Country', 'Value_Formatted', 'Percentage', 'Number_of_Years', 'First_Year', 'Last_Year']\n",
    "top_10 = summary_table.head(10)[display_cols]\n",
    "top_10.columns = ['Country', 'Avg Annual Remittances', '% of Total', 'Years of Data', 'First Year', 'Last Year']\n",
    "\n",
    "print(top_10.to_string(index=False))\n",
    "\n",
    "print(f\"\\nComplete list of all {len(summary_table)} receiving countries:\")\n",
    "print(\"-\" * 70)\n",
    "complete_list = summary_table[display_cols].copy()\n",
    "complete_list.columns = ['Country', 'Avg Annual Remittances', '% of Total', 'Years of Data', 'First Year', 'Last Year']\n",
    "complete_list"
   ]
  },
  {
   "cell_type": "code",
   "execution_count": 52,
   "id": "2b7e4d48",
   "metadata": {},
   "outputs": [
    {
     "name": "stdout",
     "output_type": "stream",
     "text": [
      "ANALYSIS EXCLUDING KENYA\n",
      "==================================================\n",
      "Countries after excluding Kenya: 18\n",
      "Average Annual Remittances (without Kenya): $23,758.41 Million USD\n",
      "\n",
      "Top 10 Receiving Countries (excluding Kenya):\n",
      "--------------------------------------------------\n",
      "           Country Avg Annual Remittances  % of Total  Years of Data\n",
      "       Philippines            $10,709.66M       45.08              3\n",
      "Dominican Republic             $5,752.75M       24.21              3\n",
      "             Haiti             $1,682.96M        7.08              3\n",
      "           Jamaica             $1,360.32M        5.73              3\n",
      "            Brazil             $1,288.93M        5.43              3\n",
      "         Nicaragua               $955.80M        4.02              3\n",
      "           Senegal               $479.70M        2.02              1\n",
      "           Morocco               $422.39M        1.78              1\n",
      "          Ethiopia               $387.04M        1.63              1\n",
      "           Armenia               $321.20M        1.35              3\n"
     ]
    },
    {
     "data": {
      "application/vnd.microsoft.datawrangler.viewer.v0+json": {
       "columns": [
        {
         "name": "index",
         "rawType": "int64",
         "type": "integer"
        },
        {
         "name": "Receiving_Country",
         "rawType": "object",
         "type": "string"
        },
        {
         "name": "Receiving_Country_Code",
         "rawType": "object",
         "type": "string"
        },
        {
         "name": "Value_Clean",
         "rawType": "float64",
         "type": "float"
        },
        {
         "name": "Number_of_Years",
         "rawType": "int64",
         "type": "integer"
        },
        {
         "name": "First_Year",
         "rawType": "int64",
         "type": "integer"
        },
        {
         "name": "Last_Year",
         "rawType": "int64",
         "type": "integer"
        },
        {
         "name": "Percentage",
         "rawType": "float64",
         "type": "float"
        }
       ],
       "ref": "ad20d68a-9f30-480d-bc85-907c2d0f7949",
       "rows": [
        [
         "14",
         "Philippines",
         "PHL",
         "10709.664313333333",
         "3",
         "2018",
         "2020",
         "45.08"
        ],
        [
         "3",
         "Dominican Republic",
         "DOM",
         "5752.746146666667",
         "3",
         "2018",
         "2020",
         "24.21"
        ],
        [
         "6",
         "Haiti",
         "HTI",
         "1682.9572393333335",
         "3",
         "2018",
         "2020",
         "7.08"
        ],
        [
         "7",
         "Jamaica",
         "JAM",
         "1360.3245333333332",
         "3",
         "2018",
         "2020",
         "5.73"
        ],
        [
         "1",
         "Brazil",
         "BRA",
         "1288.9333333333334",
         "3",
         "2018",
         "2020",
         "5.43"
        ],
        [
         "11",
         "Nicaragua",
         "NIC",
         "955.8000000000001",
         "3",
         "2018",
         "2020",
         "4.02"
        ],
        [
         "16",
         "Senegal",
         "SEN",
         "479.69592728",
         "1",
         "2021",
         "2021",
         "2.02"
        ],
        [
         "10",
         "Morocco",
         "MAR",
         "422.388121",
         "1",
         "2020",
         "2020",
         "1.78"
        ],
        [
         "4",
         "Ethiopia",
         "ETH",
         "387.04401602",
         "1",
         "2020",
         "2020",
         "1.63"
        ],
        [
         "0",
         "Armenia",
         "ARM",
         "321.20234933333336",
         "3",
         "2018",
         "2020",
         "1.35"
        ],
        [
         "18",
         "Uganda",
         "UGA",
         "184.5",
         "1",
         "2022",
         "2022",
         "0.78"
        ],
        [
         "13",
         "Paraguay",
         "PRY",
         "75.862205",
         "3",
         "2018",
         "2020",
         "0.32"
        ],
        [
         "2",
         "Cabo Verde",
         "CPV",
         "43.9042254",
         "3",
         "2018",
         "2020",
         "0.18"
        ],
        [
         "15",
         "Samoa",
         "WSM",
         "36.2931056",
         "3",
         "2018",
         "2020",
         "0.15"
        ],
        [
         "9",
         "Kyrgyz Republic",
         "KGZ",
         "27.93936103333333",
         "3",
         "2018",
         "2020",
         "0.12"
        ],
        [
         "12",
         "Pakistan",
         "PAK",
         "18.614041726666667",
         "3",
         "2018",
         "2020",
         "0.08"
        ],
        [
         "17",
         "Suriname",
         "SUR",
         "10.277333333333333",
         "3",
         "2018",
         "2020",
         "0.04"
        ],
        [
         "5",
         "Georgia",
         "GEO",
         "0.25898866666666664",
         "3",
         "2018",
         "2020",
         "0.0"
        ]
       ],
       "shape": {
        "columns": 7,
        "rows": 18
       }
      },
      "text/html": [
       "<div>\n",
       "<style scoped>\n",
       "    .dataframe tbody tr th:only-of-type {\n",
       "        vertical-align: middle;\n",
       "    }\n",
       "\n",
       "    .dataframe tbody tr th {\n",
       "        vertical-align: top;\n",
       "    }\n",
       "\n",
       "    .dataframe thead th {\n",
       "        text-align: right;\n",
       "    }\n",
       "</style>\n",
       "<table border=\"1\" class=\"dataframe\">\n",
       "  <thead>\n",
       "    <tr style=\"text-align: right;\">\n",
       "      <th></th>\n",
       "      <th>Receiving_Country</th>\n",
       "      <th>Receiving_Country_Code</th>\n",
       "      <th>Value_Clean</th>\n",
       "      <th>Number_of_Years</th>\n",
       "      <th>First_Year</th>\n",
       "      <th>Last_Year</th>\n",
       "      <th>Percentage</th>\n",
       "    </tr>\n",
       "  </thead>\n",
       "  <tbody>\n",
       "    <tr>\n",
       "      <th>14</th>\n",
       "      <td>Philippines</td>\n",
       "      <td>PHL</td>\n",
       "      <td>10709.664313</td>\n",
       "      <td>3</td>\n",
       "      <td>2018</td>\n",
       "      <td>2020</td>\n",
       "      <td>45.08</td>\n",
       "    </tr>\n",
       "    <tr>\n",
       "      <th>3</th>\n",
       "      <td>Dominican Republic</td>\n",
       "      <td>DOM</td>\n",
       "      <td>5752.746147</td>\n",
       "      <td>3</td>\n",
       "      <td>2018</td>\n",
       "      <td>2020</td>\n",
       "      <td>24.21</td>\n",
       "    </tr>\n",
       "    <tr>\n",
       "      <th>6</th>\n",
       "      <td>Haiti</td>\n",
       "      <td>HTI</td>\n",
       "      <td>1682.957239</td>\n",
       "      <td>3</td>\n",
       "      <td>2018</td>\n",
       "      <td>2020</td>\n",
       "      <td>7.08</td>\n",
       "    </tr>\n",
       "    <tr>\n",
       "      <th>7</th>\n",
       "      <td>Jamaica</td>\n",
       "      <td>JAM</td>\n",
       "      <td>1360.324533</td>\n",
       "      <td>3</td>\n",
       "      <td>2018</td>\n",
       "      <td>2020</td>\n",
       "      <td>5.73</td>\n",
       "    </tr>\n",
       "    <tr>\n",
       "      <th>1</th>\n",
       "      <td>Brazil</td>\n",
       "      <td>BRA</td>\n",
       "      <td>1288.933333</td>\n",
       "      <td>3</td>\n",
       "      <td>2018</td>\n",
       "      <td>2020</td>\n",
       "      <td>5.43</td>\n",
       "    </tr>\n",
       "    <tr>\n",
       "      <th>11</th>\n",
       "      <td>Nicaragua</td>\n",
       "      <td>NIC</td>\n",
       "      <td>955.800000</td>\n",
       "      <td>3</td>\n",
       "      <td>2018</td>\n",
       "      <td>2020</td>\n",
       "      <td>4.02</td>\n",
       "    </tr>\n",
       "    <tr>\n",
       "      <th>16</th>\n",
       "      <td>Senegal</td>\n",
       "      <td>SEN</td>\n",
       "      <td>479.695927</td>\n",
       "      <td>1</td>\n",
       "      <td>2021</td>\n",
       "      <td>2021</td>\n",
       "      <td>2.02</td>\n",
       "    </tr>\n",
       "    <tr>\n",
       "      <th>10</th>\n",
       "      <td>Morocco</td>\n",
       "      <td>MAR</td>\n",
       "      <td>422.388121</td>\n",
       "      <td>1</td>\n",
       "      <td>2020</td>\n",
       "      <td>2020</td>\n",
       "      <td>1.78</td>\n",
       "    </tr>\n",
       "    <tr>\n",
       "      <th>4</th>\n",
       "      <td>Ethiopia</td>\n",
       "      <td>ETH</td>\n",
       "      <td>387.044016</td>\n",
       "      <td>1</td>\n",
       "      <td>2020</td>\n",
       "      <td>2020</td>\n",
       "      <td>1.63</td>\n",
       "    </tr>\n",
       "    <tr>\n",
       "      <th>0</th>\n",
       "      <td>Armenia</td>\n",
       "      <td>ARM</td>\n",
       "      <td>321.202349</td>\n",
       "      <td>3</td>\n",
       "      <td>2018</td>\n",
       "      <td>2020</td>\n",
       "      <td>1.35</td>\n",
       "    </tr>\n",
       "    <tr>\n",
       "      <th>18</th>\n",
       "      <td>Uganda</td>\n",
       "      <td>UGA</td>\n",
       "      <td>184.500000</td>\n",
       "      <td>1</td>\n",
       "      <td>2022</td>\n",
       "      <td>2022</td>\n",
       "      <td>0.78</td>\n",
       "    </tr>\n",
       "    <tr>\n",
       "      <th>13</th>\n",
       "      <td>Paraguay</td>\n",
       "      <td>PRY</td>\n",
       "      <td>75.862205</td>\n",
       "      <td>3</td>\n",
       "      <td>2018</td>\n",
       "      <td>2020</td>\n",
       "      <td>0.32</td>\n",
       "    </tr>\n",
       "    <tr>\n",
       "      <th>2</th>\n",
       "      <td>Cabo Verde</td>\n",
       "      <td>CPV</td>\n",
       "      <td>43.904225</td>\n",
       "      <td>3</td>\n",
       "      <td>2018</td>\n",
       "      <td>2020</td>\n",
       "      <td>0.18</td>\n",
       "    </tr>\n",
       "    <tr>\n",
       "      <th>15</th>\n",
       "      <td>Samoa</td>\n",
       "      <td>WSM</td>\n",
       "      <td>36.293106</td>\n",
       "      <td>3</td>\n",
       "      <td>2018</td>\n",
       "      <td>2020</td>\n",
       "      <td>0.15</td>\n",
       "    </tr>\n",
       "    <tr>\n",
       "      <th>9</th>\n",
       "      <td>Kyrgyz Republic</td>\n",
       "      <td>KGZ</td>\n",
       "      <td>27.939361</td>\n",
       "      <td>3</td>\n",
       "      <td>2018</td>\n",
       "      <td>2020</td>\n",
       "      <td>0.12</td>\n",
       "    </tr>\n",
       "    <tr>\n",
       "      <th>12</th>\n",
       "      <td>Pakistan</td>\n",
       "      <td>PAK</td>\n",
       "      <td>18.614042</td>\n",
       "      <td>3</td>\n",
       "      <td>2018</td>\n",
       "      <td>2020</td>\n",
       "      <td>0.08</td>\n",
       "    </tr>\n",
       "    <tr>\n",
       "      <th>17</th>\n",
       "      <td>Suriname</td>\n",
       "      <td>SUR</td>\n",
       "      <td>10.277333</td>\n",
       "      <td>3</td>\n",
       "      <td>2018</td>\n",
       "      <td>2020</td>\n",
       "      <td>0.04</td>\n",
       "    </tr>\n",
       "    <tr>\n",
       "      <th>5</th>\n",
       "      <td>Georgia</td>\n",
       "      <td>GEO</td>\n",
       "      <td>0.258989</td>\n",
       "      <td>3</td>\n",
       "      <td>2018</td>\n",
       "      <td>2020</td>\n",
       "      <td>0.00</td>\n",
       "    </tr>\n",
       "  </tbody>\n",
       "</table>\n",
       "</div>"
      ],
      "text/plain": [
       "     Receiving_Country Receiving_Country_Code   Value_Clean  Number_of_Years  \\\n",
       "14         Philippines                    PHL  10709.664313                3   \n",
       "3   Dominican Republic                    DOM   5752.746147                3   \n",
       "6                Haiti                    HTI   1682.957239                3   \n",
       "7              Jamaica                    JAM   1360.324533                3   \n",
       "1               Brazil                    BRA   1288.933333                3   \n",
       "11           Nicaragua                    NIC    955.800000                3   \n",
       "16             Senegal                    SEN    479.695927                1   \n",
       "10             Morocco                    MAR    422.388121                1   \n",
       "4             Ethiopia                    ETH    387.044016                1   \n",
       "0              Armenia                    ARM    321.202349                3   \n",
       "18              Uganda                    UGA    184.500000                1   \n",
       "13            Paraguay                    PRY     75.862205                3   \n",
       "2           Cabo Verde                    CPV     43.904225                3   \n",
       "15               Samoa                    WSM     36.293106                3   \n",
       "9      Kyrgyz Republic                    KGZ     27.939361                3   \n",
       "12            Pakistan                    PAK     18.614042                3   \n",
       "17            Suriname                    SUR     10.277333                3   \n",
       "5              Georgia                    GEO      0.258989                3   \n",
       "\n",
       "    First_Year  Last_Year  Percentage  \n",
       "14        2018       2020       45.08  \n",
       "3         2018       2020       24.21  \n",
       "6         2018       2020        7.08  \n",
       "7         2018       2020        5.73  \n",
       "1         2018       2020        5.43  \n",
       "11        2018       2020        4.02  \n",
       "16        2021       2021        2.02  \n",
       "10        2020       2020        1.78  \n",
       "4         2020       2020        1.63  \n",
       "0         2018       2020        1.35  \n",
       "18        2022       2022        0.78  \n",
       "13        2018       2020        0.32  \n",
       "2         2018       2020        0.18  \n",
       "15        2018       2020        0.15  \n",
       "9         2018       2020        0.12  \n",
       "12        2018       2020        0.08  \n",
       "17        2018       2020        0.04  \n",
       "5         2018       2020        0.00  "
      ]
     },
     "execution_count": 52,
     "metadata": {},
     "output_type": "execute_result"
    }
   ],
   "source": [
    "# Create analysis excluding Kenya\n",
    "print(\"ANALYSIS EXCLUDING KENYA\")\n",
    "print(\"=\" * 50)\n",
    "\n",
    "# Filter out Kenya from the aggregated data\n",
    "us_flows_no_kenya = us_flows_agg[us_flows_agg['Receiving_Country'] != 'Kenya'].copy()\n",
    "\n",
    "print(f\"Countries after excluding Kenya: {len(us_flows_no_kenya)}\")\n",
    "print(f\"Average Annual Remittances (without Kenya): ${us_flows_no_kenya['Value_Clean'].sum():,.2f} Million USD\")\n",
    "\n",
    "# Show the data without Kenya\n",
    "print(\"\\nTop 10 Receiving Countries (excluding Kenya):\")\n",
    "print(\"-\" * 50)\n",
    "\n",
    "us_flows_no_kenya_sorted = us_flows_no_kenya.sort_values('Value_Clean', ascending=False)\n",
    "us_flows_no_kenya_sorted['Percentage'] = (us_flows_no_kenya_sorted['Value_Clean'] / us_flows_no_kenya_sorted['Value_Clean'].sum() * 100).round(2)\n",
    "\n",
    "top_10_no_kenya = us_flows_no_kenya_sorted.head(10)[['Receiving_Country', 'Value_Clean', 'Percentage', 'Number_of_Years']]\n",
    "top_10_no_kenya['Value_Formatted'] = top_10_no_kenya['Value_Clean'].apply(lambda x: f\"${x:,.2f}M\")\n",
    "display_table = top_10_no_kenya[['Receiving_Country', 'Value_Formatted', 'Percentage', 'Number_of_Years']]\n",
    "display_table.columns = ['Country', 'Avg Annual Remittances', '% of Total', 'Years of Data']\n",
    "print(display_table.to_string(index=False))\n",
    "\n",
    "us_flows_no_kenya_sorted"
   ]
  },
  {
   "cell_type": "code",
   "execution_count": 53,
   "id": "d455e722",
   "metadata": {},
   "outputs": [
    {
     "data": {
      "application/vnd.plotly.v1+json": {
       "config": {
        "plotlyServerURL": "https://plot.ly"
       },
       "data": [
        {
         "coloraxis": "coloraxis",
         "customdata": {
          "bdata": "eyQ4CNXqxEAAAAAAAAAIQAAAAAAAiJ9AAAAAAACQn0Bby3cDv3i2QAAAAAAAAAhAAAAAAACIn0AAAAAAAJCfQHM8jDbUS5pAAAAAAAAACEAAAAAAAIifQAAAAAAAkJ9Ag1R3UkxBlUAAAAAAAAAIQAAAAAAAiJ9AAAAAAACQn0C8u7u7uyOUQAAAAAAAAAhAAAAAAACIn0AAAAAAAJCfQGdmZmZm3o1AAAAAAAAACEAAAAAAAIifQAAAAAAAkJ9A6L+khCL7fUAAAAAAAADwPwAAAAAAlJ9AAAAAAACUn0BBnl2+NWZ6QAAAAAAAAPA/AAAAAACQn0AAAAAAAJCfQGdmJEq0MHhAAAAAAAAA8D8AAAAAAJCfQAAAAAAAkJ9AjJCn0jwTdEAAAAAAAAAIQAAAAAAAiJ9AAAAAAACQn0AAAAAAABBnQAAAAAAAAPA/AAAAAACYn0AAAAAAAJifQKdc4V0u91JAAAAAAAAACEAAAAAAAIifQAAAAAAAkJ9ANJtsqL3zRUAAAAAAAAAIQAAAAAAAiJ9AAAAAAACQn0AhI/t7hCVCQAAAAAAAAAhAAAAAAACIn0AAAAAAAJCfQK1N9fZ58DtAAAAAAAAACEAAAAAAAIifQAAAAAAAkJ9Ap2mu1jGdMkAAAAAAAAAIQAAAAAAAiJ9AAAAAAACQn0DBg3mi/o0kQAAAAAAAAAhAAAAAAACIn0AAAAAAAJCfQPaMVzNFk9A/AAAAAAAACEAAAAAAAIifQAAAAAAAkJ9A",
          "dtype": "f8",
          "shape": "18, 4"
         },
         "geo": "geo",
         "hovertemplate": "<b>%{hovertext}</b><br><br>Receiving_Country_Code=%{location}<br>Average Annual Remittances (USD Millions)=%{z:,.2f}<br>Number_of_Years=%{customdata[1]}<br>First_Year=%{customdata[2]}<br>Last_Year=%{customdata[3]}<extra></extra>",
         "hovertext": [
          "Philippines",
          "Dominican Republic",
          "Haiti",
          "Jamaica",
          "Brazil",
          "Nicaragua",
          "Senegal",
          "Morocco",
          "Ethiopia",
          "Armenia",
          "Uganda",
          "Paraguay",
          "Cabo Verde",
          "Samoa",
          "Kyrgyz Republic",
          "Pakistan",
          "Suriname",
          "Georgia"
         ],
         "locations": [
          "PHL",
          "DOM",
          "HTI",
          "JAM",
          "BRA",
          "NIC",
          "SEN",
          "MAR",
          "ETH",
          "ARM",
          "UGA",
          "PRY",
          "CPV",
          "WSM",
          "KGZ",
          "PAK",
          "SUR",
          "GEO"
         ],
         "name": "",
         "type": "choropleth",
         "z": {
          "bdata": "eyQ4CNXqxEBby3cDv3i2QHM8jDbUS5pAg1R3UkxBlUC8u7u7uyOUQGdmZmZm3o1A6L+khCL7fUBBnl2+NWZ6QGdmJEq0MHhAjJCn0jwTdEAAAAAAABBnQKdc4V0u91JANJtsqL3zRUAhI/t7hCVCQK1N9fZ58DtAp2mu1jGdMkDBg3mi/o0kQPaMVzNFk9A/",
          "dtype": "f8"
         }
        }
       ],
       "layout": {
        "coloraxis": {
         "colorbar": {
          "title": {
           "text": "Average Annual Remittances (USD Millions)"
          }
         },
         "colorscale": [
          [
           0,
           "rgb(247,251,255)"
          ],
          [
           0.125,
           "rgb(222,235,247)"
          ],
          [
           0.25,
           "rgb(198,219,239)"
          ],
          [
           0.375,
           "rgb(158,202,225)"
          ],
          [
           0.5,
           "rgb(107,174,214)"
          ],
          [
           0.625,
           "rgb(66,146,198)"
          ],
          [
           0.75,
           "rgb(33,113,181)"
          ],
          [
           0.875,
           "rgb(8,81,156)"
          ],
          [
           1,
           "rgb(8,48,107)"
          ]
         ]
        },
        "geo": {
         "center": {},
         "domain": {
          "x": [
           0,
           1
          ],
          "y": [
           0,
           1
          ]
         },
         "projection": {
          "type": "natural earth"
         },
         "showcoastlines": true,
         "showframe": false
        },
        "height": 700,
        "legend": {
         "tracegroupgap": 0
        },
        "template": {
         "data": {
          "bar": [
           {
            "error_x": {
             "color": "#2a3f5f"
            },
            "error_y": {
             "color": "#2a3f5f"
            },
            "marker": {
             "line": {
              "color": "#E5ECF6",
              "width": 0.5
             },
             "pattern": {
              "fillmode": "overlay",
              "size": 10,
              "solidity": 0.2
             }
            },
            "type": "bar"
           }
          ],
          "barpolar": [
           {
            "marker": {
             "line": {
              "color": "#E5ECF6",
              "width": 0.5
             },
             "pattern": {
              "fillmode": "overlay",
              "size": 10,
              "solidity": 0.2
             }
            },
            "type": "barpolar"
           }
          ],
          "carpet": [
           {
            "aaxis": {
             "endlinecolor": "#2a3f5f",
             "gridcolor": "white",
             "linecolor": "white",
             "minorgridcolor": "white",
             "startlinecolor": "#2a3f5f"
            },
            "baxis": {
             "endlinecolor": "#2a3f5f",
             "gridcolor": "white",
             "linecolor": "white",
             "minorgridcolor": "white",
             "startlinecolor": "#2a3f5f"
            },
            "type": "carpet"
           }
          ],
          "choropleth": [
           {
            "colorbar": {
             "outlinewidth": 0,
             "ticks": ""
            },
            "type": "choropleth"
           }
          ],
          "contour": [
           {
            "colorbar": {
             "outlinewidth": 0,
             "ticks": ""
            },
            "colorscale": [
             [
              0,
              "#0d0887"
             ],
             [
              0.1111111111111111,
              "#46039f"
             ],
             [
              0.2222222222222222,
              "#7201a8"
             ],
             [
              0.3333333333333333,
              "#9c179e"
             ],
             [
              0.4444444444444444,
              "#bd3786"
             ],
             [
              0.5555555555555556,
              "#d8576b"
             ],
             [
              0.6666666666666666,
              "#ed7953"
             ],
             [
              0.7777777777777778,
              "#fb9f3a"
             ],
             [
              0.8888888888888888,
              "#fdca26"
             ],
             [
              1,
              "#f0f921"
             ]
            ],
            "type": "contour"
           }
          ],
          "contourcarpet": [
           {
            "colorbar": {
             "outlinewidth": 0,
             "ticks": ""
            },
            "type": "contourcarpet"
           }
          ],
          "heatmap": [
           {
            "colorbar": {
             "outlinewidth": 0,
             "ticks": ""
            },
            "colorscale": [
             [
              0,
              "#0d0887"
             ],
             [
              0.1111111111111111,
              "#46039f"
             ],
             [
              0.2222222222222222,
              "#7201a8"
             ],
             [
              0.3333333333333333,
              "#9c179e"
             ],
             [
              0.4444444444444444,
              "#bd3786"
             ],
             [
              0.5555555555555556,
              "#d8576b"
             ],
             [
              0.6666666666666666,
              "#ed7953"
             ],
             [
              0.7777777777777778,
              "#fb9f3a"
             ],
             [
              0.8888888888888888,
              "#fdca26"
             ],
             [
              1,
              "#f0f921"
             ]
            ],
            "type": "heatmap"
           }
          ],
          "histogram": [
           {
            "marker": {
             "pattern": {
              "fillmode": "overlay",
              "size": 10,
              "solidity": 0.2
             }
            },
            "type": "histogram"
           }
          ],
          "histogram2d": [
           {
            "colorbar": {
             "outlinewidth": 0,
             "ticks": ""
            },
            "colorscale": [
             [
              0,
              "#0d0887"
             ],
             [
              0.1111111111111111,
              "#46039f"
             ],
             [
              0.2222222222222222,
              "#7201a8"
             ],
             [
              0.3333333333333333,
              "#9c179e"
             ],
             [
              0.4444444444444444,
              "#bd3786"
             ],
             [
              0.5555555555555556,
              "#d8576b"
             ],
             [
              0.6666666666666666,
              "#ed7953"
             ],
             [
              0.7777777777777778,
              "#fb9f3a"
             ],
             [
              0.8888888888888888,
              "#fdca26"
             ],
             [
              1,
              "#f0f921"
             ]
            ],
            "type": "histogram2d"
           }
          ],
          "histogram2dcontour": [
           {
            "colorbar": {
             "outlinewidth": 0,
             "ticks": ""
            },
            "colorscale": [
             [
              0,
              "#0d0887"
             ],
             [
              0.1111111111111111,
              "#46039f"
             ],
             [
              0.2222222222222222,
              "#7201a8"
             ],
             [
              0.3333333333333333,
              "#9c179e"
             ],
             [
              0.4444444444444444,
              "#bd3786"
             ],
             [
              0.5555555555555556,
              "#d8576b"
             ],
             [
              0.6666666666666666,
              "#ed7953"
             ],
             [
              0.7777777777777778,
              "#fb9f3a"
             ],
             [
              0.8888888888888888,
              "#fdca26"
             ],
             [
              1,
              "#f0f921"
             ]
            ],
            "type": "histogram2dcontour"
           }
          ],
          "mesh3d": [
           {
            "colorbar": {
             "outlinewidth": 0,
             "ticks": ""
            },
            "type": "mesh3d"
           }
          ],
          "parcoords": [
           {
            "line": {
             "colorbar": {
              "outlinewidth": 0,
              "ticks": ""
             }
            },
            "type": "parcoords"
           }
          ],
          "pie": [
           {
            "automargin": true,
            "type": "pie"
           }
          ],
          "scatter": [
           {
            "fillpattern": {
             "fillmode": "overlay",
             "size": 10,
             "solidity": 0.2
            },
            "type": "scatter"
           }
          ],
          "scatter3d": [
           {
            "line": {
             "colorbar": {
              "outlinewidth": 0,
              "ticks": ""
             }
            },
            "marker": {
             "colorbar": {
              "outlinewidth": 0,
              "ticks": ""
             }
            },
            "type": "scatter3d"
           }
          ],
          "scattercarpet": [
           {
            "marker": {
             "colorbar": {
              "outlinewidth": 0,
              "ticks": ""
             }
            },
            "type": "scattercarpet"
           }
          ],
          "scattergeo": [
           {
            "marker": {
             "colorbar": {
              "outlinewidth": 0,
              "ticks": ""
             }
            },
            "type": "scattergeo"
           }
          ],
          "scattergl": [
           {
            "marker": {
             "colorbar": {
              "outlinewidth": 0,
              "ticks": ""
             }
            },
            "type": "scattergl"
           }
          ],
          "scattermap": [
           {
            "marker": {
             "colorbar": {
              "outlinewidth": 0,
              "ticks": ""
             }
            },
            "type": "scattermap"
           }
          ],
          "scattermapbox": [
           {
            "marker": {
             "colorbar": {
              "outlinewidth": 0,
              "ticks": ""
             }
            },
            "type": "scattermapbox"
           }
          ],
          "scatterpolar": [
           {
            "marker": {
             "colorbar": {
              "outlinewidth": 0,
              "ticks": ""
             }
            },
            "type": "scatterpolar"
           }
          ],
          "scatterpolargl": [
           {
            "marker": {
             "colorbar": {
              "outlinewidth": 0,
              "ticks": ""
             }
            },
            "type": "scatterpolargl"
           }
          ],
          "scatterternary": [
           {
            "marker": {
             "colorbar": {
              "outlinewidth": 0,
              "ticks": ""
             }
            },
            "type": "scatterternary"
           }
          ],
          "surface": [
           {
            "colorbar": {
             "outlinewidth": 0,
             "ticks": ""
            },
            "colorscale": [
             [
              0,
              "#0d0887"
             ],
             [
              0.1111111111111111,
              "#46039f"
             ],
             [
              0.2222222222222222,
              "#7201a8"
             ],
             [
              0.3333333333333333,
              "#9c179e"
             ],
             [
              0.4444444444444444,
              "#bd3786"
             ],
             [
              0.5555555555555556,
              "#d8576b"
             ],
             [
              0.6666666666666666,
              "#ed7953"
             ],
             [
              0.7777777777777778,
              "#fb9f3a"
             ],
             [
              0.8888888888888888,
              "#fdca26"
             ],
             [
              1,
              "#f0f921"
             ]
            ],
            "type": "surface"
           }
          ],
          "table": [
           {
            "cells": {
             "fill": {
              "color": "#EBF0F8"
             },
             "line": {
              "color": "white"
             }
            },
            "header": {
             "fill": {
              "color": "#C8D4E3"
             },
             "line": {
              "color": "white"
             }
            },
            "type": "table"
           }
          ]
         },
         "layout": {
          "annotationdefaults": {
           "arrowcolor": "#2a3f5f",
           "arrowhead": 0,
           "arrowwidth": 1
          },
          "autotypenumbers": "strict",
          "coloraxis": {
           "colorbar": {
            "outlinewidth": 0,
            "ticks": ""
           }
          },
          "colorscale": {
           "diverging": [
            [
             0,
             "#8e0152"
            ],
            [
             0.1,
             "#c51b7d"
            ],
            [
             0.2,
             "#de77ae"
            ],
            [
             0.3,
             "#f1b6da"
            ],
            [
             0.4,
             "#fde0ef"
            ],
            [
             0.5,
             "#f7f7f7"
            ],
            [
             0.6,
             "#e6f5d0"
            ],
            [
             0.7,
             "#b8e186"
            ],
            [
             0.8,
             "#7fbc41"
            ],
            [
             0.9,
             "#4d9221"
            ],
            [
             1,
             "#276419"
            ]
           ],
           "sequential": [
            [
             0,
             "#0d0887"
            ],
            [
             0.1111111111111111,
             "#46039f"
            ],
            [
             0.2222222222222222,
             "#7201a8"
            ],
            [
             0.3333333333333333,
             "#9c179e"
            ],
            [
             0.4444444444444444,
             "#bd3786"
            ],
            [
             0.5555555555555556,
             "#d8576b"
            ],
            [
             0.6666666666666666,
             "#ed7953"
            ],
            [
             0.7777777777777778,
             "#fb9f3a"
            ],
            [
             0.8888888888888888,
             "#fdca26"
            ],
            [
             1,
             "#f0f921"
            ]
           ],
           "sequentialminus": [
            [
             0,
             "#0d0887"
            ],
            [
             0.1111111111111111,
             "#46039f"
            ],
            [
             0.2222222222222222,
             "#7201a8"
            ],
            [
             0.3333333333333333,
             "#9c179e"
            ],
            [
             0.4444444444444444,
             "#bd3786"
            ],
            [
             0.5555555555555556,
             "#d8576b"
            ],
            [
             0.6666666666666666,
             "#ed7953"
            ],
            [
             0.7777777777777778,
             "#fb9f3a"
            ],
            [
             0.8888888888888888,
             "#fdca26"
            ],
            [
             1,
             "#f0f921"
            ]
           ]
          },
          "colorway": [
           "#636efa",
           "#EF553B",
           "#00cc96",
           "#ab63fa",
           "#FFA15A",
           "#19d3f3",
           "#FF6692",
           "#B6E880",
           "#FF97FF",
           "#FECB52"
          ],
          "font": {
           "color": "#2a3f5f"
          },
          "geo": {
           "bgcolor": "white",
           "lakecolor": "white",
           "landcolor": "#E5ECF6",
           "showlakes": true,
           "showland": true,
           "subunitcolor": "white"
          },
          "hoverlabel": {
           "align": "left"
          },
          "hovermode": "closest",
          "mapbox": {
           "style": "light"
          },
          "paper_bgcolor": "white",
          "plot_bgcolor": "#E5ECF6",
          "polar": {
           "angularaxis": {
            "gridcolor": "white",
            "linecolor": "white",
            "ticks": ""
           },
           "bgcolor": "#E5ECF6",
           "radialaxis": {
            "gridcolor": "white",
            "linecolor": "white",
            "ticks": ""
           }
          },
          "scene": {
           "xaxis": {
            "backgroundcolor": "#E5ECF6",
            "gridcolor": "white",
            "gridwidth": 2,
            "linecolor": "white",
            "showbackground": true,
            "ticks": "",
            "zerolinecolor": "white"
           },
           "yaxis": {
            "backgroundcolor": "#E5ECF6",
            "gridcolor": "white",
            "gridwidth": 2,
            "linecolor": "white",
            "showbackground": true,
            "ticks": "",
            "zerolinecolor": "white"
           },
           "zaxis": {
            "backgroundcolor": "#E5ECF6",
            "gridcolor": "white",
            "gridwidth": 2,
            "linecolor": "white",
            "showbackground": true,
            "ticks": "",
            "zerolinecolor": "white"
           }
          },
          "shapedefaults": {
           "line": {
            "color": "#2a3f5f"
           }
          },
          "ternary": {
           "aaxis": {
            "gridcolor": "white",
            "linecolor": "white",
            "ticks": ""
           },
           "baxis": {
            "gridcolor": "white",
            "linecolor": "white",
            "ticks": ""
           },
           "bgcolor": "#E5ECF6",
           "caxis": {
            "gridcolor": "white",
            "linecolor": "white",
            "ticks": ""
           }
          },
          "title": {
           "x": 0.05
          },
          "xaxis": {
           "automargin": true,
           "gridcolor": "white",
           "linecolor": "white",
           "ticks": "",
           "title": {
            "standoff": 15
           },
           "zerolinecolor": "white",
           "zerolinewidth": 2
          },
          "yaxis": {
           "automargin": true,
           "gridcolor": "white",
           "linecolor": "white",
           "ticks": "",
           "title": {
            "standoff": 15
           },
           "zerolinecolor": "white",
           "zerolinewidth": 2
          }
         }
        },
        "title": {
         "text": "US Remittance Outflows by Receiving Country (Excluding Kenya)<br><sub>Average Annual Flows (Last 10 Years: 2015-2024) - USD Millions</sub>",
         "x": 0.5
        },
        "width": 1200
       }
      }
     },
     "metadata": {},
     "output_type": "display_data"
    }
   ],
   "source": [
    "# Create choropleth map excluding Kenya\n",
    "fig3 = px.choropleth(\n",
    "    us_flows_no_kenya_sorted,\n",
    "    locations=\"Receiving_Country_Code\",\n",
    "    color=\"Value_Clean\",\n",
    "    hover_name=\"Receiving_Country\",\n",
    "    hover_data={\"Value_Clean\": \":,.2f\", \"Number_of_Years\": True, \"First_Year\": True, \"Last_Year\": True},\n",
    "    color_continuous_scale=\"Blues\",\n",
    "    title=\"US Remittance Outflows by Receiving Country (Excluding Kenya)<br><sub>Average Annual Flows (Last 10 Years: 2015-2024) - USD Millions</sub>\",\n",
    "    labels={\"Value_Clean\": \"Average Annual Remittances (USD Millions)\"}\n",
    ")\n",
    "\n",
    "fig3.update_layout(\n",
    "    width=1200,\n",
    "    height=700,\n",
    "    title_x=0.5,\n",
    "    geo=dict(\n",
    "        projection_type=\"natural earth\",\n",
    "        showframe=False,\n",
    "        showcoastlines=True,\n",
    "    )\n",
    ")\n",
    "\n",
    "fig3.show()"
   ]
  },
  {
   "cell_type": "code",
   "execution_count": 54,
   "id": "3f51c757",
   "metadata": {},
   "outputs": [
    {
     "data": {
      "application/vnd.plotly.v1+json": {
       "config": {
        "plotlyServerURL": "https://plot.ly"
       },
       "data": [
        {
         "lat": [],
         "lon": [],
         "mode": "markers",
         "showlegend": false,
         "type": "scattergeo"
        },
        {
         "lat": [
          39.8283
         ],
         "lon": [
          -98.5795
         ],
         "marker": {
          "color": "blue",
          "size": 15,
          "symbol": "star"
         },
         "mode": "markers+text",
         "name": "Sending Country (US)",
         "showlegend": true,
         "text": [
          "United States"
         ],
         "textposition": "top center",
         "type": "scattergeo"
        },
        {
         "hoverinfo": "none",
         "lat": [
          39.8283,
          12.8797
         ],
         "line": {
          "color": "green",
          "dash": "solid",
          "width": 8
         },
         "lon": [
          -98.5795,
          121.774
         ],
         "mode": "lines",
         "opacity": 0.6,
         "showlegend": false,
         "type": "scattergeo"
        },
        {
         "hovertemplate": "<b>Philippines</b><br>Avg Annual Remittances: $10,709.66M<extra></extra>",
         "lat": [
          12.8797
         ],
         "lon": [
          121.774
         ],
         "marker": {
          "color": "green",
          "line": {
           "color": "darkgreen",
           "width": 1
          },
          "opacity": 0.7,
          "size": 20
         },
         "mode": "markers+text",
         "name": "Philippines",
         "showlegend": false,
         "text": [
          "$10,709.7M"
         ],
         "textposition": "bottom center",
         "type": "scattergeo"
        },
        {
         "hoverinfo": "none",
         "lat": [
          39.8283,
          18.7357
         ],
         "line": {
          "color": "green",
          "dash": "solid",
          "width": 5.752746146666667
         },
         "lon": [
          -98.5795,
          -70.1627
         ],
         "mode": "lines",
         "opacity": 0.6,
         "showlegend": false,
         "type": "scattergeo"
        },
        {
         "hovertemplate": "<b>Dominican Republic</b><br>Avg Annual Remittances: $5,752.75M<extra></extra>",
         "lat": [
          18.7357
         ],
         "lon": [
          -70.1627
         ],
         "marker": {
          "color": "green",
          "line": {
           "color": "darkgreen",
           "width": 1
          },
          "opacity": 0.7,
          "size": 11.505492293333335
         },
         "mode": "markers+text",
         "name": "Dominican Republic",
         "showlegend": false,
         "text": [
          "$5,752.7M"
         ],
         "textposition": "bottom center",
         "type": "scattergeo"
        },
        {
         "hoverinfo": "none",
         "lat": [
          39.8283,
          18.9712
         ],
         "line": {
          "color": "green",
          "dash": "solid",
          "width": 1.6829572393333334
         },
         "lon": [
          -98.5795,
          -72.2852
         ],
         "mode": "lines",
         "opacity": 0.6,
         "showlegend": false,
         "type": "scattergeo"
        },
        {
         "hovertemplate": "<b>Haiti</b><br>Avg Annual Remittances: $1,682.96M<extra></extra>",
         "lat": [
          18.9712
         ],
         "lon": [
          -72.2852
         ],
         "marker": {
          "color": "green",
          "line": {
           "color": "darkgreen",
           "width": 1
          },
          "opacity": 0.7,
          "size": 8
         },
         "mode": "markers+text",
         "name": "Haiti",
         "showlegend": false,
         "text": [
          "$1,683.0M"
         ],
         "textposition": "bottom center",
         "type": "scattergeo"
        },
        {
         "hoverinfo": "none",
         "lat": [
          39.8283,
          18.1096
         ],
         "line": {
          "color": "green",
          "dash": "solid",
          "width": 1.3603245333333331
         },
         "lon": [
          -98.5795,
          -77.2975
         ],
         "mode": "lines",
         "opacity": 0.6,
         "showlegend": false,
         "type": "scattergeo"
        },
        {
         "hovertemplate": "<b>Jamaica</b><br>Avg Annual Remittances: $1,360.32M<extra></extra>",
         "lat": [
          18.1096
         ],
         "lon": [
          -77.2975
         ],
         "marker": {
          "color": "green",
          "line": {
           "color": "darkgreen",
           "width": 1
          },
          "opacity": 0.7,
          "size": 8
         },
         "mode": "markers+text",
         "name": "Jamaica",
         "showlegend": false,
         "text": [
          "$1,360.3M"
         ],
         "textposition": "bottom center",
         "type": "scattergeo"
        },
        {
         "hoverinfo": "none",
         "lat": [
          39.8283,
          -14.235
         ],
         "line": {
          "color": "green",
          "dash": "solid",
          "width": 1.2889333333333335
         },
         "lon": [
          -98.5795,
          -51.9253
         ],
         "mode": "lines",
         "opacity": 0.6,
         "showlegend": false,
         "type": "scattergeo"
        },
        {
         "hovertemplate": "<b>Brazil</b><br>Avg Annual Remittances: $1,288.93M<extra></extra>",
         "lat": [
          -14.235
         ],
         "lon": [
          -51.9253
         ],
         "marker": {
          "color": "green",
          "line": {
           "color": "darkgreen",
           "width": 1
          },
          "opacity": 0.7,
          "size": 8
         },
         "mode": "markers+text",
         "name": "Brazil",
         "showlegend": false,
         "text": [
          "$1,288.9M"
         ],
         "textposition": "bottom center",
         "type": "scattergeo"
        },
        {
         "hoverinfo": "none",
         "lat": [
          39.8283,
          12.265
         ],
         "line": {
          "color": "green",
          "dash": "solid",
          "width": 1
         },
         "lon": [
          -98.5795,
          -85.2072
         ],
         "mode": "lines",
         "opacity": 0.6,
         "showlegend": false,
         "type": "scattergeo"
        },
        {
         "hovertemplate": "<b>Nicaragua</b><br>Avg Annual Remittances: $955.80M<extra></extra>",
         "lat": [
          12.265
         ],
         "lon": [
          -85.2072
         ],
         "marker": {
          "color": "green",
          "line": {
           "color": "darkgreen",
           "width": 1
          },
          "opacity": 0.7,
          "size": 8
         },
         "mode": "markers+text",
         "name": "Nicaragua",
         "showlegend": false,
         "text": [
          "$955.8M"
         ],
         "textposition": "bottom center",
         "type": "scattergeo"
        },
        {
         "hoverinfo": "none",
         "lat": [
          39.8283,
          14.7167
         ],
         "line": {
          "color": "green",
          "dash": "solid",
          "width": 1
         },
         "lon": [
          -98.5795,
          -17.4677
         ],
         "mode": "lines",
         "opacity": 0.6,
         "showlegend": false,
         "type": "scattergeo"
        },
        {
         "hovertemplate": "<b>Senegal</b><br>Avg Annual Remittances: $479.70M<extra></extra>",
         "lat": [
          14.7167
         ],
         "lon": [
          -17.4677
         ],
         "marker": {
          "color": "green",
          "line": {
           "color": "darkgreen",
           "width": 1
          },
          "opacity": 0.7,
          "size": 8
         },
         "mode": "markers+text",
         "name": "Senegal",
         "showlegend": false,
         "text": [
          "$479.7M"
         ],
         "textposition": "bottom center",
         "type": "scattergeo"
        },
        {
         "hoverinfo": "none",
         "lat": [
          39.8283,
          31.7917
         ],
         "line": {
          "color": "green",
          "dash": "solid",
          "width": 1
         },
         "lon": [
          -98.5795,
          -7.0926
         ],
         "mode": "lines",
         "opacity": 0.6,
         "showlegend": false,
         "type": "scattergeo"
        },
        {
         "hovertemplate": "<b>Morocco</b><br>Avg Annual Remittances: $422.39M<extra></extra>",
         "lat": [
          31.7917
         ],
         "lon": [
          -7.0926
         ],
         "marker": {
          "color": "green",
          "line": {
           "color": "darkgreen",
           "width": 1
          },
          "opacity": 0.7,
          "size": 8
         },
         "mode": "markers+text",
         "name": "Morocco",
         "showlegend": false,
         "text": [
          "$422.4M"
         ],
         "textposition": "bottom center",
         "type": "scattergeo"
        },
        {
         "hoverinfo": "none",
         "lat": [
          39.8283,
          9.145
         ],
         "line": {
          "color": "green",
          "dash": "solid",
          "width": 1
         },
         "lon": [
          -98.5795,
          40.4897
         ],
         "mode": "lines",
         "opacity": 0.6,
         "showlegend": false,
         "type": "scattergeo"
        },
        {
         "hovertemplate": "<b>Ethiopia</b><br>Avg Annual Remittances: $387.04M<extra></extra>",
         "lat": [
          9.145
         ],
         "lon": [
          40.4897
         ],
         "marker": {
          "color": "green",
          "line": {
           "color": "darkgreen",
           "width": 1
          },
          "opacity": 0.7,
          "size": 8
         },
         "mode": "markers+text",
         "name": "Ethiopia",
         "showlegend": false,
         "text": [
          "$387.0M"
         ],
         "textposition": "bottom center",
         "type": "scattergeo"
        },
        {
         "hoverinfo": "none",
         "lat": [
          39.8283,
          40.0691
         ],
         "line": {
          "color": "green",
          "dash": "solid",
          "width": 1
         },
         "lon": [
          -98.5795,
          45.0382
         ],
         "mode": "lines",
         "opacity": 0.6,
         "showlegend": false,
         "type": "scattergeo"
        },
        {
         "hovertemplate": "<b>Armenia</b><br>Avg Annual Remittances: $321.20M<extra></extra>",
         "lat": [
          40.0691
         ],
         "lon": [
          45.0382
         ],
         "marker": {
          "color": "green",
          "line": {
           "color": "darkgreen",
           "width": 1
          },
          "opacity": 0.7,
          "size": 8
         },
         "mode": "markers+text",
         "name": "Armenia",
         "showlegend": false,
         "text": [
          "$321.2M"
         ],
         "textposition": "bottom center",
         "type": "scattergeo"
        },
        {
         "hoverinfo": "none",
         "lat": [
          39.8283,
          1.3733
         ],
         "line": {
          "color": "green",
          "dash": "solid",
          "width": 1
         },
         "lon": [
          -98.5795,
          32.2903
         ],
         "mode": "lines",
         "opacity": 0.6,
         "showlegend": false,
         "type": "scattergeo"
        },
        {
         "hovertemplate": "<b>Uganda</b><br>Avg Annual Remittances: $184.50M<extra></extra>",
         "lat": [
          1.3733
         ],
         "lon": [
          32.2903
         ],
         "marker": {
          "color": "green",
          "line": {
           "color": "darkgreen",
           "width": 1
          },
          "opacity": 0.7,
          "size": 8
         },
         "mode": "markers+text",
         "name": "Uganda",
         "showlegend": false,
         "text": [
          "$184.5M"
         ],
         "textposition": "bottom center",
         "type": "scattergeo"
        },
        {
         "hoverinfo": "none",
         "lat": [
          39.8283,
          -23.4425
         ],
         "line": {
          "color": "green",
          "dash": "solid",
          "width": 1
         },
         "lon": [
          -98.5795,
          -58.4438
         ],
         "mode": "lines",
         "opacity": 0.6,
         "showlegend": false,
         "type": "scattergeo"
        },
        {
         "hovertemplate": "<b>Paraguay</b><br>Avg Annual Remittances: $75.86M<extra></extra>",
         "lat": [
          -23.4425
         ],
         "lon": [
          -58.4438
         ],
         "marker": {
          "color": "green",
          "line": {
           "color": "darkgreen",
           "width": 1
          },
          "opacity": 0.7,
          "size": 8
         },
         "mode": "markers+text",
         "name": "Paraguay",
         "showlegend": false,
         "text": [
          "$75.9M"
         ],
         "textposition": "bottom center",
         "type": "scattergeo"
        },
        {
         "hoverinfo": "none",
         "lat": [
          39.8283,
          16.5388
         ],
         "line": {
          "color": "green",
          "dash": "solid",
          "width": 1
         },
         "lon": [
          -98.5795,
          -24.0132
         ],
         "mode": "lines",
         "opacity": 0.6,
         "showlegend": false,
         "type": "scattergeo"
        },
        {
         "hovertemplate": "<b>Cabo Verde</b><br>Avg Annual Remittances: $43.90M<extra></extra>",
         "lat": [
          16.5388
         ],
         "lon": [
          -24.0132
         ],
         "marker": {
          "color": "green",
          "line": {
           "color": "darkgreen",
           "width": 1
          },
          "opacity": 0.7,
          "size": 8
         },
         "mode": "markers+text",
         "name": "Cabo Verde",
         "showlegend": false,
         "text": [
          "$43.9M"
         ],
         "textposition": "bottom center",
         "type": "scattergeo"
        },
        {
         "hoverinfo": "none",
         "lat": [
          39.8283,
          -13.759
         ],
         "line": {
          "color": "green",
          "dash": "solid",
          "width": 1
         },
         "lon": [
          -98.5795,
          -172.1046
         ],
         "mode": "lines",
         "opacity": 0.6,
         "showlegend": false,
         "type": "scattergeo"
        },
        {
         "hovertemplate": "<b>Samoa</b><br>Avg Annual Remittances: $36.29M<extra></extra>",
         "lat": [
          -13.759
         ],
         "lon": [
          -172.1046
         ],
         "marker": {
          "color": "green",
          "line": {
           "color": "darkgreen",
           "width": 1
          },
          "opacity": 0.7,
          "size": 8
         },
         "mode": "markers+text",
         "name": "Samoa",
         "showlegend": false,
         "text": [
          "$36.3M"
         ],
         "textposition": "bottom center",
         "type": "scattergeo"
        },
        {
         "hoverinfo": "none",
         "lat": [
          39.8283,
          41.2044
         ],
         "line": {
          "color": "green",
          "dash": "solid",
          "width": 1
         },
         "lon": [
          -98.5795,
          74.7661
         ],
         "mode": "lines",
         "opacity": 0.6,
         "showlegend": false,
         "type": "scattergeo"
        },
        {
         "hovertemplate": "<b>Kyrgyz Republic</b><br>Avg Annual Remittances: $27.94M<extra></extra>",
         "lat": [
          41.2044
         ],
         "lon": [
          74.7661
         ],
         "marker": {
          "color": "green",
          "line": {
           "color": "darkgreen",
           "width": 1
          },
          "opacity": 0.7,
          "size": 8
         },
         "mode": "markers+text",
         "name": "Kyrgyz Republic",
         "showlegend": false,
         "text": [
          "$27.9M"
         ],
         "textposition": "bottom center",
         "type": "scattergeo"
        },
        {
         "hoverinfo": "none",
         "lat": [
          39.8283,
          30.3753
         ],
         "line": {
          "color": "green",
          "dash": "solid",
          "width": 1
         },
         "lon": [
          -98.5795,
          69.3451
         ],
         "mode": "lines",
         "opacity": 0.6,
         "showlegend": false,
         "type": "scattergeo"
        },
        {
         "hovertemplate": "<b>Pakistan</b><br>Avg Annual Remittances: $18.61M<extra></extra>",
         "lat": [
          30.3753
         ],
         "lon": [
          69.3451
         ],
         "marker": {
          "color": "green",
          "line": {
           "color": "darkgreen",
           "width": 1
          },
          "opacity": 0.7,
          "size": 8
         },
         "mode": "markers+text",
         "name": "Pakistan",
         "showlegend": false,
         "text": [
          "$18.6M"
         ],
         "textposition": "bottom center",
         "type": "scattergeo"
        },
        {
         "hoverinfo": "none",
         "lat": [
          39.8283,
          3.9193
         ],
         "line": {
          "color": "green",
          "dash": "solid",
          "width": 1
         },
         "lon": [
          -98.5795,
          -56.0278
         ],
         "mode": "lines",
         "opacity": 0.6,
         "showlegend": false,
         "type": "scattergeo"
        },
        {
         "hovertemplate": "<b>Suriname</b><br>Avg Annual Remittances: $10.28M<extra></extra>",
         "lat": [
          3.9193
         ],
         "lon": [
          -56.0278
         ],
         "marker": {
          "color": "green",
          "line": {
           "color": "darkgreen",
           "width": 1
          },
          "opacity": 0.7,
          "size": 8
         },
         "mode": "markers+text",
         "name": "Suriname",
         "showlegend": false,
         "text": [
          "$10.3M"
         ],
         "textposition": "bottom center",
         "type": "scattergeo"
        },
        {
         "hoverinfo": "none",
         "lat": [
          39.8283,
          42.3154
         ],
         "line": {
          "color": "green",
          "dash": "solid",
          "width": 1
         },
         "lon": [
          -98.5795,
          43.3569
         ],
         "mode": "lines",
         "opacity": 0.6,
         "showlegend": false,
         "type": "scattergeo"
        },
        {
         "hovertemplate": "<b>Georgia</b><br>Avg Annual Remittances: $0.26M<extra></extra>",
         "lat": [
          42.3154
         ],
         "lon": [
          43.3569
         ],
         "marker": {
          "color": "green",
          "line": {
           "color": "darkgreen",
           "width": 1
          },
          "opacity": 0.7,
          "size": 8
         },
         "mode": "markers+text",
         "name": "Georgia",
         "showlegend": false,
         "text": [
          "$0.3M"
         ],
         "textposition": "bottom center",
         "type": "scattergeo"
        }
       ],
       "layout": {
        "geo": {
         "coastlinecolor": "rgb(204, 204, 204)",
         "countrycolor": "rgb(204, 204, 204)",
         "lakecolor": "rgb(255, 255, 255)",
         "landcolor": "rgb(243, 243, 243)",
         "projection": {
          "type": "natural earth"
         },
         "showcountries": true,
         "showframe": false,
         "showlakes": true,
         "showland": true
        },
        "height": 800,
        "template": {
         "data": {
          "bar": [
           {
            "error_x": {
             "color": "#2a3f5f"
            },
            "error_y": {
             "color": "#2a3f5f"
            },
            "marker": {
             "line": {
              "color": "#E5ECF6",
              "width": 0.5
             },
             "pattern": {
              "fillmode": "overlay",
              "size": 10,
              "solidity": 0.2
             }
            },
            "type": "bar"
           }
          ],
          "barpolar": [
           {
            "marker": {
             "line": {
              "color": "#E5ECF6",
              "width": 0.5
             },
             "pattern": {
              "fillmode": "overlay",
              "size": 10,
              "solidity": 0.2
             }
            },
            "type": "barpolar"
           }
          ],
          "carpet": [
           {
            "aaxis": {
             "endlinecolor": "#2a3f5f",
             "gridcolor": "white",
             "linecolor": "white",
             "minorgridcolor": "white",
             "startlinecolor": "#2a3f5f"
            },
            "baxis": {
             "endlinecolor": "#2a3f5f",
             "gridcolor": "white",
             "linecolor": "white",
             "minorgridcolor": "white",
             "startlinecolor": "#2a3f5f"
            },
            "type": "carpet"
           }
          ],
          "choropleth": [
           {
            "colorbar": {
             "outlinewidth": 0,
             "ticks": ""
            },
            "type": "choropleth"
           }
          ],
          "contour": [
           {
            "colorbar": {
             "outlinewidth": 0,
             "ticks": ""
            },
            "colorscale": [
             [
              0,
              "#0d0887"
             ],
             [
              0.1111111111111111,
              "#46039f"
             ],
             [
              0.2222222222222222,
              "#7201a8"
             ],
             [
              0.3333333333333333,
              "#9c179e"
             ],
             [
              0.4444444444444444,
              "#bd3786"
             ],
             [
              0.5555555555555556,
              "#d8576b"
             ],
             [
              0.6666666666666666,
              "#ed7953"
             ],
             [
              0.7777777777777778,
              "#fb9f3a"
             ],
             [
              0.8888888888888888,
              "#fdca26"
             ],
             [
              1,
              "#f0f921"
             ]
            ],
            "type": "contour"
           }
          ],
          "contourcarpet": [
           {
            "colorbar": {
             "outlinewidth": 0,
             "ticks": ""
            },
            "type": "contourcarpet"
           }
          ],
          "heatmap": [
           {
            "colorbar": {
             "outlinewidth": 0,
             "ticks": ""
            },
            "colorscale": [
             [
              0,
              "#0d0887"
             ],
             [
              0.1111111111111111,
              "#46039f"
             ],
             [
              0.2222222222222222,
              "#7201a8"
             ],
             [
              0.3333333333333333,
              "#9c179e"
             ],
             [
              0.4444444444444444,
              "#bd3786"
             ],
             [
              0.5555555555555556,
              "#d8576b"
             ],
             [
              0.6666666666666666,
              "#ed7953"
             ],
             [
              0.7777777777777778,
              "#fb9f3a"
             ],
             [
              0.8888888888888888,
              "#fdca26"
             ],
             [
              1,
              "#f0f921"
             ]
            ],
            "type": "heatmap"
           }
          ],
          "histogram": [
           {
            "marker": {
             "pattern": {
              "fillmode": "overlay",
              "size": 10,
              "solidity": 0.2
             }
            },
            "type": "histogram"
           }
          ],
          "histogram2d": [
           {
            "colorbar": {
             "outlinewidth": 0,
             "ticks": ""
            },
            "colorscale": [
             [
              0,
              "#0d0887"
             ],
             [
              0.1111111111111111,
              "#46039f"
             ],
             [
              0.2222222222222222,
              "#7201a8"
             ],
             [
              0.3333333333333333,
              "#9c179e"
             ],
             [
              0.4444444444444444,
              "#bd3786"
             ],
             [
              0.5555555555555556,
              "#d8576b"
             ],
             [
              0.6666666666666666,
              "#ed7953"
             ],
             [
              0.7777777777777778,
              "#fb9f3a"
             ],
             [
              0.8888888888888888,
              "#fdca26"
             ],
             [
              1,
              "#f0f921"
             ]
            ],
            "type": "histogram2d"
           }
          ],
          "histogram2dcontour": [
           {
            "colorbar": {
             "outlinewidth": 0,
             "ticks": ""
            },
            "colorscale": [
             [
              0,
              "#0d0887"
             ],
             [
              0.1111111111111111,
              "#46039f"
             ],
             [
              0.2222222222222222,
              "#7201a8"
             ],
             [
              0.3333333333333333,
              "#9c179e"
             ],
             [
              0.4444444444444444,
              "#bd3786"
             ],
             [
              0.5555555555555556,
              "#d8576b"
             ],
             [
              0.6666666666666666,
              "#ed7953"
             ],
             [
              0.7777777777777778,
              "#fb9f3a"
             ],
             [
              0.8888888888888888,
              "#fdca26"
             ],
             [
              1,
              "#f0f921"
             ]
            ],
            "type": "histogram2dcontour"
           }
          ],
          "mesh3d": [
           {
            "colorbar": {
             "outlinewidth": 0,
             "ticks": ""
            },
            "type": "mesh3d"
           }
          ],
          "parcoords": [
           {
            "line": {
             "colorbar": {
              "outlinewidth": 0,
              "ticks": ""
             }
            },
            "type": "parcoords"
           }
          ],
          "pie": [
           {
            "automargin": true,
            "type": "pie"
           }
          ],
          "scatter": [
           {
            "fillpattern": {
             "fillmode": "overlay",
             "size": 10,
             "solidity": 0.2
            },
            "type": "scatter"
           }
          ],
          "scatter3d": [
           {
            "line": {
             "colorbar": {
              "outlinewidth": 0,
              "ticks": ""
             }
            },
            "marker": {
             "colorbar": {
              "outlinewidth": 0,
              "ticks": ""
             }
            },
            "type": "scatter3d"
           }
          ],
          "scattercarpet": [
           {
            "marker": {
             "colorbar": {
              "outlinewidth": 0,
              "ticks": ""
             }
            },
            "type": "scattercarpet"
           }
          ],
          "scattergeo": [
           {
            "marker": {
             "colorbar": {
              "outlinewidth": 0,
              "ticks": ""
             }
            },
            "type": "scattergeo"
           }
          ],
          "scattergl": [
           {
            "marker": {
             "colorbar": {
              "outlinewidth": 0,
              "ticks": ""
             }
            },
            "type": "scattergl"
           }
          ],
          "scattermap": [
           {
            "marker": {
             "colorbar": {
              "outlinewidth": 0,
              "ticks": ""
             }
            },
            "type": "scattermap"
           }
          ],
          "scattermapbox": [
           {
            "marker": {
             "colorbar": {
              "outlinewidth": 0,
              "ticks": ""
             }
            },
            "type": "scattermapbox"
           }
          ],
          "scatterpolar": [
           {
            "marker": {
             "colorbar": {
              "outlinewidth": 0,
              "ticks": ""
             }
            },
            "type": "scatterpolar"
           }
          ],
          "scatterpolargl": [
           {
            "marker": {
             "colorbar": {
              "outlinewidth": 0,
              "ticks": ""
             }
            },
            "type": "scatterpolargl"
           }
          ],
          "scatterternary": [
           {
            "marker": {
             "colorbar": {
              "outlinewidth": 0,
              "ticks": ""
             }
            },
            "type": "scatterternary"
           }
          ],
          "surface": [
           {
            "colorbar": {
             "outlinewidth": 0,
             "ticks": ""
            },
            "colorscale": [
             [
              0,
              "#0d0887"
             ],
             [
              0.1111111111111111,
              "#46039f"
             ],
             [
              0.2222222222222222,
              "#7201a8"
             ],
             [
              0.3333333333333333,
              "#9c179e"
             ],
             [
              0.4444444444444444,
              "#bd3786"
             ],
             [
              0.5555555555555556,
              "#d8576b"
             ],
             [
              0.6666666666666666,
              "#ed7953"
             ],
             [
              0.7777777777777778,
              "#fb9f3a"
             ],
             [
              0.8888888888888888,
              "#fdca26"
             ],
             [
              1,
              "#f0f921"
             ]
            ],
            "type": "surface"
           }
          ],
          "table": [
           {
            "cells": {
             "fill": {
              "color": "#EBF0F8"
             },
             "line": {
              "color": "white"
             }
            },
            "header": {
             "fill": {
              "color": "#C8D4E3"
             },
             "line": {
              "color": "white"
             }
            },
            "type": "table"
           }
          ]
         },
         "layout": {
          "annotationdefaults": {
           "arrowcolor": "#2a3f5f",
           "arrowhead": 0,
           "arrowwidth": 1
          },
          "autotypenumbers": "strict",
          "coloraxis": {
           "colorbar": {
            "outlinewidth": 0,
            "ticks": ""
           }
          },
          "colorscale": {
           "diverging": [
            [
             0,
             "#8e0152"
            ],
            [
             0.1,
             "#c51b7d"
            ],
            [
             0.2,
             "#de77ae"
            ],
            [
             0.3,
             "#f1b6da"
            ],
            [
             0.4,
             "#fde0ef"
            ],
            [
             0.5,
             "#f7f7f7"
            ],
            [
             0.6,
             "#e6f5d0"
            ],
            [
             0.7,
             "#b8e186"
            ],
            [
             0.8,
             "#7fbc41"
            ],
            [
             0.9,
             "#4d9221"
            ],
            [
             1,
             "#276419"
            ]
           ],
           "sequential": [
            [
             0,
             "#0d0887"
            ],
            [
             0.1111111111111111,
             "#46039f"
            ],
            [
             0.2222222222222222,
             "#7201a8"
            ],
            [
             0.3333333333333333,
             "#9c179e"
            ],
            [
             0.4444444444444444,
             "#bd3786"
            ],
            [
             0.5555555555555556,
             "#d8576b"
            ],
            [
             0.6666666666666666,
             "#ed7953"
            ],
            [
             0.7777777777777778,
             "#fb9f3a"
            ],
            [
             0.8888888888888888,
             "#fdca26"
            ],
            [
             1,
             "#f0f921"
            ]
           ],
           "sequentialminus": [
            [
             0,
             "#0d0887"
            ],
            [
             0.1111111111111111,
             "#46039f"
            ],
            [
             0.2222222222222222,
             "#7201a8"
            ],
            [
             0.3333333333333333,
             "#9c179e"
            ],
            [
             0.4444444444444444,
             "#bd3786"
            ],
            [
             0.5555555555555556,
             "#d8576b"
            ],
            [
             0.6666666666666666,
             "#ed7953"
            ],
            [
             0.7777777777777778,
             "#fb9f3a"
            ],
            [
             0.8888888888888888,
             "#fdca26"
            ],
            [
             1,
             "#f0f921"
            ]
           ]
          },
          "colorway": [
           "#636efa",
           "#EF553B",
           "#00cc96",
           "#ab63fa",
           "#FFA15A",
           "#19d3f3",
           "#FF6692",
           "#B6E880",
           "#FF97FF",
           "#FECB52"
          ],
          "font": {
           "color": "#2a3f5f"
          },
          "geo": {
           "bgcolor": "white",
           "lakecolor": "white",
           "landcolor": "#E5ECF6",
           "showlakes": true,
           "showland": true,
           "subunitcolor": "white"
          },
          "hoverlabel": {
           "align": "left"
          },
          "hovermode": "closest",
          "mapbox": {
           "style": "light"
          },
          "paper_bgcolor": "white",
          "plot_bgcolor": "#E5ECF6",
          "polar": {
           "angularaxis": {
            "gridcolor": "white",
            "linecolor": "white",
            "ticks": ""
           },
           "bgcolor": "#E5ECF6",
           "radialaxis": {
            "gridcolor": "white",
            "linecolor": "white",
            "ticks": ""
           }
          },
          "scene": {
           "xaxis": {
            "backgroundcolor": "#E5ECF6",
            "gridcolor": "white",
            "gridwidth": 2,
            "linecolor": "white",
            "showbackground": true,
            "ticks": "",
            "zerolinecolor": "white"
           },
           "yaxis": {
            "backgroundcolor": "#E5ECF6",
            "gridcolor": "white",
            "gridwidth": 2,
            "linecolor": "white",
            "showbackground": true,
            "ticks": "",
            "zerolinecolor": "white"
           },
           "zaxis": {
            "backgroundcolor": "#E5ECF6",
            "gridcolor": "white",
            "gridwidth": 2,
            "linecolor": "white",
            "showbackground": true,
            "ticks": "",
            "zerolinecolor": "white"
           }
          },
          "shapedefaults": {
           "line": {
            "color": "#2a3f5f"
           }
          },
          "ternary": {
           "aaxis": {
            "gridcolor": "white",
            "linecolor": "white",
            "ticks": ""
           },
           "baxis": {
            "gridcolor": "white",
            "linecolor": "white",
            "ticks": ""
           },
           "bgcolor": "#E5ECF6",
           "caxis": {
            "gridcolor": "white",
            "linecolor": "white",
            "ticks": ""
           }
          },
          "title": {
           "x": 0.05
          },
          "xaxis": {
           "automargin": true,
           "gridcolor": "white",
           "linecolor": "white",
           "ticks": "",
           "title": {
            "standoff": 15
           },
           "zerolinecolor": "white",
           "zerolinewidth": 2
          },
          "yaxis": {
           "automargin": true,
           "gridcolor": "white",
           "linecolor": "white",
           "ticks": "",
           "title": {
            "standoff": 15
           },
           "zerolinecolor": "white",
           "zerolinewidth": 2
          }
         }
        },
        "title": {
         "text": "US Remittance Outflows: Flow Map (Excluding Kenya)<br><sub>Average annual flows from United States to receiving countries (Last 10 Years: 2015-2024)<br>Line thickness and marker size represent average flow volume (USD Millions)</sub>",
         "x": 0.5
        },
        "width": 1400
       }
      }
     },
     "metadata": {},
     "output_type": "display_data"
    }
   ],
   "source": [
    "# Create flow map excluding Kenya\n",
    "fig4 = go.Figure()\n",
    "\n",
    "# Add base world map\n",
    "fig4.add_trace(go.Scattergeo(\n",
    "    lon=[],\n",
    "    lat=[],\n",
    "    mode='markers',\n",
    "    showlegend=False\n",
    "))\n",
    "\n",
    "# Add US marker\n",
    "fig4.add_trace(go.Scattergeo(\n",
    "    lon=[us_coords[1]],\n",
    "    lat=[us_coords[0]],\n",
    "    mode='markers+text',\n",
    "    marker=dict(size=15, color='blue', symbol='star'),\n",
    "    text=['United States'],\n",
    "    textposition='top center',\n",
    "    name='Sending Country (US)',\n",
    "    showlegend=True\n",
    "))\n",
    "\n",
    "# Add receiving country markers and flow lines (excluding Kenya)\n",
    "for idx, row in us_flows_no_kenya_sorted.iterrows():\n",
    "    country = row['Receiving_Country']\n",
    "    value = row['Value_Clean']\n",
    "    \n",
    "    if country in country_coords:\n",
    "        country_lat, country_lon = country_coords[country]\n",
    "        \n",
    "        # Add flow line\n",
    "        fig4.add_trace(go.Scattergeo(\n",
    "            lon=[us_coords[1], country_lon],\n",
    "            lat=[us_coords[0], country_lat],\n",
    "            mode='lines',\n",
    "            line=dict(width=max(1, min(8, value/1000)), color='green', dash='solid'),\n",
    "            opacity=0.6,\n",
    "            showlegend=False,\n",
    "            hoverinfo='none'\n",
    "        ))\n",
    "        \n",
    "        # Add receiving country marker\n",
    "        fig4.add_trace(go.Scattergeo(\n",
    "            lon=[country_lon],\n",
    "            lat=[country_lat],\n",
    "            mode='markers+text',\n",
    "            marker=dict(\n",
    "                size=max(8, min(20, value/500)), \n",
    "                color='green',\n",
    "                opacity=0.7,\n",
    "                line=dict(width=1, color='darkgreen')\n",
    "            ),\n",
    "            text=[f'${value:,.1f}M'],\n",
    "            textposition='bottom center',\n",
    "            name=f'{country}',\n",
    "            showlegend=False,\n",
    "            hovertemplate=f'<b>{country}</b><br>Avg Annual Remittances: ${value:,.2f}M<extra></extra>'\n",
    "        ))\n",
    "\n",
    "fig4.update_layout(\n",
    "    title='US Remittance Outflows: Flow Map (Excluding Kenya)<br><sub>Average annual flows from United States to receiving countries (Last 10 Years: 2015-2024)<br>Line thickness and marker size represent average flow volume (USD Millions)</sub>',\n",
    "    title_x=0.5,\n",
    "    width=1400,\n",
    "    height=800,\n",
    "    geo=dict(\n",
    "        projection_type='natural earth',\n",
    "        showland=True,\n",
    "        landcolor='rgb(243, 243, 243)',\n",
    "        coastlinecolor='rgb(204, 204, 204)',\n",
    "        showframe=False,\n",
    "        showlakes=True,\n",
    "        lakecolor='rgb(255, 255, 255)',\n",
    "        showcountries=True,\n",
    "        countrycolor='rgb(204, 204, 204)'\n",
    "    )\n",
    ")\n",
    "\n",
    "fig4.show()"
   ]
  },
  {
   "cell_type": "code",
   "execution_count": 61,
   "id": "20a6b849",
   "metadata": {},
   "outputs": [
    {
     "name": "stdout",
     "output_type": "stream",
     "text": [
      "COMPARATIVE ANALYSIS: WITH vs WITHOUT KENYA\n",
      "============================================================\n",
      "With Kenya:\n",
      "  - Total countries: 19\n",
      "  - Total avg annual remittances: $2,661,530.68M USD\n",
      "  - Kenya's share: 99.11%\n",
      "\n",
      "Without Kenya:\n",
      "  - Total countries: 18\n",
      "  - Total avg annual remittances: $23,758.41M USD\n",
      "  - Top country (Philippines) share: 45.08%\n",
      "\n",
      "Key Insights:\n",
      "- Kenya receives 111.0x more than all other countries combined\n",
      "- Without Kenya, Philippines becomes the dominant recipient\n",
      "- The remaining 18 countries represent a more balanced distribution\n"
     ]
    },
    {
     "data": {
      "image/png": "[encoded data removed]",
      "text/plain": [
       "<Figure size 1500x600 with 2 Axes>"
      ]
     },
     "metadata": {},
     "output_type": "display_data"
    }
   ],
   "source": [
    "# Comparative analysis: With vs Without Kenya\n",
    "print(\"COMPARATIVE ANALYSIS: WITH vs WITHOUT KENYA\")\n",
    "print(\"=\" * 60)\n",
    "print(f\"With Kenya:\")\n",
    "print(f\"  - Total countries: {len(us_flows_agg)}\")\n",
    "print(f\"  - Total avg annual remittances: ${us_flows_agg['Value_Clean'].sum():,.2f}M USD\")\n",
    "print(f\"  - Kenya's share: {(us_flows_agg[us_flows_agg['Receiving_Country']=='Kenya']['Value_Clean'].iloc[0]/us_flows_agg['Value_Clean'].sum()*100):.2f}%\")\n",
    "\n",
    "print(f\"\\nWithout Kenya:\")\n",
    "print(f\"  - Total countries: {len(us_flows_no_kenya_sorted)}\")\n",
    "print(f\"  - Total avg annual remittances: ${us_flows_no_kenya_sorted['Value_Clean'].sum():,.2f}M USD\")\n",
    "print(f\"  - Top country (Philippines) share: {us_flows_no_kenya_sorted.iloc[0]['Percentage']:.2f}%\")\n",
    "\n",
    "print(f\"\\nKey Insights:\")\n",
    "print(f\"- Kenya receives {(us_flows_agg[us_flows_agg['Receiving_Country']=='Kenya']['Value_Clean'].iloc[0]/us_flows_no_kenya_sorted['Value_Clean'].sum()):.1f}x more than all other countries combined\")\n",
    "print(f\"- Without Kenya, Philippines becomes the dominant recipient\")\n",
    "print(f\"- The remaining 18 countries represent a more balanced distribution\")\n",
    "\n",
    "# Create a comparison chart\n",
    "import matplotlib.pyplot as plt\n",
    "from matplotlib.ticker import FuncFormatter\n",
    "\n",
    "# Top 5 countries excluding Kenya for comparison\n",
    "top_5_no_kenya = us_flows_no_kenya_sorted.head(5)\n",
    "\n",
    "fig, (ax1, ax2) = plt.subplots(1, 2, figsize=(15, 6))\n",
    "\n",
    "# Custom formatter to display values correctly in trillions/billions/millions\n",
    "def format_large_values(x, pos):\n",
    "    if x >= 1000000:\n",
    "        return f'${x/1000000:.2f}T'  # Trillions\n",
    "    elif x >= 1000:\n",
    "        return f'${x/1000:.1f}B'     # Billions\n",
    "    else:\n",
    "        return f'${x:.0f}M'          # Millions\n",
    "\n",
    "def format_smaller_values(x, pos):\n",
    "    if x >= 1000:\n",
    "        return f'${x/1000:.1f}B'     # Billions\n",
    "    else:\n",
    "        return f'${x:.0f}M'          # Millions\n",
    "\n",
    "# Plot 1: Top countries including Kenya\n",
    "top_with_kenya = us_flows_agg.sort_values('Value_Clean', ascending=False).head(6)\n",
    "bars1 = ax1.bar(range(len(top_with_kenya)), top_with_kenya['Value_Clean'], color='steelblue')\n",
    "ax1.set_title('Top Countries Including Kenya', fontsize=14, fontweight='bold')\n",
    "ax1.set_ylabel('Average Annual Remittances', fontsize=12)\n",
    "ax1.set_xticks(range(len(top_with_kenya)))\n",
    "ax1.set_xticklabels(top_with_kenya['Receiving_Country'], rotation=45, ha='right')\n",
    "ax1.yaxis.set_major_formatter(FuncFormatter(format_large_values))\n",
    "\n",
    "# Add value labels on bars\n",
    "for i, bar in enumerate(bars1):\n",
    "    height = bar.get_height()\n",
    "    if height >= 1000000:\n",
    "        label = f'${height/1000000:.2f}T'  # Trillions\n",
    "    elif height >= 1000:\n",
    "        label = f'${height/1000:.1f}B'     # Billions\n",
    "    else:\n",
    "        label = f'${height:.0f}M'          # Millions\n",
    "    ax1.text(bar.get_x() + bar.get_width()/2., height + max(top_with_kenya['Value_Clean'])*0.01,\n",
    "             label, ha='center', va='bottom', fontsize=9)\n",
    "\n",
    "# Plot 2: Top countries excluding Kenya\n",
    "bars2 = ax2.bar(range(len(top_5_no_kenya)), top_5_no_kenya['Value_Clean'], color='darkgreen')\n",
    "ax2.set_title('Top Countries Excluding Kenya', fontsize=14, fontweight='bold')\n",
    "ax2.set_ylabel('Average Annual Remittances', fontsize=12)\n",
    "ax2.set_xticks(range(len(top_5_no_kenya)))\n",
    "ax2.set_xticklabels(top_5_no_kenya['Receiving_Country'], rotation=45, ha='right')\n",
    "ax2.yaxis.set_major_formatter(FuncFormatter(format_smaller_values))\n",
    "\n",
    "# Add value labels on bars\n",
    "for i, bar in enumerate(bars2):\n",
    "    height = bar.get_height()\n",
    "    if height >= 1000:\n",
    "        label = f'${height/1000:.1f}B'     # Billions\n",
    "    else:\n",
    "        label = f'${height:.0f}M'          # Millions\n",
    "    ax2.text(bar.get_x() + bar.get_width()/2., height + max(top_5_no_kenya['Value_Clean'])*0.02,\n",
    "             label, ha='center', va='bottom', fontsize=9)\n",
    "\n",
    "plt.tight_layout()\n",
    "plt.show()"
   ]
  },
  {
   "cell_type": "code",
   "execution_count": 57,
   "id": "5a40bb11",
   "metadata": {},
   "outputs": [
    {
     "name": "stdout",
     "output_type": "stream",
     "text": [
      "Installing nbconvert...\n",
      "✓ nbconvert installed successfully!\n",
      "Exporting notebook to HTML...\n",
      "✓ Successfully exported notebook to HTML!\n",
      "HTML file saved as: C:\\Users\\clint\\Desktop\\RER\\Code\\22.html\n",
      "File size: 519,767 bytes\n"
     ]
    }
   ],
   "source": [
    "# Install nbconvert and export notebook to HTML\n",
    "import subprocess\n",
    "import sys\n",
    "import os\n",
    "\n",
    "# First, install nbconvert\n",
    "try:\n",
    "    print(\"Installing nbconvert...\")\n",
    "    subprocess.check_call([sys.executable, '-m', 'pip', 'install', 'nbconvert'])\n",
    "    print(\"✓ nbconvert installed successfully!\")\n",
    "except Exception as e:\n",
    "    print(f\"Failed to install nbconvert: {e}\")\n",
    "\n",
    "# Now try to export\n",
    "notebook_path = r'C:\\Users\\clint\\Desktop\\RER\\Code\\22.ipynb'\n",
    "html_path = r'C:\\Users\\clint\\Desktop\\RER\\Code\\22.html'\n",
    "\n",
    "try:\n",
    "    import nbformat\n",
    "    from nbconvert import HTMLExporter\n",
    "    \n",
    "    print(\"Exporting notebook to HTML...\")\n",
    "    \n",
    "    # Read the notebook\n",
    "    with open(notebook_path, 'r', encoding='utf-8') as f:\n",
    "        nb = nbformat.read(f, as_version=4)\n",
    "    \n",
    "    # Create HTML exporter\n",
    "    html_exporter = HTMLExporter()\n",
    "    html_exporter.template_name = 'classic'\n",
    "    \n",
    "    # Convert notebook to HTML\n",
    "    (body, resources) = html_exporter.from_notebook_node(nb)\n",
    "    \n",
    "    # Write HTML file\n",
    "    with open(html_path, 'w', encoding='utf-8') as f:\n",
    "        f.write(body)\n",
    "    \n",
    "    print(\"✓ Successfully exported notebook to HTML!\")\n",
    "    print(f\"HTML file saved as: {html_path}\")\n",
    "    \n",
    "    if os.path.exists(html_path):\n",
    "        file_size = os.path.getsize(html_path)\n",
    "        print(f\"File size: {file_size:,} bytes\")\n",
    "        \n",
    "except Exception as e:\n",
    "    print(f\"Failed to export: {e}\")\n",
    "    print(\"Trying manual HTML generation...\")\n",
    "    \n",
    "    # Manual HTML generation as fallback\n",
    "    try:\n",
    "        html_content = \"\"\"\n",
    "<!DOCTYPE html>\n",
    "<html>\n",
    "<head>\n",
    "    <title>US Remittance Outflows Analysis</title>\n",
    "    <meta charset=\"utf-8\">\n",
    "    <style>\n",
    "        body { font-family: Arial, sans-serif; margin: 40px; }\n",
    "        h1 { color: #2E86AB; }\n",
    "        h2 { color: #A23B72; }\n",
    "        .code { background-color: #f5f5f5; padding: 10px; border-left: 3px solid #2E86AB; }\n",
    "        .output { background-color: #f9f9f9; padding: 10px; margin: 10px 0; }\n",
    "    </style>\n",
    "</head>\n",
    "<body>\n",
    "    <h1>US Remittance Outflows Analysis</h1>\n",
    "    <p>This analysis examines remittance flows from the United States to receiving countries, \n",
    "    showing both the complete analysis and a version excluding Kenya to reveal more balanced patterns.</p>\n",
    "    \n",
    "    <h2>Key Findings:</h2>\n",
    "    <ul>\n",
    "        <li><strong>Total Recipients:</strong> 19 countries receive remittances from the US</li>\n",
    "        <li><strong>Time Period:</strong> Analysis covers 2015-2024 (data available for 2018-2024)</li>\n",
    "        <li><strong>Kenya Dominance:</strong> Kenya receives 99.11% of total flows ($2.64 billion annually)</li>\n",
    "        <li><strong>Without Kenya:</strong> Philippines leads with $10.71 billion (45.08% of remaining flows)</li>\n",
    "    </ul>\n",
    "    \n",
    "    <h2>Interactive Maps Generated:</h2>\n",
    "    <ol>\n",
    "        <li>Choropleth map showing all countries (including Kenya)</li>\n",
    "        <li>Flow map with lines from US to all receiving countries</li>\n",
    "        <li>Choropleth map excluding Kenya (reveals more balanced distribution)</li>\n",
    "        <li>Flow map excluding Kenya (shows proportional flows)</li>\n",
    "    </ol>\n",
    "    \n",
    "    <p><em>Note: This is a simplified HTML export. For full interactive visualizations, \n",
    "    please run the Jupyter notebook directly.</em></p>\n",
    "    \n",
    "    <p><strong>Generated on:</strong> \"\"\" + str(pd.Timestamp.now()) + \"\"\"</p>\n",
    "</body>\n",
    "</html>\n",
    "        \"\"\"\n",
    "        \n",
    "        with open(html_path, 'w', encoding='utf-8') as f:\n",
    "            f.write(html_content)\n",
    "        \n",
    "        print(\"✓ Created basic HTML summary!\")\n",
    "        print(f\"HTML file saved as: {html_path}\")\n",
    "        \n",
    "        if os.path.exists(html_path):\n",
    "            file_size = os.path.getsize(html_path)\n",
    "            print(f\"File size: {file_size:,} bytes\")\n",
    "            \n",
    "    except Exception as final_e:\n",
    "        print(f\"All methods failed: {final_e}\")"
   ]
  },
  {
   "cell_type": "code",
   "execution_count": 58,
   "id": "9f6ffdb9",
   "metadata": {},
   "outputs": [
    {
     "name": "stdout",
     "output_type": "stream",
     "text": [
      "✓ Successfully exported flow map to HTML!\n",
      "Flow map HTML file saved as: C:\\Users\\clint\\Desktop\\RER\\Code\\22_flow_map_no_kenya.html\n",
      "File size: 4,676,985 bytes\n",
      "The map is fully interactive and can be opened in any web browser.\n",
      "Features included:\n",
      "  ✓ Interactive zoom and pan\n",
      "  ✓ Hover information for each country\n",
      "  ✓ Toolbar for downloading as PNG\n",
      "  ✓ Standalone file (no internet required)\n"
     ]
    }
   ],
   "source": [
    "# Save only the flow map (fig4) excluding Kenya as HTML\n",
    "import plotly.offline as pyo\n",
    "import os\n",
    "\n",
    "# Define the output path for the flow map HTML\n",
    "flow_map_html_path = r'C:\\Users\\clint\\Desktop\\RER\\Code\\22_flow_map_no_kenya.html'\n",
    "\n",
    "try:\n",
    "    # Save the flow map as standalone HTML\n",
    "    fig4.write_html(flow_map_html_path, \n",
    "                   include_plotlyjs=True,  # Include Plotly.js for standalone functionality\n",
    "                   config={'displayModeBar': True,  # Show the toolbar\n",
    "                          'toImageButtonOptions': {\n",
    "                              'format': 'png',\n",
    "                              'filename': 'us_remittance_flows_no_kenya',\n",
    "                              'height': 800,\n",
    "                              'width': 1400,\n",
    "                              'scale': 2\n",
    "                          }})\n",
    "    \n",
    "    print(\"✓ Successfully exported flow map to HTML!\")\n",
    "    print(f\"Flow map HTML file saved as: {flow_map_html_path}\")\n",
    "    \n",
    "    # Check file details\n",
    "    if os.path.exists(flow_map_html_path):\n",
    "        file_size = os.path.getsize(flow_map_html_path)\n",
    "        print(f\"File size: {file_size:,} bytes\")\n",
    "        print(f\"The map is fully interactive and can be opened in any web browser.\")\n",
    "        print(f\"Features included:\")\n",
    "        print(f\"  ✓ Interactive zoom and pan\")\n",
    "        print(f\"  ✓ Hover information for each country\")\n",
    "        print(f\"  ✓ Toolbar for downloading as PNG\")\n",
    "        print(f\"  ✓ Standalone file (no internet required)\")\n",
    "    else:\n",
    "        print(\"❌ File was not created successfully\")\n",
    "        \n",
    "except Exception as e:\n",
    "    print(f\"❌ Failed to export flow map: {e}\")\n",
    "    \n",
    "    # Alternative method using plotly offline\n",
    "    try:\n",
    "        print(\"Trying alternative export method...\")\n",
    "        \n",
    "        # Generate HTML content\n",
    "        html_content = pyo.plot(fig4, \n",
    "                               output_type='div', \n",
    "                               include_plotlyjs=True,\n",
    "                               div_id='flow_map_div')\n",
    "        \n",
    "        # Wrap in complete HTML document\n",
    "        full_html = f\"\"\"\n",
    "<!DOCTYPE html>\n",
    "<html>\n",
    "<head>\n",
    "    <title>US Remittance Outflows - Flow Map (Excluding Kenya)</title>\n",
    "    <meta charset=\"utf-8\">\n",
    "    <style>\n",
    "        body {{ \n",
    "            font-family: Arial, sans-serif; \n",
    "            margin: 0; \n",
    "            padding: 20px;\n",
    "            background-color: #f8f9fa;\n",
    "        }}\n",
    "        .header {{\n",
    "            text-align: center;\n",
    "            margin-bottom: 20px;\n",
    "            background-color: white;\n",
    "            padding: 20px;\n",
    "            border-radius: 8px;\n",
    "            box-shadow: 0 2px 4px rgba(0,0,0,0.1);\n",
    "        }}\n",
    "        h1 {{ \n",
    "            color: #2E86AB; \n",
    "            margin: 0;\n",
    "        }}\n",
    "        .description {{\n",
    "            color: #666;\n",
    "            margin-top: 10px;\n",
    "            font-size: 14px;\n",
    "        }}\n",
    "        #flow_map_div {{\n",
    "            background-color: white;\n",
    "            border-radius: 8px;\n",
    "            box-shadow: 0 2px 4px rgba(0,0,0,0.1);\n",
    "            padding: 20px;\n",
    "        }}\n",
    "    </style>\n",
    "</head>\n",
    "<body>\n",
    "    <div class=\"header\">\n",
    "        <h1>US Remittance Outflows: Flow Map (Excluding Kenya)</h1>\n",
    "        <p class=\"description\">\n",
    "            Interactive map showing average annual remittance flows from the United States \n",
    "            to receiving countries (2015-2024, excluding Kenya for better visualization of remaining flows)\n",
    "        </p>\n",
    "    </div>\n",
    "    {html_content}\n",
    "</body>\n",
    "</html>\n",
    "        \"\"\"\n",
    "        \n",
    "        # Save the complete HTML\n",
    "        with open(flow_map_html_path, 'w', encoding='utf-8') as f:\n",
    "            f.write(full_html)\n",
    "        \n",
    "        print(\"✓ Successfully exported using alternative method!\")\n",
    "        print(f\"Flow map HTML file saved as: {flow_map_html_path}\")\n",
    "        \n",
    "        if os.path.exists(flow_map_html_path):\n",
    "            file_size = os.path.getsize(flow_map_html_path)\n",
    "            print(f\"File size: {file_size:,} bytes\")\n",
    "            \n",
    "    except Exception as alt_e:\n",
    "        print(f\"❌ Alternative method also failed: {alt_e}\")"
   ]
  },
  {
   "cell_type": "code",
   "execution_count": 60,
   "id": "147d47f7",
   "metadata": {},
   "outputs": [
    {
     "name": "stdout",
     "output_type": "stream",
     "text": [
      "CHECKING KENYA'S ACTUAL VALUE:\n",
      "========================================\n",
      "Kenya raw value: 2,637,772.27\n",
      "Since data is in 'USD millions', Kenya receives:\n",
      "$2,637,772.27 Million USD = $2,637.77 Billion USD = $2.638 Trillion USD\n",
      "\n",
      "✓ CORRECT: Kenya receives $2.64 TRILLION USD annually\n"
     ]
    }
   ],
   "source": [
    "# Check the actual Kenya value to verify if it's in trillions\n",
    "print(\"CHECKING KENYA'S ACTUAL VALUE:\")\n",
    "print(\"=\" * 40)\n",
    "kenya_data = us_flows_agg[us_flows_agg['Receiving_Country'] == 'Kenya']\n",
    "if not kenya_data.empty:\n",
    "    kenya_value = kenya_data['Value_Clean'].iloc[0]\n",
    "    print(f\"Kenya raw value: {kenya_value:,.2f}\")\n",
    "    print(f\"Since data is in 'USD millions', Kenya receives:\")\n",
    "    print(f\"${kenya_value:,.2f} Million USD = ${kenya_value/1000:,.2f} Billion USD = ${kenya_value/1000000:,.3f} Trillion USD\")\n",
    "    \n",
    "    if kenya_value >= 1000000:\n",
    "        print(f\"\\n✓ CORRECT: Kenya receives ${kenya_value/1000000:.2f} TRILLION USD annually\")\n",
    "    elif kenya_value >= 1000:\n",
    "        print(f\"\\n✓ Kenya receives ${kenya_value/1000:.2f} BILLION USD annually\")\n",
    "    else:\n",
    "        print(f\"\\n✓ Kenya receives ${kenya_value:.2f} MILLION USD annually\")\n",
    "else:\n",
    "    print(\"Kenya data not found\")"
   ]
  }
 ],
 "metadata": {
  "kernelspec": {
   "display_name": "Python 3",
   "language": "python",
   "name": "python3"
  },
  "language_info": {
   "codemirror_mode": {
    "name": "ipython",
    "version": 3
   },
   "file_extension": ".py",
   "mimetype": "text/x-python",
   "name": "python",
   "nbconvert_exporter": "python",
   "pygments_lexer": "ipython3",
   "version": "3.13.5"
  }
 },
 "nbformat": 4,
 "nbformat_minor": 5
}
