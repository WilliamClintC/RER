{
 "cells": [
  {
   "cell_type": "code",
   "execution_count": 1,
   "id": "9c6d9d22",
   "metadata": {},
   "outputs": [
    {
     "name": "stdout",
     "output_type": "stream",
     "text": [
      "                                                   0                 1  \\\n",
      "0  Indicator:\\tB\\t-\\tCentral\\tBank\\tremittance\\ti...               NaN   \n",
      "1                      Democratic\\tRepublic\\tof\\tthe               NaN   \n",
      "2                                   Sending\\tcountry  Receive\\tcountry   \n",
      "3                                            Denmark           Ecuador   \n",
      "4                                                NaN            Mexico   \n",
      "\n",
      "        2         3              4                    5  \n",
      "0     NaN       NaN            NaN                  NaN  \n",
      "1     NaN       NaN            NaN                  NaN  \n",
      "2  2022.0  0.377893  USD\\tmillions               Source  \n",
      "3  2021.0  1.150536  USD\\tmillions  Central\\tBank\\tData  \n",
      "4  2022.0  0.318480  USD\\tmillions  Central\\tBank\\tData  \n"
     ]
    }
   ],
   "source": [
    "import pandas as pd\n",
    "\n",
    "\n",
    "# Load stream_table_2_cleaned.csv\n",
    "df2 = pd.read_csv(r'C:\\Users\\clint\\Desktop\\RER\\_output\\data\\Remittance_3\\LatAm\\latam_stream_table_3.csv', encoding='utf-8', engine='python')\n",
    "\n",
    "print(df2.head())"
   ]
  },
  {
   "cell_type": "code",
   "execution_count": 2,
   "id": "5f13016c",
   "metadata": {},
   "outputs": [
    {
     "data": {
      "application/vnd.microsoft.datawrangler.viewer.v0+json": {
       "columns": [
        {
         "name": "index",
         "rawType": "int64",
         "type": "integer"
        },
        {
         "name": "0",
         "rawType": "object",
         "type": "unknown"
        },
        {
         "name": "1",
         "rawType": "object",
         "type": "unknown"
        },
        {
         "name": "2",
         "rawType": "float64",
         "type": "float"
        },
        {
         "name": "3",
         "rawType": "float64",
         "type": "float"
        },
        {
         "name": "4",
         "rawType": "object",
         "type": "unknown"
        },
        {
         "name": "5",
         "rawType": "object",
         "type": "unknown"
        }
       ],
       "ref": "b7421c77-2bd6-45fa-b646-e8463f202347",
       "rows": [
        [
         "0",
         "Indicator:\tB\t-\tCentral\tBank\tremittance\tinflows",
         null,
         null,
         null,
         null,
         null
        ],
        [
         "1",
         "Democratic\tRepublic\tof\tthe",
         null,
         null,
         null,
         null,
         null
        ],
        [
         "2",
         "Sending\tcountry",
         "Receive\tcountry",
         "2022.0",
         "0.377893",
         "USD\tmillions",
         "Source"
        ],
        [
         "3",
         "Denmark",
         "Ecuador",
         "2021.0",
         "1.15053584",
         "USD\tmillions",
         "Central\tBank\tData"
        ],
        [
         "4",
         null,
         "Mexico",
         "2022.0",
         "0.31848",
         "USD\tmillions",
         "Central\tBank\tData"
        ],
        [
         "5",
         null,
         "Panama",
         "2022.0",
         "0.230669853",
         "USD\tmillions",
         "INEC"
        ],
        [
         "6",
         "Djibouti",
         "Mexico",
         "2022.0",
         "0.000503",
         "USD\tmillions",
         "Central\tBank\tData"
        ],
        [
         "7",
         "Dominica",
         "Ecuador",
         "2021.0",
         "0.01993682",
         "USD\tmillions",
         "Central\tBank\tData"
        ],
        [
         "8",
         null,
         "Mexico",
         "2022.0",
         "0.011373",
         "USD\tmillions",
         "Central\tBank\tData"
        ],
        [
         "9",
         null,
         "Panama",
         "2022.0",
         "0.096307644",
         "USD\tmillions",
         "INEC"
        ],
        [
         "10",
         "Dominican\tRepublic",
         "Colombia",
         "2022.0",
         "28.54240007",
         "USD\tmillions",
         "Central\tBank\tData"
        ],
        [
         "11",
         null,
         "Ecuador",
         "2021.0",
         "5.23839776",
         "USD\tmillions",
         "Central\tBank\tData"
        ],
        [
         "12",
         null,
         "Haiti",
         "2019.0",
         "67.948160177",
         "USD\tmillions",
         "Central\tBank\tData"
        ],
        [
         "13",
         null,
         "Mexico",
         "2022.0",
         "60.380278",
         "USD\tmillions",
         "Central\tBank\tData"
        ],
        [
         "14",
         null,
         "Panama",
         "2022.0",
         "4.327045551",
         "USD\tmillions",
         "INEC"
        ],
        [
         "15",
         "Ecuador",
         "Chile",
         "2021.0",
         "8.539673828",
         "USD\tmillions",
         "Central\tBank\tData"
        ],
        [
         "16",
         null,
         "Colombia",
         "2022.0",
         "244.241803388",
         "USD\tmillions",
         "Central\tBank\tData"
        ],
        [
         "17",
         null,
         "Mexico",
         "2022.0",
         "218.405967",
         "USD\tmillions",
         "Central\tBank\tData"
        ],
        [
         "18",
         null,
         "Panama",
         "2022.0",
         "9.276093832",
         "USD\tmillions",
         "INEC"
        ],
        [
         "19",
         "Egypt",
         "Ecuador",
         "2021.0",
         "0.31432188",
         "USD\tmillions",
         "Central\tBank\tData"
        ],
        [
         "20",
         null,
         "Mexico",
         "2022.0",
         "0.069086",
         "USD\tmillions",
         "Central\tBank\tData"
        ],
        [
         "21",
         "El\tSalvador",
         "Ecuador",
         "2021.0",
         "2.64085197",
         "USD\tmillions",
         "Central\tBank\tData"
        ],
        [
         "22",
         null,
         "Honduras",
         "2022.0",
         "1.93960663",
         "USD\tmillions",
         "Central\tBank\tData"
        ],
        [
         "23",
         null,
         "Mexico",
         "2022.0",
         "49.696868",
         "USD\tmillions",
         "Central\tBank\tData"
        ],
        [
         "24",
         null,
         "Panama",
         "2022.0",
         "2.713245005",
         "USD\tmillions",
         "INEC"
        ],
        [
         "25",
         "El\tsalvador",
         "Nicaragua",
         "2022.0",
         "7.4",
         "USD\tmillions",
         "Central\tBank\tData"
        ],
        [
         "26",
         "Equatorial\tGuinea",
         "Ecuador",
         "2021.0",
         "0.1676052",
         "USD\tmillions",
         "Central\tBank\tData"
        ],
        [
         "27",
         null,
         "Mexico",
         "2022.0",
         "0.018096",
         "USD\tmillions",
         "Central\tBank\tData"
        ],
        [
         "28",
         "Estonia",
         "Ecuador",
         "2021.0",
         "0.0339721",
         "USD\tmillions",
         "Central\tBank\tData"
        ],
        [
         "29",
         null,
         "Mexico",
         "2022.0",
         "0.015299",
         "USD\tmillions",
         "Central\tBank\tData"
        ],
        [
         "30",
         null,
         "Panama",
         "2022.0",
         "0.007195295",
         "USD\tmillions",
         "INEC"
        ],
        [
         "31",
         "Ethiopia",
         "Ecuador",
         "2021.0",
         "0.00465",
         "USD\tmillions",
         "Central\tBank\tData"
        ],
        [
         "32",
         "Fiji",
         "Ecuador",
         "2021.0",
         "0.00076492",
         "USD\tmillions",
         "Central\tBank\tData"
        ],
        [
         "33",
         null,
         "Mexico",
         "2022.0",
         "0.000673",
         "USD\tmillions",
         "Central\tBank\tData"
        ],
        [
         "34",
         null,
         "Panama",
         "2022.0",
         "0.013704658",
         "USD\tmillions",
         "INEC"
        ],
        [
         "35",
         "Finland",
         "Ecuador",
         "2021.0",
         "0.48335246",
         "USD\tmillions",
         "Central\tBank\tData"
        ],
        [
         "36",
         null,
         "Mexico",
         "2022.0",
         "0.155682",
         "USD\tmillions",
         "Central\tBank\tData"
        ],
        [
         "37",
         "France",
         "Brazil",
         "2022.0",
         "163.9125814",
         "USD\tmillions",
         "Central\tBank\tData"
        ],
        [
         "38",
         null,
         "Chile",
         "2021.0",
         "5.938098411",
         "USD\tmillions",
         "Central\tBank\tData"
        ],
        [
         "39",
         null,
         "Colombia",
         "2022.0",
         "99.825825937",
         "USD\tmillions",
         "Central\tBank\tData"
        ],
        [
         "40",
         null,
         "Costa\tRica",
         "2022.0",
         "38.032310513",
         "USD\tmillions",
         "Central\tBank\tData"
        ],
        [
         "41",
         null,
         "Dominican\tRepublic",
         "2022.0",
         "38.032310513",
         "USD\tmillions",
         "Central\tBank\tData"
        ],
        [
         "42",
         null,
         "Ecuador",
         "2021.0",
         "42.7259938",
         "USD\tmillions",
         "Central\tBank\tData"
        ],
        [
         "43",
         null,
         "Haiti",
         "2019.0",
         "102.97823353",
         "USD\tmillions",
         "Central\tBank\tData"
        ],
        [
         "44",
         null,
         "Mexico",
         "2022.0",
         "31.680909",
         "USD\tmillions",
         "Central\tBank\tData"
        ],
        [
         "45",
         null,
         "Panama",
         "2022.0",
         "3.842911423",
         "USD\tmillions",
         "INEC"
        ],
        [
         "46",
         null,
         "Paraguay",
         "2022.0",
         "10.816578907",
         "USD\tmillions",
         "Central\tBank\tData"
        ],
        [
         "47",
         null,
         "Suriname",
         "2022.0",
         "12.240023521",
         "USD\tmillions",
         "Central\tBank\tData"
        ],
        [
         "48",
         "French\tGuiana",
         "Ecuador",
         "2021.0",
         "0.08562073",
         "USD\tmillions",
         "Central\tBank\tData"
        ],
        [
         "49",
         null,
         "Mexico",
         "2022.0",
         "0.046422",
         "USD\tmillions",
         "Central\tBank\tData"
        ]
       ],
       "shape": {
        "columns": 6,
        "rows": 91
       }
      },
      "text/html": [
       "<div>\n",
       "<style scoped>\n",
       "    .dataframe tbody tr th:only-of-type {\n",
       "        vertical-align: middle;\n",
       "    }\n",
       "\n",
       "    .dataframe tbody tr th {\n",
       "        vertical-align: top;\n",
       "    }\n",
       "\n",
       "    .dataframe thead th {\n",
       "        text-align: right;\n",
       "    }\n",
       "</style>\n",
       "<table border=\"1\" class=\"dataframe\">\n",
       "  <thead>\n",
       "    <tr style=\"text-align: right;\">\n",
       "      <th></th>\n",
       "      <th>0</th>\n",
       "      <th>1</th>\n",
       "      <th>2</th>\n",
       "      <th>3</th>\n",
       "      <th>4</th>\n",
       "      <th>5</th>\n",
       "    </tr>\n",
       "  </thead>\n",
       "  <tbody>\n",
       "    <tr>\n",
       "      <th>0</th>\n",
       "      <td>Indicator:\\tB\\t-\\tCentral\\tBank\\tremittance\\ti...</td>\n",
       "      <td>NaN</td>\n",
       "      <td>NaN</td>\n",
       "      <td>NaN</td>\n",
       "      <td>NaN</td>\n",
       "      <td>NaN</td>\n",
       "    </tr>\n",
       "    <tr>\n",
       "      <th>1</th>\n",
       "      <td>Democratic\\tRepublic\\tof\\tthe</td>\n",
       "      <td>NaN</td>\n",
       "      <td>NaN</td>\n",
       "      <td>NaN</td>\n",
       "      <td>NaN</td>\n",
       "      <td>NaN</td>\n",
       "    </tr>\n",
       "    <tr>\n",
       "      <th>2</th>\n",
       "      <td>Sending\\tcountry</td>\n",
       "      <td>Receive\\tcountry</td>\n",
       "      <td>2022.0</td>\n",
       "      <td>0.377893</td>\n",
       "      <td>USD\\tmillions</td>\n",
       "      <td>Source</td>\n",
       "    </tr>\n",
       "    <tr>\n",
       "      <th>3</th>\n",
       "      <td>Denmark</td>\n",
       "      <td>Ecuador</td>\n",
       "      <td>2021.0</td>\n",
       "      <td>1.150536</td>\n",
       "      <td>USD\\tmillions</td>\n",
       "      <td>Central\\tBank\\tData</td>\n",
       "    </tr>\n",
       "    <tr>\n",
       "      <th>4</th>\n",
       "      <td>NaN</td>\n",
       "      <td>Mexico</td>\n",
       "      <td>2022.0</td>\n",
       "      <td>0.318480</td>\n",
       "      <td>USD\\tmillions</td>\n",
       "      <td>Central\\tBank\\tData</td>\n",
       "    </tr>\n",
       "    <tr>\n",
       "      <th>...</th>\n",
       "      <td>...</td>\n",
       "      <td>...</td>\n",
       "      <td>...</td>\n",
       "      <td>...</td>\n",
       "      <td>...</td>\n",
       "      <td>...</td>\n",
       "    </tr>\n",
       "    <tr>\n",
       "      <th>86</th>\n",
       "      <td>Guyana</td>\n",
       "      <td>Ecuador</td>\n",
       "      <td>2021.0</td>\n",
       "      <td>0.199455</td>\n",
       "      <td>USD\\tmillions</td>\n",
       "      <td>Central\\tBank\\tData</td>\n",
       "    </tr>\n",
       "    <tr>\n",
       "      <th>87</th>\n",
       "      <td>NaN</td>\n",
       "      <td>Mexico</td>\n",
       "      <td>2022.0</td>\n",
       "      <td>0.027358</td>\n",
       "      <td>USD\\tmillions</td>\n",
       "      <td>Central\\tBank\\tData</td>\n",
       "    </tr>\n",
       "    <tr>\n",
       "      <th>88</th>\n",
       "      <td>NaN</td>\n",
       "      <td>Panama</td>\n",
       "      <td>2022.0</td>\n",
       "      <td>0.110945</td>\n",
       "      <td>USD\\tmillions</td>\n",
       "      <td>INEC</td>\n",
       "    </tr>\n",
       "    <tr>\n",
       "      <th>89</th>\n",
       "      <td>NaN</td>\n",
       "      <td>Suriname</td>\n",
       "      <td>2022.0</td>\n",
       "      <td>1.047404</td>\n",
       "      <td>USD\\tmillions</td>\n",
       "      <td>Central\\tBank\\tData</td>\n",
       "    </tr>\n",
       "    <tr>\n",
       "      <th>90</th>\n",
       "      <td>NaN</td>\n",
       "      <td>Costa\\tRica</td>\n",
       "      <td>2022.0</td>\n",
       "      <td>117.596426</td>\n",
       "      <td>USD\\tmillions</td>\n",
       "      <td>NaN</td>\n",
       "    </tr>\n",
       "  </tbody>\n",
       "</table>\n",
       "<p>91 rows × 6 columns</p>\n",
       "</div>"
      ],
      "text/plain": [
       "                                                    0                 1  \\\n",
       "0   Indicator:\\tB\\t-\\tCentral\\tBank\\tremittance\\ti...               NaN   \n",
       "1                       Democratic\\tRepublic\\tof\\tthe               NaN   \n",
       "2                                    Sending\\tcountry  Receive\\tcountry   \n",
       "3                                             Denmark           Ecuador   \n",
       "4                                                 NaN            Mexico   \n",
       "..                                                ...               ...   \n",
       "86                                             Guyana           Ecuador   \n",
       "87                                                NaN            Mexico   \n",
       "88                                                NaN            Panama   \n",
       "89                                                NaN          Suriname   \n",
       "90                                                NaN       Costa\\tRica   \n",
       "\n",
       "         2           3              4                    5  \n",
       "0      NaN         NaN            NaN                  NaN  \n",
       "1      NaN         NaN            NaN                  NaN  \n",
       "2   2022.0    0.377893  USD\\tmillions               Source  \n",
       "3   2021.0    1.150536  USD\\tmillions  Central\\tBank\\tData  \n",
       "4   2022.0    0.318480  USD\\tmillions  Central\\tBank\\tData  \n",
       "..     ...         ...            ...                  ...  \n",
       "86  2021.0    0.199455  USD\\tmillions  Central\\tBank\\tData  \n",
       "87  2022.0    0.027358  USD\\tmillions  Central\\tBank\\tData  \n",
       "88  2022.0    0.110945  USD\\tmillions                 INEC  \n",
       "89  2022.0    1.047404  USD\\tmillions  Central\\tBank\\tData  \n",
       "90  2022.0  117.596426  USD\\tmillions                  NaN  \n",
       "\n",
       "[91 rows x 6 columns]"
      ]
     },
     "execution_count": 2,
     "metadata": {},
     "output_type": "execute_result"
    }
   ],
   "source": [
    "df2"
   ]
  },
  {
   "cell_type": "code",
   "execution_count": null,
   "id": "498736eb",
   "metadata": {},
   "outputs": [
    {
     "data": {
      "application/vnd.microsoft.datawrangler.viewer.v0+json": {
       "columns": [
        {
         "name": "index",
         "rawType": "int64",
         "type": "integer"
        },
        {
         "name": "0",
         "rawType": "object",
         "type": "unknown"
        },
        {
         "name": "1",
         "rawType": "object",
         "type": "unknown"
        },
        {
         "name": "2",
         "rawType": "float64",
         "type": "float"
        },
        {
         "name": "3",
         "rawType": "float64",
         "type": "float"
        },
        {
         "name": "4",
         "rawType": "object",
         "type": "unknown"
        },
        {
         "name": "5",
         "rawType": "object",
         "type": "unknown"
        }
       ],
       "ref": "6bd38ecc-3957-4bec-b287-13aebdfc5377",
       "rows": [
        [
         "0",
         "British\tVirgin\tIslands",
         "Mexico",
         "2022.0",
         "0.007236",
         "USD\tmillions",
         "Central\tBank\tData"
        ],
        [
         "1",
         null,
         "Panama",
         "2022.0",
         "0.064766636",
         "USD\tmillions",
         "INEC"
        ],
        [
         "2",
         "Brunei\tDarussalam",
         "Ecuador",
         "2021.0",
         "0.00104482",
         "USD\tmillions",
         "Central\tBank\tData"
        ],
        [
         "3",
         "Bulgaria",
         "Ecuador",
         "2021.0",
         "0.09197525",
         "USD\tmillions",
         "Central\tBank\tData"
        ],
        [
         "4",
         null,
         "Mexico",
         "2022.0",
         "0.031933",
         "USD\tmillions",
         "Central\tBank\tData"
        ],
        [
         "5",
         null,
         "Panama",
         "2022.0",
         "0.010352968",
         "USD\tmillions",
         "INEC"
        ],
        [
         "6",
         "Burkina\tFaso",
         "Ecuador",
         "2021.0",
         "0.02703836",
         "USD\tmillions",
         "Central\tBank\tData"
        ],
        [
         "7",
         null,
         "Mexico",
         "2022.0",
         "0.098277",
         "USD\tmillions",
         "Central\tBank\tData"
        ],
        [
         "8",
         "Burundi",
         "Ecuador",
         "2021.0",
         "0.001106",
         "USD\tmillions",
         "Central\tBank\tData"
        ],
        [
         "9",
         null,
         "Mexico",
         "2022.0",
         "5.8e-05",
         "USD\tmillions",
         "Central\tBank\tData"
        ],
        [
         "10",
         "Cabo\tVerde",
         "Ecuador",
         "2021.0",
         "0.02254153",
         "USD\tmillions",
         "Central\tBank\tData"
        ],
        [
         "11",
         null,
         "Mexico",
         "2022.0",
         "0.008431",
         "USD\tmillions",
         "Central\tBank\tData"
        ],
        [
         "12",
         "Cambodia",
         "Ecuador",
         "2021.0",
         "0.010467",
         "USD\tmillions",
         "Central\tBank\tData"
        ],
        [
         "13",
         null,
         "Mexico",
         "2022.0",
         "0.011224",
         "USD\tmillions",
         "Central\tBank\tData"
        ],
        [
         "14",
         "Cameroon",
         "Ecuador",
         "2021.0",
         "0.32855389",
         "USD\tmillions",
         "Central\tBank\tData"
        ],
        [
         "15",
         null,
         "Mexico",
         "2022.0",
         "0.148448",
         "USD\tmillions",
         "Central\tBank\tData"
        ],
        [
         "16",
         null,
         "Panama",
         "2022.0",
         "0.068733711",
         "USD\tmillions",
         "INEC"
        ],
        [
         "17",
         "Canada",
         "Brazil",
         "2022.0",
         "88.11104413",
         "USD\tmillions",
         "Central\tBank\tData"
        ],
        [
         "18",
         null,
         "Chile",
         "2021.0",
         "14.375961662",
         "USD\tmillions",
         "Central\tBank\tData"
        ],
        [
         "19",
         null,
         "Colombia",
         "2022.0",
         "226.595455817",
         "USD\tmillions",
         "Central\tBank\tData"
        ],
        [
         "20",
         null,
         "Costa\tRica",
         "2022.0",
         "64.675969163",
         "USD\tmillions",
         "Central\tBank\tData"
        ],
        [
         "21",
         null,
         "Dominican\tRepublic",
         "2022.0",
         "64.675969163",
         "USD\tmillions",
         "Central\tBank\tData"
        ],
        [
         "22",
         null,
         "Ecuador",
         "2021.0",
         "49.43577867",
         "USD\tmillions",
         "Central\tBank\tData"
        ],
        [
         "23",
         null,
         "Haiti",
         "2019.0",
         "92.78574867",
         "USD\tmillions",
         "Central\tBank\tData"
        ],
        [
         "24",
         null,
         "Honduras",
         "2022.0",
         "13.52228638",
         "USD\tmillions",
         "Central\tBank\tData"
        ],
        [
         "25",
         null,
         "Jamaica",
         "2022.0",
         "297.878462532",
         "USD\tmillions",
         "Central\tBank\tData"
        ],
        [
         "26",
         null,
         "Mexico",
         "2022.0",
         "750.433214",
         "USD\tmillions",
         "Central\tBank\tData"
        ],
        [
         "27",
         null,
         "Nicaragua",
         "2022.0",
         "20.1",
         "USD\tmillions",
         "Central\tBank\tData"
        ],
        [
         "28",
         null,
         "Panama",
         "2022.0",
         "7.925555879",
         "USD\tmillions",
         "INEC"
        ],
        [
         "29",
         null,
         "Suriname",
         "2022.0",
         "1.247295849",
         "USD\tmillions",
         "Central\tBank\tData"
        ],
        [
         "30",
         "Cayman\tIslands",
         "Colombia",
         "2022.0",
         "2.392407825",
         "USD\tmillions",
         "Central\tBank\tData"
        ],
        [
         "31",
         null,
         "Ecuador",
         "2021.0",
         "0.40104036",
         "USD\tmillions",
         "Central\tBank\tData"
        ],
        [
         "32",
         null,
         "Honduras",
         "2022.0",
         "1.72606866",
         "USD\tmillions",
         "Central\tBank\tData"
        ],
        [
         "33",
         null,
         "Jamaica",
         "2022.0",
         "174.760479679",
         "USD\tmillions",
         "Central\tBank\tData"
        ],
        [
         "34",
         null,
         "Mexico",
         "2022.0",
         "0.384943",
         "USD\tmillions",
         "Central\tBank\tData"
        ],
        [
         "35",
         null,
         "Panama",
         "2022.0",
         "0.150803386",
         "USD\tmillions",
         "INEC"
        ],
        [
         "36",
         "Central\tAfrican\tRepublic",
         "Ecuador",
         "2021.0",
         "0.00332266",
         "USD\tmillions",
         "Central\tBank\tData"
        ],
        [
         "37",
         "Chad",
         "Ecuador",
         "2021.0",
         "0.00195866",
         "USD\tmillions",
         "Central\tBank\tData"
        ],
        [
         "38",
         null,
         "Mexico",
         "2022.0",
         "0.000587",
         "USD\tmillions",
         "Central\tBank\tData"
        ],
        [
         "39",
         "Chile",
         "Bolivia",
         "2022.0",
         "310.0",
         "USD\tmillions",
         "Central\tBank\tData"
        ],
        [
         "40",
         null,
         "Colombia",
         "2022.0",
         "482.354006081",
         "USD\tmillions",
         "Central\tBank\tData"
        ],
        [
         "41",
         null,
         "Ecuador",
         "2021.0",
         "144.48489191",
         "USD\tmillions",
         "Central\tBank\tData"
        ],
        [
         "42",
         null,
         "Haiti",
         "2019.0",
         "170.264649515",
         "USD\tmillions",
         "Central\tBank\tData"
        ],
        [
         "43",
         null,
         "Mexico",
         "2022.0",
         "58.293487",
         "USD\tmillions",
         "Central\tBank\tData"
        ],
        [
         "44",
         null,
         "Panama",
         "2022.0",
         "8.323886737",
         "USD\tmillions",
         "INEC"
        ],
        [
         "45",
         null,
         "Paraguay",
         "2022.0",
         "9.833799211",
         "USD\tmillions",
         "Central\tBank\tData"
        ],
        [
         "46",
         "China",
         "Chile",
         "2021.0",
         "1.52573626",
         "USD\tmillions",
         "Central\tBank\tData"
        ],
        [
         "47",
         null,
         "Colombia",
         "2022.0",
         "0.902620728",
         "USD\tmillions",
         "Central\tBank\tData"
        ],
        [
         "48",
         null,
         "Ecuador",
         "2021.0",
         "1.62896649",
         "USD\tmillions",
         "Central\tBank\tData"
        ],
        [
         "49",
         null,
         "Mexico",
         "2022.0",
         "0.262623",
         "USD\tmillions",
         "Central\tBank\tData"
        ]
       ],
       "shape": {
        "columns": 6,
        "rows": 90
       }
      },
      "text/html": [
       "<div>\n",
       "<style scoped>\n",
       "    .dataframe tbody tr th:only-of-type {\n",
       "        vertical-align: middle;\n",
       "    }\n",
       "\n",
       "    .dataframe tbody tr th {\n",
       "        vertical-align: top;\n",
       "    }\n",
       "\n",
       "    .dataframe thead th {\n",
       "        text-align: right;\n",
       "    }\n",
       "</style>\n",
       "<table border=\"1\" class=\"dataframe\">\n",
       "  <thead>\n",
       "    <tr style=\"text-align: right;\">\n",
       "      <th></th>\n",
       "      <th>0</th>\n",
       "      <th>1</th>\n",
       "      <th>2</th>\n",
       "      <th>3</th>\n",
       "      <th>4</th>\n",
       "      <th>5</th>\n",
       "    </tr>\n",
       "  </thead>\n",
       "  <tbody>\n",
       "    <tr>\n",
       "      <th>0</th>\n",
       "      <td>British\\tVirgin\\tIslands</td>\n",
       "      <td>Mexico</td>\n",
       "      <td>2022.0</td>\n",
       "      <td>0.007236</td>\n",
       "      <td>USD\\tmillions</td>\n",
       "      <td>Central\\tBank\\tData</td>\n",
       "    </tr>\n",
       "    <tr>\n",
       "      <th>1</th>\n",
       "      <td>NaN</td>\n",
       "      <td>Panama</td>\n",
       "      <td>2022.0</td>\n",
       "      <td>0.064767</td>\n",
       "      <td>USD\\tmillions</td>\n",
       "      <td>INEC</td>\n",
       "    </tr>\n",
       "    <tr>\n",
       "      <th>2</th>\n",
       "      <td>Brunei\\tDarussalam</td>\n",
       "      <td>Ecuador</td>\n",
       "      <td>2021.0</td>\n",
       "      <td>0.001045</td>\n",
       "      <td>USD\\tmillions</td>\n",
       "      <td>Central\\tBank\\tData</td>\n",
       "    </tr>\n",
       "    <tr>\n",
       "      <th>3</th>\n",
       "      <td>Bulgaria</td>\n",
       "      <td>Ecuador</td>\n",
       "      <td>2021.0</td>\n",
       "      <td>0.091975</td>\n",
       "      <td>USD\\tmillions</td>\n",
       "      <td>Central\\tBank\\tData</td>\n",
       "    </tr>\n",
       "    <tr>\n",
       "      <th>4</th>\n",
       "      <td>NaN</td>\n",
       "      <td>Mexico</td>\n",
       "      <td>2022.0</td>\n",
       "      <td>0.031933</td>\n",
       "      <td>USD\\tmillions</td>\n",
       "      <td>Central\\tBank\\tData</td>\n",
       "    </tr>\n",
       "    <tr>\n",
       "      <th>...</th>\n",
       "      <td>...</td>\n",
       "      <td>...</td>\n",
       "      <td>...</td>\n",
       "      <td>...</td>\n",
       "      <td>...</td>\n",
       "      <td>...</td>\n",
       "    </tr>\n",
       "    <tr>\n",
       "      <th>85</th>\n",
       "      <td>Dem.\\tPeople's\\tRepublic\\tof\\t..</td>\n",
       "      <td>Ecuador</td>\n",
       "      <td>2021.0</td>\n",
       "      <td>0.638289</td>\n",
       "      <td>USD\\tmillions</td>\n",
       "      <td>Central\\tBank\\tData</td>\n",
       "    </tr>\n",
       "    <tr>\n",
       "      <th>86</th>\n",
       "      <td>Democratic\\tRepublic\\tof\\tthe</td>\n",
       "      <td>Ecuador</td>\n",
       "      <td>2021.0</td>\n",
       "      <td>0.075787</td>\n",
       "      <td>USD\\tmillions</td>\n",
       "      <td>Central\\tBank\\tData</td>\n",
       "    </tr>\n",
       "    <tr>\n",
       "      <th>87</th>\n",
       "      <td>Congo</td>\n",
       "      <td>NaN</td>\n",
       "      <td>NaN</td>\n",
       "      <td>NaN</td>\n",
       "      <td>NaN</td>\n",
       "      <td>Central\\tBank\\tData</td>\n",
       "    </tr>\n",
       "    <tr>\n",
       "      <th>88</th>\n",
       "      <td>NaN</td>\n",
       "      <td>Mexico</td>\n",
       "      <td>2022.0</td>\n",
       "      <td>0.377893</td>\n",
       "      <td>USD\\tmillions</td>\n",
       "      <td>NaN</td>\n",
       "    </tr>\n",
       "    <tr>\n",
       "      <th>89</th>\n",
       "      <td>NaN</td>\n",
       "      <td>Ecuador</td>\n",
       "      <td>2021.0</td>\n",
       "      <td>1.150536</td>\n",
       "      <td>USD\\tmillions</td>\n",
       "      <td>NaN</td>\n",
       "    </tr>\n",
       "  </tbody>\n",
       "</table>\n",
       "<p>90 rows × 6 columns</p>\n",
       "</div>"
      ],
      "text/plain": [
       "                                   0        1       2         3  \\\n",
       "0           British\\tVirgin\\tIslands   Mexico  2022.0  0.007236   \n",
       "1                                NaN   Panama  2022.0  0.064767   \n",
       "2                 Brunei\\tDarussalam  Ecuador  2021.0  0.001045   \n",
       "3                           Bulgaria  Ecuador  2021.0  0.091975   \n",
       "4                                NaN   Mexico  2022.0  0.031933   \n",
       "..                               ...      ...     ...       ...   \n",
       "85  Dem.\\tPeople's\\tRepublic\\tof\\t..  Ecuador  2021.0  0.638289   \n",
       "86     Democratic\\tRepublic\\tof\\tthe  Ecuador  2021.0  0.075787   \n",
       "87                             Congo      NaN     NaN       NaN   \n",
       "88                               NaN   Mexico  2022.0  0.377893   \n",
       "89                               NaN  Ecuador  2021.0  1.150536   \n",
       "\n",
       "                4                    5  \n",
       "0   USD\\tmillions  Central\\tBank\\tData  \n",
       "1   USD\\tmillions                 INEC  \n",
       "2   USD\\tmillions  Central\\tBank\\tData  \n",
       "3   USD\\tmillions  Central\\tBank\\tData  \n",
       "4   USD\\tmillions  Central\\tBank\\tData  \n",
       "..            ...                  ...  \n",
       "85  USD\\tmillions  Central\\tBank\\tData  \n",
       "86  USD\\tmillions  Central\\tBank\\tData  \n",
       "87            NaN  Central\\tBank\\tData  \n",
       "88  USD\\tmillions                  NaN  \n",
       "89  USD\\tmillions                  NaN  \n",
       "\n",
       "[90 rows x 6 columns]"
      ]
     },
     "execution_count": 20,
     "metadata": {},
     "output_type": "execute_result"
    }
   ],
   "source": [
    "#drop first row\n",
    "df2 = df2.drop(index=0).reset_index(drop=True)\n",
    "# df2 = df2.drop(index=0).reset_index(drop=True)\n",
    "df2"
   ]
  },
  {
   "cell_type": "code",
   "execution_count": 21,
   "id": "f2a4b22e",
   "metadata": {},
   "outputs": [
    {
     "name": "stdout",
     "output_type": "stream",
     "text": [
      "Shape of df2: (90, 6)\n",
      "Columns in df2: ['0', '1', '2', '3', '4', '5']\n",
      "\n",
      "First few rows:\n",
      "                          0        1       2         3              4  \\\n",
      "0  British\\tVirgin\\tIslands   Mexico  2022.0  0.007236  USD\\tmillions   \n",
      "1                       NaN   Panama  2022.0  0.064767  USD\\tmillions   \n",
      "2        Brunei\\tDarussalam  Ecuador  2021.0  0.001045  USD\\tmillions   \n",
      "3                  Bulgaria  Ecuador  2021.0  0.091975  USD\\tmillions   \n",
      "4                       NaN   Mexico  2022.0  0.031933  USD\\tmillions   \n",
      "\n",
      "                     5  \n",
      "0  Central\\tBank\\tData  \n",
      "1                 INEC  \n",
      "2  Central\\tBank\\tData  \n",
      "3  Central\\tBank\\tData  \n",
      "4  Central\\tBank\\tData  \n",
      "\n",
      "Sample of column 1 (index 1) to see the country+date format:\n",
      "0     Mexico\n",
      "1     Panama\n",
      "2    Ecuador\n",
      "3    Ecuador\n",
      "4     Mexico\n",
      "5     Panama\n",
      "6    Ecuador\n",
      "7     Mexico\n",
      "8    Ecuador\n",
      "9     Mexico\n",
      "Name: 1, dtype: object\n"
     ]
    }
   ],
   "source": [
    "# Check the shape and structure of df2\n",
    "print(f\"Shape of df2: {df2.shape}\")\n",
    "print(f\"Columns in df2: {df2.columns.tolist()}\")\n",
    "print(\"\\nFirst few rows:\")\n",
    "print(df2.head())\n",
    "print(\"\\nSample of column 1 (index 1) to see the country+date format:\")\n",
    "print(df2.iloc[:10, 1])  # Show first 10 rows of the second column"
   ]
  },
  {
   "cell_type": "code",
   "execution_count": 22,
   "id": "261bb736",
   "metadata": {},
   "outputs": [
    {
     "name": "stdout",
     "output_type": "stream",
     "text": [
      "Updated dataframe structure:\n",
      "Shape: (90, 6)\n",
      "Columns: ['Sending Country', 'Receiving Country', 'Year', 'Value', 'Unit', 'Source']\n",
      "\n",
      "First few rows:\n",
      "            Sending Country Receiving Country    Year     Value  \\\n",
      "0  British\\tVirgin\\tIslands            Mexico  2022.0  0.007236   \n",
      "1                       NaN            Panama  2022.0  0.064767   \n",
      "2        Brunei\\tDarussalam           Ecuador  2021.0  0.001045   \n",
      "3                  Bulgaria           Ecuador  2021.0  0.091975   \n",
      "4                       NaN            Mexico  2022.0  0.031933   \n",
      "\n",
      "            Unit               Source  \n",
      "0  USD\\tmillions  Central\\tBank\\tData  \n",
      "1  USD\\tmillions                 INEC  \n",
      "2  USD\\tmillions  Central\\tBank\\tData  \n",
      "3  USD\\tmillions  Central\\tBank\\tData  \n",
      "4  USD\\tmillions  Central\\tBank\\tData  \n"
     ]
    }
   ],
   "source": [
    "\n",
    "\n",
    "# Clean up column names\n",
    "df2.columns = ['Sending Country', 'Receiving Country', 'Year', 'Value', 'Unit', 'Source']\n",
    "\n",
    "print(\"Updated dataframe structure:\")\n",
    "print(f\"Shape: {df2.shape}\")\n",
    "print(f\"Columns: {df2.columns.tolist()}\")\n",
    "print(\"\\nFirst few rows:\")\n",
    "print(df2.head())"
   ]
  },
  {
   "cell_type": "code",
   "execution_count": 23,
   "id": "fe52094b",
   "metadata": {},
   "outputs": [
    {
     "name": "stdout",
     "output_type": "stream",
     "text": [
      "Data after cleaning tab characters:\n",
      "          Sending Country Receiving Country    Year     Value          Unit  \\\n",
      "0  British Virgin Islands            Mexico  2022.0  0.007236  USD millions   \n",
      "1                     NaN            Panama  2022.0  0.064767  USD millions   \n",
      "2       Brunei Darussalam           Ecuador  2021.0  0.001045  USD millions   \n",
      "3                Bulgaria           Ecuador  2021.0  0.091975  USD millions   \n",
      "4                     NaN            Mexico  2022.0  0.031933  USD millions   \n",
      "\n",
      "              Source  \n",
      "0  Central Bank Data  \n",
      "1               INEC  \n",
      "2  Central Bank Data  \n",
      "3  Central Bank Data  \n",
      "4  Central Bank Data  \n",
      "\n",
      "Unique receiving countries:\n",
      "['Mexico' 'Panama' 'Ecuador' 'Brazil' 'Chile' 'Colombia' 'Costa Rica'\n",
      " 'Dominican Republic' 'Haiti' 'Honduras' 'Jamaica' 'Nicaragua' 'Suriname'\n",
      " 'Bolivia' 'Paraguay' nan]\n",
      "\n",
      "Unique years:\n",
      "[np.float64(2019.0), np.float64(nan), np.float64(2021.0), np.float64(2022.0)]\n"
     ]
    }
   ],
   "source": [
    "# Let's also clean up the tab characters (\\t) in the data for better readability\n",
    "df2 = df2.replace('\\t', ' ', regex=True)\n",
    "\n",
    "print(\"Data after cleaning tab characters:\")\n",
    "print(df2.head())\n",
    "\n",
    "print(\"\\nUnique receiving countries:\")\n",
    "print(df2['Receiving Country'].unique())\n",
    "\n",
    "print(\"\\nUnique years:\")\n",
    "print(sorted(df2['Year'].unique()))"
   ]
  },
  {
   "cell_type": "code",
   "execution_count": 24,
   "id": "37b72a77",
   "metadata": {},
   "outputs": [
    {
     "name": "stdout",
     "output_type": "stream",
     "text": [
      "Before forward fill:\n",
      "          Sending Country Receiving Country    Year     Value          Unit  \\\n",
      "0  British Virgin Islands            Mexico  2022.0  0.007236  USD millions   \n",
      "1                     NaN            Panama  2022.0  0.064767  USD millions   \n",
      "2       Brunei Darussalam           Ecuador  2021.0  0.001045  USD millions   \n",
      "3                Bulgaria           Ecuador  2021.0  0.091975  USD millions   \n",
      "4                     NaN            Mexico  2022.0  0.031933  USD millions   \n",
      "5                     NaN            Panama  2022.0  0.010353  USD millions   \n",
      "6            Burkina Faso           Ecuador  2021.0  0.027038  USD millions   \n",
      "7                     NaN            Mexico  2022.0  0.098277  USD millions   \n",
      "8                 Burundi           Ecuador  2021.0  0.001106  USD millions   \n",
      "9                     NaN            Mexico  2022.0  0.000058  USD millions   \n",
      "\n",
      "              Source  \n",
      "0  Central Bank Data  \n",
      "1               INEC  \n",
      "2  Central Bank Data  \n",
      "3  Central Bank Data  \n",
      "4  Central Bank Data  \n",
      "5               INEC  \n",
      "6  Central Bank Data  \n",
      "7  Central Bank Data  \n",
      "8  Central Bank Data  \n",
      "9  Central Bank Data  \n",
      "\n",
      "Missing values per column before forward fill:\n",
      "Sending Country      60\n",
      "Receiving Country     2\n",
      "Year                  2\n",
      "Value                 2\n",
      "Unit                  2\n",
      "Source                3\n",
      "dtype: int64\n",
      "\n",
      "==================================================\n",
      "After forward fill:\n",
      "          Sending Country Receiving Country    Year     Value          Unit  \\\n",
      "0  British Virgin Islands            Mexico  2022.0  0.007236  USD millions   \n",
      "1  British Virgin Islands            Panama  2022.0  0.064767  USD millions   \n",
      "2       Brunei Darussalam           Ecuador  2021.0  0.001045  USD millions   \n",
      "3                Bulgaria           Ecuador  2021.0  0.091975  USD millions   \n",
      "4                Bulgaria            Mexico  2022.0  0.031933  USD millions   \n",
      "5                Bulgaria            Panama  2022.0  0.010353  USD millions   \n",
      "6            Burkina Faso           Ecuador  2021.0  0.027038  USD millions   \n",
      "7            Burkina Faso            Mexico  2022.0  0.098277  USD millions   \n",
      "8                 Burundi           Ecuador  2021.0  0.001106  USD millions   \n",
      "9                 Burundi            Mexico  2022.0  0.000058  USD millions   \n",
      "\n",
      "              Source  \n",
      "0  Central Bank Data  \n",
      "1               INEC  \n",
      "2  Central Bank Data  \n",
      "3  Central Bank Data  \n",
      "4  Central Bank Data  \n",
      "5               INEC  \n",
      "6  Central Bank Data  \n",
      "7  Central Bank Data  \n",
      "8  Central Bank Data  \n",
      "9  Central Bank Data  \n",
      "\n",
      "Missing values per column after forward fill:\n",
      "Sending Country      0\n",
      "Receiving Country    0\n",
      "Year                 0\n",
      "Value                0\n",
      "Unit                 0\n",
      "Source               0\n",
      "dtype: int64\n"
     ]
    },
    {
     "data": {
      "application/vnd.microsoft.datawrangler.viewer.v0+json": {
       "columns": [
        {
         "name": "index",
         "rawType": "int64",
         "type": "integer"
        },
        {
         "name": "Sending Country",
         "rawType": "object",
         "type": "string"
        },
        {
         "name": "Receiving Country",
         "rawType": "object",
         "type": "string"
        },
        {
         "name": "Year",
         "rawType": "float64",
         "type": "float"
        },
        {
         "name": "Value",
         "rawType": "float64",
         "type": "float"
        },
        {
         "name": "Unit",
         "rawType": "object",
         "type": "string"
        },
        {
         "name": "Source",
         "rawType": "object",
         "type": "string"
        }
       ],
       "ref": "5ac9cba4-9f21-410e-9a70-2e57707e9caf",
       "rows": [
        [
         "0",
         "British Virgin Islands",
         "Mexico",
         "2022.0",
         "0.007236",
         "USD millions",
         "Central Bank Data"
        ],
        [
         "1",
         "British Virgin Islands",
         "Panama",
         "2022.0",
         "0.064766636",
         "USD millions",
         "INEC"
        ],
        [
         "2",
         "Brunei Darussalam",
         "Ecuador",
         "2021.0",
         "0.00104482",
         "USD millions",
         "Central Bank Data"
        ],
        [
         "3",
         "Bulgaria",
         "Ecuador",
         "2021.0",
         "0.09197525",
         "USD millions",
         "Central Bank Data"
        ],
        [
         "4",
         "Bulgaria",
         "Mexico",
         "2022.0",
         "0.031933",
         "USD millions",
         "Central Bank Data"
        ],
        [
         "5",
         "Bulgaria",
         "Panama",
         "2022.0",
         "0.010352968",
         "USD millions",
         "INEC"
        ],
        [
         "6",
         "Burkina Faso",
         "Ecuador",
         "2021.0",
         "0.02703836",
         "USD millions",
         "Central Bank Data"
        ],
        [
         "7",
         "Burkina Faso",
         "Mexico",
         "2022.0",
         "0.098277",
         "USD millions",
         "Central Bank Data"
        ],
        [
         "8",
         "Burundi",
         "Ecuador",
         "2021.0",
         "0.001106",
         "USD millions",
         "Central Bank Data"
        ],
        [
         "9",
         "Burundi",
         "Mexico",
         "2022.0",
         "5.8e-05",
         "USD millions",
         "Central Bank Data"
        ],
        [
         "10",
         "Cabo Verde",
         "Ecuador",
         "2021.0",
         "0.02254153",
         "USD millions",
         "Central Bank Data"
        ],
        [
         "11",
         "Cabo Verde",
         "Mexico",
         "2022.0",
         "0.008431",
         "USD millions",
         "Central Bank Data"
        ],
        [
         "12",
         "Cambodia",
         "Ecuador",
         "2021.0",
         "0.010467",
         "USD millions",
         "Central Bank Data"
        ],
        [
         "13",
         "Cambodia",
         "Mexico",
         "2022.0",
         "0.011224",
         "USD millions",
         "Central Bank Data"
        ],
        [
         "14",
         "Cameroon",
         "Ecuador",
         "2021.0",
         "0.32855389",
         "USD millions",
         "Central Bank Data"
        ],
        [
         "15",
         "Cameroon",
         "Mexico",
         "2022.0",
         "0.148448",
         "USD millions",
         "Central Bank Data"
        ],
        [
         "16",
         "Cameroon",
         "Panama",
         "2022.0",
         "0.068733711",
         "USD millions",
         "INEC"
        ],
        [
         "17",
         "Canada",
         "Brazil",
         "2022.0",
         "88.11104413",
         "USD millions",
         "Central Bank Data"
        ],
        [
         "18",
         "Canada",
         "Chile",
         "2021.0",
         "14.375961662",
         "USD millions",
         "Central Bank Data"
        ],
        [
         "19",
         "Canada",
         "Colombia",
         "2022.0",
         "226.595455817",
         "USD millions",
         "Central Bank Data"
        ],
        [
         "20",
         "Canada",
         "Costa Rica",
         "2022.0",
         "64.675969163",
         "USD millions",
         "Central Bank Data"
        ],
        [
         "21",
         "Canada",
         "Dominican Republic",
         "2022.0",
         "64.675969163",
         "USD millions",
         "Central Bank Data"
        ],
        [
         "22",
         "Canada",
         "Ecuador",
         "2021.0",
         "49.43577867",
         "USD millions",
         "Central Bank Data"
        ],
        [
         "23",
         "Canada",
         "Haiti",
         "2019.0",
         "92.78574867",
         "USD millions",
         "Central Bank Data"
        ],
        [
         "24",
         "Canada",
         "Honduras",
         "2022.0",
         "13.52228638",
         "USD millions",
         "Central Bank Data"
        ],
        [
         "25",
         "Canada",
         "Jamaica",
         "2022.0",
         "297.878462532",
         "USD millions",
         "Central Bank Data"
        ],
        [
         "26",
         "Canada",
         "Mexico",
         "2022.0",
         "750.433214",
         "USD millions",
         "Central Bank Data"
        ],
        [
         "27",
         "Canada",
         "Nicaragua",
         "2022.0",
         "20.1",
         "USD millions",
         "Central Bank Data"
        ],
        [
         "28",
         "Canada",
         "Panama",
         "2022.0",
         "7.925555879",
         "USD millions",
         "INEC"
        ],
        [
         "29",
         "Canada",
         "Suriname",
         "2022.0",
         "1.247295849",
         "USD millions",
         "Central Bank Data"
        ],
        [
         "30",
         "Cayman Islands",
         "Colombia",
         "2022.0",
         "2.392407825",
         "USD millions",
         "Central Bank Data"
        ],
        [
         "31",
         "Cayman Islands",
         "Ecuador",
         "2021.0",
         "0.40104036",
         "USD millions",
         "Central Bank Data"
        ],
        [
         "32",
         "Cayman Islands",
         "Honduras",
         "2022.0",
         "1.72606866",
         "USD millions",
         "Central Bank Data"
        ],
        [
         "33",
         "Cayman Islands",
         "Jamaica",
         "2022.0",
         "174.760479679",
         "USD millions",
         "Central Bank Data"
        ],
        [
         "34",
         "Cayman Islands",
         "Mexico",
         "2022.0",
         "0.384943",
         "USD millions",
         "Central Bank Data"
        ],
        [
         "35",
         "Cayman Islands",
         "Panama",
         "2022.0",
         "0.150803386",
         "USD millions",
         "INEC"
        ],
        [
         "36",
         "Central African Republic",
         "Ecuador",
         "2021.0",
         "0.00332266",
         "USD millions",
         "Central Bank Data"
        ],
        [
         "37",
         "Chad",
         "Ecuador",
         "2021.0",
         "0.00195866",
         "USD millions",
         "Central Bank Data"
        ],
        [
         "38",
         "Chad",
         "Mexico",
         "2022.0",
         "0.000587",
         "USD millions",
         "Central Bank Data"
        ],
        [
         "39",
         "Chile",
         "Bolivia",
         "2022.0",
         "310.0",
         "USD millions",
         "Central Bank Data"
        ],
        [
         "40",
         "Chile",
         "Colombia",
         "2022.0",
         "482.354006081",
         "USD millions",
         "Central Bank Data"
        ],
        [
         "41",
         "Chile",
         "Ecuador",
         "2021.0",
         "144.48489191",
         "USD millions",
         "Central Bank Data"
        ],
        [
         "42",
         "Chile",
         "Haiti",
         "2019.0",
         "170.264649515",
         "USD millions",
         "Central Bank Data"
        ],
        [
         "43",
         "Chile",
         "Mexico",
         "2022.0",
         "58.293487",
         "USD millions",
         "Central Bank Data"
        ],
        [
         "44",
         "Chile",
         "Panama",
         "2022.0",
         "8.323886737",
         "USD millions",
         "INEC"
        ],
        [
         "45",
         "Chile",
         "Paraguay",
         "2022.0",
         "9.833799211",
         "USD millions",
         "Central Bank Data"
        ],
        [
         "46",
         "China",
         "Chile",
         "2021.0",
         "1.52573626",
         "USD millions",
         "Central Bank Data"
        ],
        [
         "47",
         "China",
         "Colombia",
         "2022.0",
         "0.902620728",
         "USD millions",
         "Central Bank Data"
        ],
        [
         "48",
         "China",
         "Ecuador",
         "2021.0",
         "1.62896649",
         "USD millions",
         "Central Bank Data"
        ],
        [
         "49",
         "China",
         "Mexico",
         "2022.0",
         "0.262623",
         "USD millions",
         "Central Bank Data"
        ]
       ],
       "shape": {
        "columns": 6,
        "rows": 90
       }
      },
      "text/html": [
       "<div>\n",
       "<style scoped>\n",
       "    .dataframe tbody tr th:only-of-type {\n",
       "        vertical-align: middle;\n",
       "    }\n",
       "\n",
       "    .dataframe tbody tr th {\n",
       "        vertical-align: top;\n",
       "    }\n",
       "\n",
       "    .dataframe thead th {\n",
       "        text-align: right;\n",
       "    }\n",
       "</style>\n",
       "<table border=\"1\" class=\"dataframe\">\n",
       "  <thead>\n",
       "    <tr style=\"text-align: right;\">\n",
       "      <th></th>\n",
       "      <th>Sending Country</th>\n",
       "      <th>Receiving Country</th>\n",
       "      <th>Year</th>\n",
       "      <th>Value</th>\n",
       "      <th>Unit</th>\n",
       "      <th>Source</th>\n",
       "    </tr>\n",
       "  </thead>\n",
       "  <tbody>\n",
       "    <tr>\n",
       "      <th>0</th>\n",
       "      <td>British Virgin Islands</td>\n",
       "      <td>Mexico</td>\n",
       "      <td>2022.0</td>\n",
       "      <td>0.007236</td>\n",
       "      <td>USD millions</td>\n",
       "      <td>Central Bank Data</td>\n",
       "    </tr>\n",
       "    <tr>\n",
       "      <th>1</th>\n",
       "      <td>British Virgin Islands</td>\n",
       "      <td>Panama</td>\n",
       "      <td>2022.0</td>\n",
       "      <td>0.064767</td>\n",
       "      <td>USD millions</td>\n",
       "      <td>INEC</td>\n",
       "    </tr>\n",
       "    <tr>\n",
       "      <th>2</th>\n",
       "      <td>Brunei Darussalam</td>\n",
       "      <td>Ecuador</td>\n",
       "      <td>2021.0</td>\n",
       "      <td>0.001045</td>\n",
       "      <td>USD millions</td>\n",
       "      <td>Central Bank Data</td>\n",
       "    </tr>\n",
       "    <tr>\n",
       "      <th>3</th>\n",
       "      <td>Bulgaria</td>\n",
       "      <td>Ecuador</td>\n",
       "      <td>2021.0</td>\n",
       "      <td>0.091975</td>\n",
       "      <td>USD millions</td>\n",
       "      <td>Central Bank Data</td>\n",
       "    </tr>\n",
       "    <tr>\n",
       "      <th>4</th>\n",
       "      <td>Bulgaria</td>\n",
       "      <td>Mexico</td>\n",
       "      <td>2022.0</td>\n",
       "      <td>0.031933</td>\n",
       "      <td>USD millions</td>\n",
       "      <td>Central Bank Data</td>\n",
       "    </tr>\n",
       "    <tr>\n",
       "      <th>...</th>\n",
       "      <td>...</td>\n",
       "      <td>...</td>\n",
       "      <td>...</td>\n",
       "      <td>...</td>\n",
       "      <td>...</td>\n",
       "      <td>...</td>\n",
       "    </tr>\n",
       "    <tr>\n",
       "      <th>85</th>\n",
       "      <td>Dem. People's Republic of ..</td>\n",
       "      <td>Ecuador</td>\n",
       "      <td>2021.0</td>\n",
       "      <td>0.638289</td>\n",
       "      <td>USD millions</td>\n",
       "      <td>Central Bank Data</td>\n",
       "    </tr>\n",
       "    <tr>\n",
       "      <th>86</th>\n",
       "      <td>Democratic Republic of the</td>\n",
       "      <td>Ecuador</td>\n",
       "      <td>2021.0</td>\n",
       "      <td>0.075787</td>\n",
       "      <td>USD millions</td>\n",
       "      <td>Central Bank Data</td>\n",
       "    </tr>\n",
       "    <tr>\n",
       "      <th>87</th>\n",
       "      <td>Congo</td>\n",
       "      <td>Ecuador</td>\n",
       "      <td>2021.0</td>\n",
       "      <td>0.075787</td>\n",
       "      <td>USD millions</td>\n",
       "      <td>Central Bank Data</td>\n",
       "    </tr>\n",
       "    <tr>\n",
       "      <th>88</th>\n",
       "      <td>Congo</td>\n",
       "      <td>Mexico</td>\n",
       "      <td>2022.0</td>\n",
       "      <td>0.377893</td>\n",
       "      <td>USD millions</td>\n",
       "      <td>Central Bank Data</td>\n",
       "    </tr>\n",
       "    <tr>\n",
       "      <th>89</th>\n",
       "      <td>Congo</td>\n",
       "      <td>Ecuador</td>\n",
       "      <td>2021.0</td>\n",
       "      <td>1.150536</td>\n",
       "      <td>USD millions</td>\n",
       "      <td>Central Bank Data</td>\n",
       "    </tr>\n",
       "  </tbody>\n",
       "</table>\n",
       "<p>90 rows × 6 columns</p>\n",
       "</div>"
      ],
      "text/plain": [
       "                 Sending Country Receiving Country    Year     Value  \\\n",
       "0         British Virgin Islands            Mexico  2022.0  0.007236   \n",
       "1         British Virgin Islands            Panama  2022.0  0.064767   \n",
       "2              Brunei Darussalam           Ecuador  2021.0  0.001045   \n",
       "3                       Bulgaria           Ecuador  2021.0  0.091975   \n",
       "4                       Bulgaria            Mexico  2022.0  0.031933   \n",
       "..                           ...               ...     ...       ...   \n",
       "85  Dem. People's Republic of ..           Ecuador  2021.0  0.638289   \n",
       "86    Democratic Republic of the           Ecuador  2021.0  0.075787   \n",
       "87                         Congo           Ecuador  2021.0  0.075787   \n",
       "88                         Congo            Mexico  2022.0  0.377893   \n",
       "89                         Congo           Ecuador  2021.0  1.150536   \n",
       "\n",
       "            Unit             Source  \n",
       "0   USD millions  Central Bank Data  \n",
       "1   USD millions               INEC  \n",
       "2   USD millions  Central Bank Data  \n",
       "3   USD millions  Central Bank Data  \n",
       "4   USD millions  Central Bank Data  \n",
       "..           ...                ...  \n",
       "85  USD millions  Central Bank Data  \n",
       "86  USD millions  Central Bank Data  \n",
       "87  USD millions  Central Bank Data  \n",
       "88  USD millions  Central Bank Data  \n",
       "89  USD millions  Central Bank Data  \n",
       "\n",
       "[90 rows x 6 columns]"
      ]
     },
     "execution_count": 24,
     "metadata": {},
     "output_type": "execute_result"
    }
   ],
   "source": [
    "# Forward fill missing values - replace NaN with the value from the row above\n",
    "print(\"Before forward fill:\")\n",
    "print(df2.head(10))\n",
    "print(\"\\nMissing values per column before forward fill:\")\n",
    "print(df2.isnull().sum())\n",
    "\n",
    "# Apply forward fill to replace missing values using the newer ffill() method\n",
    "df2_filled = df2.ffill()\n",
    "\n",
    "print(\"\\n\" + \"=\"*50)\n",
    "print(\"After forward fill:\")\n",
    "print(df2_filled.head(10))\n",
    "print(\"\\nMissing values per column after forward fill:\")\n",
    "print(df2_filled.isnull().sum())\n",
    "\n",
    "# Update df2 with the filled version\n",
    "df2 = df2_filled\n",
    "df2"
   ]
  },
  {
   "cell_type": "code",
   "execution_count": 25,
   "id": "4955bb60",
   "metadata": {},
   "outputs": [
    {
     "name": "stdout",
     "output_type": "stream",
     "text": [
      "File saved with 90 rows and 6 columns\n"
     ]
    }
   ],
   "source": [
    "# Save the processed dataframe to CSV\n",
    "df2.to_csv('11_2.csv', index=False)\n",
    "print(f\"File saved with {len(df2)} rows and {len(df2.columns)} columns\")"
   ]
  }
 ],
 "metadata": {
  "kernelspec": {
   "display_name": "Python 3",
   "language": "python",
   "name": "python3"
  },
  "language_info": {
   "codemirror_mode": {
    "name": "ipython",
    "version": 3
   },
   "file_extension": ".py",
   "mimetype": "text/x-python",
   "name": "python",
   "nbconvert_exporter": "python",
   "pygments_lexer": "ipython3",
   "version": "3.13.5"
  }
 },
 "nbformat": 4,
 "nbformat_minor": 5
}
