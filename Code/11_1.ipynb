{
 "cells": [
  {
   "cell_type": "code",
   "execution_count": 10,
   "id": "9c6d9d22",
   "metadata": {},
   "outputs": [
    {
     "name": "stdout",
     "output_type": "stream",
     "text": [
      "                                                   0                 1     2  \\\n",
      "0  Indicator:\\tB\\t-\\tCentral\\tBank\\tremittance\\ti...               NaN   NaN   \n",
      "1                                   Sending\\tcountry  Receive\\tcountry  Date   \n",
      "2                                        Afghanistan           Ecuador  2021   \n",
      "3                                                NaN            Mexico  2022   \n",
      "4                                                NaN            Panama  2022   \n",
      "\n",
      "             3              4                    5  \n",
      "0          NaN            NaN                  NaN  \n",
      "1        Value           Unit               Source  \n",
      "2   0.03859066  USD\\tmillions  Central\\tBank\\tData  \n",
      "3     0.295915  USD\\tmillions  Central\\tBank\\tData  \n",
      "4  0.000387472  USD\\tmillions                 INEC  \n",
      "               0               1                 2              3  \\\n",
      "0  South\\tAfrica  Ethiopia\\n2020       67.93372415  USD\\tmillions   \n",
      "1            NaN     Kenya\\n2024  24,095.095706679  USD\\tmillions   \n",
      "2            NaN   Senegal\\n2021      14.579840557  USD\\tmillions   \n",
      "3            NaN    Uganda\\n2022              28.7  USD\\tmillions   \n",
      "4   South\\tSudan  Ethiopia\\n2020       11.33937986  USD\\tmillions   \n",
      "\n",
      "                              4  \n",
      "0  National\\tBank\\tof\\tEthiopia  \n",
      "1      Central\\tBank\\tof\\tKenya  \n",
      "2                         BCEAO  \n",
      "3              Bank\\tof\\tUganda  \n",
      "4  National\\tBank\\tof\\tEthiopia  \n"
     ]
    }
   ],
   "source": [
    "import pandas as pd\n",
    "\n",
    "# Load stream_table_1.csv\n",
    "df1 = pd.read_csv(r'C:\\Users\\clint\\Desktop\\RER\\_output\\data\\Remittance_3\\LatAm\\latam_stream_table_1.csv', encoding='utf-8', engine='python')\n",
    "\n",
    "# Load stream_table_2_cleaned.csv\n",
    "df2 = pd.read_csv(r'C:\\Users\\clint\\Desktop\\RER\\_output\\data\\Remittance_3\\stream_table_2_cleaned.csv', encoding='utf-8', engine='python')\n",
    "\n",
    "# Display the first few rows of each dataframe\n",
    "print(df1.head())\n",
    "print(df2.head())"
   ]
  },
  {
   "cell_type": "code",
   "execution_count": 11,
   "id": "40807a73",
   "metadata": {},
   "outputs": [
    {
     "data": {
      "application/vnd.microsoft.datawrangler.viewer.v0+json": {
       "columns": [
        {
         "name": "index",
         "rawType": "int64",
         "type": "integer"
        },
        {
         "name": "0",
         "rawType": "object",
         "type": "unknown"
        },
        {
         "name": "1",
         "rawType": "object",
         "type": "unknown"
        },
        {
         "name": "2",
         "rawType": "object",
         "type": "unknown"
        },
        {
         "name": "3",
         "rawType": "object",
         "type": "unknown"
        },
        {
         "name": "4",
         "rawType": "object",
         "type": "unknown"
        },
        {
         "name": "5",
         "rawType": "object",
         "type": "unknown"
        }
       ],
       "ref": "d9cf9361-0330-42dd-8d00-97fd4fabc6fb",
       "rows": [
        [
         "0",
         "Indicator:\tB\t-\tCentral\tBank\tremittance\tinflows",
         null,
         null,
         null,
         null,
         null
        ],
        [
         "1",
         "Sending\tcountry",
         "Receive\tcountry",
         "Date",
         "Value",
         "Unit",
         "Source"
        ],
        [
         "2",
         "Afghanistan",
         "Ecuador",
         "2021",
         "0.03859066",
         "USD\tmillions",
         "Central\tBank\tData"
        ],
        [
         "3",
         null,
         "Mexico",
         "2022",
         "0.295915",
         "USD\tmillions",
         "Central\tBank\tData"
        ],
        [
         "4",
         null,
         "Panama",
         "2022",
         "0.000387472",
         "USD\tmillions",
         "INEC"
        ],
        [
         "5",
         "Albania",
         "Ecuador",
         "2021",
         "1.89796382",
         "USD\tmillions",
         "Central\tBank\tData"
        ],
        [
         "6",
         null,
         "Mexico",
         "2022",
         "0.023831",
         "USD\tmillions",
         "Central\tBank\tData"
        ],
        [
         "7",
         null,
         "Panama",
         "2022",
         "0.038935399",
         "USD\tmillions",
         "INEC"
        ],
        [
         "8",
         "American\tSamoa",
         "Ecuador",
         "2021",
         "0.0553291",
         "USD\tmillions",
         "Central\tBank\tData"
        ],
        [
         "9",
         "Angola",
         "Brazil",
         "2022",
         "8.32422068",
         "USD\tmillions",
         "Central\tBank\tData"
        ],
        [
         "10",
         null,
         "Ecuador",
         "2021",
         "0.00924998",
         "USD\tmillions",
         "Central\tBank\tData"
        ],
        [
         "11",
         null,
         "Mexico",
         "2022",
         "0.021185",
         "USD\tmillions",
         "Central\tBank\tData"
        ],
        [
         "12",
         null,
         "Panama",
         "2022",
         "0.00090577",
         "USD\tmillions",
         "INEC"
        ],
        [
         "13",
         "Anguilla",
         "Ecuador",
         "2021",
         "0.0424175",
         "USD\tmillions",
         "Central\tBank\tData"
        ],
        [
         "14",
         null,
         "Mexico",
         "2022",
         "0.056245",
         "USD\tmillions",
         "Central\tBank\tData"
        ],
        [
         "15",
         "Antigua\tand\tBarbuda",
         "Ecuador",
         "2021",
         "0.05750221",
         "USD\tmillions",
         "Central\tBank\tData"
        ],
        [
         "16",
         null,
         "Jamaica",
         "2022",
         "7.648208936",
         "USD\tmillions",
         "Central\tBank\tData"
        ],
        [
         "17",
         null,
         "Mexico",
         "2022",
         "0.01536",
         "USD\tmillions",
         "Central\tBank\tData"
        ],
        [
         "18",
         null,
         "Panama",
         "2022",
         "0.102322835",
         "USD\tmillions",
         "INEC"
        ],
        [
         "19",
         "Argentina",
         "Bolivia",
         "2022",
         "68",
         "USD\tmillions",
         "Central\tBank\tData"
        ],
        [
         "20",
         null,
         "Chile",
         "2021",
         "8.239642018",
         "USD\tmillions",
         "Central\tBank\tData"
        ],
        [
         "21",
         null,
         "Colombia",
         "2022",
         "18.009561145",
         "USD\tmillions",
         "Central\tBank\tData"
        ],
        [
         "22",
         null,
         "Ecuador",
         "2021",
         "6.4922729",
         "USD\tmillions",
         "Central\tBank\tData"
        ],
        [
         "23",
         null,
         "Mexico",
         "2022",
         "18.71145",
         "USD\tmillions",
         "Central\tBank\tData"
        ],
        [
         "24",
         null,
         "Panama",
         "2022",
         "0.802349126",
         "USD\tmillions",
         "INEC"
        ],
        [
         "25",
         null,
         "Paraguay",
         "2022",
         "25.403764574",
         "USD\tmillions",
         "Central\tBank\tData"
        ],
        [
         "26",
         "Armenia",
         "Ecuador",
         "2021",
         "0.0034",
         "USD\tmillions",
         "Central\tBank\tData"
        ],
        [
         "27",
         null,
         "Mexico",
         "2022",
         "0.05807",
         "USD\tmillions",
         "Central\tBank\tData"
        ],
        [
         "28",
         "Aruba",
         "Colombia",
         "2022",
         "33.061651351",
         "USD\tmillions",
         "Central\tBank\tData"
        ],
        [
         "29",
         null,
         "Ecuador",
         "2021",
         "2.48260401",
         "USD\tmillions",
         "Central\tBank\tData"
        ],
        [
         "30",
         null,
         "Mexico",
         "2022",
         "0.052949",
         "USD\tmillions",
         "Central\tBank\tData"
        ],
        [
         "31",
         null,
         "Panama",
         "2022",
         "0.371314345",
         "USD\tmillions",
         "INEC"
        ],
        [
         "32",
         null,
         "Suriname",
         "2022",
         "0.616751910",
         "USD\tmillions",
         "Central\tBank\tData"
        ],
        [
         "33",
         "Australia",
         "Chile",
         "2021",
         "8.455789159",
         "USD\tmillions",
         "Central\tBank\tData"
        ],
        [
         "34",
         null,
         "Colombia",
         "2022",
         "139.554616564",
         "USD\tmillions",
         "Central\tBank\tData"
        ],
        [
         "35",
         null,
         "Ecuador",
         "2021",
         "5.56670612",
         "USD\tmillions",
         "Central\tBank\tData"
        ],
        [
         "36",
         null,
         "Mexico",
         "2022",
         "6.321704",
         "USD\tmillions",
         "Central\tBank\tData"
        ],
        [
         "37",
         null,
         "Panama",
         "2022",
         "0.606995904",
         "USD\tmillions",
         "INEC"
        ],
        [
         "38",
         "Austria",
         "Ecuador",
         "2021",
         "2.27691379",
         "USD\tmillions",
         "Central\tBank\tData"
        ],
        [
         "39",
         null,
         "Mexico",
         "2022",
         "0.3355",
         "USD\tmillions",
         "Central\tBank\tData"
        ],
        [
         "40",
         null,
         "Panama",
         "2022",
         "0.260785796",
         "USD\tmillions",
         "INEC"
        ],
        [
         "41",
         "Azerbaijan",
         "Ecuador",
         "2021",
         "0.1052554",
         "USD\tmillions",
         "Central\tBank\tData"
        ],
        [
         "42",
         null,
         "Mexico",
         "2022",
         "0.000339",
         "USD\tmillions",
         "Central\tBank\tData"
        ],
        [
         "43",
         "Bahamas",
         "Ecuador",
         "2021",
         "1.19725033",
         "USD\tmillions",
         "Central\tBank\tData"
        ],
        [
         "44",
         null,
         "Haiti",
         "2019",
         "47.883664352",
         "USD\tmillions",
         "Central\tBank\tData"
        ],
        [
         "45",
         null,
         "Jamaica",
         "2022",
         "21.752802625",
         "USD\tmillions",
         "Central\tBank\tData"
        ],
        [
         "46",
         null,
         "Mexico",
         "2022",
         "1.002488",
         "USD\tmillions",
         "Central\tBank\tData"
        ],
        [
         "47",
         null,
         "Panama",
         "2022",
         "0.964305300",
         "USD\tmillions",
         "INEC"
        ],
        [
         "48",
         "Bahrain",
         "Ecuador",
         "2021",
         "0.06671668",
         "USD\tmillions",
         "Central\tBank\tData"
        ],
        [
         "49",
         null,
         "Mexico",
         "2022",
         "0.053798",
         "USD\tmillions",
         "Central\tBank\tData"
        ]
       ],
       "shape": {
        "columns": 6,
        "rows": 90
       }
      },
      "text/html": [
       "<div>\n",
       "<style scoped>\n",
       "    .dataframe tbody tr th:only-of-type {\n",
       "        vertical-align: middle;\n",
       "    }\n",
       "\n",
       "    .dataframe tbody tr th {\n",
       "        vertical-align: top;\n",
       "    }\n",
       "\n",
       "    .dataframe thead th {\n",
       "        text-align: right;\n",
       "    }\n",
       "</style>\n",
       "<table border=\"1\" class=\"dataframe\">\n",
       "  <thead>\n",
       "    <tr style=\"text-align: right;\">\n",
       "      <th></th>\n",
       "      <th>0</th>\n",
       "      <th>1</th>\n",
       "      <th>2</th>\n",
       "      <th>3</th>\n",
       "      <th>4</th>\n",
       "      <th>5</th>\n",
       "    </tr>\n",
       "  </thead>\n",
       "  <tbody>\n",
       "    <tr>\n",
       "      <th>0</th>\n",
       "      <td>Indicator:\\tB\\t-\\tCentral\\tBank\\tremittance\\ti...</td>\n",
       "      <td>NaN</td>\n",
       "      <td>NaN</td>\n",
       "      <td>NaN</td>\n",
       "      <td>NaN</td>\n",
       "      <td>NaN</td>\n",
       "    </tr>\n",
       "    <tr>\n",
       "      <th>1</th>\n",
       "      <td>Sending\\tcountry</td>\n",
       "      <td>Receive\\tcountry</td>\n",
       "      <td>Date</td>\n",
       "      <td>Value</td>\n",
       "      <td>Unit</td>\n",
       "      <td>Source</td>\n",
       "    </tr>\n",
       "    <tr>\n",
       "      <th>2</th>\n",
       "      <td>Afghanistan</td>\n",
       "      <td>Ecuador</td>\n",
       "      <td>2021</td>\n",
       "      <td>0.03859066</td>\n",
       "      <td>USD\\tmillions</td>\n",
       "      <td>Central\\tBank\\tData</td>\n",
       "    </tr>\n",
       "    <tr>\n",
       "      <th>3</th>\n",
       "      <td>NaN</td>\n",
       "      <td>Mexico</td>\n",
       "      <td>2022</td>\n",
       "      <td>0.295915</td>\n",
       "      <td>USD\\tmillions</td>\n",
       "      <td>Central\\tBank\\tData</td>\n",
       "    </tr>\n",
       "    <tr>\n",
       "      <th>4</th>\n",
       "      <td>NaN</td>\n",
       "      <td>Panama</td>\n",
       "      <td>2022</td>\n",
       "      <td>0.000387472</td>\n",
       "      <td>USD\\tmillions</td>\n",
       "      <td>INEC</td>\n",
       "    </tr>\n",
       "    <tr>\n",
       "      <th>...</th>\n",
       "      <td>...</td>\n",
       "      <td>...</td>\n",
       "      <td>...</td>\n",
       "      <td>...</td>\n",
       "      <td>...</td>\n",
       "      <td>...</td>\n",
       "    </tr>\n",
       "    <tr>\n",
       "      <th>85</th>\n",
       "      <td>NaN</td>\n",
       "      <td>Panama</td>\n",
       "      <td>2022</td>\n",
       "      <td>9.082440833</td>\n",
       "      <td>USD\\tmillions</td>\n",
       "      <td>INEC</td>\n",
       "    </tr>\n",
       "    <tr>\n",
       "      <th>86</th>\n",
       "      <td>NaN</td>\n",
       "      <td>Paraguay</td>\n",
       "      <td>2022</td>\n",
       "      <td>11.838549857</td>\n",
       "      <td>USD\\tmillions</td>\n",
       "      <td>Central\\tBank\\tData</td>\n",
       "    </tr>\n",
       "    <tr>\n",
       "      <th>87</th>\n",
       "      <td>British\\tVirgin\\tIslands</td>\n",
       "      <td>Ecuador</td>\n",
       "      <td>2021</td>\n",
       "      <td>0.01832945</td>\n",
       "      <td>USD\\tmillions</td>\n",
       "      <td>Central\\tBank\\tData</td>\n",
       "    </tr>\n",
       "    <tr>\n",
       "      <th>88</th>\n",
       "      <td>NaN</td>\n",
       "      <td>Jamaica</td>\n",
       "      <td>2022</td>\n",
       "      <td>7.559672433</td>\n",
       "      <td>USD\\tmillions</td>\n",
       "      <td>Central\\tBank\\tData</td>\n",
       "    </tr>\n",
       "    <tr>\n",
       "      <th>89</th>\n",
       "      <td>NaN</td>\n",
       "      <td>Mexico</td>\n",
       "      <td>2022</td>\n",
       "      <td>0.007236</td>\n",
       "      <td>USD\\tmillions</td>\n",
       "      <td>NaN</td>\n",
       "    </tr>\n",
       "  </tbody>\n",
       "</table>\n",
       "<p>90 rows × 6 columns</p>\n",
       "</div>"
      ],
      "text/plain": [
       "                                                    0                 1     2  \\\n",
       "0   Indicator:\\tB\\t-\\tCentral\\tBank\\tremittance\\ti...               NaN   NaN   \n",
       "1                                    Sending\\tcountry  Receive\\tcountry  Date   \n",
       "2                                         Afghanistan           Ecuador  2021   \n",
       "3                                                 NaN            Mexico  2022   \n",
       "4                                                 NaN            Panama  2022   \n",
       "..                                                ...               ...   ...   \n",
       "85                                                NaN            Panama  2022   \n",
       "86                                                NaN          Paraguay  2022   \n",
       "87                           British\\tVirgin\\tIslands           Ecuador  2021   \n",
       "88                                                NaN           Jamaica  2022   \n",
       "89                                                NaN            Mexico  2022   \n",
       "\n",
       "               3              4                    5  \n",
       "0            NaN            NaN                  NaN  \n",
       "1          Value           Unit               Source  \n",
       "2     0.03859066  USD\\tmillions  Central\\tBank\\tData  \n",
       "3       0.295915  USD\\tmillions  Central\\tBank\\tData  \n",
       "4    0.000387472  USD\\tmillions                 INEC  \n",
       "..           ...            ...                  ...  \n",
       "85   9.082440833  USD\\tmillions                 INEC  \n",
       "86  11.838549857  USD\\tmillions  Central\\tBank\\tData  \n",
       "87    0.01832945  USD\\tmillions  Central\\tBank\\tData  \n",
       "88   7.559672433  USD\\tmillions  Central\\tBank\\tData  \n",
       "89      0.007236  USD\\tmillions                  NaN  \n",
       "\n",
       "[90 rows x 6 columns]"
      ]
     },
     "execution_count": 11,
     "metadata": {},
     "output_type": "execute_result"
    }
   ],
   "source": [
    "df1"
   ]
  },
  {
   "cell_type": "code",
   "execution_count": 12,
   "id": "169c25f3",
   "metadata": {},
   "outputs": [
    {
     "data": {
      "application/vnd.microsoft.datawrangler.viewer.v0+json": {
       "columns": [
        {
         "name": "index",
         "rawType": "int64",
         "type": "integer"
        },
        {
         "name": "0",
         "rawType": "object",
         "type": "unknown"
        },
        {
         "name": "1",
         "rawType": "object",
         "type": "string"
        },
        {
         "name": "2",
         "rawType": "object",
         "type": "string"
        },
        {
         "name": "3",
         "rawType": "object",
         "type": "string"
        },
        {
         "name": "4",
         "rawType": "object",
         "type": "string"
        },
        {
         "name": "5",
         "rawType": "object",
         "type": "unknown"
        }
       ],
       "ref": "45c7a6b8-0f6e-4499-b94d-d8462407e3d6",
       "rows": [
        [
         "0",
         "Sending\tcountry",
         "Receive\tcountry",
         "Date",
         "Value",
         "Unit",
         "Source"
        ],
        [
         "1",
         "Afghanistan",
         "Ecuador",
         "2021",
         "0.03859066",
         "USD\tmillions",
         "Central\tBank\tData"
        ],
        [
         "2",
         null,
         "Mexico",
         "2022",
         "0.295915",
         "USD\tmillions",
         "Central\tBank\tData"
        ],
        [
         "3",
         null,
         "Panama",
         "2022",
         "0.000387472",
         "USD\tmillions",
         "INEC"
        ],
        [
         "4",
         "Albania",
         "Ecuador",
         "2021",
         "1.89796382",
         "USD\tmillions",
         "Central\tBank\tData"
        ],
        [
         "5",
         null,
         "Mexico",
         "2022",
         "0.023831",
         "USD\tmillions",
         "Central\tBank\tData"
        ],
        [
         "6",
         null,
         "Panama",
         "2022",
         "0.038935399",
         "USD\tmillions",
         "INEC"
        ],
        [
         "7",
         "American\tSamoa",
         "Ecuador",
         "2021",
         "0.0553291",
         "USD\tmillions",
         "Central\tBank\tData"
        ],
        [
         "8",
         "Angola",
         "Brazil",
         "2022",
         "8.32422068",
         "USD\tmillions",
         "Central\tBank\tData"
        ],
        [
         "9",
         null,
         "Ecuador",
         "2021",
         "0.00924998",
         "USD\tmillions",
         "Central\tBank\tData"
        ],
        [
         "10",
         null,
         "Mexico",
         "2022",
         "0.021185",
         "USD\tmillions",
         "Central\tBank\tData"
        ],
        [
         "11",
         null,
         "Panama",
         "2022",
         "0.00090577",
         "USD\tmillions",
         "INEC"
        ],
        [
         "12",
         "Anguilla",
         "Ecuador",
         "2021",
         "0.0424175",
         "USD\tmillions",
         "Central\tBank\tData"
        ],
        [
         "13",
         null,
         "Mexico",
         "2022",
         "0.056245",
         "USD\tmillions",
         "Central\tBank\tData"
        ],
        [
         "14",
         "Antigua\tand\tBarbuda",
         "Ecuador",
         "2021",
         "0.05750221",
         "USD\tmillions",
         "Central\tBank\tData"
        ],
        [
         "15",
         null,
         "Jamaica",
         "2022",
         "7.648208936",
         "USD\tmillions",
         "Central\tBank\tData"
        ],
        [
         "16",
         null,
         "Mexico",
         "2022",
         "0.01536",
         "USD\tmillions",
         "Central\tBank\tData"
        ],
        [
         "17",
         null,
         "Panama",
         "2022",
         "0.102322835",
         "USD\tmillions",
         "INEC"
        ],
        [
         "18",
         "Argentina",
         "Bolivia",
         "2022",
         "68",
         "USD\tmillions",
         "Central\tBank\tData"
        ],
        [
         "19",
         null,
         "Chile",
         "2021",
         "8.239642018",
         "USD\tmillions",
         "Central\tBank\tData"
        ],
        [
         "20",
         null,
         "Colombia",
         "2022",
         "18.009561145",
         "USD\tmillions",
         "Central\tBank\tData"
        ],
        [
         "21",
         null,
         "Ecuador",
         "2021",
         "6.4922729",
         "USD\tmillions",
         "Central\tBank\tData"
        ],
        [
         "22",
         null,
         "Mexico",
         "2022",
         "18.71145",
         "USD\tmillions",
         "Central\tBank\tData"
        ],
        [
         "23",
         null,
         "Panama",
         "2022",
         "0.802349126",
         "USD\tmillions",
         "INEC"
        ],
        [
         "24",
         null,
         "Paraguay",
         "2022",
         "25.403764574",
         "USD\tmillions",
         "Central\tBank\tData"
        ],
        [
         "25",
         "Armenia",
         "Ecuador",
         "2021",
         "0.0034",
         "USD\tmillions",
         "Central\tBank\tData"
        ],
        [
         "26",
         null,
         "Mexico",
         "2022",
         "0.05807",
         "USD\tmillions",
         "Central\tBank\tData"
        ],
        [
         "27",
         "Aruba",
         "Colombia",
         "2022",
         "33.061651351",
         "USD\tmillions",
         "Central\tBank\tData"
        ],
        [
         "28",
         null,
         "Ecuador",
         "2021",
         "2.48260401",
         "USD\tmillions",
         "Central\tBank\tData"
        ],
        [
         "29",
         null,
         "Mexico",
         "2022",
         "0.052949",
         "USD\tmillions",
         "Central\tBank\tData"
        ],
        [
         "30",
         null,
         "Panama",
         "2022",
         "0.371314345",
         "USD\tmillions",
         "INEC"
        ],
        [
         "31",
         null,
         "Suriname",
         "2022",
         "0.616751910",
         "USD\tmillions",
         "Central\tBank\tData"
        ],
        [
         "32",
         "Australia",
         "Chile",
         "2021",
         "8.455789159",
         "USD\tmillions",
         "Central\tBank\tData"
        ],
        [
         "33",
         null,
         "Colombia",
         "2022",
         "139.554616564",
         "USD\tmillions",
         "Central\tBank\tData"
        ],
        [
         "34",
         null,
         "Ecuador",
         "2021",
         "5.56670612",
         "USD\tmillions",
         "Central\tBank\tData"
        ],
        [
         "35",
         null,
         "Mexico",
         "2022",
         "6.321704",
         "USD\tmillions",
         "Central\tBank\tData"
        ],
        [
         "36",
         null,
         "Panama",
         "2022",
         "0.606995904",
         "USD\tmillions",
         "INEC"
        ],
        [
         "37",
         "Austria",
         "Ecuador",
         "2021",
         "2.27691379",
         "USD\tmillions",
         "Central\tBank\tData"
        ],
        [
         "38",
         null,
         "Mexico",
         "2022",
         "0.3355",
         "USD\tmillions",
         "Central\tBank\tData"
        ],
        [
         "39",
         null,
         "Panama",
         "2022",
         "0.260785796",
         "USD\tmillions",
         "INEC"
        ],
        [
         "40",
         "Azerbaijan",
         "Ecuador",
         "2021",
         "0.1052554",
         "USD\tmillions",
         "Central\tBank\tData"
        ],
        [
         "41",
         null,
         "Mexico",
         "2022",
         "0.000339",
         "USD\tmillions",
         "Central\tBank\tData"
        ],
        [
         "42",
         "Bahamas",
         "Ecuador",
         "2021",
         "1.19725033",
         "USD\tmillions",
         "Central\tBank\tData"
        ],
        [
         "43",
         null,
         "Haiti",
         "2019",
         "47.883664352",
         "USD\tmillions",
         "Central\tBank\tData"
        ],
        [
         "44",
         null,
         "Jamaica",
         "2022",
         "21.752802625",
         "USD\tmillions",
         "Central\tBank\tData"
        ],
        [
         "45",
         null,
         "Mexico",
         "2022",
         "1.002488",
         "USD\tmillions",
         "Central\tBank\tData"
        ],
        [
         "46",
         null,
         "Panama",
         "2022",
         "0.964305300",
         "USD\tmillions",
         "INEC"
        ],
        [
         "47",
         "Bahrain",
         "Ecuador",
         "2021",
         "0.06671668",
         "USD\tmillions",
         "Central\tBank\tData"
        ],
        [
         "48",
         null,
         "Mexico",
         "2022",
         "0.053798",
         "USD\tmillions",
         "Central\tBank\tData"
        ],
        [
         "49",
         "Barbados",
         "Ecuador",
         "2021",
         "0.01994765",
         "USD\tmillions",
         "Central\tBank\tData"
        ]
       ],
       "shape": {
        "columns": 6,
        "rows": 89
       }
      },
      "text/html": [
       "<div>\n",
       "<style scoped>\n",
       "    .dataframe tbody tr th:only-of-type {\n",
       "        vertical-align: middle;\n",
       "    }\n",
       "\n",
       "    .dataframe tbody tr th {\n",
       "        vertical-align: top;\n",
       "    }\n",
       "\n",
       "    .dataframe thead th {\n",
       "        text-align: right;\n",
       "    }\n",
       "</style>\n",
       "<table border=\"1\" class=\"dataframe\">\n",
       "  <thead>\n",
       "    <tr style=\"text-align: right;\">\n",
       "      <th></th>\n",
       "      <th>0</th>\n",
       "      <th>1</th>\n",
       "      <th>2</th>\n",
       "      <th>3</th>\n",
       "      <th>4</th>\n",
       "      <th>5</th>\n",
       "    </tr>\n",
       "  </thead>\n",
       "  <tbody>\n",
       "    <tr>\n",
       "      <th>0</th>\n",
       "      <td>Sending\\tcountry</td>\n",
       "      <td>Receive\\tcountry</td>\n",
       "      <td>Date</td>\n",
       "      <td>Value</td>\n",
       "      <td>Unit</td>\n",
       "      <td>Source</td>\n",
       "    </tr>\n",
       "    <tr>\n",
       "      <th>1</th>\n",
       "      <td>Afghanistan</td>\n",
       "      <td>Ecuador</td>\n",
       "      <td>2021</td>\n",
       "      <td>0.03859066</td>\n",
       "      <td>USD\\tmillions</td>\n",
       "      <td>Central\\tBank\\tData</td>\n",
       "    </tr>\n",
       "    <tr>\n",
       "      <th>2</th>\n",
       "      <td>NaN</td>\n",
       "      <td>Mexico</td>\n",
       "      <td>2022</td>\n",
       "      <td>0.295915</td>\n",
       "      <td>USD\\tmillions</td>\n",
       "      <td>Central\\tBank\\tData</td>\n",
       "    </tr>\n",
       "    <tr>\n",
       "      <th>3</th>\n",
       "      <td>NaN</td>\n",
       "      <td>Panama</td>\n",
       "      <td>2022</td>\n",
       "      <td>0.000387472</td>\n",
       "      <td>USD\\tmillions</td>\n",
       "      <td>INEC</td>\n",
       "    </tr>\n",
       "    <tr>\n",
       "      <th>4</th>\n",
       "      <td>Albania</td>\n",
       "      <td>Ecuador</td>\n",
       "      <td>2021</td>\n",
       "      <td>1.89796382</td>\n",
       "      <td>USD\\tmillions</td>\n",
       "      <td>Central\\tBank\\tData</td>\n",
       "    </tr>\n",
       "    <tr>\n",
       "      <th>...</th>\n",
       "      <td>...</td>\n",
       "      <td>...</td>\n",
       "      <td>...</td>\n",
       "      <td>...</td>\n",
       "      <td>...</td>\n",
       "      <td>...</td>\n",
       "    </tr>\n",
       "    <tr>\n",
       "      <th>84</th>\n",
       "      <td>NaN</td>\n",
       "      <td>Panama</td>\n",
       "      <td>2022</td>\n",
       "      <td>9.082440833</td>\n",
       "      <td>USD\\tmillions</td>\n",
       "      <td>INEC</td>\n",
       "    </tr>\n",
       "    <tr>\n",
       "      <th>85</th>\n",
       "      <td>NaN</td>\n",
       "      <td>Paraguay</td>\n",
       "      <td>2022</td>\n",
       "      <td>11.838549857</td>\n",
       "      <td>USD\\tmillions</td>\n",
       "      <td>Central\\tBank\\tData</td>\n",
       "    </tr>\n",
       "    <tr>\n",
       "      <th>86</th>\n",
       "      <td>British\\tVirgin\\tIslands</td>\n",
       "      <td>Ecuador</td>\n",
       "      <td>2021</td>\n",
       "      <td>0.01832945</td>\n",
       "      <td>USD\\tmillions</td>\n",
       "      <td>Central\\tBank\\tData</td>\n",
       "    </tr>\n",
       "    <tr>\n",
       "      <th>87</th>\n",
       "      <td>NaN</td>\n",
       "      <td>Jamaica</td>\n",
       "      <td>2022</td>\n",
       "      <td>7.559672433</td>\n",
       "      <td>USD\\tmillions</td>\n",
       "      <td>Central\\tBank\\tData</td>\n",
       "    </tr>\n",
       "    <tr>\n",
       "      <th>88</th>\n",
       "      <td>NaN</td>\n",
       "      <td>Mexico</td>\n",
       "      <td>2022</td>\n",
       "      <td>0.007236</td>\n",
       "      <td>USD\\tmillions</td>\n",
       "      <td>NaN</td>\n",
       "    </tr>\n",
       "  </tbody>\n",
       "</table>\n",
       "<p>89 rows × 6 columns</p>\n",
       "</div>"
      ],
      "text/plain": [
       "                           0                 1     2             3  \\\n",
       "0           Sending\\tcountry  Receive\\tcountry  Date         Value   \n",
       "1                Afghanistan           Ecuador  2021    0.03859066   \n",
       "2                        NaN            Mexico  2022      0.295915   \n",
       "3                        NaN            Panama  2022   0.000387472   \n",
       "4                    Albania           Ecuador  2021    1.89796382   \n",
       "..                       ...               ...   ...           ...   \n",
       "84                       NaN            Panama  2022   9.082440833   \n",
       "85                       NaN          Paraguay  2022  11.838549857   \n",
       "86  British\\tVirgin\\tIslands           Ecuador  2021    0.01832945   \n",
       "87                       NaN           Jamaica  2022   7.559672433   \n",
       "88                       NaN            Mexico  2022      0.007236   \n",
       "\n",
       "                4                    5  \n",
       "0            Unit               Source  \n",
       "1   USD\\tmillions  Central\\tBank\\tData  \n",
       "2   USD\\tmillions  Central\\tBank\\tData  \n",
       "3   USD\\tmillions                 INEC  \n",
       "4   USD\\tmillions  Central\\tBank\\tData  \n",
       "..            ...                  ...  \n",
       "84  USD\\tmillions                 INEC  \n",
       "85  USD\\tmillions  Central\\tBank\\tData  \n",
       "86  USD\\tmillions  Central\\tBank\\tData  \n",
       "87  USD\\tmillions  Central\\tBank\\tData  \n",
       "88  USD\\tmillions                  NaN  \n",
       "\n",
       "[89 rows x 6 columns]"
      ]
     },
     "execution_count": 12,
     "metadata": {},
     "output_type": "execute_result"
    }
   ],
   "source": [
    "#drop the first tow\n",
    "df1 = df1.drop(index=0).reset_index(drop=True)\n",
    "df1"
   ]
  },
  {
   "cell_type": "code",
   "execution_count": 13,
   "id": "74a5364f",
   "metadata": {},
   "outputs": [
    {
     "data": {
      "application/vnd.microsoft.datawrangler.viewer.v0+json": {
       "columns": [
        {
         "name": "index",
         "rawType": "int64",
         "type": "integer"
        },
        {
         "name": "Sending\tcountry",
         "rawType": "object",
         "type": "unknown"
        },
        {
         "name": "Receive\tcountry",
         "rawType": "object",
         "type": "string"
        },
        {
         "name": "Date",
         "rawType": "object",
         "type": "string"
        },
        {
         "name": "Value",
         "rawType": "object",
         "type": "string"
        },
        {
         "name": "Unit",
         "rawType": "object",
         "type": "string"
        },
        {
         "name": "Source",
         "rawType": "object",
         "type": "unknown"
        }
       ],
       "ref": "420cc71b-b3a8-4258-b172-4acb63c311f0",
       "rows": [
        [
         "0",
         "Afghanistan",
         "Ecuador",
         "2021",
         "0.03859066",
         "USD\tmillions",
         "Central\tBank\tData"
        ],
        [
         "1",
         null,
         "Mexico",
         "2022",
         "0.295915",
         "USD\tmillions",
         "Central\tBank\tData"
        ],
        [
         "2",
         null,
         "Panama",
         "2022",
         "0.000387472",
         "USD\tmillions",
         "INEC"
        ],
        [
         "3",
         "Albania",
         "Ecuador",
         "2021",
         "1.89796382",
         "USD\tmillions",
         "Central\tBank\tData"
        ],
        [
         "4",
         null,
         "Mexico",
         "2022",
         "0.023831",
         "USD\tmillions",
         "Central\tBank\tData"
        ],
        [
         "5",
         null,
         "Panama",
         "2022",
         "0.038935399",
         "USD\tmillions",
         "INEC"
        ],
        [
         "6",
         "American\tSamoa",
         "Ecuador",
         "2021",
         "0.0553291",
         "USD\tmillions",
         "Central\tBank\tData"
        ],
        [
         "7",
         "Angola",
         "Brazil",
         "2022",
         "8.32422068",
         "USD\tmillions",
         "Central\tBank\tData"
        ],
        [
         "8",
         null,
         "Ecuador",
         "2021",
         "0.00924998",
         "USD\tmillions",
         "Central\tBank\tData"
        ],
        [
         "9",
         null,
         "Mexico",
         "2022",
         "0.021185",
         "USD\tmillions",
         "Central\tBank\tData"
        ],
        [
         "10",
         null,
         "Panama",
         "2022",
         "0.00090577",
         "USD\tmillions",
         "INEC"
        ],
        [
         "11",
         "Anguilla",
         "Ecuador",
         "2021",
         "0.0424175",
         "USD\tmillions",
         "Central\tBank\tData"
        ],
        [
         "12",
         null,
         "Mexico",
         "2022",
         "0.056245",
         "USD\tmillions",
         "Central\tBank\tData"
        ],
        [
         "13",
         "Antigua\tand\tBarbuda",
         "Ecuador",
         "2021",
         "0.05750221",
         "USD\tmillions",
         "Central\tBank\tData"
        ],
        [
         "14",
         null,
         "Jamaica",
         "2022",
         "7.648208936",
         "USD\tmillions",
         "Central\tBank\tData"
        ],
        [
         "15",
         null,
         "Mexico",
         "2022",
         "0.01536",
         "USD\tmillions",
         "Central\tBank\tData"
        ],
        [
         "16",
         null,
         "Panama",
         "2022",
         "0.102322835",
         "USD\tmillions",
         "INEC"
        ],
        [
         "17",
         "Argentina",
         "Bolivia",
         "2022",
         "68",
         "USD\tmillions",
         "Central\tBank\tData"
        ],
        [
         "18",
         null,
         "Chile",
         "2021",
         "8.239642018",
         "USD\tmillions",
         "Central\tBank\tData"
        ],
        [
         "19",
         null,
         "Colombia",
         "2022",
         "18.009561145",
         "USD\tmillions",
         "Central\tBank\tData"
        ],
        [
         "20",
         null,
         "Ecuador",
         "2021",
         "6.4922729",
         "USD\tmillions",
         "Central\tBank\tData"
        ],
        [
         "21",
         null,
         "Mexico",
         "2022",
         "18.71145",
         "USD\tmillions",
         "Central\tBank\tData"
        ],
        [
         "22",
         null,
         "Panama",
         "2022",
         "0.802349126",
         "USD\tmillions",
         "INEC"
        ],
        [
         "23",
         null,
         "Paraguay",
         "2022",
         "25.403764574",
         "USD\tmillions",
         "Central\tBank\tData"
        ],
        [
         "24",
         "Armenia",
         "Ecuador",
         "2021",
         "0.0034",
         "USD\tmillions",
         "Central\tBank\tData"
        ],
        [
         "25",
         null,
         "Mexico",
         "2022",
         "0.05807",
         "USD\tmillions",
         "Central\tBank\tData"
        ],
        [
         "26",
         "Aruba",
         "Colombia",
         "2022",
         "33.061651351",
         "USD\tmillions",
         "Central\tBank\tData"
        ],
        [
         "27",
         null,
         "Ecuador",
         "2021",
         "2.48260401",
         "USD\tmillions",
         "Central\tBank\tData"
        ],
        [
         "28",
         null,
         "Mexico",
         "2022",
         "0.052949",
         "USD\tmillions",
         "Central\tBank\tData"
        ],
        [
         "29",
         null,
         "Panama",
         "2022",
         "0.371314345",
         "USD\tmillions",
         "INEC"
        ],
        [
         "30",
         null,
         "Suriname",
         "2022",
         "0.616751910",
         "USD\tmillions",
         "Central\tBank\tData"
        ],
        [
         "31",
         "Australia",
         "Chile",
         "2021",
         "8.455789159",
         "USD\tmillions",
         "Central\tBank\tData"
        ],
        [
         "32",
         null,
         "Colombia",
         "2022",
         "139.554616564",
         "USD\tmillions",
         "Central\tBank\tData"
        ],
        [
         "33",
         null,
         "Ecuador",
         "2021",
         "5.56670612",
         "USD\tmillions",
         "Central\tBank\tData"
        ],
        [
         "34",
         null,
         "Mexico",
         "2022",
         "6.321704",
         "USD\tmillions",
         "Central\tBank\tData"
        ],
        [
         "35",
         null,
         "Panama",
         "2022",
         "0.606995904",
         "USD\tmillions",
         "INEC"
        ],
        [
         "36",
         "Austria",
         "Ecuador",
         "2021",
         "2.27691379",
         "USD\tmillions",
         "Central\tBank\tData"
        ],
        [
         "37",
         null,
         "Mexico",
         "2022",
         "0.3355",
         "USD\tmillions",
         "Central\tBank\tData"
        ],
        [
         "38",
         null,
         "Panama",
         "2022",
         "0.260785796",
         "USD\tmillions",
         "INEC"
        ],
        [
         "39",
         "Azerbaijan",
         "Ecuador",
         "2021",
         "0.1052554",
         "USD\tmillions",
         "Central\tBank\tData"
        ],
        [
         "40",
         null,
         "Mexico",
         "2022",
         "0.000339",
         "USD\tmillions",
         "Central\tBank\tData"
        ],
        [
         "41",
         "Bahamas",
         "Ecuador",
         "2021",
         "1.19725033",
         "USD\tmillions",
         "Central\tBank\tData"
        ],
        [
         "42",
         null,
         "Haiti",
         "2019",
         "47.883664352",
         "USD\tmillions",
         "Central\tBank\tData"
        ],
        [
         "43",
         null,
         "Jamaica",
         "2022",
         "21.752802625",
         "USD\tmillions",
         "Central\tBank\tData"
        ],
        [
         "44",
         null,
         "Mexico",
         "2022",
         "1.002488",
         "USD\tmillions",
         "Central\tBank\tData"
        ],
        [
         "45",
         null,
         "Panama",
         "2022",
         "0.964305300",
         "USD\tmillions",
         "INEC"
        ],
        [
         "46",
         "Bahrain",
         "Ecuador",
         "2021",
         "0.06671668",
         "USD\tmillions",
         "Central\tBank\tData"
        ],
        [
         "47",
         null,
         "Mexico",
         "2022",
         "0.053798",
         "USD\tmillions",
         "Central\tBank\tData"
        ],
        [
         "48",
         "Barbados",
         "Ecuador",
         "2021",
         "0.01994765",
         "USD\tmillions",
         "Central\tBank\tData"
        ],
        [
         "49",
         null,
         "Jamaica",
         "2022",
         "4.181996858",
         "USD\tmillions",
         "Central\tBank\tData"
        ]
       ],
       "shape": {
        "columns": 6,
        "rows": 88
       }
      },
      "text/html": [
       "<div>\n",
       "<style scoped>\n",
       "    .dataframe tbody tr th:only-of-type {\n",
       "        vertical-align: middle;\n",
       "    }\n",
       "\n",
       "    .dataframe tbody tr th {\n",
       "        vertical-align: top;\n",
       "    }\n",
       "\n",
       "    .dataframe thead th {\n",
       "        text-align: right;\n",
       "    }\n",
       "</style>\n",
       "<table border=\"1\" class=\"dataframe\">\n",
       "  <thead>\n",
       "    <tr style=\"text-align: right;\">\n",
       "      <th></th>\n",
       "      <th>Sending\\tcountry</th>\n",
       "      <th>Receive\\tcountry</th>\n",
       "      <th>Date</th>\n",
       "      <th>Value</th>\n",
       "      <th>Unit</th>\n",
       "      <th>Source</th>\n",
       "    </tr>\n",
       "  </thead>\n",
       "  <tbody>\n",
       "    <tr>\n",
       "      <th>0</th>\n",
       "      <td>Afghanistan</td>\n",
       "      <td>Ecuador</td>\n",
       "      <td>2021</td>\n",
       "      <td>0.03859066</td>\n",
       "      <td>USD\\tmillions</td>\n",
       "      <td>Central\\tBank\\tData</td>\n",
       "    </tr>\n",
       "    <tr>\n",
       "      <th>1</th>\n",
       "      <td>NaN</td>\n",
       "      <td>Mexico</td>\n",
       "      <td>2022</td>\n",
       "      <td>0.295915</td>\n",
       "      <td>USD\\tmillions</td>\n",
       "      <td>Central\\tBank\\tData</td>\n",
       "    </tr>\n",
       "    <tr>\n",
       "      <th>2</th>\n",
       "      <td>NaN</td>\n",
       "      <td>Panama</td>\n",
       "      <td>2022</td>\n",
       "      <td>0.000387472</td>\n",
       "      <td>USD\\tmillions</td>\n",
       "      <td>INEC</td>\n",
       "    </tr>\n",
       "    <tr>\n",
       "      <th>3</th>\n",
       "      <td>Albania</td>\n",
       "      <td>Ecuador</td>\n",
       "      <td>2021</td>\n",
       "      <td>1.89796382</td>\n",
       "      <td>USD\\tmillions</td>\n",
       "      <td>Central\\tBank\\tData</td>\n",
       "    </tr>\n",
       "    <tr>\n",
       "      <th>4</th>\n",
       "      <td>NaN</td>\n",
       "      <td>Mexico</td>\n",
       "      <td>2022</td>\n",
       "      <td>0.023831</td>\n",
       "      <td>USD\\tmillions</td>\n",
       "      <td>Central\\tBank\\tData</td>\n",
       "    </tr>\n",
       "    <tr>\n",
       "      <th>...</th>\n",
       "      <td>...</td>\n",
       "      <td>...</td>\n",
       "      <td>...</td>\n",
       "      <td>...</td>\n",
       "      <td>...</td>\n",
       "      <td>...</td>\n",
       "    </tr>\n",
       "    <tr>\n",
       "      <th>83</th>\n",
       "      <td>NaN</td>\n",
       "      <td>Panama</td>\n",
       "      <td>2022</td>\n",
       "      <td>9.082440833</td>\n",
       "      <td>USD\\tmillions</td>\n",
       "      <td>INEC</td>\n",
       "    </tr>\n",
       "    <tr>\n",
       "      <th>84</th>\n",
       "      <td>NaN</td>\n",
       "      <td>Paraguay</td>\n",
       "      <td>2022</td>\n",
       "      <td>11.838549857</td>\n",
       "      <td>USD\\tmillions</td>\n",
       "      <td>Central\\tBank\\tData</td>\n",
       "    </tr>\n",
       "    <tr>\n",
       "      <th>85</th>\n",
       "      <td>British\\tVirgin\\tIslands</td>\n",
       "      <td>Ecuador</td>\n",
       "      <td>2021</td>\n",
       "      <td>0.01832945</td>\n",
       "      <td>USD\\tmillions</td>\n",
       "      <td>Central\\tBank\\tData</td>\n",
       "    </tr>\n",
       "    <tr>\n",
       "      <th>86</th>\n",
       "      <td>NaN</td>\n",
       "      <td>Jamaica</td>\n",
       "      <td>2022</td>\n",
       "      <td>7.559672433</td>\n",
       "      <td>USD\\tmillions</td>\n",
       "      <td>Central\\tBank\\tData</td>\n",
       "    </tr>\n",
       "    <tr>\n",
       "      <th>87</th>\n",
       "      <td>NaN</td>\n",
       "      <td>Mexico</td>\n",
       "      <td>2022</td>\n",
       "      <td>0.007236</td>\n",
       "      <td>USD\\tmillions</td>\n",
       "      <td>NaN</td>\n",
       "    </tr>\n",
       "  </tbody>\n",
       "</table>\n",
       "<p>88 rows × 6 columns</p>\n",
       "</div>"
      ],
      "text/plain": [
       "0           Sending\\tcountry Receive\\tcountry  Date         Value  \\\n",
       "0                Afghanistan          Ecuador  2021    0.03859066   \n",
       "1                        NaN           Mexico  2022      0.295915   \n",
       "2                        NaN           Panama  2022   0.000387472   \n",
       "3                    Albania          Ecuador  2021    1.89796382   \n",
       "4                        NaN           Mexico  2022      0.023831   \n",
       "..                       ...              ...   ...           ...   \n",
       "83                       NaN           Panama  2022   9.082440833   \n",
       "84                       NaN         Paraguay  2022  11.838549857   \n",
       "85  British\\tVirgin\\tIslands          Ecuador  2021    0.01832945   \n",
       "86                       NaN          Jamaica  2022   7.559672433   \n",
       "87                       NaN           Mexico  2022      0.007236   \n",
       "\n",
       "0            Unit               Source  \n",
       "0   USD\\tmillions  Central\\tBank\\tData  \n",
       "1   USD\\tmillions  Central\\tBank\\tData  \n",
       "2   USD\\tmillions                 INEC  \n",
       "3   USD\\tmillions  Central\\tBank\\tData  \n",
       "4   USD\\tmillions  Central\\tBank\\tData  \n",
       "..            ...                  ...  \n",
       "83  USD\\tmillions                 INEC  \n",
       "84  USD\\tmillions  Central\\tBank\\tData  \n",
       "85  USD\\tmillions  Central\\tBank\\tData  \n",
       "86  USD\\tmillions  Central\\tBank\\tData  \n",
       "87  USD\\tmillions                  NaN  \n",
       "\n",
       "[88 rows x 6 columns]"
      ]
     },
     "execution_count": 13,
     "metadata": {},
     "output_type": "execute_result"
    }
   ],
   "source": [
    "#make the column names from the second row\n",
    "df1.columns = df1.iloc[0]\n",
    "df1 = df1.drop(index=0).reset_index(drop=True)\n",
    "df1"
   ]
  },
  {
   "cell_type": "code",
   "execution_count": 14,
   "id": "a40696d0",
   "metadata": {},
   "outputs": [
    {
     "name": "stdout",
     "output_type": "stream",
     "text": [
      "Updated column names:\n",
      "['Sending Country', 'Receiving Country', 'Date', 'Value', 'Unit', 'Source']\n",
      "\n",
      "DataFrame with updated columns:\n"
     ]
    },
    {
     "data": {
      "application/vnd.microsoft.datawrangler.viewer.v0+json": {
       "columns": [
        {
         "name": "index",
         "rawType": "int64",
         "type": "integer"
        },
        {
         "name": "Sending Country",
         "rawType": "object",
         "type": "unknown"
        },
        {
         "name": "Receiving Country",
         "rawType": "object",
         "type": "string"
        },
        {
         "name": "Date",
         "rawType": "object",
         "type": "string"
        },
        {
         "name": "Value",
         "rawType": "object",
         "type": "string"
        },
        {
         "name": "Unit",
         "rawType": "object",
         "type": "string"
        },
        {
         "name": "Source",
         "rawType": "object",
         "type": "string"
        }
       ],
       "ref": "3c72653e-f729-45d6-b90a-faf86fc49a52",
       "rows": [
        [
         "0",
         "Afghanistan",
         "Ecuador",
         "2021",
         "0.03859066",
         "USD\tmillions",
         "Central\tBank\tData"
        ],
        [
         "1",
         null,
         "Mexico",
         "2022",
         "0.295915",
         "USD\tmillions",
         "Central\tBank\tData"
        ],
        [
         "2",
         null,
         "Panama",
         "2022",
         "0.000387472",
         "USD\tmillions",
         "INEC"
        ],
        [
         "3",
         "Albania",
         "Ecuador",
         "2021",
         "1.89796382",
         "USD\tmillions",
         "Central\tBank\tData"
        ],
        [
         "4",
         null,
         "Mexico",
         "2022",
         "0.023831",
         "USD\tmillions",
         "Central\tBank\tData"
        ]
       ],
       "shape": {
        "columns": 6,
        "rows": 5
       }
      },
      "text/html": [
       "<div>\n",
       "<style scoped>\n",
       "    .dataframe tbody tr th:only-of-type {\n",
       "        vertical-align: middle;\n",
       "    }\n",
       "\n",
       "    .dataframe tbody tr th {\n",
       "        vertical-align: top;\n",
       "    }\n",
       "\n",
       "    .dataframe thead th {\n",
       "        text-align: right;\n",
       "    }\n",
       "</style>\n",
       "<table border=\"1\" class=\"dataframe\">\n",
       "  <thead>\n",
       "    <tr style=\"text-align: right;\">\n",
       "      <th></th>\n",
       "      <th>Sending Country</th>\n",
       "      <th>Receiving Country</th>\n",
       "      <th>Date</th>\n",
       "      <th>Value</th>\n",
       "      <th>Unit</th>\n",
       "      <th>Source</th>\n",
       "    </tr>\n",
       "  </thead>\n",
       "  <tbody>\n",
       "    <tr>\n",
       "      <th>0</th>\n",
       "      <td>Afghanistan</td>\n",
       "      <td>Ecuador</td>\n",
       "      <td>2021</td>\n",
       "      <td>0.03859066</td>\n",
       "      <td>USD\\tmillions</td>\n",
       "      <td>Central\\tBank\\tData</td>\n",
       "    </tr>\n",
       "    <tr>\n",
       "      <th>1</th>\n",
       "      <td>NaN</td>\n",
       "      <td>Mexico</td>\n",
       "      <td>2022</td>\n",
       "      <td>0.295915</td>\n",
       "      <td>USD\\tmillions</td>\n",
       "      <td>Central\\tBank\\tData</td>\n",
       "    </tr>\n",
       "    <tr>\n",
       "      <th>2</th>\n",
       "      <td>NaN</td>\n",
       "      <td>Panama</td>\n",
       "      <td>2022</td>\n",
       "      <td>0.000387472</td>\n",
       "      <td>USD\\tmillions</td>\n",
       "      <td>INEC</td>\n",
       "    </tr>\n",
       "    <tr>\n",
       "      <th>3</th>\n",
       "      <td>Albania</td>\n",
       "      <td>Ecuador</td>\n",
       "      <td>2021</td>\n",
       "      <td>1.89796382</td>\n",
       "      <td>USD\\tmillions</td>\n",
       "      <td>Central\\tBank\\tData</td>\n",
       "    </tr>\n",
       "    <tr>\n",
       "      <th>4</th>\n",
       "      <td>NaN</td>\n",
       "      <td>Mexico</td>\n",
       "      <td>2022</td>\n",
       "      <td>0.023831</td>\n",
       "      <td>USD\\tmillions</td>\n",
       "      <td>Central\\tBank\\tData</td>\n",
       "    </tr>\n",
       "  </tbody>\n",
       "</table>\n",
       "</div>"
      ],
      "text/plain": [
       "  Sending Country Receiving Country  Date        Value           Unit  \\\n",
       "0     Afghanistan           Ecuador  2021   0.03859066  USD\\tmillions   \n",
       "1             NaN            Mexico  2022     0.295915  USD\\tmillions   \n",
       "2             NaN            Panama  2022  0.000387472  USD\\tmillions   \n",
       "3         Albania           Ecuador  2021   1.89796382  USD\\tmillions   \n",
       "4             NaN            Mexico  2022     0.023831  USD\\tmillions   \n",
       "\n",
       "                Source  \n",
       "0  Central\\tBank\\tData  \n",
       "1  Central\\tBank\\tData  \n",
       "2                 INEC  \n",
       "3  Central\\tBank\\tData  \n",
       "4  Central\\tBank\\tData  "
      ]
     },
     "execution_count": 14,
     "metadata": {},
     "output_type": "execute_result"
    }
   ],
   "source": [
    "# Rename columns\n",
    "# Get current column names as a list\n",
    "columns = df1.columns.tolist()\n",
    "# rename the first column to \"Sending Country\"\n",
    "if columns:\n",
    "    columns[0] = \"Sending Country\"\n",
    "\n",
    "\n",
    "# Update the second column (index 1) to 'Receiving Country'\n",
    "if len(columns) > 1:\n",
    "    columns[1] = 'Receiving Country'\n",
    "\n",
    "# Update the third column (index 2) to 'Date'\n",
    "if len(columns) > 2:\n",
    "    columns[2] = 'Date'\n",
    "\n",
    "# Assign the updated column names back to the dataframe\n",
    "df1.columns = columns\n",
    "\n",
    "# Display the updated dataframe\n",
    "print(\"Updated column names:\")\n",
    "print(df1.columns.tolist())\n",
    "print(\"\\nDataFrame with updated columns:\")\n",
    "df1.head()"
   ]
  },
  {
   "cell_type": "code",
   "execution_count": 15,
   "id": "ab207535",
   "metadata": {},
   "outputs": [
    {
     "data": {
      "application/vnd.microsoft.datawrangler.viewer.v0+json": {
       "columns": [
        {
         "name": "index",
         "rawType": "int64",
         "type": "integer"
        },
        {
         "name": "Sending Country",
         "rawType": "object",
         "type": "unknown"
        },
        {
         "name": "Receiving Country",
         "rawType": "object",
         "type": "string"
        },
        {
         "name": "Date",
         "rawType": "object",
         "type": "string"
        },
        {
         "name": "Value",
         "rawType": "object",
         "type": "string"
        },
        {
         "name": "Unit",
         "rawType": "object",
         "type": "string"
        },
        {
         "name": "Source",
         "rawType": "object",
         "type": "unknown"
        }
       ],
       "ref": "da3d645c-afac-4bbe-b42d-a9b7ef34644f",
       "rows": [
        [
         "0",
         "Afghanistan",
         "Ecuador",
         "2021",
         "0.03859066",
         "USD\tmillions",
         "Central\tBank\tData"
        ],
        [
         "1",
         null,
         "Mexico",
         "2022",
         "0.295915",
         "USD\tmillions",
         "Central\tBank\tData"
        ],
        [
         "2",
         null,
         "Panama",
         "2022",
         "0.000387472",
         "USD\tmillions",
         "INEC"
        ],
        [
         "3",
         "Albania",
         "Ecuador",
         "2021",
         "1.89796382",
         "USD\tmillions",
         "Central\tBank\tData"
        ],
        [
         "4",
         null,
         "Mexico",
         "2022",
         "0.023831",
         "USD\tmillions",
         "Central\tBank\tData"
        ],
        [
         "5",
         null,
         "Panama",
         "2022",
         "0.038935399",
         "USD\tmillions",
         "INEC"
        ],
        [
         "6",
         "American\tSamoa",
         "Ecuador",
         "2021",
         "0.0553291",
         "USD\tmillions",
         "Central\tBank\tData"
        ],
        [
         "7",
         "Angola",
         "Brazil",
         "2022",
         "8.32422068",
         "USD\tmillions",
         "Central\tBank\tData"
        ],
        [
         "8",
         null,
         "Ecuador",
         "2021",
         "0.00924998",
         "USD\tmillions",
         "Central\tBank\tData"
        ],
        [
         "9",
         null,
         "Mexico",
         "2022",
         "0.021185",
         "USD\tmillions",
         "Central\tBank\tData"
        ],
        [
         "10",
         null,
         "Panama",
         "2022",
         "0.00090577",
         "USD\tmillions",
         "INEC"
        ],
        [
         "11",
         "Anguilla",
         "Ecuador",
         "2021",
         "0.0424175",
         "USD\tmillions",
         "Central\tBank\tData"
        ],
        [
         "12",
         null,
         "Mexico",
         "2022",
         "0.056245",
         "USD\tmillions",
         "Central\tBank\tData"
        ],
        [
         "13",
         "Antigua\tand\tBarbuda",
         "Ecuador",
         "2021",
         "0.05750221",
         "USD\tmillions",
         "Central\tBank\tData"
        ],
        [
         "14",
         null,
         "Jamaica",
         "2022",
         "7.648208936",
         "USD\tmillions",
         "Central\tBank\tData"
        ],
        [
         "15",
         null,
         "Mexico",
         "2022",
         "0.01536",
         "USD\tmillions",
         "Central\tBank\tData"
        ],
        [
         "16",
         null,
         "Panama",
         "2022",
         "0.102322835",
         "USD\tmillions",
         "INEC"
        ],
        [
         "17",
         "Argentina",
         "Bolivia",
         "2022",
         "68",
         "USD\tmillions",
         "Central\tBank\tData"
        ],
        [
         "18",
         null,
         "Chile",
         "2021",
         "8.239642018",
         "USD\tmillions",
         "Central\tBank\tData"
        ],
        [
         "19",
         null,
         "Colombia",
         "2022",
         "18.009561145",
         "USD\tmillions",
         "Central\tBank\tData"
        ],
        [
         "20",
         null,
         "Ecuador",
         "2021",
         "6.4922729",
         "USD\tmillions",
         "Central\tBank\tData"
        ],
        [
         "21",
         null,
         "Mexico",
         "2022",
         "18.71145",
         "USD\tmillions",
         "Central\tBank\tData"
        ],
        [
         "22",
         null,
         "Panama",
         "2022",
         "0.802349126",
         "USD\tmillions",
         "INEC"
        ],
        [
         "23",
         null,
         "Paraguay",
         "2022",
         "25.403764574",
         "USD\tmillions",
         "Central\tBank\tData"
        ],
        [
         "24",
         "Armenia",
         "Ecuador",
         "2021",
         "0.0034",
         "USD\tmillions",
         "Central\tBank\tData"
        ],
        [
         "25",
         null,
         "Mexico",
         "2022",
         "0.05807",
         "USD\tmillions",
         "Central\tBank\tData"
        ],
        [
         "26",
         "Aruba",
         "Colombia",
         "2022",
         "33.061651351",
         "USD\tmillions",
         "Central\tBank\tData"
        ],
        [
         "27",
         null,
         "Ecuador",
         "2021",
         "2.48260401",
         "USD\tmillions",
         "Central\tBank\tData"
        ],
        [
         "28",
         null,
         "Mexico",
         "2022",
         "0.052949",
         "USD\tmillions",
         "Central\tBank\tData"
        ],
        [
         "29",
         null,
         "Panama",
         "2022",
         "0.371314345",
         "USD\tmillions",
         "INEC"
        ],
        [
         "30",
         null,
         "Suriname",
         "2022",
         "0.616751910",
         "USD\tmillions",
         "Central\tBank\tData"
        ],
        [
         "31",
         "Australia",
         "Chile",
         "2021",
         "8.455789159",
         "USD\tmillions",
         "Central\tBank\tData"
        ],
        [
         "32",
         null,
         "Colombia",
         "2022",
         "139.554616564",
         "USD\tmillions",
         "Central\tBank\tData"
        ],
        [
         "33",
         null,
         "Ecuador",
         "2021",
         "5.56670612",
         "USD\tmillions",
         "Central\tBank\tData"
        ],
        [
         "34",
         null,
         "Mexico",
         "2022",
         "6.321704",
         "USD\tmillions",
         "Central\tBank\tData"
        ],
        [
         "35",
         null,
         "Panama",
         "2022",
         "0.606995904",
         "USD\tmillions",
         "INEC"
        ],
        [
         "36",
         "Austria",
         "Ecuador",
         "2021",
         "2.27691379",
         "USD\tmillions",
         "Central\tBank\tData"
        ],
        [
         "37",
         null,
         "Mexico",
         "2022",
         "0.3355",
         "USD\tmillions",
         "Central\tBank\tData"
        ],
        [
         "38",
         null,
         "Panama",
         "2022",
         "0.260785796",
         "USD\tmillions",
         "INEC"
        ],
        [
         "39",
         "Azerbaijan",
         "Ecuador",
         "2021",
         "0.1052554",
         "USD\tmillions",
         "Central\tBank\tData"
        ],
        [
         "40",
         null,
         "Mexico",
         "2022",
         "0.000339",
         "USD\tmillions",
         "Central\tBank\tData"
        ],
        [
         "41",
         "Bahamas",
         "Ecuador",
         "2021",
         "1.19725033",
         "USD\tmillions",
         "Central\tBank\tData"
        ],
        [
         "42",
         null,
         "Haiti",
         "2019",
         "47.883664352",
         "USD\tmillions",
         "Central\tBank\tData"
        ],
        [
         "43",
         null,
         "Jamaica",
         "2022",
         "21.752802625",
         "USD\tmillions",
         "Central\tBank\tData"
        ],
        [
         "44",
         null,
         "Mexico",
         "2022",
         "1.002488",
         "USD\tmillions",
         "Central\tBank\tData"
        ],
        [
         "45",
         null,
         "Panama",
         "2022",
         "0.964305300",
         "USD\tmillions",
         "INEC"
        ],
        [
         "46",
         "Bahrain",
         "Ecuador",
         "2021",
         "0.06671668",
         "USD\tmillions",
         "Central\tBank\tData"
        ],
        [
         "47",
         null,
         "Mexico",
         "2022",
         "0.053798",
         "USD\tmillions",
         "Central\tBank\tData"
        ],
        [
         "48",
         "Barbados",
         "Ecuador",
         "2021",
         "0.01994765",
         "USD\tmillions",
         "Central\tBank\tData"
        ],
        [
         "49",
         null,
         "Jamaica",
         "2022",
         "4.181996858",
         "USD\tmillions",
         "Central\tBank\tData"
        ]
       ],
       "shape": {
        "columns": 6,
        "rows": 88
       }
      },
      "text/html": [
       "<div>\n",
       "<style scoped>\n",
       "    .dataframe tbody tr th:only-of-type {\n",
       "        vertical-align: middle;\n",
       "    }\n",
       "\n",
       "    .dataframe tbody tr th {\n",
       "        vertical-align: top;\n",
       "    }\n",
       "\n",
       "    .dataframe thead th {\n",
       "        text-align: right;\n",
       "    }\n",
       "</style>\n",
       "<table border=\"1\" class=\"dataframe\">\n",
       "  <thead>\n",
       "    <tr style=\"text-align: right;\">\n",
       "      <th></th>\n",
       "      <th>Sending Country</th>\n",
       "      <th>Receiving Country</th>\n",
       "      <th>Date</th>\n",
       "      <th>Value</th>\n",
       "      <th>Unit</th>\n",
       "      <th>Source</th>\n",
       "    </tr>\n",
       "  </thead>\n",
       "  <tbody>\n",
       "    <tr>\n",
       "      <th>0</th>\n",
       "      <td>Afghanistan</td>\n",
       "      <td>Ecuador</td>\n",
       "      <td>2021</td>\n",
       "      <td>0.03859066</td>\n",
       "      <td>USD\\tmillions</td>\n",
       "      <td>Central\\tBank\\tData</td>\n",
       "    </tr>\n",
       "    <tr>\n",
       "      <th>1</th>\n",
       "      <td>NaN</td>\n",
       "      <td>Mexico</td>\n",
       "      <td>2022</td>\n",
       "      <td>0.295915</td>\n",
       "      <td>USD\\tmillions</td>\n",
       "      <td>Central\\tBank\\tData</td>\n",
       "    </tr>\n",
       "    <tr>\n",
       "      <th>2</th>\n",
       "      <td>NaN</td>\n",
       "      <td>Panama</td>\n",
       "      <td>2022</td>\n",
       "      <td>0.000387472</td>\n",
       "      <td>USD\\tmillions</td>\n",
       "      <td>INEC</td>\n",
       "    </tr>\n",
       "    <tr>\n",
       "      <th>3</th>\n",
       "      <td>Albania</td>\n",
       "      <td>Ecuador</td>\n",
       "      <td>2021</td>\n",
       "      <td>1.89796382</td>\n",
       "      <td>USD\\tmillions</td>\n",
       "      <td>Central\\tBank\\tData</td>\n",
       "    </tr>\n",
       "    <tr>\n",
       "      <th>4</th>\n",
       "      <td>NaN</td>\n",
       "      <td>Mexico</td>\n",
       "      <td>2022</td>\n",
       "      <td>0.023831</td>\n",
       "      <td>USD\\tmillions</td>\n",
       "      <td>Central\\tBank\\tData</td>\n",
       "    </tr>\n",
       "    <tr>\n",
       "      <th>...</th>\n",
       "      <td>...</td>\n",
       "      <td>...</td>\n",
       "      <td>...</td>\n",
       "      <td>...</td>\n",
       "      <td>...</td>\n",
       "      <td>...</td>\n",
       "    </tr>\n",
       "    <tr>\n",
       "      <th>83</th>\n",
       "      <td>NaN</td>\n",
       "      <td>Panama</td>\n",
       "      <td>2022</td>\n",
       "      <td>9.082440833</td>\n",
       "      <td>USD\\tmillions</td>\n",
       "      <td>INEC</td>\n",
       "    </tr>\n",
       "    <tr>\n",
       "      <th>84</th>\n",
       "      <td>NaN</td>\n",
       "      <td>Paraguay</td>\n",
       "      <td>2022</td>\n",
       "      <td>11.838549857</td>\n",
       "      <td>USD\\tmillions</td>\n",
       "      <td>Central\\tBank\\tData</td>\n",
       "    </tr>\n",
       "    <tr>\n",
       "      <th>85</th>\n",
       "      <td>British\\tVirgin\\tIslands</td>\n",
       "      <td>Ecuador</td>\n",
       "      <td>2021</td>\n",
       "      <td>0.01832945</td>\n",
       "      <td>USD\\tmillions</td>\n",
       "      <td>Central\\tBank\\tData</td>\n",
       "    </tr>\n",
       "    <tr>\n",
       "      <th>86</th>\n",
       "      <td>NaN</td>\n",
       "      <td>Jamaica</td>\n",
       "      <td>2022</td>\n",
       "      <td>7.559672433</td>\n",
       "      <td>USD\\tmillions</td>\n",
       "      <td>Central\\tBank\\tData</td>\n",
       "    </tr>\n",
       "    <tr>\n",
       "      <th>87</th>\n",
       "      <td>NaN</td>\n",
       "      <td>Mexico</td>\n",
       "      <td>2022</td>\n",
       "      <td>0.007236</td>\n",
       "      <td>USD\\tmillions</td>\n",
       "      <td>NaN</td>\n",
       "    </tr>\n",
       "  </tbody>\n",
       "</table>\n",
       "<p>88 rows × 6 columns</p>\n",
       "</div>"
      ],
      "text/plain": [
       "             Sending Country Receiving Country  Date         Value  \\\n",
       "0                Afghanistan           Ecuador  2021    0.03859066   \n",
       "1                        NaN            Mexico  2022      0.295915   \n",
       "2                        NaN            Panama  2022   0.000387472   \n",
       "3                    Albania           Ecuador  2021    1.89796382   \n",
       "4                        NaN            Mexico  2022      0.023831   \n",
       "..                       ...               ...   ...           ...   \n",
       "83                       NaN            Panama  2022   9.082440833   \n",
       "84                       NaN          Paraguay  2022  11.838549857   \n",
       "85  British\\tVirgin\\tIslands           Ecuador  2021    0.01832945   \n",
       "86                       NaN           Jamaica  2022   7.559672433   \n",
       "87                       NaN            Mexico  2022      0.007236   \n",
       "\n",
       "             Unit               Source  \n",
       "0   USD\\tmillions  Central\\tBank\\tData  \n",
       "1   USD\\tmillions  Central\\tBank\\tData  \n",
       "2   USD\\tmillions                 INEC  \n",
       "3   USD\\tmillions  Central\\tBank\\tData  \n",
       "4   USD\\tmillions  Central\\tBank\\tData  \n",
       "..            ...                  ...  \n",
       "83  USD\\tmillions                 INEC  \n",
       "84  USD\\tmillions  Central\\tBank\\tData  \n",
       "85  USD\\tmillions  Central\\tBank\\tData  \n",
       "86  USD\\tmillions  Central\\tBank\\tData  \n",
       "87  USD\\tmillions                  NaN  \n",
       "\n",
       "[88 rows x 6 columns]"
      ]
     },
     "execution_count": 15,
     "metadata": {},
     "output_type": "execute_result"
    }
   ],
   "source": [
    "df1"
   ]
  },
  {
   "cell_type": "code",
   "execution_count": 16,
   "id": "734f7448",
   "metadata": {},
   "outputs": [
    {
     "name": "stdout",
     "output_type": "stream",
     "text": [
      "Before forward fill:\n",
      "   Sending Country Receiving Country  Date        Value           Unit  \\\n",
      "0      Afghanistan           Ecuador  2021   0.03859066  USD\\tmillions   \n",
      "1              NaN            Mexico  2022     0.295915  USD\\tmillions   \n",
      "2              NaN            Panama  2022  0.000387472  USD\\tmillions   \n",
      "3          Albania           Ecuador  2021   1.89796382  USD\\tmillions   \n",
      "4              NaN            Mexico  2022     0.023831  USD\\tmillions   \n",
      "5              NaN            Panama  2022  0.038935399  USD\\tmillions   \n",
      "6  American\\tSamoa           Ecuador  2021    0.0553291  USD\\tmillions   \n",
      "7           Angola            Brazil  2022   8.32422068  USD\\tmillions   \n",
      "8              NaN           Ecuador  2021   0.00924998  USD\\tmillions   \n",
      "9              NaN            Mexico  2022     0.021185  USD\\tmillions   \n",
      "\n",
      "                Source  \n",
      "0  Central\\tBank\\tData  \n",
      "1  Central\\tBank\\tData  \n",
      "2                 INEC  \n",
      "3  Central\\tBank\\tData  \n",
      "4  Central\\tBank\\tData  \n",
      "5                 INEC  \n",
      "6  Central\\tBank\\tData  \n",
      "7  Central\\tBank\\tData  \n",
      "8  Central\\tBank\\tData  \n",
      "9  Central\\tBank\\tData  \n",
      "\n",
      "Missing values per column before forward fill:\n",
      "Sending Country      63\n",
      "Receiving Country     0\n",
      "Date                  0\n",
      "Value                 0\n",
      "Unit                  0\n",
      "Source                1\n",
      "dtype: int64\n",
      "\n",
      "==================================================\n",
      "After forward fill:\n",
      "   Sending Country Receiving Country  Date        Value           Unit  \\\n",
      "0      Afghanistan           Ecuador  2021   0.03859066  USD\\tmillions   \n",
      "1      Afghanistan            Mexico  2022     0.295915  USD\\tmillions   \n",
      "2      Afghanistan            Panama  2022  0.000387472  USD\\tmillions   \n",
      "3          Albania           Ecuador  2021   1.89796382  USD\\tmillions   \n",
      "4          Albania            Mexico  2022     0.023831  USD\\tmillions   \n",
      "5          Albania            Panama  2022  0.038935399  USD\\tmillions   \n",
      "6  American\\tSamoa           Ecuador  2021    0.0553291  USD\\tmillions   \n",
      "7           Angola            Brazil  2022   8.32422068  USD\\tmillions   \n",
      "8           Angola           Ecuador  2021   0.00924998  USD\\tmillions   \n",
      "9           Angola            Mexico  2022     0.021185  USD\\tmillions   \n",
      "\n",
      "                Source  \n",
      "0  Central\\tBank\\tData  \n",
      "1  Central\\tBank\\tData  \n",
      "2                 INEC  \n",
      "3  Central\\tBank\\tData  \n",
      "4  Central\\tBank\\tData  \n",
      "5                 INEC  \n",
      "6  Central\\tBank\\tData  \n",
      "7  Central\\tBank\\tData  \n",
      "8  Central\\tBank\\tData  \n",
      "9  Central\\tBank\\tData  \n",
      "\n",
      "Missing values per column after forward fill:\n",
      "Sending Country      0\n",
      "Receiving Country    0\n",
      "Date                 0\n",
      "Value                0\n",
      "Unit                 0\n",
      "Source               0\n",
      "dtype: int64\n"
     ]
    }
   ],
   "source": [
    "# Forward fill missing values - replace NaN with the value from the row above\n",
    "print(\"Before forward fill:\")\n",
    "print(df1.head(10))\n",
    "print(\"\\nMissing values per column before forward fill:\")\n",
    "print(df1.isnull().sum())\n",
    "\n",
    "# Apply forward fill to replace missing values using the newer ffill() method\n",
    "df1_filled = df1.ffill()\n",
    "\n",
    "print(\"\\n\" + \"=\"*50)\n",
    "print(\"After forward fill:\")\n",
    "print(df1_filled.head(10))\n",
    "print(\"\\nMissing values per column after forward fill:\")\n",
    "print(df1_filled.isnull().sum())\n",
    "\n",
    "# Update df1 with the filled version\n",
    "df1 = df1_filled"
   ]
  },
  {
   "cell_type": "code",
   "execution_count": 17,
   "id": "181bb5d4",
   "metadata": {},
   "outputs": [
    {
     "data": {
      "application/vnd.microsoft.datawrangler.viewer.v0+json": {
       "columns": [
        {
         "name": "index",
         "rawType": "int64",
         "type": "integer"
        },
        {
         "name": "Sending Country",
         "rawType": "object",
         "type": "string"
        },
        {
         "name": "Receiving Country",
         "rawType": "object",
         "type": "string"
        },
        {
         "name": "Date",
         "rawType": "object",
         "type": "string"
        },
        {
         "name": "Value",
         "rawType": "object",
         "type": "string"
        },
        {
         "name": "Unit",
         "rawType": "object",
         "type": "string"
        },
        {
         "name": "Source",
         "rawType": "object",
         "type": "string"
        }
       ],
       "ref": "b44f973f-b93c-454e-8ab3-78af8339c198",
       "rows": [
        [
         "0",
         "Afghanistan",
         "Ecuador",
         "2021",
         "0.03859066",
         "USD\tmillions",
         "Central\tBank\tData"
        ],
        [
         "1",
         "Afghanistan",
         "Mexico",
         "2022",
         "0.295915",
         "USD\tmillions",
         "Central\tBank\tData"
        ],
        [
         "2",
         "Afghanistan",
         "Panama",
         "2022",
         "0.000387472",
         "USD\tmillions",
         "INEC"
        ],
        [
         "3",
         "Albania",
         "Ecuador",
         "2021",
         "1.89796382",
         "USD\tmillions",
         "Central\tBank\tData"
        ],
        [
         "4",
         "Albania",
         "Mexico",
         "2022",
         "0.023831",
         "USD\tmillions",
         "Central\tBank\tData"
        ],
        [
         "5",
         "Albania",
         "Panama",
         "2022",
         "0.038935399",
         "USD\tmillions",
         "INEC"
        ],
        [
         "6",
         "American\tSamoa",
         "Ecuador",
         "2021",
         "0.0553291",
         "USD\tmillions",
         "Central\tBank\tData"
        ],
        [
         "7",
         "Angola",
         "Brazil",
         "2022",
         "8.32422068",
         "USD\tmillions",
         "Central\tBank\tData"
        ],
        [
         "8",
         "Angola",
         "Ecuador",
         "2021",
         "0.00924998",
         "USD\tmillions",
         "Central\tBank\tData"
        ],
        [
         "9",
         "Angola",
         "Mexico",
         "2022",
         "0.021185",
         "USD\tmillions",
         "Central\tBank\tData"
        ],
        [
         "10",
         "Angola",
         "Panama",
         "2022",
         "0.00090577",
         "USD\tmillions",
         "INEC"
        ],
        [
         "11",
         "Anguilla",
         "Ecuador",
         "2021",
         "0.0424175",
         "USD\tmillions",
         "Central\tBank\tData"
        ],
        [
         "12",
         "Anguilla",
         "Mexico",
         "2022",
         "0.056245",
         "USD\tmillions",
         "Central\tBank\tData"
        ],
        [
         "13",
         "Antigua\tand\tBarbuda",
         "Ecuador",
         "2021",
         "0.05750221",
         "USD\tmillions",
         "Central\tBank\tData"
        ],
        [
         "14",
         "Antigua\tand\tBarbuda",
         "Jamaica",
         "2022",
         "7.648208936",
         "USD\tmillions",
         "Central\tBank\tData"
        ],
        [
         "15",
         "Antigua\tand\tBarbuda",
         "Mexico",
         "2022",
         "0.01536",
         "USD\tmillions",
         "Central\tBank\tData"
        ],
        [
         "16",
         "Antigua\tand\tBarbuda",
         "Panama",
         "2022",
         "0.102322835",
         "USD\tmillions",
         "INEC"
        ],
        [
         "17",
         "Argentina",
         "Bolivia",
         "2022",
         "68",
         "USD\tmillions",
         "Central\tBank\tData"
        ],
        [
         "18",
         "Argentina",
         "Chile",
         "2021",
         "8.239642018",
         "USD\tmillions",
         "Central\tBank\tData"
        ],
        [
         "19",
         "Argentina",
         "Colombia",
         "2022",
         "18.009561145",
         "USD\tmillions",
         "Central\tBank\tData"
        ],
        [
         "20",
         "Argentina",
         "Ecuador",
         "2021",
         "6.4922729",
         "USD\tmillions",
         "Central\tBank\tData"
        ],
        [
         "21",
         "Argentina",
         "Mexico",
         "2022",
         "18.71145",
         "USD\tmillions",
         "Central\tBank\tData"
        ],
        [
         "22",
         "Argentina",
         "Panama",
         "2022",
         "0.802349126",
         "USD\tmillions",
         "INEC"
        ],
        [
         "23",
         "Argentina",
         "Paraguay",
         "2022",
         "25.403764574",
         "USD\tmillions",
         "Central\tBank\tData"
        ],
        [
         "24",
         "Armenia",
         "Ecuador",
         "2021",
         "0.0034",
         "USD\tmillions",
         "Central\tBank\tData"
        ],
        [
         "25",
         "Armenia",
         "Mexico",
         "2022",
         "0.05807",
         "USD\tmillions",
         "Central\tBank\tData"
        ],
        [
         "26",
         "Aruba",
         "Colombia",
         "2022",
         "33.061651351",
         "USD\tmillions",
         "Central\tBank\tData"
        ],
        [
         "27",
         "Aruba",
         "Ecuador",
         "2021",
         "2.48260401",
         "USD\tmillions",
         "Central\tBank\tData"
        ],
        [
         "28",
         "Aruba",
         "Mexico",
         "2022",
         "0.052949",
         "USD\tmillions",
         "Central\tBank\tData"
        ],
        [
         "29",
         "Aruba",
         "Panama",
         "2022",
         "0.371314345",
         "USD\tmillions",
         "INEC"
        ],
        [
         "30",
         "Aruba",
         "Suriname",
         "2022",
         "0.616751910",
         "USD\tmillions",
         "Central\tBank\tData"
        ],
        [
         "31",
         "Australia",
         "Chile",
         "2021",
         "8.455789159",
         "USD\tmillions",
         "Central\tBank\tData"
        ],
        [
         "32",
         "Australia",
         "Colombia",
         "2022",
         "139.554616564",
         "USD\tmillions",
         "Central\tBank\tData"
        ],
        [
         "33",
         "Australia",
         "Ecuador",
         "2021",
         "5.56670612",
         "USD\tmillions",
         "Central\tBank\tData"
        ],
        [
         "34",
         "Australia",
         "Mexico",
         "2022",
         "6.321704",
         "USD\tmillions",
         "Central\tBank\tData"
        ],
        [
         "35",
         "Australia",
         "Panama",
         "2022",
         "0.606995904",
         "USD\tmillions",
         "INEC"
        ],
        [
         "36",
         "Austria",
         "Ecuador",
         "2021",
         "2.27691379",
         "USD\tmillions",
         "Central\tBank\tData"
        ],
        [
         "37",
         "Austria",
         "Mexico",
         "2022",
         "0.3355",
         "USD\tmillions",
         "Central\tBank\tData"
        ],
        [
         "38",
         "Austria",
         "Panama",
         "2022",
         "0.260785796",
         "USD\tmillions",
         "INEC"
        ],
        [
         "39",
         "Azerbaijan",
         "Ecuador",
         "2021",
         "0.1052554",
         "USD\tmillions",
         "Central\tBank\tData"
        ],
        [
         "40",
         "Azerbaijan",
         "Mexico",
         "2022",
         "0.000339",
         "USD\tmillions",
         "Central\tBank\tData"
        ],
        [
         "41",
         "Bahamas",
         "Ecuador",
         "2021",
         "1.19725033",
         "USD\tmillions",
         "Central\tBank\tData"
        ],
        [
         "42",
         "Bahamas",
         "Haiti",
         "2019",
         "47.883664352",
         "USD\tmillions",
         "Central\tBank\tData"
        ],
        [
         "43",
         "Bahamas",
         "Jamaica",
         "2022",
         "21.752802625",
         "USD\tmillions",
         "Central\tBank\tData"
        ],
        [
         "44",
         "Bahamas",
         "Mexico",
         "2022",
         "1.002488",
         "USD\tmillions",
         "Central\tBank\tData"
        ],
        [
         "45",
         "Bahamas",
         "Panama",
         "2022",
         "0.964305300",
         "USD\tmillions",
         "INEC"
        ],
        [
         "46",
         "Bahrain",
         "Ecuador",
         "2021",
         "0.06671668",
         "USD\tmillions",
         "Central\tBank\tData"
        ],
        [
         "47",
         "Bahrain",
         "Mexico",
         "2022",
         "0.053798",
         "USD\tmillions",
         "Central\tBank\tData"
        ],
        [
         "48",
         "Barbados",
         "Ecuador",
         "2021",
         "0.01994765",
         "USD\tmillions",
         "Central\tBank\tData"
        ],
        [
         "49",
         "Barbados",
         "Jamaica",
         "2022",
         "4.181996858",
         "USD\tmillions",
         "Central\tBank\tData"
        ]
       ],
       "shape": {
        "columns": 6,
        "rows": 88
       }
      },
      "text/html": [
       "<div>\n",
       "<style scoped>\n",
       "    .dataframe tbody tr th:only-of-type {\n",
       "        vertical-align: middle;\n",
       "    }\n",
       "\n",
       "    .dataframe tbody tr th {\n",
       "        vertical-align: top;\n",
       "    }\n",
       "\n",
       "    .dataframe thead th {\n",
       "        text-align: right;\n",
       "    }\n",
       "</style>\n",
       "<table border=\"1\" class=\"dataframe\">\n",
       "  <thead>\n",
       "    <tr style=\"text-align: right;\">\n",
       "      <th></th>\n",
       "      <th>Sending Country</th>\n",
       "      <th>Receiving Country</th>\n",
       "      <th>Date</th>\n",
       "      <th>Value</th>\n",
       "      <th>Unit</th>\n",
       "      <th>Source</th>\n",
       "    </tr>\n",
       "  </thead>\n",
       "  <tbody>\n",
       "    <tr>\n",
       "      <th>0</th>\n",
       "      <td>Afghanistan</td>\n",
       "      <td>Ecuador</td>\n",
       "      <td>2021</td>\n",
       "      <td>0.03859066</td>\n",
       "      <td>USD\\tmillions</td>\n",
       "      <td>Central\\tBank\\tData</td>\n",
       "    </tr>\n",
       "    <tr>\n",
       "      <th>1</th>\n",
       "      <td>Afghanistan</td>\n",
       "      <td>Mexico</td>\n",
       "      <td>2022</td>\n",
       "      <td>0.295915</td>\n",
       "      <td>USD\\tmillions</td>\n",
       "      <td>Central\\tBank\\tData</td>\n",
       "    </tr>\n",
       "    <tr>\n",
       "      <th>2</th>\n",
       "      <td>Afghanistan</td>\n",
       "      <td>Panama</td>\n",
       "      <td>2022</td>\n",
       "      <td>0.000387472</td>\n",
       "      <td>USD\\tmillions</td>\n",
       "      <td>INEC</td>\n",
       "    </tr>\n",
       "    <tr>\n",
       "      <th>3</th>\n",
       "      <td>Albania</td>\n",
       "      <td>Ecuador</td>\n",
       "      <td>2021</td>\n",
       "      <td>1.89796382</td>\n",
       "      <td>USD\\tmillions</td>\n",
       "      <td>Central\\tBank\\tData</td>\n",
       "    </tr>\n",
       "    <tr>\n",
       "      <th>4</th>\n",
       "      <td>Albania</td>\n",
       "      <td>Mexico</td>\n",
       "      <td>2022</td>\n",
       "      <td>0.023831</td>\n",
       "      <td>USD\\tmillions</td>\n",
       "      <td>Central\\tBank\\tData</td>\n",
       "    </tr>\n",
       "    <tr>\n",
       "      <th>...</th>\n",
       "      <td>...</td>\n",
       "      <td>...</td>\n",
       "      <td>...</td>\n",
       "      <td>...</td>\n",
       "      <td>...</td>\n",
       "      <td>...</td>\n",
       "    </tr>\n",
       "    <tr>\n",
       "      <th>83</th>\n",
       "      <td>Brazil</td>\n",
       "      <td>Panama</td>\n",
       "      <td>2022</td>\n",
       "      <td>9.082440833</td>\n",
       "      <td>USD\\tmillions</td>\n",
       "      <td>INEC</td>\n",
       "    </tr>\n",
       "    <tr>\n",
       "      <th>84</th>\n",
       "      <td>Brazil</td>\n",
       "      <td>Paraguay</td>\n",
       "      <td>2022</td>\n",
       "      <td>11.838549857</td>\n",
       "      <td>USD\\tmillions</td>\n",
       "      <td>Central\\tBank\\tData</td>\n",
       "    </tr>\n",
       "    <tr>\n",
       "      <th>85</th>\n",
       "      <td>British\\tVirgin\\tIslands</td>\n",
       "      <td>Ecuador</td>\n",
       "      <td>2021</td>\n",
       "      <td>0.01832945</td>\n",
       "      <td>USD\\tmillions</td>\n",
       "      <td>Central\\tBank\\tData</td>\n",
       "    </tr>\n",
       "    <tr>\n",
       "      <th>86</th>\n",
       "      <td>British\\tVirgin\\tIslands</td>\n",
       "      <td>Jamaica</td>\n",
       "      <td>2022</td>\n",
       "      <td>7.559672433</td>\n",
       "      <td>USD\\tmillions</td>\n",
       "      <td>Central\\tBank\\tData</td>\n",
       "    </tr>\n",
       "    <tr>\n",
       "      <th>87</th>\n",
       "      <td>British\\tVirgin\\tIslands</td>\n",
       "      <td>Mexico</td>\n",
       "      <td>2022</td>\n",
       "      <td>0.007236</td>\n",
       "      <td>USD\\tmillions</td>\n",
       "      <td>Central\\tBank\\tData</td>\n",
       "    </tr>\n",
       "  </tbody>\n",
       "</table>\n",
       "<p>88 rows × 6 columns</p>\n",
       "</div>"
      ],
      "text/plain": [
       "             Sending Country Receiving Country  Date         Value  \\\n",
       "0                Afghanistan           Ecuador  2021    0.03859066   \n",
       "1                Afghanistan            Mexico  2022      0.295915   \n",
       "2                Afghanistan            Panama  2022   0.000387472   \n",
       "3                    Albania           Ecuador  2021    1.89796382   \n",
       "4                    Albania            Mexico  2022      0.023831   \n",
       "..                       ...               ...   ...           ...   \n",
       "83                    Brazil            Panama  2022   9.082440833   \n",
       "84                    Brazil          Paraguay  2022  11.838549857   \n",
       "85  British\\tVirgin\\tIslands           Ecuador  2021    0.01832945   \n",
       "86  British\\tVirgin\\tIslands           Jamaica  2022   7.559672433   \n",
       "87  British\\tVirgin\\tIslands            Mexico  2022      0.007236   \n",
       "\n",
       "             Unit               Source  \n",
       "0   USD\\tmillions  Central\\tBank\\tData  \n",
       "1   USD\\tmillions  Central\\tBank\\tData  \n",
       "2   USD\\tmillions                 INEC  \n",
       "3   USD\\tmillions  Central\\tBank\\tData  \n",
       "4   USD\\tmillions  Central\\tBank\\tData  \n",
       "..            ...                  ...  \n",
       "83  USD\\tmillions                 INEC  \n",
       "84  USD\\tmillions  Central\\tBank\\tData  \n",
       "85  USD\\tmillions  Central\\tBank\\tData  \n",
       "86  USD\\tmillions  Central\\tBank\\tData  \n",
       "87  USD\\tmillions  Central\\tBank\\tData  \n",
       "\n",
       "[88 rows x 6 columns]"
      ]
     },
     "execution_count": 17,
     "metadata": {},
     "output_type": "execute_result"
    }
   ],
   "source": [
    "df1"
   ]
  },
  {
   "cell_type": "code",
   "execution_count": null,
   "id": "01538e61",
   "metadata": {},
   "outputs": [
    {
     "name": "stdout",
     "output_type": "stream",
     "text": [
      "DataFrame saved as '10_8.csv'\n",
      "Shape of saved DataFrame: (88, 6)\n",
      "Columns saved: ['Sending Country', 'Receiving Country', 'Date', 'Value', 'Unit', 'Source']\n"
     ]
    }
   ],
   "source": [
    "# Save df1 as CSV file\n",
    "df1.to_csv('11_1.csv', index=False, encoding='utf-8')\n",
    "print(f\"Shape of saved DataFrame: {df1.shape}\")\n",
    "print(f\"Columns saved: {list(df1.columns)}\")"
   ]
  }
 ],
 "metadata": {
  "kernelspec": {
   "display_name": "Python 3",
   "language": "python",
   "name": "python3"
  },
  "language_info": {
   "codemirror_mode": {
    "name": "ipython",
    "version": 3
   },
   "file_extension": ".py",
   "mimetype": "text/x-python",
   "name": "python",
   "nbconvert_exporter": "python",
   "pygments_lexer": "ipython3",
   "version": "3.13.5"
  }
 },
 "nbformat": 4,
 "nbformat_minor": 5
}
