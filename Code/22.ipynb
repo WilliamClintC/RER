{
 "cells": [
  {
   "cell_type": "code",
   "execution_count": 110,
   "id": "5ec36cbd",
   "metadata": {},
   "outputs": [
    {
     "name": "stdout",
     "output_type": "stream",
     "text": [
      "✓ Loaded corrected dataset with fixed Kenya values\n",
      "Dataset shape: (3980, 11)\n"
     ]
    },
    {
     "data": {
      "application/vnd.microsoft.datawrangler.viewer.v0+json": {
       "columns": [
        {
         "name": "index",
         "rawType": "int64",
         "type": "integer"
        },
        {
         "name": "Sending_Country",
         "rawType": "object",
         "type": "string"
        },
        {
         "name": "Receiving_Country",
         "rawType": "object",
         "type": "string"
        },
        {
         "name": "Year",
         "rawType": "int64",
         "type": "integer"
        },
        {
         "name": "Value",
         "rawType": "object",
         "type": "string"
        },
        {
         "name": "Unit",
         "rawType": "object",
         "type": "string"
        },
        {
         "name": "Source",
         "rawType": "object",
         "type": "string"
        },
        {
         "name": "Region",
         "rawType": "object",
         "type": "string"
        },
        {
         "name": "Sending_Country_Code",
         "rawType": "object",
         "type": "string"
        },
        {
         "name": "Receiving_Country_Code",
         "rawType": "object",
         "type": "string"
        },
        {
         "name": "Sending_Country_GDP",
         "rawType": "float64",
         "type": "float"
        },
        {
         "name": "Receiving_Country_GDP",
         "rawType": "float64",
         "type": "float"
        }
       ],
       "ref": "730b1b94-49d5-48cc-9dbc-05e474e04305",
       "rows": [
        [
         "0",
         "Algeria",
         "Senegal",
         "2021",
         "0.183414825",
         "USD millions",
         "BCEAO",
         "Africa",
         "DZA",
         "SEN",
         "199488.8881514849",
         "24359.596784117"
        ],
        [
         "1",
         "Australia",
         "Ethiopia",
         "2020",
         "13.59617511",
         "USD millions",
         "National Bank of Ethiopia",
         "Africa",
         "AUS",
         "ETH",
         "1491062.56626652",
         "95071.77581198268"
        ],
        [
         "2",
         "Australia",
         "Kenya",
         "2024",
         "184,497.099695719",
         "USD millions",
         "Central Bank of Kenya",
         "Africa",
         "AUS",
         "KEN",
         "1665257.959985",
         "104575.203135656"
        ],
        [
         "3",
         "Australia",
         "Uganda",
         "2022",
         "22",
         "USD millions",
         "Bank of Uganda",
         "Africa",
         "AUS",
         "UGA",
         "1587133.48080453",
         "44147.216889624"
        ],
        [
         "4",
         "Austria",
         "Kenya",
         "2024",
         "13,169.065145833",
         "USD millions",
         "Central Bank of Kenya",
         "Africa",
         "AUT",
         "KEN",
         "418190.370366673",
         "104575.203135656"
        ]
       ],
       "shape": {
        "columns": 11,
        "rows": 5
       }
      },
      "text/html": [
       "<div>\n",
       "<style scoped>\n",
       "    .dataframe tbody tr th:only-of-type {\n",
       "        vertical-align: middle;\n",
       "    }\n",
       "\n",
       "    .dataframe tbody tr th {\n",
       "        vertical-align: top;\n",
       "    }\n",
       "\n",
       "    .dataframe thead th {\n",
       "        text-align: right;\n",
       "    }\n",
       "</style>\n",
       "<table border=\"1\" class=\"dataframe\">\n",
       "  <thead>\n",
       "    <tr style=\"text-align: right;\">\n",
       "      <th></th>\n",
       "      <th>Sending_Country</th>\n",
       "      <th>Receiving_Country</th>\n",
       "      <th>Year</th>\n",
       "      <th>Value</th>\n",
       "      <th>Unit</th>\n",
       "      <th>Source</th>\n",
       "      <th>Region</th>\n",
       "      <th>Sending_Country_Code</th>\n",
       "      <th>Receiving_Country_Code</th>\n",
       "      <th>Sending_Country_GDP</th>\n",
       "      <th>Receiving_Country_GDP</th>\n",
       "    </tr>\n",
       "  </thead>\n",
       "  <tbody>\n",
       "    <tr>\n",
       "      <th>0</th>\n",
       "      <td>Algeria</td>\n",
       "      <td>Senegal</td>\n",
       "      <td>2021</td>\n",
       "      <td>0.183414825</td>\n",
       "      <td>USD millions</td>\n",
       "      <td>BCEAO</td>\n",
       "      <td>Africa</td>\n",
       "      <td>DZA</td>\n",
       "      <td>SEN</td>\n",
       "      <td>1.994889e+05</td>\n",
       "      <td>24359.596784</td>\n",
       "    </tr>\n",
       "    <tr>\n",
       "      <th>1</th>\n",
       "      <td>Australia</td>\n",
       "      <td>Ethiopia</td>\n",
       "      <td>2020</td>\n",
       "      <td>13.59617511</td>\n",
       "      <td>USD millions</td>\n",
       "      <td>National Bank of Ethiopia</td>\n",
       "      <td>Africa</td>\n",
       "      <td>AUS</td>\n",
       "      <td>ETH</td>\n",
       "      <td>1.491063e+06</td>\n",
       "      <td>95071.775812</td>\n",
       "    </tr>\n",
       "    <tr>\n",
       "      <th>2</th>\n",
       "      <td>Australia</td>\n",
       "      <td>Kenya</td>\n",
       "      <td>2024</td>\n",
       "      <td>184,497.099695719</td>\n",
       "      <td>USD millions</td>\n",
       "      <td>Central Bank of Kenya</td>\n",
       "      <td>Africa</td>\n",
       "      <td>AUS</td>\n",
       "      <td>KEN</td>\n",
       "      <td>1.665258e+06</td>\n",
       "      <td>104575.203136</td>\n",
       "    </tr>\n",
       "    <tr>\n",
       "      <th>3</th>\n",
       "      <td>Australia</td>\n",
       "      <td>Uganda</td>\n",
       "      <td>2022</td>\n",
       "      <td>22</td>\n",
       "      <td>USD millions</td>\n",
       "      <td>Bank of Uganda</td>\n",
       "      <td>Africa</td>\n",
       "      <td>AUS</td>\n",
       "      <td>UGA</td>\n",
       "      <td>1.587133e+06</td>\n",
       "      <td>44147.216890</td>\n",
       "    </tr>\n",
       "    <tr>\n",
       "      <th>4</th>\n",
       "      <td>Austria</td>\n",
       "      <td>Kenya</td>\n",
       "      <td>2024</td>\n",
       "      <td>13,169.065145833</td>\n",
       "      <td>USD millions</td>\n",
       "      <td>Central Bank of Kenya</td>\n",
       "      <td>Africa</td>\n",
       "      <td>AUT</td>\n",
       "      <td>KEN</td>\n",
       "      <td>4.181904e+05</td>\n",
       "      <td>104575.203136</td>\n",
       "    </tr>\n",
       "  </tbody>\n",
       "</table>\n",
       "</div>"
      ],
      "text/plain": [
       "  Sending_Country Receiving_Country  Year              Value          Unit  \\\n",
       "0         Algeria           Senegal  2021        0.183414825  USD millions   \n",
       "1       Australia          Ethiopia  2020        13.59617511  USD millions   \n",
       "2       Australia             Kenya  2024  184,497.099695719  USD millions   \n",
       "3       Australia            Uganda  2022                 22  USD millions   \n",
       "4         Austria             Kenya  2024   13,169.065145833  USD millions   \n",
       "\n",
       "                      Source  Region Sending_Country_Code  \\\n",
       "0                      BCEAO  Africa                  DZA   \n",
       "1  National Bank of Ethiopia  Africa                  AUS   \n",
       "2      Central Bank of Kenya  Africa                  AUS   \n",
       "3             Bank of Uganda  Africa                  AUS   \n",
       "4      Central Bank of Kenya  Africa                  AUT   \n",
       "\n",
       "  Receiving_Country_Code  Sending_Country_GDP  Receiving_Country_GDP  \n",
       "0                    SEN         1.994889e+05           24359.596784  \n",
       "1                    ETH         1.491063e+06           95071.775812  \n",
       "2                    KEN         1.665258e+06          104575.203136  \n",
       "3                    UGA         1.587133e+06           44147.216890  \n",
       "4                    KEN         4.181904e+05          104575.203136  "
      ]
     },
     "execution_count": 110,
     "metadata": {},
     "output_type": "execute_result"
    }
   ],
   "source": [
    "import pandas as pd\n",
    "\n",
    "# Load the corrected dataset with Kenya values fixed\n",
    "df = pd.read_csv(r'C:\\Users\\clint\\Desktop\\RER\\Code\\22.csv')\n",
    "print(\"✓ Loaded corrected dataset with fixed Kenya values\")\n",
    "print(f\"Dataset shape: {df.shape}\")\n",
    "df.head()"
   ]
  },
  {
   "cell_type": "code",
   "execution_count": 111,
   "id": "9d47b78c",
   "metadata": {},
   "outputs": [
    {
     "name": "stdout",
     "output_type": "stream",
     "text": [
      "Dataset shape: (3980, 11)\n",
      "\n",
      "Column names:\n",
      "['Sending_Country', 'Receiving_Country', 'Year', 'Value', 'Unit', 'Source', 'Region', 'Sending_Country_Code', 'Receiving_Country_Code', 'Sending_Country_GDP', 'Receiving_Country_GDP']\n",
      "\n",
      "First few rows:\n"
     ]
    },
    {
     "data": {
      "application/vnd.microsoft.datawrangler.viewer.v0+json": {
       "columns": [
        {
         "name": "index",
         "rawType": "int64",
         "type": "integer"
        },
        {
         "name": "Sending_Country",
         "rawType": "object",
         "type": "string"
        },
        {
         "name": "Receiving_Country",
         "rawType": "object",
         "type": "string"
        },
        {
         "name": "Year",
         "rawType": "int64",
         "type": "integer"
        },
        {
         "name": "Value",
         "rawType": "object",
         "type": "string"
        },
        {
         "name": "Unit",
         "rawType": "object",
         "type": "string"
        },
        {
         "name": "Source",
         "rawType": "object",
         "type": "string"
        },
        {
         "name": "Region",
         "rawType": "object",
         "type": "string"
        },
        {
         "name": "Sending_Country_Code",
         "rawType": "object",
         "type": "string"
        },
        {
         "name": "Receiving_Country_Code",
         "rawType": "object",
         "type": "string"
        },
        {
         "name": "Sending_Country_GDP",
         "rawType": "float64",
         "type": "float"
        },
        {
         "name": "Receiving_Country_GDP",
         "rawType": "float64",
         "type": "float"
        }
       ],
       "ref": "3be90467-f6d6-4bd0-bf16-e9ba634d02f6",
       "rows": [
        [
         "0",
         "Algeria",
         "Senegal",
         "2021",
         "0.183414825",
         "USD millions",
         "BCEAO",
         "Africa",
         "DZA",
         "SEN",
         "199488.8881514849",
         "24359.596784117"
        ],
        [
         "1",
         "Australia",
         "Ethiopia",
         "2020",
         "13.59617511",
         "USD millions",
         "National Bank of Ethiopia",
         "Africa",
         "AUS",
         "ETH",
         "1491062.56626652",
         "95071.77581198268"
        ],
        [
         "2",
         "Australia",
         "Kenya",
         "2024",
         "184,497.099695719",
         "USD millions",
         "Central Bank of Kenya",
         "Africa",
         "AUS",
         "KEN",
         "1665257.959985",
         "104575.203135656"
        ],
        [
         "3",
         "Australia",
         "Uganda",
         "2022",
         "22",
         "USD millions",
         "Bank of Uganda",
         "Africa",
         "AUS",
         "UGA",
         "1587133.48080453",
         "44147.216889624"
        ],
        [
         "4",
         "Austria",
         "Kenya",
         "2024",
         "13,169.065145833",
         "USD millions",
         "Central Bank of Kenya",
         "Africa",
         "AUT",
         "KEN",
         "418190.370366673",
         "104575.203135656"
        ]
       ],
       "shape": {
        "columns": 11,
        "rows": 5
       }
      },
      "text/html": [
       "<div>\n",
       "<style scoped>\n",
       "    .dataframe tbody tr th:only-of-type {\n",
       "        vertical-align: middle;\n",
       "    }\n",
       "\n",
       "    .dataframe tbody tr th {\n",
       "        vertical-align: top;\n",
       "    }\n",
       "\n",
       "    .dataframe thead th {\n",
       "        text-align: right;\n",
       "    }\n",
       "</style>\n",
       "<table border=\"1\" class=\"dataframe\">\n",
       "  <thead>\n",
       "    <tr style=\"text-align: right;\">\n",
       "      <th></th>\n",
       "      <th>Sending_Country</th>\n",
       "      <th>Receiving_Country</th>\n",
       "      <th>Year</th>\n",
       "      <th>Value</th>\n",
       "      <th>Unit</th>\n",
       "      <th>Source</th>\n",
       "      <th>Region</th>\n",
       "      <th>Sending_Country_Code</th>\n",
       "      <th>Receiving_Country_Code</th>\n",
       "      <th>Sending_Country_GDP</th>\n",
       "      <th>Receiving_Country_GDP</th>\n",
       "    </tr>\n",
       "  </thead>\n",
       "  <tbody>\n",
       "    <tr>\n",
       "      <th>0</th>\n",
       "      <td>Algeria</td>\n",
       "      <td>Senegal</td>\n",
       "      <td>2021</td>\n",
       "      <td>0.183414825</td>\n",
       "      <td>USD millions</td>\n",
       "      <td>BCEAO</td>\n",
       "      <td>Africa</td>\n",
       "      <td>DZA</td>\n",
       "      <td>SEN</td>\n",
       "      <td>1.994889e+05</td>\n",
       "      <td>24359.596784</td>\n",
       "    </tr>\n",
       "    <tr>\n",
       "      <th>1</th>\n",
       "      <td>Australia</td>\n",
       "      <td>Ethiopia</td>\n",
       "      <td>2020</td>\n",
       "      <td>13.59617511</td>\n",
       "      <td>USD millions</td>\n",
       "      <td>National Bank of Ethiopia</td>\n",
       "      <td>Africa</td>\n",
       "      <td>AUS</td>\n",
       "      <td>ETH</td>\n",
       "      <td>1.491063e+06</td>\n",
       "      <td>95071.775812</td>\n",
       "    </tr>\n",
       "    <tr>\n",
       "      <th>2</th>\n",
       "      <td>Australia</td>\n",
       "      <td>Kenya</td>\n",
       "      <td>2024</td>\n",
       "      <td>184,497.099695719</td>\n",
       "      <td>USD millions</td>\n",
       "      <td>Central Bank of Kenya</td>\n",
       "      <td>Africa</td>\n",
       "      <td>AUS</td>\n",
       "      <td>KEN</td>\n",
       "      <td>1.665258e+06</td>\n",
       "      <td>104575.203136</td>\n",
       "    </tr>\n",
       "    <tr>\n",
       "      <th>3</th>\n",
       "      <td>Australia</td>\n",
       "      <td>Uganda</td>\n",
       "      <td>2022</td>\n",
       "      <td>22</td>\n",
       "      <td>USD millions</td>\n",
       "      <td>Bank of Uganda</td>\n",
       "      <td>Africa</td>\n",
       "      <td>AUS</td>\n",
       "      <td>UGA</td>\n",
       "      <td>1.587133e+06</td>\n",
       "      <td>44147.216890</td>\n",
       "    </tr>\n",
       "    <tr>\n",
       "      <th>4</th>\n",
       "      <td>Austria</td>\n",
       "      <td>Kenya</td>\n",
       "      <td>2024</td>\n",
       "      <td>13,169.065145833</td>\n",
       "      <td>USD millions</td>\n",
       "      <td>Central Bank of Kenya</td>\n",
       "      <td>Africa</td>\n",
       "      <td>AUT</td>\n",
       "      <td>KEN</td>\n",
       "      <td>4.181904e+05</td>\n",
       "      <td>104575.203136</td>\n",
       "    </tr>\n",
       "  </tbody>\n",
       "</table>\n",
       "</div>"
      ],
      "text/plain": [
       "  Sending_Country Receiving_Country  Year              Value          Unit  \\\n",
       "0         Algeria           Senegal  2021        0.183414825  USD millions   \n",
       "1       Australia          Ethiopia  2020        13.59617511  USD millions   \n",
       "2       Australia             Kenya  2024  184,497.099695719  USD millions   \n",
       "3       Australia            Uganda  2022                 22  USD millions   \n",
       "4         Austria             Kenya  2024   13,169.065145833  USD millions   \n",
       "\n",
       "                      Source  Region Sending_Country_Code  \\\n",
       "0                      BCEAO  Africa                  DZA   \n",
       "1  National Bank of Ethiopia  Africa                  AUS   \n",
       "2      Central Bank of Kenya  Africa                  AUS   \n",
       "3             Bank of Uganda  Africa                  AUS   \n",
       "4      Central Bank of Kenya  Africa                  AUT   \n",
       "\n",
       "  Receiving_Country_Code  Sending_Country_GDP  Receiving_Country_GDP  \n",
       "0                    SEN         1.994889e+05           24359.596784  \n",
       "1                    ETH         1.491063e+06           95071.775812  \n",
       "2                    KEN         1.665258e+06          104575.203136  \n",
       "3                    UGA         1.587133e+06           44147.216890  \n",
       "4                    KEN         4.181904e+05          104575.203136  "
      ]
     },
     "execution_count": 111,
     "metadata": {},
     "output_type": "execute_result"
    }
   ],
   "source": [
    "# Examine data structure\n",
    "print(\"Dataset shape:\", df.shape)\n",
    "print(\"\\nColumn names:\")\n",
    "print(df.columns.tolist())\n",
    "print(\"\\nFirst few rows:\")\n",
    "df.head()"
   ]
  },
  {
   "cell_type": "code",
   "execution_count": 112,
   "id": "a74fb38c",
   "metadata": {},
   "outputs": [
    {
     "name": "stdout",
     "output_type": "stream",
     "text": [
      "Number of US remittance flows: 47\n",
      "\n",
      "Receiving countries from US (19 countries):\n",
      "['Ethiopia' 'Kenya' 'Morocco' 'Senegal' 'Uganda' 'Armenia' 'Brazil'\n",
      " 'Cabo Verde' 'Dominican Republic' 'Georgia' 'Haiti' 'Jamaica'\n",
      " 'Kyrgyz Republic' 'Nicaragua' 'Pakistan' 'Paraguay' 'Philippines' 'Samoa'\n",
      " 'Suriname']\n",
      "\n",
      "Years available: [np.int64(2018), np.int64(2019), np.int64(2020), np.int64(2021), np.int64(2022), np.int64(2024)]\n",
      "\n",
      "Value column sample:\n",
      "122          387.04401602\n",
      "123              2.637772\n",
      "124            422.388121\n",
      "125         479.695927280\n",
      "126                 184.5\n",
      "731             223.97581\n",
      "732    280.91130599999997\n",
      "733            458.719932\n",
      "779                1077.2\n",
      "780                1229.6\n",
      "Name: Value, dtype: object\n",
      "Value data type: object\n"
     ]
    },
    {
     "data": {
      "application/vnd.microsoft.datawrangler.viewer.v0+json": {
       "columns": [
        {
         "name": "index",
         "rawType": "int64",
         "type": "integer"
        },
        {
         "name": "Sending_Country",
         "rawType": "object",
         "type": "string"
        },
        {
         "name": "Receiving_Country",
         "rawType": "object",
         "type": "string"
        },
        {
         "name": "Year",
         "rawType": "int64",
         "type": "integer"
        },
        {
         "name": "Value",
         "rawType": "object",
         "type": "string"
        },
        {
         "name": "Unit",
         "rawType": "object",
         "type": "string"
        },
        {
         "name": "Source",
         "rawType": "object",
         "type": "string"
        },
        {
         "name": "Region",
         "rawType": "object",
         "type": "string"
        },
        {
         "name": "Sending_Country_Code",
         "rawType": "object",
         "type": "string"
        },
        {
         "name": "Receiving_Country_Code",
         "rawType": "object",
         "type": "string"
        },
        {
         "name": "Sending_Country_GDP",
         "rawType": "float64",
         "type": "float"
        },
        {
         "name": "Receiving_Country_GDP",
         "rawType": "float64",
         "type": "float"
        }
       ],
       "ref": "3a84b9c2-24df-491b-95ea-64d809ee8008",
       "rows": [
        [
         "122",
         "United States",
         "Ethiopia",
         "2020",
         "387.04401602",
         "USD millions",
         "National Bank of Ethiopia",
         "Africa",
         "USA",
         "ETH",
         "19723580.2219382",
         "95071.77581198268"
        ],
        [
         "123",
         "United States",
         "Kenya",
         "2024",
         "2.637772",
         "USD millions",
         "Central Bank of Kenya",
         "Africa",
         "USA",
         "KEN",
         "22679489.9695556",
         "104575.203135656"
        ],
        [
         "124",
         "United States",
         "Morocco",
         "2020",
         "422.388121",
         "USD millions",
         "Bank Al-Maghrib",
         "Africa",
         "USA",
         "MAR",
         "19723580.2219382",
         "114775.951852213"
        ],
        [
         "125",
         "United States",
         "Senegal",
         "2021",
         "479.695927280",
         "USD millions",
         "BCEAO",
         "Africa",
         "USA",
         "SEN",
         "20917853.4446683",
         "24359.596784117"
        ],
        [
         "126",
         "United States",
         "Uganda",
         "2022",
         "184.5",
         "USD millions",
         "Bank of Uganda",
         "Africa",
         "USA",
         "UGA",
         "21443388.432051",
         "44147.216889624"
        ],
        [
         "731",
         "United States",
         "Armenia",
         "2018",
         "223.97581",
         "USD millions",
         "Roland Kpodar (IMF)",
         "Asia",
         "USA",
         "ARM",
         "19651869.1175825",
         "11958.638938496"
        ],
        [
         "732",
         "United States",
         "Armenia",
         "2019",
         "280.91130599999997",
         "USD millions",
         "Roland Kpodar (IMF)",
         "Asia",
         "USA",
         "ARM",
         "20159639.089698102",
         "12867.4954976469"
        ],
        [
         "733",
         "United States",
         "Armenia",
         "2020",
         "458.719932",
         "USD millions",
         "Roland Kpodar (IMF)",
         "Asia",
         "USA",
         "ARM",
         "19723580.2219382",
         "11941.0358219185"
        ],
        [
         "779",
         "United States",
         "Brazil",
         "2018",
         "1077.2",
         "USD millions",
         "Roland Kpodar (IMF)",
         "Latin America",
         "USA",
         "BRA",
         "19651869.1175825",
         "1797736.84496916"
        ],
        [
         "780",
         "United States",
         "Brazil",
         "2019",
         "1229.6",
         "USD millions",
         "Roland Kpodar (IMF)",
         "Latin America",
         "USA",
         "BRA",
         "20159639.089698102",
         "1819683.21769938"
        ]
       ],
       "shape": {
        "columns": 11,
        "rows": 10
       }
      },
      "text/html": [
       "<div>\n",
       "<style scoped>\n",
       "    .dataframe tbody tr th:only-of-type {\n",
       "        vertical-align: middle;\n",
       "    }\n",
       "\n",
       "    .dataframe tbody tr th {\n",
       "        vertical-align: top;\n",
       "    }\n",
       "\n",
       "    .dataframe thead th {\n",
       "        text-align: right;\n",
       "    }\n",
       "</style>\n",
       "<table border=\"1\" class=\"dataframe\">\n",
       "  <thead>\n",
       "    <tr style=\"text-align: right;\">\n",
       "      <th></th>\n",
       "      <th>Sending_Country</th>\n",
       "      <th>Receiving_Country</th>\n",
       "      <th>Year</th>\n",
       "      <th>Value</th>\n",
       "      <th>Unit</th>\n",
       "      <th>Source</th>\n",
       "      <th>Region</th>\n",
       "      <th>Sending_Country_Code</th>\n",
       "      <th>Receiving_Country_Code</th>\n",
       "      <th>Sending_Country_GDP</th>\n",
       "      <th>Receiving_Country_GDP</th>\n",
       "    </tr>\n",
       "  </thead>\n",
       "  <tbody>\n",
       "    <tr>\n",
       "      <th>122</th>\n",
       "      <td>United States</td>\n",
       "      <td>Ethiopia</td>\n",
       "      <td>2020</td>\n",
       "      <td>387.04401602</td>\n",
       "      <td>USD millions</td>\n",
       "      <td>National Bank of Ethiopia</td>\n",
       "      <td>Africa</td>\n",
       "      <td>USA</td>\n",
       "      <td>ETH</td>\n",
       "      <td>1.972358e+07</td>\n",
       "      <td>9.507178e+04</td>\n",
       "    </tr>\n",
       "    <tr>\n",
       "      <th>123</th>\n",
       "      <td>United States</td>\n",
       "      <td>Kenya</td>\n",
       "      <td>2024</td>\n",
       "      <td>2.637772</td>\n",
       "      <td>USD millions</td>\n",
       "      <td>Central Bank of Kenya</td>\n",
       "      <td>Africa</td>\n",
       "      <td>USA</td>\n",
       "      <td>KEN</td>\n",
       "      <td>2.267949e+07</td>\n",
       "      <td>1.045752e+05</td>\n",
       "    </tr>\n",
       "    <tr>\n",
       "      <th>124</th>\n",
       "      <td>United States</td>\n",
       "      <td>Morocco</td>\n",
       "      <td>2020</td>\n",
       "      <td>422.388121</td>\n",
       "      <td>USD millions</td>\n",
       "      <td>Bank Al-Maghrib</td>\n",
       "      <td>Africa</td>\n",
       "      <td>USA</td>\n",
       "      <td>MAR</td>\n",
       "      <td>1.972358e+07</td>\n",
       "      <td>1.147760e+05</td>\n",
       "    </tr>\n",
       "    <tr>\n",
       "      <th>125</th>\n",
       "      <td>United States</td>\n",
       "      <td>Senegal</td>\n",
       "      <td>2021</td>\n",
       "      <td>479.695927280</td>\n",
       "      <td>USD millions</td>\n",
       "      <td>BCEAO</td>\n",
       "      <td>Africa</td>\n",
       "      <td>USA</td>\n",
       "      <td>SEN</td>\n",
       "      <td>2.091785e+07</td>\n",
       "      <td>2.435960e+04</td>\n",
       "    </tr>\n",
       "    <tr>\n",
       "      <th>126</th>\n",
       "      <td>United States</td>\n",
       "      <td>Uganda</td>\n",
       "      <td>2022</td>\n",
       "      <td>184.5</td>\n",
       "      <td>USD millions</td>\n",
       "      <td>Bank of Uganda</td>\n",
       "      <td>Africa</td>\n",
       "      <td>USA</td>\n",
       "      <td>UGA</td>\n",
       "      <td>2.144339e+07</td>\n",
       "      <td>4.414722e+04</td>\n",
       "    </tr>\n",
       "    <tr>\n",
       "      <th>731</th>\n",
       "      <td>United States</td>\n",
       "      <td>Armenia</td>\n",
       "      <td>2018</td>\n",
       "      <td>223.97581</td>\n",
       "      <td>USD millions</td>\n",
       "      <td>Roland Kpodar (IMF)</td>\n",
       "      <td>Asia</td>\n",
       "      <td>USA</td>\n",
       "      <td>ARM</td>\n",
       "      <td>1.965187e+07</td>\n",
       "      <td>1.195864e+04</td>\n",
       "    </tr>\n",
       "    <tr>\n",
       "      <th>732</th>\n",
       "      <td>United States</td>\n",
       "      <td>Armenia</td>\n",
       "      <td>2019</td>\n",
       "      <td>280.91130599999997</td>\n",
       "      <td>USD millions</td>\n",
       "      <td>Roland Kpodar (IMF)</td>\n",
       "      <td>Asia</td>\n",
       "      <td>USA</td>\n",
       "      <td>ARM</td>\n",
       "      <td>2.015964e+07</td>\n",
       "      <td>1.286750e+04</td>\n",
       "    </tr>\n",
       "    <tr>\n",
       "      <th>733</th>\n",
       "      <td>United States</td>\n",
       "      <td>Armenia</td>\n",
       "      <td>2020</td>\n",
       "      <td>458.719932</td>\n",
       "      <td>USD millions</td>\n",
       "      <td>Roland Kpodar (IMF)</td>\n",
       "      <td>Asia</td>\n",
       "      <td>USA</td>\n",
       "      <td>ARM</td>\n",
       "      <td>1.972358e+07</td>\n",
       "      <td>1.194104e+04</td>\n",
       "    </tr>\n",
       "    <tr>\n",
       "      <th>779</th>\n",
       "      <td>United States</td>\n",
       "      <td>Brazil</td>\n",
       "      <td>2018</td>\n",
       "      <td>1077.2</td>\n",
       "      <td>USD millions</td>\n",
       "      <td>Roland Kpodar (IMF)</td>\n",
       "      <td>Latin America</td>\n",
       "      <td>USA</td>\n",
       "      <td>BRA</td>\n",
       "      <td>1.965187e+07</td>\n",
       "      <td>1.797737e+06</td>\n",
       "    </tr>\n",
       "    <tr>\n",
       "      <th>780</th>\n",
       "      <td>United States</td>\n",
       "      <td>Brazil</td>\n",
       "      <td>2019</td>\n",
       "      <td>1229.6</td>\n",
       "      <td>USD millions</td>\n",
       "      <td>Roland Kpodar (IMF)</td>\n",
       "      <td>Latin America</td>\n",
       "      <td>USA</td>\n",
       "      <td>BRA</td>\n",
       "      <td>2.015964e+07</td>\n",
       "      <td>1.819683e+06</td>\n",
       "    </tr>\n",
       "  </tbody>\n",
       "</table>\n",
       "</div>"
      ],
      "text/plain": [
       "    Sending_Country Receiving_Country  Year               Value          Unit  \\\n",
       "122   United States          Ethiopia  2020        387.04401602  USD millions   \n",
       "123   United States             Kenya  2024            2.637772  USD millions   \n",
       "124   United States           Morocco  2020          422.388121  USD millions   \n",
       "125   United States           Senegal  2021       479.695927280  USD millions   \n",
       "126   United States            Uganda  2022               184.5  USD millions   \n",
       "731   United States           Armenia  2018           223.97581  USD millions   \n",
       "732   United States           Armenia  2019  280.91130599999997  USD millions   \n",
       "733   United States           Armenia  2020          458.719932  USD millions   \n",
       "779   United States            Brazil  2018              1077.2  USD millions   \n",
       "780   United States            Brazil  2019              1229.6  USD millions   \n",
       "\n",
       "                        Source         Region Sending_Country_Code  \\\n",
       "122  National Bank of Ethiopia         Africa                  USA   \n",
       "123      Central Bank of Kenya         Africa                  USA   \n",
       "124            Bank Al-Maghrib         Africa                  USA   \n",
       "125                      BCEAO         Africa                  USA   \n",
       "126             Bank of Uganda         Africa                  USA   \n",
       "731        Roland Kpodar (IMF)           Asia                  USA   \n",
       "732        Roland Kpodar (IMF)           Asia                  USA   \n",
       "733        Roland Kpodar (IMF)           Asia                  USA   \n",
       "779        Roland Kpodar (IMF)  Latin America                  USA   \n",
       "780        Roland Kpodar (IMF)  Latin America                  USA   \n",
       "\n",
       "    Receiving_Country_Code  Sending_Country_GDP  Receiving_Country_GDP  \n",
       "122                    ETH         1.972358e+07           9.507178e+04  \n",
       "123                    KEN         2.267949e+07           1.045752e+05  \n",
       "124                    MAR         1.972358e+07           1.147760e+05  \n",
       "125                    SEN         2.091785e+07           2.435960e+04  \n",
       "126                    UGA         2.144339e+07           4.414722e+04  \n",
       "731                    ARM         1.965187e+07           1.195864e+04  \n",
       "732                    ARM         2.015964e+07           1.286750e+04  \n",
       "733                    ARM         1.972358e+07           1.194104e+04  \n",
       "779                    BRA         1.965187e+07           1.797737e+06  \n",
       "780                    BRA         2.015964e+07           1.819683e+06  "
      ]
     },
     "execution_count": 112,
     "metadata": {},
     "output_type": "execute_result"
    }
   ],
   "source": [
    "# Filter data for US as sending country\n",
    "us_flows = df[df['Sending_Country'] == 'United States'].copy()\n",
    "\n",
    "print(f\"Number of US remittance flows: {len(us_flows)}\")\n",
    "print(f\"\\nReceiving countries from US ({us_flows['Receiving_Country'].nunique()} countries):\")\n",
    "print(us_flows['Receiving_Country'].unique())\n",
    "print(f\"\\nYears available: {sorted(us_flows['Year'].unique())}\")\n",
    "\n",
    "# Check Value column format\n",
    "print(f\"\\nValue column sample:\")\n",
    "print(us_flows['Value'].head(10))\n",
    "print(f\"Value data type: {us_flows['Value'].dtype}\")\n",
    "\n",
    "us_flows.head(10)"
   ]
  },
  {
   "cell_type": "code",
   "execution_count": 113,
   "id": "8ec60c2f",
   "metadata": {},
   "outputs": [
    {
     "name": "stdout",
     "output_type": "stream",
     "text": [
      "After cleaning: 47 flows\n",
      "Value range: $0.21M to $11,318.34M\n",
      "\n",
      "Calculating averages from 2015 to 2024 (last 10 years)\n",
      "Data available in last 10 years: 47 flows\n",
      "Years with data: [np.int64(2018), np.int64(2019), np.int64(2020), np.int64(2021), np.int64(2022), np.int64(2024)]\n",
      "\n",
      "Average flows to 19 countries (last 10 years):\n"
     ]
    },
    {
     "data": {
      "application/vnd.microsoft.datawrangler.viewer.v0+json": {
       "columns": [
        {
         "name": "index",
         "rawType": "int64",
         "type": "integer"
        },
        {
         "name": "Receiving_Country",
         "rawType": "object",
         "type": "string"
        },
        {
         "name": "Receiving_Country_Code",
         "rawType": "object",
         "type": "string"
        },
        {
         "name": "Value_Clean",
         "rawType": "float64",
         "type": "float"
        },
        {
         "name": "Number_of_Years",
         "rawType": "int64",
         "type": "integer"
        },
        {
         "name": "First_Year",
         "rawType": "int64",
         "type": "integer"
        },
        {
         "name": "Last_Year",
         "rawType": "int64",
         "type": "integer"
        }
       ],
       "ref": "18dc0e63-4ae1-4f53-a7ff-1cf5a87cb420",
       "rows": [
        [
         "14",
         "Philippines",
         "PHL",
         "10709.664313333333",
         "3",
         "2018",
         "2020"
        ],
        [
         "3",
         "Dominican Republic",
         "DOM",
         "5752.746146666667",
         "3",
         "2018",
         "2020"
        ],
        [
         "6",
         "Haiti",
         "HTI",
         "1682.9572393333335",
         "3",
         "2018",
         "2020"
        ],
        [
         "7",
         "Jamaica",
         "JAM",
         "1360.3245333333332",
         "3",
         "2018",
         "2020"
        ],
        [
         "1",
         "Brazil",
         "BRA",
         "1288.9333333333334",
         "3",
         "2018",
         "2020"
        ],
        [
         "11",
         "Nicaragua",
         "NIC",
         "955.8000000000001",
         "3",
         "2018",
         "2020"
        ],
        [
         "16",
         "Senegal",
         "SEN",
         "479.69592728",
         "1",
         "2021",
         "2021"
        ],
        [
         "10",
         "Morocco",
         "MAR",
         "422.388121",
         "1",
         "2020",
         "2020"
        ],
        [
         "4",
         "Ethiopia",
         "ETH",
         "387.04401602",
         "1",
         "2020",
         "2020"
        ],
        [
         "0",
         "Armenia",
         "ARM",
         "321.20234933333336",
         "3",
         "2018",
         "2020"
        ],
        [
         "18",
         "Uganda",
         "UGA",
         "184.5",
         "1",
         "2022",
         "2022"
        ],
        [
         "13",
         "Paraguay",
         "PRY",
         "75.862205",
         "3",
         "2018",
         "2020"
        ],
        [
         "2",
         "Cabo Verde",
         "CPV",
         "43.9042254",
         "3",
         "2018",
         "2020"
        ],
        [
         "15",
         "Samoa",
         "WSM",
         "36.2931056",
         "3",
         "2018",
         "2020"
        ],
        [
         "9",
         "Kyrgyz Republic",
         "KGZ",
         "27.93936103333333",
         "3",
         "2018",
         "2020"
        ],
        [
         "12",
         "Pakistan",
         "PAK",
         "18.614041726666667",
         "3",
         "2018",
         "2020"
        ],
        [
         "17",
         "Suriname",
         "SUR",
         "10.277333333333333",
         "3",
         "2018",
         "2020"
        ],
        [
         "8",
         "Kenya",
         "KEN",
         "2.637772",
         "1",
         "2024",
         "2024"
        ],
        [
         "5",
         "Georgia",
         "GEO",
         "0.25898866666666664",
         "3",
         "2018",
         "2020"
        ]
       ],
       "shape": {
        "columns": 6,
        "rows": 19
       }
      },
      "text/html": [
       "<div>\n",
       "<style scoped>\n",
       "    .dataframe tbody tr th:only-of-type {\n",
       "        vertical-align: middle;\n",
       "    }\n",
       "\n",
       "    .dataframe tbody tr th {\n",
       "        vertical-align: top;\n",
       "    }\n",
       "\n",
       "    .dataframe thead th {\n",
       "        text-align: right;\n",
       "    }\n",
       "</style>\n",
       "<table border=\"1\" class=\"dataframe\">\n",
       "  <thead>\n",
       "    <tr style=\"text-align: right;\">\n",
       "      <th></th>\n",
       "      <th>Receiving_Country</th>\n",
       "      <th>Receiving_Country_Code</th>\n",
       "      <th>Value_Clean</th>\n",
       "      <th>Number_of_Years</th>\n",
       "      <th>First_Year</th>\n",
       "      <th>Last_Year</th>\n",
       "    </tr>\n",
       "  </thead>\n",
       "  <tbody>\n",
       "    <tr>\n",
       "      <th>14</th>\n",
       "      <td>Philippines</td>\n",
       "      <td>PHL</td>\n",
       "      <td>10709.664313</td>\n",
       "      <td>3</td>\n",
       "      <td>2018</td>\n",
       "      <td>2020</td>\n",
       "    </tr>\n",
       "    <tr>\n",
       "      <th>3</th>\n",
       "      <td>Dominican Republic</td>\n",
       "      <td>DOM</td>\n",
       "      <td>5752.746147</td>\n",
       "      <td>3</td>\n",
       "      <td>2018</td>\n",
       "      <td>2020</td>\n",
       "    </tr>\n",
       "    <tr>\n",
       "      <th>6</th>\n",
       "      <td>Haiti</td>\n",
       "      <td>HTI</td>\n",
       "      <td>1682.957239</td>\n",
       "      <td>3</td>\n",
       "      <td>2018</td>\n",
       "      <td>2020</td>\n",
       "    </tr>\n",
       "    <tr>\n",
       "      <th>7</th>\n",
       "      <td>Jamaica</td>\n",
       "      <td>JAM</td>\n",
       "      <td>1360.324533</td>\n",
       "      <td>3</td>\n",
       "      <td>2018</td>\n",
       "      <td>2020</td>\n",
       "    </tr>\n",
       "    <tr>\n",
       "      <th>1</th>\n",
       "      <td>Brazil</td>\n",
       "      <td>BRA</td>\n",
       "      <td>1288.933333</td>\n",
       "      <td>3</td>\n",
       "      <td>2018</td>\n",
       "      <td>2020</td>\n",
       "    </tr>\n",
       "    <tr>\n",
       "      <th>11</th>\n",
       "      <td>Nicaragua</td>\n",
       "      <td>NIC</td>\n",
       "      <td>955.800000</td>\n",
       "      <td>3</td>\n",
       "      <td>2018</td>\n",
       "      <td>2020</td>\n",
       "    </tr>\n",
       "    <tr>\n",
       "      <th>16</th>\n",
       "      <td>Senegal</td>\n",
       "      <td>SEN</td>\n",
       "      <td>479.695927</td>\n",
       "      <td>1</td>\n",
       "      <td>2021</td>\n",
       "      <td>2021</td>\n",
       "    </tr>\n",
       "    <tr>\n",
       "      <th>10</th>\n",
       "      <td>Morocco</td>\n",
       "      <td>MAR</td>\n",
       "      <td>422.388121</td>\n",
       "      <td>1</td>\n",
       "      <td>2020</td>\n",
       "      <td>2020</td>\n",
       "    </tr>\n",
       "    <tr>\n",
       "      <th>4</th>\n",
       "      <td>Ethiopia</td>\n",
       "      <td>ETH</td>\n",
       "      <td>387.044016</td>\n",
       "      <td>1</td>\n",
       "      <td>2020</td>\n",
       "      <td>2020</td>\n",
       "    </tr>\n",
       "    <tr>\n",
       "      <th>0</th>\n",
       "      <td>Armenia</td>\n",
       "      <td>ARM</td>\n",
       "      <td>321.202349</td>\n",
       "      <td>3</td>\n",
       "      <td>2018</td>\n",
       "      <td>2020</td>\n",
       "    </tr>\n",
       "    <tr>\n",
       "      <th>18</th>\n",
       "      <td>Uganda</td>\n",
       "      <td>UGA</td>\n",
       "      <td>184.500000</td>\n",
       "      <td>1</td>\n",
       "      <td>2022</td>\n",
       "      <td>2022</td>\n",
       "    </tr>\n",
       "    <tr>\n",
       "      <th>13</th>\n",
       "      <td>Paraguay</td>\n",
       "      <td>PRY</td>\n",
       "      <td>75.862205</td>\n",
       "      <td>3</td>\n",
       "      <td>2018</td>\n",
       "      <td>2020</td>\n",
       "    </tr>\n",
       "    <tr>\n",
       "      <th>2</th>\n",
       "      <td>Cabo Verde</td>\n",
       "      <td>CPV</td>\n",
       "      <td>43.904225</td>\n",
       "      <td>3</td>\n",
       "      <td>2018</td>\n",
       "      <td>2020</td>\n",
       "    </tr>\n",
       "    <tr>\n",
       "      <th>15</th>\n",
       "      <td>Samoa</td>\n",
       "      <td>WSM</td>\n",
       "      <td>36.293106</td>\n",
       "      <td>3</td>\n",
       "      <td>2018</td>\n",
       "      <td>2020</td>\n",
       "    </tr>\n",
       "    <tr>\n",
       "      <th>9</th>\n",
       "      <td>Kyrgyz Republic</td>\n",
       "      <td>KGZ</td>\n",
       "      <td>27.939361</td>\n",
       "      <td>3</td>\n",
       "      <td>2018</td>\n",
       "      <td>2020</td>\n",
       "    </tr>\n",
       "    <tr>\n",
       "      <th>12</th>\n",
       "      <td>Pakistan</td>\n",
       "      <td>PAK</td>\n",
       "      <td>18.614042</td>\n",
       "      <td>3</td>\n",
       "      <td>2018</td>\n",
       "      <td>2020</td>\n",
       "    </tr>\n",
       "    <tr>\n",
       "      <th>17</th>\n",
       "      <td>Suriname</td>\n",
       "      <td>SUR</td>\n",
       "      <td>10.277333</td>\n",
       "      <td>3</td>\n",
       "      <td>2018</td>\n",
       "      <td>2020</td>\n",
       "    </tr>\n",
       "    <tr>\n",
       "      <th>8</th>\n",
       "      <td>Kenya</td>\n",
       "      <td>KEN</td>\n",
       "      <td>2.637772</td>\n",
       "      <td>1</td>\n",
       "      <td>2024</td>\n",
       "      <td>2024</td>\n",
       "    </tr>\n",
       "    <tr>\n",
       "      <th>5</th>\n",
       "      <td>Georgia</td>\n",
       "      <td>GEO</td>\n",
       "      <td>0.258989</td>\n",
       "      <td>3</td>\n",
       "      <td>2018</td>\n",
       "      <td>2020</td>\n",
       "    </tr>\n",
       "  </tbody>\n",
       "</table>\n",
       "</div>"
      ],
      "text/plain": [
       "     Receiving_Country Receiving_Country_Code   Value_Clean  Number_of_Years  \\\n",
       "14         Philippines                    PHL  10709.664313                3   \n",
       "3   Dominican Republic                    DOM   5752.746147                3   \n",
       "6                Haiti                    HTI   1682.957239                3   \n",
       "7              Jamaica                    JAM   1360.324533                3   \n",
       "1               Brazil                    BRA   1288.933333                3   \n",
       "11           Nicaragua                    NIC    955.800000                3   \n",
       "16             Senegal                    SEN    479.695927                1   \n",
       "10             Morocco                    MAR    422.388121                1   \n",
       "4             Ethiopia                    ETH    387.044016                1   \n",
       "0              Armenia                    ARM    321.202349                3   \n",
       "18              Uganda                    UGA    184.500000                1   \n",
       "13            Paraguay                    PRY     75.862205                3   \n",
       "2           Cabo Verde                    CPV     43.904225                3   \n",
       "15               Samoa                    WSM     36.293106                3   \n",
       "9      Kyrgyz Republic                    KGZ     27.939361                3   \n",
       "12            Pakistan                    PAK     18.614042                3   \n",
       "17            Suriname                    SUR     10.277333                3   \n",
       "8                Kenya                    KEN      2.637772                1   \n",
       "5              Georgia                    GEO      0.258989                3   \n",
       "\n",
       "    First_Year  Last_Year  \n",
       "14        2018       2020  \n",
       "3         2018       2020  \n",
       "6         2018       2020  \n",
       "7         2018       2020  \n",
       "1         2018       2020  \n",
       "11        2018       2020  \n",
       "16        2021       2021  \n",
       "10        2020       2020  \n",
       "4         2020       2020  \n",
       "0         2018       2020  \n",
       "18        2022       2022  \n",
       "13        2018       2020  \n",
       "2         2018       2020  \n",
       "15        2018       2020  \n",
       "9         2018       2020  \n",
       "12        2018       2020  \n",
       "17        2018       2020  \n",
       "8         2024       2024  \n",
       "5         2018       2020  "
      ]
     },
     "execution_count": 113,
     "metadata": {},
     "output_type": "execute_result"
    }
   ],
   "source": [
    "# Clean and prepare US flows data\n",
    "import numpy as np\n",
    "\n",
    "# Convert Value column to numeric, removing commas\n",
    "us_flows['Value_Clean'] = pd.to_numeric(us_flows['Value'].astype(str).str.replace(',', ''), errors='coerce')\n",
    "\n",
    "# Remove any rows with NaN values\n",
    "us_flows = us_flows.dropna(subset=['Value_Clean'])\n",
    "\n",
    "print(f\"After cleaning: {len(us_flows)} flows\")\n",
    "print(f\"Value range: ${us_flows['Value_Clean'].min():.2f}M to ${us_flows['Value_Clean'].max():,.2f}M\")\n",
    "\n",
    "# Calculate average flows over the last 10 years\n",
    "latest_year = us_flows['Year'].max()\n",
    "ten_years_ago = latest_year - 9  # Last 10 years including current year\n",
    "print(f\"\\nCalculating averages from {ten_years_ago} to {latest_year} (last 10 years)\")\n",
    "\n",
    "# Filter data to last 10 years\n",
    "us_flows_last_10 = us_flows[us_flows['Year'] >= ten_years_ago].copy()\n",
    "\n",
    "print(f\"Data available in last 10 years: {len(us_flows_last_10)} flows\")\n",
    "print(f\"Years with data: {sorted(us_flows_last_10['Year'].unique())}\")\n",
    "\n",
    "# Calculate average flows per country over the last 10 years\n",
    "us_flows_agg = us_flows_last_10.groupby(['Receiving_Country', 'Receiving_Country_Code']).agg({\n",
    "    'Value_Clean': 'mean',  # Changed from 'sum' to 'mean'\n",
    "    'Year': ['count', 'min', 'max']\n",
    "}).reset_index()\n",
    "\n",
    "# Flatten column names\n",
    "us_flows_agg.columns = ['Receiving_Country', 'Receiving_Country_Code', 'Value_Clean', 'Number_of_Years', 'First_Year', 'Last_Year']\n",
    "\n",
    "print(f\"\\nAverage flows to {len(us_flows_agg)} countries (last 10 years):\")\n",
    "us_flows_agg.sort_values('Value_Clean', ascending=False)"
   ]
  },
  {
   "cell_type": "code",
   "execution_count": null,
   "id": "492a118d",
   "metadata": {},
   "outputs": [
    {
     "data": {
      "application/vnd.plotly.v1+json": {
       "config": {
        "plotlyServerURL": "https://plot.ly"
       },
       "data": [
        {
         "coloraxis": "coloraxis",
         "customdata": [
          [
           321.20234933333336,
           3,
           "ARM"
          ],
          [
           1288.9333333333334,
           3,
           "BRA"
          ],
          [
           43.9042254,
           3,
           "CPV"
          ],
          [
           5752.746146666667,
           3,
           "DOM"
          ],
          [
           387.04401602,
           1,
           "ETH"
          ],
          [
           0.25898866666666664,
           3,
           "GEO"
          ],
          [
           1682.9572393333335,
           3,
           "HTI"
          ],
          [
           1360.3245333333332,
           3,
           "JAM"
          ],
          [
           2.637772,
           1,
           "KEN"
          ],
          [
           27.93936103333333,
           3,
           "KGZ"
          ],
          [
           422.388121,
           1,
           "MAR"
          ],
          [
           955.8000000000001,
           3,
           "NIC"
          ],
          [
           18.614041726666667,
           3,
           "PAK"
          ],
          [
           75.862205,
           3,
           "PRY"
          ],
          [
           10709.664313333333,
           3,
           "PHL"
          ],
          [
           36.2931056,
           3,
           "WSM"
          ],
          [
           479.69592728,
           1,
           "SEN"
          ],
          [
           10.277333333333333,
           3,
           "SUR"
          ],
          [
           184.5,
           1,
           "UGA"
          ]
         ],
         "geo": "geo",
         "hovertemplate": "<b>%{hovertext}</b><br><br>Avg Annual Remittances (Millions USD)=%{z:,.2f}<br>Number_of_Years=%{customdata[1]}<extra></extra>",
         "hovertext": [
          "Armenia",
          "Brazil",
          "Cabo Verde",
          "Dominican Republic",
          "Ethiopia",
          "Georgia",
          "Haiti",
          "Jamaica",
          "Kenya",
          "Kyrgyz Republic",
          "Morocco",
          "Nicaragua",
          "Pakistan",
          "Paraguay",
          "Philippines",
          "Samoa",
          "Senegal",
          "Suriname",
          "Uganda"
         ],
         "locations": [
          "ARM",
          "BRA",
          "CPV",
          "DOM",
          "ETH",
          "GEO",
          "HTI",
          "JAM",
          "KEN",
          "KGZ",
          "MAR",
          "NIC",
          "PAK",
          "PRY",
          "PHL",
          "WSM",
          "SEN",
          "SUR",
          "UGA"
         ],
         "name": "",
         "type": "choropleth",
         "z": {
          "bdata": "jJCn0jwTdEC8u7u7uyOUQDSbbKi980VAW8t3A794tkBnZiRKtDB4QPaMVzNFk9A/czyMNtRLmkCDVHdSTEGVQKRv0jQoGgVArU319nnwO0BBnl2+NWZ6QGdmZmZm3o1Ap2mu1jGdMkCnXOFdLvdSQHskOAjV6sRAISP7e4QlQkDov6SEIvt9QMGDeaL+jSRAAAAAAAAQZ0A=",
          "dtype": "f8"
         }
        }
       ],
       "layout": {
        "coloraxis": {
         "colorbar": {
          "title": {
           "text": "Avg Annual Remittances (Millions USD)"
          }
         },
         "colorscale": [
          [
           0,
           "#440154"
          ],
          [
           0.1111111111111111,
           "#482878"
          ],
          [
           0.2222222222222222,
           "#3e4989"
          ],
          [
           0.3333333333333333,
           "#31688e"
          ],
          [
           0.4444444444444444,
           "#26828e"
          ],
          [
           0.5555555555555556,
           "#1f9e89"
          ],
          [
           0.6666666666666666,
           "#35b779"
          ],
          [
           0.7777777777777778,
           "#6ece58"
          ],
          [
           0.8888888888888888,
           "#b5de2b"
          ],
          [
           1,
           "#fde725"
          ]
         ]
        },
        "geo": {
         "center": {},
         "domain": {
          "x": [
           0,
           1
          ],
          "y": [
           0,
           1
          ]
         },
         "projection": {
          "type": "equirectangular"
         },
         "showcoastlines": true,
         "showframe": false
        },
        "height": 700,
        "legend": {
         "tracegroupgap": 0
        },
        "template": {
         "data": {
          "bar": [
           {
            "error_x": {
             "color": "#2a3f5f"
            },
            "error_y": {
             "color": "#2a3f5f"
            },
            "marker": {
             "line": {
              "color": "#E5ECF6",
              "width": 0.5
             },
             "pattern": {
              "fillmode": "overlay",
              "size": 10,
              "solidity": 0.2
             }
            },
            "type": "bar"
           }
          ],
          "barpolar": [
           {
            "marker": {
             "line": {
              "color": "#E5ECF6",
              "width": 0.5
             },
             "pattern": {
              "fillmode": "overlay",
              "size": 10,
              "solidity": 0.2
             }
            },
            "type": "barpolar"
           }
          ],
          "carpet": [
           {
            "aaxis": {
             "endlinecolor": "#2a3f5f",
             "gridcolor": "white",
             "linecolor": "white",
             "minorgridcolor": "white",
             "startlinecolor": "#2a3f5f"
            },
            "baxis": {
             "endlinecolor": "#2a3f5f",
             "gridcolor": "white",
             "linecolor": "white",
             "minorgridcolor": "white",
             "startlinecolor": "#2a3f5f"
            },
            "type": "carpet"
           }
          ],
          "choropleth": [
           {
            "colorbar": {
             "outlinewidth": 0,
             "ticks": ""
            },
            "type": "choropleth"
           }
          ],
          "contour": [
           {
            "colorbar": {
             "outlinewidth": 0,
             "ticks": ""
            },
            "colorscale": [
             [
              0,
              "#0d0887"
             ],
             [
              0.1111111111111111,
              "#46039f"
             ],
             [
              0.2222222222222222,
              "#7201a8"
             ],
             [
              0.3333333333333333,
              "#9c179e"
             ],
             [
              0.4444444444444444,
              "#bd3786"
             ],
             [
              0.5555555555555556,
              "#d8576b"
             ],
             [
              0.6666666666666666,
              "#ed7953"
             ],
             [
              0.7777777777777778,
              "#fb9f3a"
             ],
             [
              0.8888888888888888,
              "#fdca26"
             ],
             [
              1,
              "#f0f921"
             ]
            ],
            "type": "contour"
           }
          ],
          "contourcarpet": [
           {
            "colorbar": {
             "outlinewidth": 0,
             "ticks": ""
            },
            "type": "contourcarpet"
           }
          ],
          "heatmap": [
           {
            "colorbar": {
             "outlinewidth": 0,
             "ticks": ""
            },
            "colorscale": [
             [
              0,
              "#0d0887"
             ],
             [
              0.1111111111111111,
              "#46039f"
             ],
             [
              0.2222222222222222,
              "#7201a8"
             ],
             [
              0.3333333333333333,
              "#9c179e"
             ],
             [
              0.4444444444444444,
              "#bd3786"
             ],
             [
              0.5555555555555556,
              "#d8576b"
             ],
             [
              0.6666666666666666,
              "#ed7953"
             ],
             [
              0.7777777777777778,
              "#fb9f3a"
             ],
             [
              0.8888888888888888,
              "#fdca26"
             ],
             [
              1,
              "#f0f921"
             ]
            ],
            "type": "heatmap"
           }
          ],
          "histogram": [
           {
            "marker": {
             "pattern": {
              "fillmode": "overlay",
              "size": 10,
              "solidity": 0.2
             }
            },
            "type": "histogram"
           }
          ],
          "histogram2d": [
           {
            "colorbar": {
             "outlinewidth": 0,
             "ticks": ""
            },
            "colorscale": [
             [
              0,
              "#0d0887"
             ],
             [
              0.1111111111111111,
              "#46039f"
             ],
             [
              0.2222222222222222,
              "#7201a8"
             ],
             [
              0.3333333333333333,
              "#9c179e"
             ],
             [
              0.4444444444444444,
              "#bd3786"
             ],
             [
              0.5555555555555556,
              "#d8576b"
             ],
             [
              0.6666666666666666,
              "#ed7953"
             ],
             [
              0.7777777777777778,
              "#fb9f3a"
             ],
             [
              0.8888888888888888,
              "#fdca26"
             ],
             [
              1,
              "#f0f921"
             ]
            ],
            "type": "histogram2d"
           }
          ],
          "histogram2dcontour": [
           {
            "colorbar": {
             "outlinewidth": 0,
             "ticks": ""
            },
            "colorscale": [
             [
              0,
              "#0d0887"
             ],
             [
              0.1111111111111111,
              "#46039f"
             ],
             [
              0.2222222222222222,
              "#7201a8"
             ],
             [
              0.3333333333333333,
              "#9c179e"
             ],
             [
              0.4444444444444444,
              "#bd3786"
             ],
             [
              0.5555555555555556,
              "#d8576b"
             ],
             [
              0.6666666666666666,
              "#ed7953"
             ],
             [
              0.7777777777777778,
              "#fb9f3a"
             ],
             [
              0.8888888888888888,
              "#fdca26"
             ],
             [
              1,
              "#f0f921"
             ]
            ],
            "type": "histogram2dcontour"
           }
          ],
          "mesh3d": [
           {
            "colorbar": {
             "outlinewidth": 0,
             "ticks": ""
            },
            "type": "mesh3d"
           }
          ],
          "parcoords": [
           {
            "line": {
             "colorbar": {
              "outlinewidth": 0,
              "ticks": ""
             }
            },
            "type": "parcoords"
           }
          ],
          "pie": [
           {
            "automargin": true,
            "type": "pie"
           }
          ],
          "scatter": [
           {
            "fillpattern": {
             "fillmode": "overlay",
             "size": 10,
             "solidity": 0.2
            },
            "type": "scatter"
           }
          ],
          "scatter3d": [
           {
            "line": {
             "colorbar": {
              "outlinewidth": 0,
              "ticks": ""
             }
            },
            "marker": {
             "colorbar": {
              "outlinewidth": 0,
              "ticks": ""
             }
            },
            "type": "scatter3d"
           }
          ],
          "scattercarpet": [
           {
            "marker": {
             "colorbar": {
              "outlinewidth": 0,
              "ticks": ""
             }
            },
            "type": "scattercarpet"
           }
          ],
          "scattergeo": [
           {
            "marker": {
             "colorbar": {
              "outlinewidth": 0,
              "ticks": ""
             }
            },
            "type": "scattergeo"
           }
          ],
          "scattergl": [
           {
            "marker": {
             "colorbar": {
              "outlinewidth": 0,
              "ticks": ""
             }
            },
            "type": "scattergl"
           }
          ],
          "scattermap": [
           {
            "marker": {
             "colorbar": {
              "outlinewidth": 0,
              "ticks": ""
             }
            },
            "type": "scattermap"
           }
          ],
          "scattermapbox": [
           {
            "marker": {
             "colorbar": {
              "outlinewidth": 0,
              "ticks": ""
             }
            },
            "type": "scattermapbox"
           }
          ],
          "scatterpolar": [
           {
            "marker": {
             "colorbar": {
              "outlinewidth": 0,
              "ticks": ""
             }
            },
            "type": "scatterpolar"
           }
          ],
          "scatterpolargl": [
           {
            "marker": {
             "colorbar": {
              "outlinewidth": 0,
              "ticks": ""
             }
            },
            "type": "scatterpolargl"
           }
          ],
          "scatterternary": [
           {
            "marker": {
             "colorbar": {
              "outlinewidth": 0,
              "ticks": ""
             }
            },
            "type": "scatterternary"
           }
          ],
          "surface": [
           {
            "colorbar": {
             "outlinewidth": 0,
             "ticks": ""
            },
            "colorscale": [
             [
              0,
              "#0d0887"
             ],
             [
              0.1111111111111111,
              "#46039f"
             ],
             [
              0.2222222222222222,
              "#7201a8"
             ],
             [
              0.3333333333333333,
              "#9c179e"
             ],
             [
              0.4444444444444444,
              "#bd3786"
             ],
             [
              0.5555555555555556,
              "#d8576b"
             ],
             [
              0.6666666666666666,
              "#ed7953"
             ],
             [
              0.7777777777777778,
              "#fb9f3a"
             ],
             [
              0.8888888888888888,
              "#fdca26"
             ],
             [
              1,
              "#f0f921"
             ]
            ],
            "type": "surface"
           }
          ],
          "table": [
           {
            "cells": {
             "fill": {
              "color": "#EBF0F8"
             },
             "line": {
              "color": "white"
             }
            },
            "header": {
             "fill": {
              "color": "#C8D4E3"
             },
             "line": {
              "color": "white"
             }
            },
            "type": "table"
           }
          ]
         },
         "layout": {
          "annotationdefaults": {
           "arrowcolor": "#2a3f5f",
           "arrowhead": 0,
           "arrowwidth": 1
          },
          "autotypenumbers": "strict",
          "coloraxis": {
           "colorbar": {
            "outlinewidth": 0,
            "ticks": ""
           }
          },
          "colorscale": {
           "diverging": [
            [
             0,
             "#8e0152"
            ],
            [
             0.1,
             "#c51b7d"
            ],
            [
             0.2,
             "#de77ae"
            ],
            [
             0.3,
             "#f1b6da"
            ],
            [
             0.4,
             "#fde0ef"
            ],
            [
             0.5,
             "#f7f7f7"
            ],
            [
             0.6,
             "#e6f5d0"
            ],
            [
             0.7,
             "#b8e186"
            ],
            [
             0.8,
             "#7fbc41"
            ],
            [
             0.9,
             "#4d9221"
            ],
            [
             1,
             "#276419"
            ]
           ],
           "sequential": [
            [
             0,
             "#0d0887"
            ],
            [
             0.1111111111111111,
             "#46039f"
            ],
            [
             0.2222222222222222,
             "#7201a8"
            ],
            [
             0.3333333333333333,
             "#9c179e"
            ],
            [
             0.4444444444444444,
             "#bd3786"
            ],
            [
             0.5555555555555556,
             "#d8576b"
            ],
            [
             0.6666666666666666,
             "#ed7953"
            ],
            [
             0.7777777777777778,
             "#fb9f3a"
            ],
            [
             0.8888888888888888,
             "#fdca26"
            ],
            [
             1,
             "#f0f921"
            ]
           ],
           "sequentialminus": [
            [
             0,
             "#0d0887"
            ],
            [
             0.1111111111111111,
             "#46039f"
            ],
            [
             0.2222222222222222,
             "#7201a8"
            ],
            [
             0.3333333333333333,
             "#9c179e"
            ],
            [
             0.4444444444444444,
             "#bd3786"
            ],
            [
             0.5555555555555556,
             "#d8576b"
            ],
            [
             0.6666666666666666,
             "#ed7953"
            ],
            [
             0.7777777777777778,
             "#fb9f3a"
            ],
            [
             0.8888888888888888,
             "#fdca26"
            ],
            [
             1,
             "#f0f921"
            ]
           ]
          },
          "colorway": [
           "#636efa",
           "#EF553B",
           "#00cc96",
           "#ab63fa",
           "#FFA15A",
           "#19d3f3",
           "#FF6692",
           "#B6E880",
           "#FF97FF",
           "#FECB52"
          ],
          "font": {
           "color": "#2a3f5f"
          },
          "geo": {
           "bgcolor": "white",
           "lakecolor": "white",
           "landcolor": "#E5ECF6",
           "showlakes": true,
           "showland": true,
           "subunitcolor": "white"
          },
          "hoverlabel": {
           "align": "left"
          },
          "hovermode": "closest",
          "mapbox": {
           "style": "light"
          },
          "paper_bgcolor": "white",
          "plot_bgcolor": "#E5ECF6",
          "polar": {
           "angularaxis": {
            "gridcolor": "white",
            "linecolor": "white",
            "ticks": ""
           },
           "bgcolor": "#E5ECF6",
           "radialaxis": {
            "gridcolor": "white",
            "linecolor": "white",
            "ticks": ""
           }
          },
          "scene": {
           "xaxis": {
            "backgroundcolor": "#E5ECF6",
            "gridcolor": "white",
            "gridwidth": 2,
            "linecolor": "white",
            "showbackground": true,
            "ticks": "",
            "zerolinecolor": "white"
           },
           "yaxis": {
            "backgroundcolor": "#E5ECF6",
            "gridcolor": "white",
            "gridwidth": 2,
            "linecolor": "white",
            "showbackground": true,
            "ticks": "",
            "zerolinecolor": "white"
           },
           "zaxis": {
            "backgroundcolor": "#E5ECF6",
            "gridcolor": "white",
            "gridwidth": 2,
            "linecolor": "white",
            "showbackground": true,
            "ticks": "",
            "zerolinecolor": "white"
           }
          },
          "shapedefaults": {
           "line": {
            "color": "#2a3f5f"
           }
          },
          "ternary": {
           "aaxis": {
            "gridcolor": "white",
            "linecolor": "white",
            "ticks": ""
           },
           "baxis": {
            "gridcolor": "white",
            "linecolor": "white",
            "ticks": ""
           },
           "bgcolor": "#E5ECF6",
           "caxis": {
            "gridcolor": "white",
            "linecolor": "white",
            "ticks": ""
           }
          },
          "title": {
           "x": 0.05
          },
          "xaxis": {
           "automargin": true,
           "gridcolor": "white",
           "linecolor": "white",
           "ticks": "",
           "title": {
            "standoff": 15
           },
           "zerolinecolor": "white",
           "zerolinewidth": 2
          },
          "yaxis": {
           "automargin": true,
           "gridcolor": "white",
           "linecolor": "white",
           "ticks": "",
           "title": {
            "standoff": 15
           },
           "zerolinecolor": "white",
           "zerolinewidth": 2
          }
         }
        },
        "title": {
         "text": "Average Annual US Remittance Flows by Receiving Country (2015-2024)<br><sub>Values in Millions USD</sub>",
         "x": 0.5
        },
        "width": 1200
       }
      }
     },
     "metadata": {},
     "output_type": "display_data"
    },
    {
     "name": "stdout",
     "output_type": "stream",
     "text": [
      "Map Statistics:\n",
      "Countries visualized: 19\n",
      "Total average annual remittances: $23,761.04M\n",
      "Highest recipient: Philippines ($10,709.66M)\n",
      "Lowest recipient: Georgia ($0.26M)\n"
     ]
    }
   ],
   "source": [
    "import plotly.express as px\n",
    "import plotly.graph_objects as go\n",
    "\n",
    "# Create choropleth map using country codes\n",
    "fig = px.choropleth(\n",
    "    us_flows_agg,\n",
    "    locations='Receiving_Country_Code',  # Country codes for mapping\n",
    "    color='Value_Clean',  # Values to color-code\n",
    "    hover_name='Receiving_Country',  # Country names on hover\n",
    "    hover_data={\n",
    "        'Value_Clean': ':,.2f',  # Format as currency\n",
    "        'Number_of_Years': True,\n",
    "        'Receiving_Country_Code': False  # Hide country code from hover\n",
    "    },\n",
    "    color_continuous_scale='Viridis',\n",
    "    title='Kenya Fixed: Average Annual US Remittance Flows by Receiving Country (2015-2024)<br><sub>Values in Millions USD</sub>',\n",
    "    labels={'Value_Clean': 'Avg Annual Remittances (Millions USD)'}\n",
    ")\n",
    "\n",
    "# Update layout for better visualization\n",
    "fig.update_layout(\n",
    "    title_x=0.5,  # Center the title\n",
    "    geo=dict(\n",
    "        showframe=False,\n",
    "        showcoastlines=True,\n",
    "        projection_type='equirectangular'\n",
    "    ),\n",
    "    width=1200,\n",
    "    height=700\n",
    ")\n",
    "\n",
    "# Show the map\n",
    "fig.show()\n",
    "\n",
    "# Display summary statistics\n",
    "print(\"Map Statistics:\")\n",
    "print(f\"Countries visualized: {len(us_flows_agg)}\")\n",
    "print(f\"Total average annual remittances: ${us_flows_agg['Value_Clean'].sum():,.2f}M\")\n",
    "print(f\"Highest recipient: {us_flows_agg.loc[us_flows_agg['Value_Clean'].idxmax(), 'Receiving_Country']} (${us_flows_agg['Value_Clean'].max():,.2f}M)\")\n",
    "print(f\"Lowest recipient: {us_flows_agg.loc[us_flows_agg['Value_Clean'].idxmin(), 'Receiving_Country']} (${us_flows_agg['Value_Clean'].min():,.2f}M)\")"
   ]
  },
  {
   "cell_type": "code",
   "execution_count": 116,
   "id": "649d28d0",
   "metadata": {},
   "outputs": [
    {
     "name": "stdout",
     "output_type": "stream",
     "text": [
      "ALL US REMITTANCE RECEIVING COUNTRIES (2015-2024 Average)\n",
      "=================================================================\n",
      " Rank            Country Avg Annual Remittances  Years of Data\n",
      "    1        Philippines            $10,709.66M              3\n",
      "    2 Dominican Republic             $5,752.75M              3\n",
      "    3              Haiti             $1,682.96M              3\n",
      "    4            Jamaica             $1,360.32M              3\n",
      "    5             Brazil             $1,288.93M              3\n",
      "    6          Nicaragua               $955.80M              3\n",
      "    7            Senegal               $479.70M              1\n",
      "    8            Morocco               $422.39M              1\n",
      "    9           Ethiopia               $387.04M              1\n",
      "   10            Armenia               $321.20M              3\n",
      "   11             Uganda               $184.50M              1\n",
      "   12           Paraguay                $75.86M              3\n",
      "   13         Cabo Verde                $43.90M              3\n",
      "   14              Samoa                $36.29M              3\n",
      "   15    Kyrgyz Republic                $27.94M              3\n",
      "   16           Pakistan                $18.61M              3\n",
      "   17           Suriname                $10.28M              3\n",
      "   18              Kenya                 $2.64M              1\n",
      "   19            Georgia                 $0.26M              3\n",
      "\n",
      "Total countries: 19\n"
     ]
    },
    {
     "data": {
      "image/png": "[encoded data removed]",
      "text/plain": [
       "<Figure size 1600x1000 with 1 Axes>"
      ]
     },
     "metadata": {},
     "output_type": "display_data"
    },
    {
     "data": {
      "application/vnd.plotly.v1+json": {
       "config": {
        "plotlyServerURL": "https://plot.ly"
       },
       "data": [
        {
         "hovertemplate": "Country=%{x}<br>Average Annual Remittances (Millions USD)=%{marker.color}<extra></extra>",
         "legendgroup": "",
         "marker": {
          "color": {
           "bdata": "eyQ4CNXqxEBby3cDv3i2QHM8jDbUS5pAg1R3UkxBlUC8u7u7uyOUQGdmZmZm3o1A6L+khCL7fUBBnl2+NWZ6QGdmJEq0MHhAjJCn0jwTdEAAAAAAABBnQKdc4V0u91JANJtsqL3zRUAhI/t7hCVCQK1N9fZ58DtAp2mu1jGdMkDBg3mi/o0kQKRv0jQoGgVA9oxXM0WT0D8=",
           "dtype": "f8"
          },
          "coloraxis": "coloraxis",
          "pattern": {
           "shape": ""
          }
         },
         "name": "",
         "orientation": "v",
         "showlegend": false,
         "text": {
          "bdata": "eyQ4CNXqxEBby3cDv3i2QHM8jDbUS5pAg1R3UkxBlUC8u7u7uyOUQGdmZmZm3o1A6L+khCL7fUBBnl2+NWZ6QGdmJEq0MHhAjJCn0jwTdEAAAAAAABBnQKdc4V0u91JANJtsqL3zRUAhI/t7hCVCQK1N9fZ58DtAp2mu1jGdMkDBg3mi/o0kQKRv0jQoGgVA9oxXM0WT0D8=",
          "dtype": "f8"
         },
         "textposition": "outside",
         "texttemplate": "$%{text:,.0f}M",
         "type": "bar",
         "x": [
          "Philippines",
          "Dominican Republic",
          "Haiti",
          "Jamaica",
          "Brazil",
          "Nicaragua",
          "Senegal",
          "Morocco",
          "Ethiopia",
          "Armenia",
          "Uganda",
          "Paraguay",
          "Cabo Verde",
          "Samoa",
          "Kyrgyz Republic",
          "Pakistan",
          "Suriname",
          "Kenya",
          "Georgia"
         ],
         "xaxis": "x",
         "y": {
          "bdata": "eyQ4CNXqxEBby3cDv3i2QHM8jDbUS5pAg1R3UkxBlUC8u7u7uyOUQGdmZmZm3o1A6L+khCL7fUBBnl2+NWZ6QGdmJEq0MHhAjJCn0jwTdEAAAAAAABBnQKdc4V0u91JANJtsqL3zRUAhI/t7hCVCQK1N9fZ58DtAp2mu1jGdMkDBg3mi/o0kQKRv0jQoGgVA9oxXM0WT0D8=",
          "dtype": "f8"
         },
         "yaxis": "y"
        }
       ],
       "layout": {
        "barmode": "relative",
        "coloraxis": {
         "colorbar": {
          "title": {
           "text": "Average Annual Remittances (Millions USD)"
          }
         },
         "colorscale": [
          [
           0,
           "#440154"
          ],
          [
           0.1111111111111111,
           "#482878"
          ],
          [
           0.2222222222222222,
           "#3e4989"
          ],
          [
           0.3333333333333333,
           "#31688e"
          ],
          [
           0.4444444444444444,
           "#26828e"
          ],
          [
           0.5555555555555556,
           "#1f9e89"
          ],
          [
           0.6666666666666666,
           "#35b779"
          ],
          [
           0.7777777777777778,
           "#6ece58"
          ],
          [
           0.8888888888888888,
           "#b5de2b"
          ],
          [
           1,
           "#fde725"
          ]
         ]
        },
        "height": 700,
        "legend": {
         "tracegroupgap": 0
        },
        "showlegend": false,
        "template": {
         "data": {
          "bar": [
           {
            "error_x": {
             "color": "#2a3f5f"
            },
            "error_y": {
             "color": "#2a3f5f"
            },
            "marker": {
             "line": {
              "color": "#E5ECF6",
              "width": 0.5
             },
             "pattern": {
              "fillmode": "overlay",
              "size": 10,
              "solidity": 0.2
             }
            },
            "type": "bar"
           }
          ],
          "barpolar": [
           {
            "marker": {
             "line": {
              "color": "#E5ECF6",
              "width": 0.5
             },
             "pattern": {
              "fillmode": "overlay",
              "size": 10,
              "solidity": 0.2
             }
            },
            "type": "barpolar"
           }
          ],
          "carpet": [
           {
            "aaxis": {
             "endlinecolor": "#2a3f5f",
             "gridcolor": "white",
             "linecolor": "white",
             "minorgridcolor": "white",
             "startlinecolor": "#2a3f5f"
            },
            "baxis": {
             "endlinecolor": "#2a3f5f",
             "gridcolor": "white",
             "linecolor": "white",
             "minorgridcolor": "white",
             "startlinecolor": "#2a3f5f"
            },
            "type": "carpet"
           }
          ],
          "choropleth": [
           {
            "colorbar": {
             "outlinewidth": 0,
             "ticks": ""
            },
            "type": "choropleth"
           }
          ],
          "contour": [
           {
            "colorbar": {
             "outlinewidth": 0,
             "ticks": ""
            },
            "colorscale": [
             [
              0,
              "#0d0887"
             ],
             [
              0.1111111111111111,
              "#46039f"
             ],
             [
              0.2222222222222222,
              "#7201a8"
             ],
             [
              0.3333333333333333,
              "#9c179e"
             ],
             [
              0.4444444444444444,
              "#bd3786"
             ],
             [
              0.5555555555555556,
              "#d8576b"
             ],
             [
              0.6666666666666666,
              "#ed7953"
             ],
             [
              0.7777777777777778,
              "#fb9f3a"
             ],
             [
              0.8888888888888888,
              "#fdca26"
             ],
             [
              1,
              "#f0f921"
             ]
            ],
            "type": "contour"
           }
          ],
          "contourcarpet": [
           {
            "colorbar": {
             "outlinewidth": 0,
             "ticks": ""
            },
            "type": "contourcarpet"
           }
          ],
          "heatmap": [
           {
            "colorbar": {
             "outlinewidth": 0,
             "ticks": ""
            },
            "colorscale": [
             [
              0,
              "#0d0887"
             ],
             [
              0.1111111111111111,
              "#46039f"
             ],
             [
              0.2222222222222222,
              "#7201a8"
             ],
             [
              0.3333333333333333,
              "#9c179e"
             ],
             [
              0.4444444444444444,
              "#bd3786"
             ],
             [
              0.5555555555555556,
              "#d8576b"
             ],
             [
              0.6666666666666666,
              "#ed7953"
             ],
             [
              0.7777777777777778,
              "#fb9f3a"
             ],
             [
              0.8888888888888888,
              "#fdca26"
             ],
             [
              1,
              "#f0f921"
             ]
            ],
            "type": "heatmap"
           }
          ],
          "histogram": [
           {
            "marker": {
             "pattern": {
              "fillmode": "overlay",
              "size": 10,
              "solidity": 0.2
             }
            },
            "type": "histogram"
           }
          ],
          "histogram2d": [
           {
            "colorbar": {
             "outlinewidth": 0,
             "ticks": ""
            },
            "colorscale": [
             [
              0,
              "#0d0887"
             ],
             [
              0.1111111111111111,
              "#46039f"
             ],
             [
              0.2222222222222222,
              "#7201a8"
             ],
             [
              0.3333333333333333,
              "#9c179e"
             ],
             [
              0.4444444444444444,
              "#bd3786"
             ],
             [
              0.5555555555555556,
              "#d8576b"
             ],
             [
              0.6666666666666666,
              "#ed7953"
             ],
             [
              0.7777777777777778,
              "#fb9f3a"
             ],
             [
              0.8888888888888888,
              "#fdca26"
             ],
             [
              1,
              "#f0f921"
             ]
            ],
            "type": "histogram2d"
           }
          ],
          "histogram2dcontour": [
           {
            "colorbar": {
             "outlinewidth": 0,
             "ticks": ""
            },
            "colorscale": [
             [
              0,
              "#0d0887"
             ],
             [
              0.1111111111111111,
              "#46039f"
             ],
             [
              0.2222222222222222,
              "#7201a8"
             ],
             [
              0.3333333333333333,
              "#9c179e"
             ],
             [
              0.4444444444444444,
              "#bd3786"
             ],
             [
              0.5555555555555556,
              "#d8576b"
             ],
             [
              0.6666666666666666,
              "#ed7953"
             ],
             [
              0.7777777777777778,
              "#fb9f3a"
             ],
             [
              0.8888888888888888,
              "#fdca26"
             ],
             [
              1,
              "#f0f921"
             ]
            ],
            "type": "histogram2dcontour"
           }
          ],
          "mesh3d": [
           {
            "colorbar": {
             "outlinewidth": 0,
             "ticks": ""
            },
            "type": "mesh3d"
           }
          ],
          "parcoords": [
           {
            "line": {
             "colorbar": {
              "outlinewidth": 0,
              "ticks": ""
             }
            },
            "type": "parcoords"
           }
          ],
          "pie": [
           {
            "automargin": true,
            "type": "pie"
           }
          ],
          "scatter": [
           {
            "fillpattern": {
             "fillmode": "overlay",
             "size": 10,
             "solidity": 0.2
            },
            "type": "scatter"
           }
          ],
          "scatter3d": [
           {
            "line": {
             "colorbar": {
              "outlinewidth": 0,
              "ticks": ""
             }
            },
            "marker": {
             "colorbar": {
              "outlinewidth": 0,
              "ticks": ""
             }
            },
            "type": "scatter3d"
           }
          ],
          "scattercarpet": [
           {
            "marker": {
             "colorbar": {
              "outlinewidth": 0,
              "ticks": ""
             }
            },
            "type": "scattercarpet"
           }
          ],
          "scattergeo": [
           {
            "marker": {
             "colorbar": {
              "outlinewidth": 0,
              "ticks": ""
             }
            },
            "type": "scattergeo"
           }
          ],
          "scattergl": [
           {
            "marker": {
             "colorbar": {
              "outlinewidth": 0,
              "ticks": ""
             }
            },
            "type": "scattergl"
           }
          ],
          "scattermap": [
           {
            "marker": {
             "colorbar": {
              "outlinewidth": 0,
              "ticks": ""
             }
            },
            "type": "scattermap"
           }
          ],
          "scattermapbox": [
           {
            "marker": {
             "colorbar": {
              "outlinewidth": 0,
              "ticks": ""
             }
            },
            "type": "scattermapbox"
           }
          ],
          "scatterpolar": [
           {
            "marker": {
             "colorbar": {
              "outlinewidth": 0,
              "ticks": ""
             }
            },
            "type": "scatterpolar"
           }
          ],
          "scatterpolargl": [
           {
            "marker": {
             "colorbar": {
              "outlinewidth": 0,
              "ticks": ""
             }
            },
            "type": "scatterpolargl"
           }
          ],
          "scatterternary": [
           {
            "marker": {
             "colorbar": {
              "outlinewidth": 0,
              "ticks": ""
             }
            },
            "type": "scatterternary"
           }
          ],
          "surface": [
           {
            "colorbar": {
             "outlinewidth": 0,
             "ticks": ""
            },
            "colorscale": [
             [
              0,
              "#0d0887"
             ],
             [
              0.1111111111111111,
              "#46039f"
             ],
             [
              0.2222222222222222,
              "#7201a8"
             ],
             [
              0.3333333333333333,
              "#9c179e"
             ],
             [
              0.4444444444444444,
              "#bd3786"
             ],
             [
              0.5555555555555556,
              "#d8576b"
             ],
             [
              0.6666666666666666,
              "#ed7953"
             ],
             [
              0.7777777777777778,
              "#fb9f3a"
             ],
             [
              0.8888888888888888,
              "#fdca26"
             ],
             [
              1,
              "#f0f921"
             ]
            ],
            "type": "surface"
           }
          ],
          "table": [
           {
            "cells": {
             "fill": {
              "color": "#EBF0F8"
             },
             "line": {
              "color": "white"
             }
            },
            "header": {
             "fill": {
              "color": "#C8D4E3"
             },
             "line": {
              "color": "white"
             }
            },
            "type": "table"
           }
          ]
         },
         "layout": {
          "annotationdefaults": {
           "arrowcolor": "#2a3f5f",
           "arrowhead": 0,
           "arrowwidth": 1
          },
          "autotypenumbers": "strict",
          "coloraxis": {
           "colorbar": {
            "outlinewidth": 0,
            "ticks": ""
           }
          },
          "colorscale": {
           "diverging": [
            [
             0,
             "#8e0152"
            ],
            [
             0.1,
             "#c51b7d"
            ],
            [
             0.2,
             "#de77ae"
            ],
            [
             0.3,
             "#f1b6da"
            ],
            [
             0.4,
             "#fde0ef"
            ],
            [
             0.5,
             "#f7f7f7"
            ],
            [
             0.6,
             "#e6f5d0"
            ],
            [
             0.7,
             "#b8e186"
            ],
            [
             0.8,
             "#7fbc41"
            ],
            [
             0.9,
             "#4d9221"
            ],
            [
             1,
             "#276419"
            ]
           ],
           "sequential": [
            [
             0,
             "#0d0887"
            ],
            [
             0.1111111111111111,
             "#46039f"
            ],
            [
             0.2222222222222222,
             "#7201a8"
            ],
            [
             0.3333333333333333,
             "#9c179e"
            ],
            [
             0.4444444444444444,
             "#bd3786"
            ],
            [
             0.5555555555555556,
             "#d8576b"
            ],
            [
             0.6666666666666666,
             "#ed7953"
            ],
            [
             0.7777777777777778,
             "#fb9f3a"
            ],
            [
             0.8888888888888888,
             "#fdca26"
            ],
            [
             1,
             "#f0f921"
            ]
           ],
           "sequentialminus": [
            [
             0,
             "#0d0887"
            ],
            [
             0.1111111111111111,
             "#46039f"
            ],
            [
             0.2222222222222222,
             "#7201a8"
            ],
            [
             0.3333333333333333,
             "#9c179e"
            ],
            [
             0.4444444444444444,
             "#bd3786"
            ],
            [
             0.5555555555555556,
             "#d8576b"
            ],
            [
             0.6666666666666666,
             "#ed7953"
            ],
            [
             0.7777777777777778,
             "#fb9f3a"
            ],
            [
             0.8888888888888888,
             "#fdca26"
            ],
            [
             1,
             "#f0f921"
            ]
           ]
          },
          "colorway": [
           "#636efa",
           "#EF553B",
           "#00cc96",
           "#ab63fa",
           "#FFA15A",
           "#19d3f3",
           "#FF6692",
           "#B6E880",
           "#FF97FF",
           "#FECB52"
          ],
          "font": {
           "color": "#2a3f5f"
          },
          "geo": {
           "bgcolor": "white",
           "lakecolor": "white",
           "landcolor": "#E5ECF6",
           "showlakes": true,
           "showland": true,
           "subunitcolor": "white"
          },
          "hoverlabel": {
           "align": "left"
          },
          "hovermode": "closest",
          "mapbox": {
           "style": "light"
          },
          "paper_bgcolor": "white",
          "plot_bgcolor": "#E5ECF6",
          "polar": {
           "angularaxis": {
            "gridcolor": "white",
            "linecolor": "white",
            "ticks": ""
           },
           "bgcolor": "#E5ECF6",
           "radialaxis": {
            "gridcolor": "white",
            "linecolor": "white",
            "ticks": ""
           }
          },
          "scene": {
           "xaxis": {
            "backgroundcolor": "#E5ECF6",
            "gridcolor": "white",
            "gridwidth": 2,
            "linecolor": "white",
            "showbackground": true,
            "ticks": "",
            "zerolinecolor": "white"
           },
           "yaxis": {
            "backgroundcolor": "#E5ECF6",
            "gridcolor": "white",
            "gridwidth": 2,
            "linecolor": "white",
            "showbackground": true,
            "ticks": "",
            "zerolinecolor": "white"
           },
           "zaxis": {
            "backgroundcolor": "#E5ECF6",
            "gridcolor": "white",
            "gridwidth": 2,
            "linecolor": "white",
            "showbackground": true,
            "ticks": "",
            "zerolinecolor": "white"
           }
          },
          "shapedefaults": {
           "line": {
            "color": "#2a3f5f"
           }
          },
          "ternary": {
           "aaxis": {
            "gridcolor": "white",
            "linecolor": "white",
            "ticks": ""
           },
           "baxis": {
            "gridcolor": "white",
            "linecolor": "white",
            "ticks": ""
           },
           "bgcolor": "#E5ECF6",
           "caxis": {
            "gridcolor": "white",
            "linecolor": "white",
            "ticks": ""
           }
          },
          "title": {
           "x": 0.05
          },
          "xaxis": {
           "automargin": true,
           "gridcolor": "white",
           "linecolor": "white",
           "ticks": "",
           "title": {
            "standoff": 15
           },
           "zerolinecolor": "white",
           "zerolinewidth": 2
          },
          "yaxis": {
           "automargin": true,
           "gridcolor": "white",
           "linecolor": "white",
           "ticks": "",
           "title": {
            "standoff": 15
           },
           "zerolinecolor": "white",
           "zerolinewidth": 2
          }
         }
        },
        "title": {
         "text": "All 19 US Remittance Receiving Countries (2015-2024 Average) - Interactive",
         "x": 0.5
        },
        "width": 1000,
        "xaxis": {
         "anchor": "y",
         "categoryorder": "total descending",
         "domain": [
          0,
          1
         ],
         "tickangle": -45,
         "title": {
          "text": "Country"
         }
        },
        "yaxis": {
         "anchor": "x",
         "domain": [
          0,
          1
         ],
         "title": {
          "text": "Average Annual Remittances (Millions USD)"
         }
        }
       }
      }
     },
     "metadata": {},
     "output_type": "display_data"
    }
   ],
   "source": [
    "# Top receiving countries visualization - ALL COUNTRIES with VERTICAL bars\n",
    "import matplotlib.pyplot as plt\n",
    "import seaborn as sns\n",
    "\n",
    "# Sort countries by remittance values and get all countries (we only have 19 total)\n",
    "all_countries = us_flows_agg.sort_values('Value_Clean', ascending=False).reset_index(drop=True)\n",
    "\n",
    "print(\"ALL US REMITTANCE RECEIVING COUNTRIES (2015-2024 Average)\")\n",
    "print(\"=\" * 65)\n",
    "\n",
    "# Display all countries in a formatted table\n",
    "all_countries_display = all_countries.copy()\n",
    "all_countries_display['Rank'] = range(1, len(all_countries_display) + 1)\n",
    "all_countries_display['Value_Formatted'] = all_countries_display['Value_Clean'].apply(lambda x: f\"${x:,.2f}M\")\n",
    "\n",
    "# Reorder columns for display\n",
    "display_cols = ['Rank', 'Receiving_Country', 'Value_Formatted', 'Number_of_Years']\n",
    "table_display = all_countries_display[display_cols]\n",
    "table_display.columns = ['Rank', 'Country', 'Avg Annual Remittances', 'Years of Data']\n",
    "\n",
    "print(table_display.to_string(index=False))\n",
    "print(f\"\\nTotal countries: {len(us_flows_agg)}\")\n",
    "\n",
    "# Create VERTICAL bar chart (flipped axis)\n",
    "plt.figure(figsize=(16, 10))\n",
    "\n",
    "# Create vertical bar chart \n",
    "bars = plt.bar(range(len(all_countries_display)), all_countries_display['Value_Clean'])\n",
    "\n",
    "# Color gradient\n",
    "colors = plt.cm.viridis(np.linspace(0, 1, len(all_countries_display)))\n",
    "for bar, color in zip(bars, colors):\n",
    "    bar.set_color(color)\n",
    "\n",
    "plt.ylabel('Average Annual Remittances (Millions USD)', fontsize=12)\n",
    "plt.xlabel('Receiving Country', fontsize=12)\n",
    "plt.title(f'All {len(all_countries_display)} US Remittance Receiving Countries\\n(2015-2024 Average - Vertical Bars)', fontsize=14, fontweight='bold')\n",
    "\n",
    "# Set country names on x-axis with rotation for readability\n",
    "plt.xticks(range(len(all_countries_display)), all_countries_display['Receiving_Country'], \n",
    "           rotation=45, ha='right', fontsize=10)\n",
    "\n",
    "# Add value labels on top of bars\n",
    "for i, (country, value) in enumerate(zip(all_countries_display['Receiving_Country'], all_countries_display['Value_Clean'])):\n",
    "    plt.text(i, value + 50, f'${value:,.0f}M', ha='center', va='bottom', fontsize=8, rotation=0)\n",
    "\n",
    "plt.grid(axis='y', alpha=0.3)\n",
    "plt.tight_layout()\n",
    "plt.show()\n",
    "\n",
    "# Create a plotly interactive VERTICAL bar chart as well\n",
    "fig_bar = px.bar(\n",
    "    all_countries,\n",
    "    x='Receiving_Country',\n",
    "    y='Value_Clean',\n",
    "    title=f'All {len(all_countries)} US Remittance Receiving Countries (2015-2024 Average) - Interactive',\n",
    "    labels={'Value_Clean': 'Average Annual Remittances (Millions USD)', 'Receiving_Country': 'Country'},\n",
    "    text='Value_Clean',\n",
    "    color='Value_Clean',\n",
    "    color_continuous_scale='Viridis'\n",
    ")\n",
    "\n",
    "fig_bar.update_traces(texttemplate='$%{text:,.0f}M', textposition='outside')\n",
    "fig_bar.update_layout(\n",
    "    xaxis={'categoryorder': 'total descending'},\n",
    "    title_x=0.5,\n",
    "    width=1000,\n",
    "    height=700,\n",
    "    showlegend=False,\n",
    "    xaxis_tickangle=-45\n",
    ")\n",
    "\n",
    "fig_bar.show()"
   ]
  }
 ],
 "metadata": {
  "kernelspec": {
   "display_name": "Python 3",
   "language": "python",
   "name": "python3"
  },
  "language_info": {
   "codemirror_mode": {
    "name": "ipython",
    "version": 3
   },
   "file_extension": ".py",
   "mimetype": "text/x-python",
   "name": "python",
   "nbconvert_exporter": "python",
   "pygments_lexer": "ipython3",
   "version": "3.13.5"
  }
 },
 "nbformat": 4,
 "nbformat_minor": 5
}
