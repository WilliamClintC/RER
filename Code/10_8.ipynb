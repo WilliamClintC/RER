{
 "cells": [
  {
   "cell_type": "code",
   "execution_count": 23,
   "id": "9c6d9d22",
   "metadata": {},
   "outputs": [
    {
     "name": "stdout",
     "output_type": "stream",
     "text": [
      "                                                   0                    1  \\\n",
      "0  Indicator:\\tB\\t-\\tCentral\\tBank\\tremittance\\ti...                  NaN   \n",
      "1                                   Sending\\tcountry  Receive\\tcou.. Date   \n",
      "2                                            Algeria              Senegal   \n",
      "3                                          Australia             Ethiopia   \n",
      "4                                                NaN                Kenya   \n",
      "\n",
      "        2                  3              4                             5  \n",
      "0     NaN                NaN            NaN                           NaN  \n",
      "1     NaN              Value           Unit                        Source  \n",
      "2  2021.0        0.183414825  USD\\tmillions                         BCEAO  \n",
      "3  2020.0        13.59617511  USD\\tmillions  National\\tBank\\tof\\tEthiopia  \n",
      "4  2024.0  184,497.099695719  USD\\tmillions      Central\\tBank\\tof\\tKenya  \n",
      "               0               1                 2              3  \\\n",
      "0  South\\tAfrica  Ethiopia\\n2020       67.93372415  USD\\tmillions   \n",
      "1            NaN     Kenya\\n2024  24,095.095706679  USD\\tmillions   \n",
      "2            NaN   Senegal\\n2021      14.579840557  USD\\tmillions   \n",
      "3            NaN    Uganda\\n2022              28.7  USD\\tmillions   \n",
      "4   South\\tSudan  Ethiopia\\n2020       11.33937986  USD\\tmillions   \n",
      "\n",
      "                              4  \n",
      "0  National\\tBank\\tof\\tEthiopia  \n",
      "1      Central\\tBank\\tof\\tKenya  \n",
      "2                         BCEAO  \n",
      "3              Bank\\tof\\tUganda  \n",
      "4  National\\tBank\\tof\\tEthiopia  \n"
     ]
    }
   ],
   "source": [
    "import pandas as pd\n",
    "\n",
    "# Load stream_table_1.csv\n",
    "df1 = pd.read_csv(r'C:\\Users\\clint\\Desktop\\RER\\_output\\data\\Remittance_3\\stream_table_1.csv', encoding='utf-8', engine='python')\n",
    "\n",
    "# Load stream_table_2_cleaned.csv\n",
    "df2 = pd.read_csv(r'C:\\Users\\clint\\Desktop\\RER\\_output\\data\\Remittance_3\\stream_table_2_cleaned.csv', encoding='utf-8', engine='python')\n",
    "\n",
    "# Display the first few rows of each dataframe\n",
    "print(df1.head())\n",
    "print(df2.head())"
   ]
  },
  {
   "cell_type": "code",
   "execution_count": 24,
   "id": "40807a73",
   "metadata": {},
   "outputs": [
    {
     "data": {
      "application/vnd.microsoft.datawrangler.viewer.v0+json": {
       "columns": [
        {
         "name": "index",
         "rawType": "int64",
         "type": "integer"
        },
        {
         "name": "0",
         "rawType": "object",
         "type": "unknown"
        },
        {
         "name": "1",
         "rawType": "object",
         "type": "unknown"
        },
        {
         "name": "2",
         "rawType": "float64",
         "type": "float"
        },
        {
         "name": "3",
         "rawType": "object",
         "type": "unknown"
        },
        {
         "name": "4",
         "rawType": "object",
         "type": "unknown"
        },
        {
         "name": "5",
         "rawType": "object",
         "type": "unknown"
        }
       ],
       "ref": "c2c41463-665e-4865-aec2-cd586a7ed7aa",
       "rows": [
        [
         "0",
         "Indicator:\tB\t-\tCentral\tBank\tremittance\tinflows",
         null,
         null,
         null,
         null,
         null
        ],
        [
         "1",
         "Sending\tcountry",
         "Receive\tcou.. Date",
         null,
         "Value",
         "Unit",
         "Source"
        ],
        [
         "2",
         "Algeria",
         "Senegal",
         "2021.0",
         "0.183414825",
         "USD\tmillions",
         "BCEAO"
        ],
        [
         "3",
         "Australia",
         "Ethiopia",
         "2020.0",
         "13.59617511",
         "USD\tmillions",
         "National\tBank\tof\tEthiopia"
        ],
        [
         "4",
         null,
         "Kenya",
         "2024.0",
         "184,497.099695719",
         "USD\tmillions",
         "Central\tBank\tof\tKenya"
        ],
        [
         "5",
         null,
         "Uganda",
         "2022.0",
         "22",
         "USD\tmillions",
         "Bank\tof\tUganda"
        ],
        [
         "6",
         "Austria",
         "Kenya",
         "2024.0",
         "13,169.065145833",
         "USD\tmillions",
         "Central\tBank\tof\tKenya"
        ],
        [
         "7",
         "Bahamas",
         "Kenya",
         "2024.0",
         "1,453.632639905",
         "USD\tmillions",
         "Central\tBank\tof\tKenya"
        ],
        [
         "8",
         "Bahrain",
         "Kenya",
         "2024.0",
         "5,004.769090469",
         "USD\tmillions",
         "Central\tBank\tof\tKenya"
        ],
        [
         "9",
         null,
         "Morocco",
         "2020.0",
         "30.3408085",
         "USD\tmillions",
         "Bank\tAl-Maghrib"
        ],
        [
         "10",
         "Belgium",
         "Kenya",
         "2024.0",
         "22,844.654997935",
         "USD\tmillions",
         "Central\tBank\tof\tKenya"
        ],
        [
         "11",
         null,
         "Morocco",
         "2020.0",
         "387.629403",
         "USD\tmillions",
         "Bank\tAl-Maghrib"
        ],
        [
         "12",
         null,
         "Senegal",
         "2021.0",
         "88.247787762",
         "USD\tmillions",
         "BCEAO"
        ],
        [
         "13",
         "Benin",
         "Senegal",
         "2021.0",
         "25.846190336",
         "USD\tmillions",
         "BCEAO"
        ],
        [
         "14",
         "Brazil",
         "Senegal",
         "2021.0",
         "29.312422216",
         "USD\tmillions",
         "BCEAO"
        ],
        [
         "15",
         "Burkina\tFaso",
         "Senegal",
         "2021.0",
         "35.216150094",
         "USD\tmillions",
         "BCEAO"
        ],
        [
         "16",
         "Cameroon",
         "Senegal",
         "2021.0",
         "43.126214245",
         "USD\tmillions",
         "BCEAO"
        ],
        [
         "17",
         "Canada",
         "Ethiopia",
         "2020.0",
         "33.89159808",
         "USD\tmillions",
         "National\tBank\tof\tEthiopia"
        ],
        [
         "18",
         null,
         "Kenya",
         "2024.0",
         "130,812.76972775",
         "USD\tmillions",
         "Central\tBank\tof\tKenya"
        ],
        [
         "19",
         null,
         "Morocco",
         "2020.0",
         "99.802037",
         "USD\tmillions",
         "Bank\tAl-Maghrib"
        ],
        [
         "20",
         null,
         "Senegal",
         "2021.0",
         "2.866648143",
         "USD\tmillions",
         "BCEAO"
        ],
        [
         "21",
         null,
         "Uganda",
         "2022.0",
         "82.1",
         "USD\tmillions",
         "Bank\tof\tUganda"
        ],
        [
         "22",
         "Central\tAfrican\tRepublic",
         "Senegal",
         "2021.0",
         "11.097456712",
         "USD\tmillions",
         "BCEAO"
        ],
        [
         "23",
         "Chad",
         "Senegal",
         "2021.0",
         "8.390086853",
         "USD\tmillions",
         "BCEAO"
        ],
        [
         "24",
         "China",
         "Kenya",
         "2024.0",
         "5,981.681937719",
         "USD\tmillions",
         "Central\tBank\tof\tKenya"
        ],
        [
         "25",
         null,
         "Senegal",
         "2021.0",
         "0.358772173",
         "USD\tmillions",
         "BCEAO"
        ],
        [
         "26",
         null,
         "Uganda",
         "2022.0",
         "7",
         "USD\tmillions",
         "Bank\tof\tUganda"
        ],
        [
         "27",
         "Congo,\tDem.\tRep.",
         "Uganda",
         "2022.0",
         "21",
         "USD\tmillions",
         "Bank\tof\tUganda"
        ],
        [
         "28",
         "Congo,\tRep.",
         "Senegal",
         "2021.0",
         "61.407592705",
         "USD\tmillions",
         "BCEAO"
        ],
        [
         "29",
         "Côte\td'Ivoire",
         "Kenya",
         "2024.0",
         "4,351.233359615",
         "USD\tmillions",
         "Central\tBank\tof\tKenya"
        ],
        [
         "30",
         null,
         "Senegal",
         "2021.0",
         "89.989410749",
         "USD\tmillions",
         "BCEAO"
        ],
        [
         "31",
         "Denmark",
         "Morocco",
         "2020.0",
         "28.261131",
         "USD\tmillions",
         "Bank\tAl-Maghrib"
        ],
        [
         "32",
         null,
         "Senegal",
         "2021.0",
         "5.476232008",
         "USD\tmillions",
         "BCEAO"
        ],
        [
         "33",
         "Djibouti",
         "Ethiopia",
         "2020.0",
         "185.47649889",
         "USD\tmillions",
         "National\tBank\tof\tEthiopia"
        ],
        [
         "34",
         "Egypt",
         "Kenya",
         "2024.0",
         "2,710.849916951",
         "USD\tmillions",
         "Central\tBank\tof\tKenya"
        ],
        [
         "35",
         "Equatorial\tGuinea",
         "Senegal",
         "2021.0",
         "4.981180446",
         "USD\tmillions",
         "BCEAO"
        ],
        [
         "36",
         "France",
         "Kenya",
         "2024.0",
         "25,420.562300568",
         "USD\tmillions",
         "Central\tBank\tof\tKenya"
        ],
        [
         "37",
         null,
         "Morocco",
         "2020.0",
         "2,740.1718325",
         "USD\tmillions",
         "Bank\tAl-Maghrib"
        ],
        [
         "38",
         null,
         "Senegal",
         "2021.0",
         "1,630.192958418",
         "USD\tmillions",
         "BCEAO"
        ],
        [
         "39",
         "Gabon",
         "Senegal",
         "2021.0",
         "110.182458279",
         "USD\tmillions",
         "BCEAO"
        ],
        [
         "40",
         "Germany",
         "Ethiopia",
         "2020.0",
         "61.4673327",
         "USD\tmillions",
         "National\tBank\tof\tEthiopia"
        ],
        [
         "41",
         null,
         "Kenya",
         "2024.0",
         "197,764.185703727",
         "USD\tmillions",
         "Central\tBank\tof\tKenya"
        ],
        [
         "42",
         null,
         "Morocco",
         "2020.0",
         "349.588167",
         "USD\tmillions",
         "Bank\tAl-Maghrib"
        ],
        [
         "43",
         null,
         "Senegal",
         "2021.0",
         "81.314844041",
         "USD\tmillions",
         "BCEAO"
        ],
        [
         "44",
         null,
         "Uganda",
         "2022.0",
         "27.9",
         "USD\tmillions",
         "Bank\tof\tUganda"
        ],
        [
         "45",
         "Greece",
         "Senegal",
         "2021.0",
         "7.552688969",
         "USD\tmillions",
         "BCEAO"
        ],
        [
         "46",
         "Guinea-Bissau",
         "Senegal",
         "2021.0",
         "20.567153363",
         "USD\tmillions",
         "BCEAO"
        ],
        [
         "47",
         "India",
         "Kenya",
         "2024.0",
         "20,594.869099147",
         "USD\tmillions",
         "Central\tBank\tof\tKenya"
        ],
        [
         "48",
         null,
         "Senegal",
         "2021.0",
         "0.067644659",
         "USD\tmillions",
         "BCEAO"
        ],
        [
         "49",
         "Iraq",
         "Kenya",
         "2024.0",
         "18,473.974825301",
         "USD\tmillions",
         "Central\tBank\tof\tKenya"
        ]
       ],
       "shape": {
        "columns": 6,
        "rows": 90
       }
      },
      "text/html": [
       "<div>\n",
       "<style scoped>\n",
       "    .dataframe tbody tr th:only-of-type {\n",
       "        vertical-align: middle;\n",
       "    }\n",
       "\n",
       "    .dataframe tbody tr th {\n",
       "        vertical-align: top;\n",
       "    }\n",
       "\n",
       "    .dataframe thead th {\n",
       "        text-align: right;\n",
       "    }\n",
       "</style>\n",
       "<table border=\"1\" class=\"dataframe\">\n",
       "  <thead>\n",
       "    <tr style=\"text-align: right;\">\n",
       "      <th></th>\n",
       "      <th>0</th>\n",
       "      <th>1</th>\n",
       "      <th>2</th>\n",
       "      <th>3</th>\n",
       "      <th>4</th>\n",
       "      <th>5</th>\n",
       "    </tr>\n",
       "  </thead>\n",
       "  <tbody>\n",
       "    <tr>\n",
       "      <th>0</th>\n",
       "      <td>Indicator:\\tB\\t-\\tCentral\\tBank\\tremittance\\ti...</td>\n",
       "      <td>NaN</td>\n",
       "      <td>NaN</td>\n",
       "      <td>NaN</td>\n",
       "      <td>NaN</td>\n",
       "      <td>NaN</td>\n",
       "    </tr>\n",
       "    <tr>\n",
       "      <th>1</th>\n",
       "      <td>Sending\\tcountry</td>\n",
       "      <td>Receive\\tcou.. Date</td>\n",
       "      <td>NaN</td>\n",
       "      <td>Value</td>\n",
       "      <td>Unit</td>\n",
       "      <td>Source</td>\n",
       "    </tr>\n",
       "    <tr>\n",
       "      <th>2</th>\n",
       "      <td>Algeria</td>\n",
       "      <td>Senegal</td>\n",
       "      <td>2021.0</td>\n",
       "      <td>0.183414825</td>\n",
       "      <td>USD\\tmillions</td>\n",
       "      <td>BCEAO</td>\n",
       "    </tr>\n",
       "    <tr>\n",
       "      <th>3</th>\n",
       "      <td>Australia</td>\n",
       "      <td>Ethiopia</td>\n",
       "      <td>2020.0</td>\n",
       "      <td>13.59617511</td>\n",
       "      <td>USD\\tmillions</td>\n",
       "      <td>National\\tBank\\tof\\tEthiopia</td>\n",
       "    </tr>\n",
       "    <tr>\n",
       "      <th>4</th>\n",
       "      <td>NaN</td>\n",
       "      <td>Kenya</td>\n",
       "      <td>2024.0</td>\n",
       "      <td>184,497.099695719</td>\n",
       "      <td>USD\\tmillions</td>\n",
       "      <td>Central\\tBank\\tof\\tKenya</td>\n",
       "    </tr>\n",
       "    <tr>\n",
       "      <th>...</th>\n",
       "      <td>...</td>\n",
       "      <td>...</td>\n",
       "      <td>...</td>\n",
       "      <td>...</td>\n",
       "      <td>...</td>\n",
       "      <td>...</td>\n",
       "    </tr>\n",
       "    <tr>\n",
       "      <th>85</th>\n",
       "      <td>NaN</td>\n",
       "      <td>Kenya</td>\n",
       "      <td>2024.0</td>\n",
       "      <td>404,105.02454433</td>\n",
       "      <td>USD\\tmillions</td>\n",
       "      <td>Central\\tBank\\tof\\tKenya</td>\n",
       "    </tr>\n",
       "    <tr>\n",
       "      <th>86</th>\n",
       "      <td>NaN</td>\n",
       "      <td>Morocco</td>\n",
       "      <td>2020.0</td>\n",
       "      <td>532.442406</td>\n",
       "      <td>USD\\tmillions</td>\n",
       "      <td>Bank\\tAl-Maghrib</td>\n",
       "    </tr>\n",
       "    <tr>\n",
       "      <th>87</th>\n",
       "      <td>NaN</td>\n",
       "      <td>Uganda</td>\n",
       "      <td>2022.0</td>\n",
       "      <td>195.7</td>\n",
       "      <td>USD\\tmillions</td>\n",
       "      <td>Bank\\tof\\tUganda</td>\n",
       "    </tr>\n",
       "    <tr>\n",
       "      <th>88</th>\n",
       "      <td>Somalia</td>\n",
       "      <td>Uganda</td>\n",
       "      <td>2022.0</td>\n",
       "      <td>30</td>\n",
       "      <td>USD\\tmillions</td>\n",
       "      <td>Bank\\tof\\tUganda</td>\n",
       "    </tr>\n",
       "    <tr>\n",
       "      <th>89</th>\n",
       "      <td>NaN</td>\n",
       "      <td>Ethiopia</td>\n",
       "      <td>2020.0</td>\n",
       "      <td>67.93372415</td>\n",
       "      <td>USD\\tmillions</td>\n",
       "      <td>NaN</td>\n",
       "    </tr>\n",
       "  </tbody>\n",
       "</table>\n",
       "<p>90 rows × 6 columns</p>\n",
       "</div>"
      ],
      "text/plain": [
       "                                                    0                    1  \\\n",
       "0   Indicator:\\tB\\t-\\tCentral\\tBank\\tremittance\\ti...                  NaN   \n",
       "1                                    Sending\\tcountry  Receive\\tcou.. Date   \n",
       "2                                             Algeria              Senegal   \n",
       "3                                           Australia             Ethiopia   \n",
       "4                                                 NaN                Kenya   \n",
       "..                                                ...                  ...   \n",
       "85                                                NaN                Kenya   \n",
       "86                                                NaN              Morocco   \n",
       "87                                                NaN               Uganda   \n",
       "88                                            Somalia               Uganda   \n",
       "89                                                NaN             Ethiopia   \n",
       "\n",
       "         2                  3              4                             5  \n",
       "0      NaN                NaN            NaN                           NaN  \n",
       "1      NaN              Value           Unit                        Source  \n",
       "2   2021.0        0.183414825  USD\\tmillions                         BCEAO  \n",
       "3   2020.0        13.59617511  USD\\tmillions  National\\tBank\\tof\\tEthiopia  \n",
       "4   2024.0  184,497.099695719  USD\\tmillions      Central\\tBank\\tof\\tKenya  \n",
       "..     ...                ...            ...                           ...  \n",
       "85  2024.0   404,105.02454433  USD\\tmillions      Central\\tBank\\tof\\tKenya  \n",
       "86  2020.0         532.442406  USD\\tmillions              Bank\\tAl-Maghrib  \n",
       "87  2022.0              195.7  USD\\tmillions              Bank\\tof\\tUganda  \n",
       "88  2022.0                 30  USD\\tmillions              Bank\\tof\\tUganda  \n",
       "89  2020.0        67.93372415  USD\\tmillions                           NaN  \n",
       "\n",
       "[90 rows x 6 columns]"
      ]
     },
     "execution_count": 24,
     "metadata": {},
     "output_type": "execute_result"
    }
   ],
   "source": [
    "df1"
   ]
  },
  {
   "cell_type": "code",
   "execution_count": 25,
   "id": "169c25f3",
   "metadata": {},
   "outputs": [
    {
     "data": {
      "application/vnd.microsoft.datawrangler.viewer.v0+json": {
       "columns": [
        {
         "name": "index",
         "rawType": "int64",
         "type": "integer"
        },
        {
         "name": "0",
         "rawType": "object",
         "type": "unknown"
        },
        {
         "name": "1",
         "rawType": "object",
         "type": "string"
        },
        {
         "name": "2",
         "rawType": "float64",
         "type": "float"
        },
        {
         "name": "3",
         "rawType": "object",
         "type": "string"
        },
        {
         "name": "4",
         "rawType": "object",
         "type": "string"
        },
        {
         "name": "5",
         "rawType": "object",
         "type": "unknown"
        }
       ],
       "ref": "7539acb6-55fa-4011-8db1-1d7e7dff9566",
       "rows": [
        [
         "0",
         "Sending\tcountry",
         "Receive\tcou.. Date",
         null,
         "Value",
         "Unit",
         "Source"
        ],
        [
         "1",
         "Algeria",
         "Senegal",
         "2021.0",
         "0.183414825",
         "USD\tmillions",
         "BCEAO"
        ],
        [
         "2",
         "Australia",
         "Ethiopia",
         "2020.0",
         "13.59617511",
         "USD\tmillions",
         "National\tBank\tof\tEthiopia"
        ],
        [
         "3",
         null,
         "Kenya",
         "2024.0",
         "184,497.099695719",
         "USD\tmillions",
         "Central\tBank\tof\tKenya"
        ],
        [
         "4",
         null,
         "Uganda",
         "2022.0",
         "22",
         "USD\tmillions",
         "Bank\tof\tUganda"
        ],
        [
         "5",
         "Austria",
         "Kenya",
         "2024.0",
         "13,169.065145833",
         "USD\tmillions",
         "Central\tBank\tof\tKenya"
        ],
        [
         "6",
         "Bahamas",
         "Kenya",
         "2024.0",
         "1,453.632639905",
         "USD\tmillions",
         "Central\tBank\tof\tKenya"
        ],
        [
         "7",
         "Bahrain",
         "Kenya",
         "2024.0",
         "5,004.769090469",
         "USD\tmillions",
         "Central\tBank\tof\tKenya"
        ],
        [
         "8",
         null,
         "Morocco",
         "2020.0",
         "30.3408085",
         "USD\tmillions",
         "Bank\tAl-Maghrib"
        ],
        [
         "9",
         "Belgium",
         "Kenya",
         "2024.0",
         "22,844.654997935",
         "USD\tmillions",
         "Central\tBank\tof\tKenya"
        ],
        [
         "10",
         null,
         "Morocco",
         "2020.0",
         "387.629403",
         "USD\tmillions",
         "Bank\tAl-Maghrib"
        ],
        [
         "11",
         null,
         "Senegal",
         "2021.0",
         "88.247787762",
         "USD\tmillions",
         "BCEAO"
        ],
        [
         "12",
         "Benin",
         "Senegal",
         "2021.0",
         "25.846190336",
         "USD\tmillions",
         "BCEAO"
        ],
        [
         "13",
         "Brazil",
         "Senegal",
         "2021.0",
         "29.312422216",
         "USD\tmillions",
         "BCEAO"
        ],
        [
         "14",
         "Burkina\tFaso",
         "Senegal",
         "2021.0",
         "35.216150094",
         "USD\tmillions",
         "BCEAO"
        ],
        [
         "15",
         "Cameroon",
         "Senegal",
         "2021.0",
         "43.126214245",
         "USD\tmillions",
         "BCEAO"
        ],
        [
         "16",
         "Canada",
         "Ethiopia",
         "2020.0",
         "33.89159808",
         "USD\tmillions",
         "National\tBank\tof\tEthiopia"
        ],
        [
         "17",
         null,
         "Kenya",
         "2024.0",
         "130,812.76972775",
         "USD\tmillions",
         "Central\tBank\tof\tKenya"
        ],
        [
         "18",
         null,
         "Morocco",
         "2020.0",
         "99.802037",
         "USD\tmillions",
         "Bank\tAl-Maghrib"
        ],
        [
         "19",
         null,
         "Senegal",
         "2021.0",
         "2.866648143",
         "USD\tmillions",
         "BCEAO"
        ],
        [
         "20",
         null,
         "Uganda",
         "2022.0",
         "82.1",
         "USD\tmillions",
         "Bank\tof\tUganda"
        ],
        [
         "21",
         "Central\tAfrican\tRepublic",
         "Senegal",
         "2021.0",
         "11.097456712",
         "USD\tmillions",
         "BCEAO"
        ],
        [
         "22",
         "Chad",
         "Senegal",
         "2021.0",
         "8.390086853",
         "USD\tmillions",
         "BCEAO"
        ],
        [
         "23",
         "China",
         "Kenya",
         "2024.0",
         "5,981.681937719",
         "USD\tmillions",
         "Central\tBank\tof\tKenya"
        ],
        [
         "24",
         null,
         "Senegal",
         "2021.0",
         "0.358772173",
         "USD\tmillions",
         "BCEAO"
        ],
        [
         "25",
         null,
         "Uganda",
         "2022.0",
         "7",
         "USD\tmillions",
         "Bank\tof\tUganda"
        ],
        [
         "26",
         "Congo,\tDem.\tRep.",
         "Uganda",
         "2022.0",
         "21",
         "USD\tmillions",
         "Bank\tof\tUganda"
        ],
        [
         "27",
         "Congo,\tRep.",
         "Senegal",
         "2021.0",
         "61.407592705",
         "USD\tmillions",
         "BCEAO"
        ],
        [
         "28",
         "Côte\td'Ivoire",
         "Kenya",
         "2024.0",
         "4,351.233359615",
         "USD\tmillions",
         "Central\tBank\tof\tKenya"
        ],
        [
         "29",
         null,
         "Senegal",
         "2021.0",
         "89.989410749",
         "USD\tmillions",
         "BCEAO"
        ],
        [
         "30",
         "Denmark",
         "Morocco",
         "2020.0",
         "28.261131",
         "USD\tmillions",
         "Bank\tAl-Maghrib"
        ],
        [
         "31",
         null,
         "Senegal",
         "2021.0",
         "5.476232008",
         "USD\tmillions",
         "BCEAO"
        ],
        [
         "32",
         "Djibouti",
         "Ethiopia",
         "2020.0",
         "185.47649889",
         "USD\tmillions",
         "National\tBank\tof\tEthiopia"
        ],
        [
         "33",
         "Egypt",
         "Kenya",
         "2024.0",
         "2,710.849916951",
         "USD\tmillions",
         "Central\tBank\tof\tKenya"
        ],
        [
         "34",
         "Equatorial\tGuinea",
         "Senegal",
         "2021.0",
         "4.981180446",
         "USD\tmillions",
         "BCEAO"
        ],
        [
         "35",
         "France",
         "Kenya",
         "2024.0",
         "25,420.562300568",
         "USD\tmillions",
         "Central\tBank\tof\tKenya"
        ],
        [
         "36",
         null,
         "Morocco",
         "2020.0",
         "2,740.1718325",
         "USD\tmillions",
         "Bank\tAl-Maghrib"
        ],
        [
         "37",
         null,
         "Senegal",
         "2021.0",
         "1,630.192958418",
         "USD\tmillions",
         "BCEAO"
        ],
        [
         "38",
         "Gabon",
         "Senegal",
         "2021.0",
         "110.182458279",
         "USD\tmillions",
         "BCEAO"
        ],
        [
         "39",
         "Germany",
         "Ethiopia",
         "2020.0",
         "61.4673327",
         "USD\tmillions",
         "National\tBank\tof\tEthiopia"
        ],
        [
         "40",
         null,
         "Kenya",
         "2024.0",
         "197,764.185703727",
         "USD\tmillions",
         "Central\tBank\tof\tKenya"
        ],
        [
         "41",
         null,
         "Morocco",
         "2020.0",
         "349.588167",
         "USD\tmillions",
         "Bank\tAl-Maghrib"
        ],
        [
         "42",
         null,
         "Senegal",
         "2021.0",
         "81.314844041",
         "USD\tmillions",
         "BCEAO"
        ],
        [
         "43",
         null,
         "Uganda",
         "2022.0",
         "27.9",
         "USD\tmillions",
         "Bank\tof\tUganda"
        ],
        [
         "44",
         "Greece",
         "Senegal",
         "2021.0",
         "7.552688969",
         "USD\tmillions",
         "BCEAO"
        ],
        [
         "45",
         "Guinea-Bissau",
         "Senegal",
         "2021.0",
         "20.567153363",
         "USD\tmillions",
         "BCEAO"
        ],
        [
         "46",
         "India",
         "Kenya",
         "2024.0",
         "20,594.869099147",
         "USD\tmillions",
         "Central\tBank\tof\tKenya"
        ],
        [
         "47",
         null,
         "Senegal",
         "2021.0",
         "0.067644659",
         "USD\tmillions",
         "BCEAO"
        ],
        [
         "48",
         "Iraq",
         "Kenya",
         "2024.0",
         "18,473.974825301",
         "USD\tmillions",
         "Central\tBank\tof\tKenya"
        ],
        [
         "49",
         "Israel",
         "Ethiopia",
         "2020.0",
         "16.12958144",
         "USD\tmillions",
         "National\tBank\tof\tEthiopia"
        ]
       ],
       "shape": {
        "columns": 6,
        "rows": 89
       }
      },
      "text/html": [
       "<div>\n",
       "<style scoped>\n",
       "    .dataframe tbody tr th:only-of-type {\n",
       "        vertical-align: middle;\n",
       "    }\n",
       "\n",
       "    .dataframe tbody tr th {\n",
       "        vertical-align: top;\n",
       "    }\n",
       "\n",
       "    .dataframe thead th {\n",
       "        text-align: right;\n",
       "    }\n",
       "</style>\n",
       "<table border=\"1\" class=\"dataframe\">\n",
       "  <thead>\n",
       "    <tr style=\"text-align: right;\">\n",
       "      <th></th>\n",
       "      <th>0</th>\n",
       "      <th>1</th>\n",
       "      <th>2</th>\n",
       "      <th>3</th>\n",
       "      <th>4</th>\n",
       "      <th>5</th>\n",
       "    </tr>\n",
       "  </thead>\n",
       "  <tbody>\n",
       "    <tr>\n",
       "      <th>0</th>\n",
       "      <td>Sending\\tcountry</td>\n",
       "      <td>Receive\\tcou.. Date</td>\n",
       "      <td>NaN</td>\n",
       "      <td>Value</td>\n",
       "      <td>Unit</td>\n",
       "      <td>Source</td>\n",
       "    </tr>\n",
       "    <tr>\n",
       "      <th>1</th>\n",
       "      <td>Algeria</td>\n",
       "      <td>Senegal</td>\n",
       "      <td>2021.0</td>\n",
       "      <td>0.183414825</td>\n",
       "      <td>USD\\tmillions</td>\n",
       "      <td>BCEAO</td>\n",
       "    </tr>\n",
       "    <tr>\n",
       "      <th>2</th>\n",
       "      <td>Australia</td>\n",
       "      <td>Ethiopia</td>\n",
       "      <td>2020.0</td>\n",
       "      <td>13.59617511</td>\n",
       "      <td>USD\\tmillions</td>\n",
       "      <td>National\\tBank\\tof\\tEthiopia</td>\n",
       "    </tr>\n",
       "    <tr>\n",
       "      <th>3</th>\n",
       "      <td>NaN</td>\n",
       "      <td>Kenya</td>\n",
       "      <td>2024.0</td>\n",
       "      <td>184,497.099695719</td>\n",
       "      <td>USD\\tmillions</td>\n",
       "      <td>Central\\tBank\\tof\\tKenya</td>\n",
       "    </tr>\n",
       "    <tr>\n",
       "      <th>4</th>\n",
       "      <td>NaN</td>\n",
       "      <td>Uganda</td>\n",
       "      <td>2022.0</td>\n",
       "      <td>22</td>\n",
       "      <td>USD\\tmillions</td>\n",
       "      <td>Bank\\tof\\tUganda</td>\n",
       "    </tr>\n",
       "    <tr>\n",
       "      <th>...</th>\n",
       "      <td>...</td>\n",
       "      <td>...</td>\n",
       "      <td>...</td>\n",
       "      <td>...</td>\n",
       "      <td>...</td>\n",
       "      <td>...</td>\n",
       "    </tr>\n",
       "    <tr>\n",
       "      <th>84</th>\n",
       "      <td>NaN</td>\n",
       "      <td>Kenya</td>\n",
       "      <td>2024.0</td>\n",
       "      <td>404,105.02454433</td>\n",
       "      <td>USD\\tmillions</td>\n",
       "      <td>Central\\tBank\\tof\\tKenya</td>\n",
       "    </tr>\n",
       "    <tr>\n",
       "      <th>85</th>\n",
       "      <td>NaN</td>\n",
       "      <td>Morocco</td>\n",
       "      <td>2020.0</td>\n",
       "      <td>532.442406</td>\n",
       "      <td>USD\\tmillions</td>\n",
       "      <td>Bank\\tAl-Maghrib</td>\n",
       "    </tr>\n",
       "    <tr>\n",
       "      <th>86</th>\n",
       "      <td>NaN</td>\n",
       "      <td>Uganda</td>\n",
       "      <td>2022.0</td>\n",
       "      <td>195.7</td>\n",
       "      <td>USD\\tmillions</td>\n",
       "      <td>Bank\\tof\\tUganda</td>\n",
       "    </tr>\n",
       "    <tr>\n",
       "      <th>87</th>\n",
       "      <td>Somalia</td>\n",
       "      <td>Uganda</td>\n",
       "      <td>2022.0</td>\n",
       "      <td>30</td>\n",
       "      <td>USD\\tmillions</td>\n",
       "      <td>Bank\\tof\\tUganda</td>\n",
       "    </tr>\n",
       "    <tr>\n",
       "      <th>88</th>\n",
       "      <td>NaN</td>\n",
       "      <td>Ethiopia</td>\n",
       "      <td>2020.0</td>\n",
       "      <td>67.93372415</td>\n",
       "      <td>USD\\tmillions</td>\n",
       "      <td>NaN</td>\n",
       "    </tr>\n",
       "  </tbody>\n",
       "</table>\n",
       "<p>89 rows × 6 columns</p>\n",
       "</div>"
      ],
      "text/plain": [
       "                   0                    1       2                  3  \\\n",
       "0   Sending\\tcountry  Receive\\tcou.. Date     NaN              Value   \n",
       "1            Algeria              Senegal  2021.0        0.183414825   \n",
       "2          Australia             Ethiopia  2020.0        13.59617511   \n",
       "3                NaN                Kenya  2024.0  184,497.099695719   \n",
       "4                NaN               Uganda  2022.0                 22   \n",
       "..               ...                  ...     ...                ...   \n",
       "84               NaN                Kenya  2024.0   404,105.02454433   \n",
       "85               NaN              Morocco  2020.0         532.442406   \n",
       "86               NaN               Uganda  2022.0              195.7   \n",
       "87           Somalia               Uganda  2022.0                 30   \n",
       "88               NaN             Ethiopia  2020.0        67.93372415   \n",
       "\n",
       "                4                             5  \n",
       "0            Unit                        Source  \n",
       "1   USD\\tmillions                         BCEAO  \n",
       "2   USD\\tmillions  National\\tBank\\tof\\tEthiopia  \n",
       "3   USD\\tmillions      Central\\tBank\\tof\\tKenya  \n",
       "4   USD\\tmillions              Bank\\tof\\tUganda  \n",
       "..            ...                           ...  \n",
       "84  USD\\tmillions      Central\\tBank\\tof\\tKenya  \n",
       "85  USD\\tmillions              Bank\\tAl-Maghrib  \n",
       "86  USD\\tmillions              Bank\\tof\\tUganda  \n",
       "87  USD\\tmillions              Bank\\tof\\tUganda  \n",
       "88  USD\\tmillions                           NaN  \n",
       "\n",
       "[89 rows x 6 columns]"
      ]
     },
     "execution_count": 25,
     "metadata": {},
     "output_type": "execute_result"
    }
   ],
   "source": [
    "#drop the first tow\n",
    "df1 = df1.drop(index=0).reset_index(drop=True)\n",
    "df1"
   ]
  },
  {
   "cell_type": "code",
   "execution_count": 26,
   "id": "74a5364f",
   "metadata": {},
   "outputs": [
    {
     "data": {
      "application/vnd.microsoft.datawrangler.viewer.v0+json": {
       "columns": [
        {
         "name": "index",
         "rawType": "int64",
         "type": "integer"
        },
        {
         "name": "Sending\tcountry",
         "rawType": "object",
         "type": "unknown"
        },
        {
         "name": "Receive\tcou.. Date",
         "rawType": "object",
         "type": "string"
        },
        {
         "name": "nan",
         "rawType": "float64",
         "type": "float"
        },
        {
         "name": "Value",
         "rawType": "object",
         "type": "string"
        },
        {
         "name": "Unit",
         "rawType": "object",
         "type": "string"
        },
        {
         "name": "Source",
         "rawType": "object",
         "type": "unknown"
        }
       ],
       "ref": "ee8c77ff-4b4e-40db-8e30-4e07030f3581",
       "rows": [
        [
         "0",
         "Algeria",
         "Senegal",
         "2021.0",
         "0.183414825",
         "USD\tmillions",
         "BCEAO"
        ],
        [
         "1",
         "Australia",
         "Ethiopia",
         "2020.0",
         "13.59617511",
         "USD\tmillions",
         "National\tBank\tof\tEthiopia"
        ],
        [
         "2",
         null,
         "Kenya",
         "2024.0",
         "184,497.099695719",
         "USD\tmillions",
         "Central\tBank\tof\tKenya"
        ],
        [
         "3",
         null,
         "Uganda",
         "2022.0",
         "22",
         "USD\tmillions",
         "Bank\tof\tUganda"
        ],
        [
         "4",
         "Austria",
         "Kenya",
         "2024.0",
         "13,169.065145833",
         "USD\tmillions",
         "Central\tBank\tof\tKenya"
        ],
        [
         "5",
         "Bahamas",
         "Kenya",
         "2024.0",
         "1,453.632639905",
         "USD\tmillions",
         "Central\tBank\tof\tKenya"
        ],
        [
         "6",
         "Bahrain",
         "Kenya",
         "2024.0",
         "5,004.769090469",
         "USD\tmillions",
         "Central\tBank\tof\tKenya"
        ],
        [
         "7",
         null,
         "Morocco",
         "2020.0",
         "30.3408085",
         "USD\tmillions",
         "Bank\tAl-Maghrib"
        ],
        [
         "8",
         "Belgium",
         "Kenya",
         "2024.0",
         "22,844.654997935",
         "USD\tmillions",
         "Central\tBank\tof\tKenya"
        ],
        [
         "9",
         null,
         "Morocco",
         "2020.0",
         "387.629403",
         "USD\tmillions",
         "Bank\tAl-Maghrib"
        ],
        [
         "10",
         null,
         "Senegal",
         "2021.0",
         "88.247787762",
         "USD\tmillions",
         "BCEAO"
        ],
        [
         "11",
         "Benin",
         "Senegal",
         "2021.0",
         "25.846190336",
         "USD\tmillions",
         "BCEAO"
        ],
        [
         "12",
         "Brazil",
         "Senegal",
         "2021.0",
         "29.312422216",
         "USD\tmillions",
         "BCEAO"
        ],
        [
         "13",
         "Burkina\tFaso",
         "Senegal",
         "2021.0",
         "35.216150094",
         "USD\tmillions",
         "BCEAO"
        ],
        [
         "14",
         "Cameroon",
         "Senegal",
         "2021.0",
         "43.126214245",
         "USD\tmillions",
         "BCEAO"
        ],
        [
         "15",
         "Canada",
         "Ethiopia",
         "2020.0",
         "33.89159808",
         "USD\tmillions",
         "National\tBank\tof\tEthiopia"
        ],
        [
         "16",
         null,
         "Kenya",
         "2024.0",
         "130,812.76972775",
         "USD\tmillions",
         "Central\tBank\tof\tKenya"
        ],
        [
         "17",
         null,
         "Morocco",
         "2020.0",
         "99.802037",
         "USD\tmillions",
         "Bank\tAl-Maghrib"
        ],
        [
         "18",
         null,
         "Senegal",
         "2021.0",
         "2.866648143",
         "USD\tmillions",
         "BCEAO"
        ],
        [
         "19",
         null,
         "Uganda",
         "2022.0",
         "82.1",
         "USD\tmillions",
         "Bank\tof\tUganda"
        ],
        [
         "20",
         "Central\tAfrican\tRepublic",
         "Senegal",
         "2021.0",
         "11.097456712",
         "USD\tmillions",
         "BCEAO"
        ],
        [
         "21",
         "Chad",
         "Senegal",
         "2021.0",
         "8.390086853",
         "USD\tmillions",
         "BCEAO"
        ],
        [
         "22",
         "China",
         "Kenya",
         "2024.0",
         "5,981.681937719",
         "USD\tmillions",
         "Central\tBank\tof\tKenya"
        ],
        [
         "23",
         null,
         "Senegal",
         "2021.0",
         "0.358772173",
         "USD\tmillions",
         "BCEAO"
        ],
        [
         "24",
         null,
         "Uganda",
         "2022.0",
         "7",
         "USD\tmillions",
         "Bank\tof\tUganda"
        ],
        [
         "25",
         "Congo,\tDem.\tRep.",
         "Uganda",
         "2022.0",
         "21",
         "USD\tmillions",
         "Bank\tof\tUganda"
        ],
        [
         "26",
         "Congo,\tRep.",
         "Senegal",
         "2021.0",
         "61.407592705",
         "USD\tmillions",
         "BCEAO"
        ],
        [
         "27",
         "Côte\td'Ivoire",
         "Kenya",
         "2024.0",
         "4,351.233359615",
         "USD\tmillions",
         "Central\tBank\tof\tKenya"
        ],
        [
         "28",
         null,
         "Senegal",
         "2021.0",
         "89.989410749",
         "USD\tmillions",
         "BCEAO"
        ],
        [
         "29",
         "Denmark",
         "Morocco",
         "2020.0",
         "28.261131",
         "USD\tmillions",
         "Bank\tAl-Maghrib"
        ],
        [
         "30",
         null,
         "Senegal",
         "2021.0",
         "5.476232008",
         "USD\tmillions",
         "BCEAO"
        ],
        [
         "31",
         "Djibouti",
         "Ethiopia",
         "2020.0",
         "185.47649889",
         "USD\tmillions",
         "National\tBank\tof\tEthiopia"
        ],
        [
         "32",
         "Egypt",
         "Kenya",
         "2024.0",
         "2,710.849916951",
         "USD\tmillions",
         "Central\tBank\tof\tKenya"
        ],
        [
         "33",
         "Equatorial\tGuinea",
         "Senegal",
         "2021.0",
         "4.981180446",
         "USD\tmillions",
         "BCEAO"
        ],
        [
         "34",
         "France",
         "Kenya",
         "2024.0",
         "25,420.562300568",
         "USD\tmillions",
         "Central\tBank\tof\tKenya"
        ],
        [
         "35",
         null,
         "Morocco",
         "2020.0",
         "2,740.1718325",
         "USD\tmillions",
         "Bank\tAl-Maghrib"
        ],
        [
         "36",
         null,
         "Senegal",
         "2021.0",
         "1,630.192958418",
         "USD\tmillions",
         "BCEAO"
        ],
        [
         "37",
         "Gabon",
         "Senegal",
         "2021.0",
         "110.182458279",
         "USD\tmillions",
         "BCEAO"
        ],
        [
         "38",
         "Germany",
         "Ethiopia",
         "2020.0",
         "61.4673327",
         "USD\tmillions",
         "National\tBank\tof\tEthiopia"
        ],
        [
         "39",
         null,
         "Kenya",
         "2024.0",
         "197,764.185703727",
         "USD\tmillions",
         "Central\tBank\tof\tKenya"
        ],
        [
         "40",
         null,
         "Morocco",
         "2020.0",
         "349.588167",
         "USD\tmillions",
         "Bank\tAl-Maghrib"
        ],
        [
         "41",
         null,
         "Senegal",
         "2021.0",
         "81.314844041",
         "USD\tmillions",
         "BCEAO"
        ],
        [
         "42",
         null,
         "Uganda",
         "2022.0",
         "27.9",
         "USD\tmillions",
         "Bank\tof\tUganda"
        ],
        [
         "43",
         "Greece",
         "Senegal",
         "2021.0",
         "7.552688969",
         "USD\tmillions",
         "BCEAO"
        ],
        [
         "44",
         "Guinea-Bissau",
         "Senegal",
         "2021.0",
         "20.567153363",
         "USD\tmillions",
         "BCEAO"
        ],
        [
         "45",
         "India",
         "Kenya",
         "2024.0",
         "20,594.869099147",
         "USD\tmillions",
         "Central\tBank\tof\tKenya"
        ],
        [
         "46",
         null,
         "Senegal",
         "2021.0",
         "0.067644659",
         "USD\tmillions",
         "BCEAO"
        ],
        [
         "47",
         "Iraq",
         "Kenya",
         "2024.0",
         "18,473.974825301",
         "USD\tmillions",
         "Central\tBank\tof\tKenya"
        ],
        [
         "48",
         "Israel",
         "Ethiopia",
         "2020.0",
         "16.12958144",
         "USD\tmillions",
         "National\tBank\tof\tEthiopia"
        ],
        [
         "49",
         "Italy",
         "Ethiopia",
         "2020.0",
         "40.64448902",
         "USD\tmillions",
         "National\tBank\tof\tEthiopia"
        ]
       ],
       "shape": {
        "columns": 6,
        "rows": 88
       }
      },
      "text/html": [
       "<div>\n",
       "<style scoped>\n",
       "    .dataframe tbody tr th:only-of-type {\n",
       "        vertical-align: middle;\n",
       "    }\n",
       "\n",
       "    .dataframe tbody tr th {\n",
       "        vertical-align: top;\n",
       "    }\n",
       "\n",
       "    .dataframe thead th {\n",
       "        text-align: right;\n",
       "    }\n",
       "</style>\n",
       "<table border=\"1\" class=\"dataframe\">\n",
       "  <thead>\n",
       "    <tr style=\"text-align: right;\">\n",
       "      <th></th>\n",
       "      <th>Sending\\tcountry</th>\n",
       "      <th>Receive\\tcou.. Date</th>\n",
       "      <th>NaN</th>\n",
       "      <th>Value</th>\n",
       "      <th>Unit</th>\n",
       "      <th>Source</th>\n",
       "    </tr>\n",
       "  </thead>\n",
       "  <tbody>\n",
       "    <tr>\n",
       "      <th>0</th>\n",
       "      <td>Algeria</td>\n",
       "      <td>Senegal</td>\n",
       "      <td>2021.0</td>\n",
       "      <td>0.183414825</td>\n",
       "      <td>USD\\tmillions</td>\n",
       "      <td>BCEAO</td>\n",
       "    </tr>\n",
       "    <tr>\n",
       "      <th>1</th>\n",
       "      <td>Australia</td>\n",
       "      <td>Ethiopia</td>\n",
       "      <td>2020.0</td>\n",
       "      <td>13.59617511</td>\n",
       "      <td>USD\\tmillions</td>\n",
       "      <td>National\\tBank\\tof\\tEthiopia</td>\n",
       "    </tr>\n",
       "    <tr>\n",
       "      <th>2</th>\n",
       "      <td>NaN</td>\n",
       "      <td>Kenya</td>\n",
       "      <td>2024.0</td>\n",
       "      <td>184,497.099695719</td>\n",
       "      <td>USD\\tmillions</td>\n",
       "      <td>Central\\tBank\\tof\\tKenya</td>\n",
       "    </tr>\n",
       "    <tr>\n",
       "      <th>3</th>\n",
       "      <td>NaN</td>\n",
       "      <td>Uganda</td>\n",
       "      <td>2022.0</td>\n",
       "      <td>22</td>\n",
       "      <td>USD\\tmillions</td>\n",
       "      <td>Bank\\tof\\tUganda</td>\n",
       "    </tr>\n",
       "    <tr>\n",
       "      <th>4</th>\n",
       "      <td>Austria</td>\n",
       "      <td>Kenya</td>\n",
       "      <td>2024.0</td>\n",
       "      <td>13,169.065145833</td>\n",
       "      <td>USD\\tmillions</td>\n",
       "      <td>Central\\tBank\\tof\\tKenya</td>\n",
       "    </tr>\n",
       "    <tr>\n",
       "      <th>...</th>\n",
       "      <td>...</td>\n",
       "      <td>...</td>\n",
       "      <td>...</td>\n",
       "      <td>...</td>\n",
       "      <td>...</td>\n",
       "      <td>...</td>\n",
       "    </tr>\n",
       "    <tr>\n",
       "      <th>83</th>\n",
       "      <td>NaN</td>\n",
       "      <td>Kenya</td>\n",
       "      <td>2024.0</td>\n",
       "      <td>404,105.02454433</td>\n",
       "      <td>USD\\tmillions</td>\n",
       "      <td>Central\\tBank\\tof\\tKenya</td>\n",
       "    </tr>\n",
       "    <tr>\n",
       "      <th>84</th>\n",
       "      <td>NaN</td>\n",
       "      <td>Morocco</td>\n",
       "      <td>2020.0</td>\n",
       "      <td>532.442406</td>\n",
       "      <td>USD\\tmillions</td>\n",
       "      <td>Bank\\tAl-Maghrib</td>\n",
       "    </tr>\n",
       "    <tr>\n",
       "      <th>85</th>\n",
       "      <td>NaN</td>\n",
       "      <td>Uganda</td>\n",
       "      <td>2022.0</td>\n",
       "      <td>195.7</td>\n",
       "      <td>USD\\tmillions</td>\n",
       "      <td>Bank\\tof\\tUganda</td>\n",
       "    </tr>\n",
       "    <tr>\n",
       "      <th>86</th>\n",
       "      <td>Somalia</td>\n",
       "      <td>Uganda</td>\n",
       "      <td>2022.0</td>\n",
       "      <td>30</td>\n",
       "      <td>USD\\tmillions</td>\n",
       "      <td>Bank\\tof\\tUganda</td>\n",
       "    </tr>\n",
       "    <tr>\n",
       "      <th>87</th>\n",
       "      <td>NaN</td>\n",
       "      <td>Ethiopia</td>\n",
       "      <td>2020.0</td>\n",
       "      <td>67.93372415</td>\n",
       "      <td>USD\\tmillions</td>\n",
       "      <td>NaN</td>\n",
       "    </tr>\n",
       "  </tbody>\n",
       "</table>\n",
       "<p>88 rows × 6 columns</p>\n",
       "</div>"
      ],
      "text/plain": [
       "0  Sending\\tcountry Receive\\tcou.. Date     NaN              Value  \\\n",
       "0           Algeria             Senegal  2021.0        0.183414825   \n",
       "1         Australia            Ethiopia  2020.0        13.59617511   \n",
       "2               NaN               Kenya  2024.0  184,497.099695719   \n",
       "3               NaN              Uganda  2022.0                 22   \n",
       "4           Austria               Kenya  2024.0   13,169.065145833   \n",
       "..              ...                 ...     ...                ...   \n",
       "83              NaN               Kenya  2024.0   404,105.02454433   \n",
       "84              NaN             Morocco  2020.0         532.442406   \n",
       "85              NaN              Uganda  2022.0              195.7   \n",
       "86          Somalia              Uganda  2022.0                 30   \n",
       "87              NaN            Ethiopia  2020.0        67.93372415   \n",
       "\n",
       "0            Unit                        Source  \n",
       "0   USD\\tmillions                         BCEAO  \n",
       "1   USD\\tmillions  National\\tBank\\tof\\tEthiopia  \n",
       "2   USD\\tmillions      Central\\tBank\\tof\\tKenya  \n",
       "3   USD\\tmillions              Bank\\tof\\tUganda  \n",
       "4   USD\\tmillions      Central\\tBank\\tof\\tKenya  \n",
       "..            ...                           ...  \n",
       "83  USD\\tmillions      Central\\tBank\\tof\\tKenya  \n",
       "84  USD\\tmillions              Bank\\tAl-Maghrib  \n",
       "85  USD\\tmillions              Bank\\tof\\tUganda  \n",
       "86  USD\\tmillions              Bank\\tof\\tUganda  \n",
       "87  USD\\tmillions                           NaN  \n",
       "\n",
       "[88 rows x 6 columns]"
      ]
     },
     "execution_count": 26,
     "metadata": {},
     "output_type": "execute_result"
    }
   ],
   "source": [
    "#make the column names from the second row\n",
    "df1.columns = df1.iloc[0]\n",
    "df1 = df1.drop(index=0).reset_index(drop=True)\n",
    "df1"
   ]
  },
  {
   "cell_type": "code",
   "execution_count": 27,
   "id": "a40696d0",
   "metadata": {},
   "outputs": [
    {
     "name": "stdout",
     "output_type": "stream",
     "text": [
      "Updated column names:\n",
      "['Sending Country', 'Receiving Country', 'Date', 'Value', 'Unit', 'Source']\n",
      "\n",
      "DataFrame with updated columns:\n"
     ]
    },
    {
     "data": {
      "application/vnd.microsoft.datawrangler.viewer.v0+json": {
       "columns": [
        {
         "name": "index",
         "rawType": "int64",
         "type": "integer"
        },
        {
         "name": "Sending Country",
         "rawType": "object",
         "type": "unknown"
        },
        {
         "name": "Receiving Country",
         "rawType": "object",
         "type": "string"
        },
        {
         "name": "Date",
         "rawType": "float64",
         "type": "float"
        },
        {
         "name": "Value",
         "rawType": "object",
         "type": "string"
        },
        {
         "name": "Unit",
         "rawType": "object",
         "type": "string"
        },
        {
         "name": "Source",
         "rawType": "object",
         "type": "string"
        }
       ],
       "ref": "d77662c5-63b9-4e51-b1e8-aa4481a91dec",
       "rows": [
        [
         "0",
         "Algeria",
         "Senegal",
         "2021.0",
         "0.183414825",
         "USD\tmillions",
         "BCEAO"
        ],
        [
         "1",
         "Australia",
         "Ethiopia",
         "2020.0",
         "13.59617511",
         "USD\tmillions",
         "National\tBank\tof\tEthiopia"
        ],
        [
         "2",
         null,
         "Kenya",
         "2024.0",
         "184,497.099695719",
         "USD\tmillions",
         "Central\tBank\tof\tKenya"
        ],
        [
         "3",
         null,
         "Uganda",
         "2022.0",
         "22",
         "USD\tmillions",
         "Bank\tof\tUganda"
        ],
        [
         "4",
         "Austria",
         "Kenya",
         "2024.0",
         "13,169.065145833",
         "USD\tmillions",
         "Central\tBank\tof\tKenya"
        ]
       ],
       "shape": {
        "columns": 6,
        "rows": 5
       }
      },
      "text/html": [
       "<div>\n",
       "<style scoped>\n",
       "    .dataframe tbody tr th:only-of-type {\n",
       "        vertical-align: middle;\n",
       "    }\n",
       "\n",
       "    .dataframe tbody tr th {\n",
       "        vertical-align: top;\n",
       "    }\n",
       "\n",
       "    .dataframe thead th {\n",
       "        text-align: right;\n",
       "    }\n",
       "</style>\n",
       "<table border=\"1\" class=\"dataframe\">\n",
       "  <thead>\n",
       "    <tr style=\"text-align: right;\">\n",
       "      <th></th>\n",
       "      <th>Sending Country</th>\n",
       "      <th>Receiving Country</th>\n",
       "      <th>Date</th>\n",
       "      <th>Value</th>\n",
       "      <th>Unit</th>\n",
       "      <th>Source</th>\n",
       "    </tr>\n",
       "  </thead>\n",
       "  <tbody>\n",
       "    <tr>\n",
       "      <th>0</th>\n",
       "      <td>Algeria</td>\n",
       "      <td>Senegal</td>\n",
       "      <td>2021.0</td>\n",
       "      <td>0.183414825</td>\n",
       "      <td>USD\\tmillions</td>\n",
       "      <td>BCEAO</td>\n",
       "    </tr>\n",
       "    <tr>\n",
       "      <th>1</th>\n",
       "      <td>Australia</td>\n",
       "      <td>Ethiopia</td>\n",
       "      <td>2020.0</td>\n",
       "      <td>13.59617511</td>\n",
       "      <td>USD\\tmillions</td>\n",
       "      <td>National\\tBank\\tof\\tEthiopia</td>\n",
       "    </tr>\n",
       "    <tr>\n",
       "      <th>2</th>\n",
       "      <td>NaN</td>\n",
       "      <td>Kenya</td>\n",
       "      <td>2024.0</td>\n",
       "      <td>184,497.099695719</td>\n",
       "      <td>USD\\tmillions</td>\n",
       "      <td>Central\\tBank\\tof\\tKenya</td>\n",
       "    </tr>\n",
       "    <tr>\n",
       "      <th>3</th>\n",
       "      <td>NaN</td>\n",
       "      <td>Uganda</td>\n",
       "      <td>2022.0</td>\n",
       "      <td>22</td>\n",
       "      <td>USD\\tmillions</td>\n",
       "      <td>Bank\\tof\\tUganda</td>\n",
       "    </tr>\n",
       "    <tr>\n",
       "      <th>4</th>\n",
       "      <td>Austria</td>\n",
       "      <td>Kenya</td>\n",
       "      <td>2024.0</td>\n",
       "      <td>13,169.065145833</td>\n",
       "      <td>USD\\tmillions</td>\n",
       "      <td>Central\\tBank\\tof\\tKenya</td>\n",
       "    </tr>\n",
       "  </tbody>\n",
       "</table>\n",
       "</div>"
      ],
      "text/plain": [
       "  Sending Country Receiving Country    Date              Value           Unit  \\\n",
       "0         Algeria           Senegal  2021.0        0.183414825  USD\\tmillions   \n",
       "1       Australia          Ethiopia  2020.0        13.59617511  USD\\tmillions   \n",
       "2             NaN             Kenya  2024.0  184,497.099695719  USD\\tmillions   \n",
       "3             NaN            Uganda  2022.0                 22  USD\\tmillions   \n",
       "4         Austria             Kenya  2024.0   13,169.065145833  USD\\tmillions   \n",
       "\n",
       "                         Source  \n",
       "0                         BCEAO  \n",
       "1  National\\tBank\\tof\\tEthiopia  \n",
       "2      Central\\tBank\\tof\\tKenya  \n",
       "3              Bank\\tof\\tUganda  \n",
       "4      Central\\tBank\\tof\\tKenya  "
      ]
     },
     "execution_count": 27,
     "metadata": {},
     "output_type": "execute_result"
    }
   ],
   "source": [
    "# Rename columns\n",
    "# Get current column names as a list\n",
    "columns = df1.columns.tolist()\n",
    "# rename the first column to \"Sending Country\"\n",
    "if columns:\n",
    "    columns[0] = \"Sending Country\"\n",
    "\n",
    "\n",
    "# Update the second column (index 1) to 'Receiving Country'\n",
    "if len(columns) > 1:\n",
    "    columns[1] = 'Receiving Country'\n",
    "\n",
    "# Update the third column (index 2) to 'Date'\n",
    "if len(columns) > 2:\n",
    "    columns[2] = 'Date'\n",
    "\n",
    "# Assign the updated column names back to the dataframe\n",
    "df1.columns = columns\n",
    "\n",
    "# Display the updated dataframe\n",
    "print(\"Updated column names:\")\n",
    "print(df1.columns.tolist())\n",
    "print(\"\\nDataFrame with updated columns:\")\n",
    "df1.head()"
   ]
  },
  {
   "cell_type": "code",
   "execution_count": 28,
   "id": "ab207535",
   "metadata": {},
   "outputs": [
    {
     "data": {
      "application/vnd.microsoft.datawrangler.viewer.v0+json": {
       "columns": [
        {
         "name": "index",
         "rawType": "int64",
         "type": "integer"
        },
        {
         "name": "Sending Country",
         "rawType": "object",
         "type": "unknown"
        },
        {
         "name": "Receiving Country",
         "rawType": "object",
         "type": "string"
        },
        {
         "name": "Date",
         "rawType": "float64",
         "type": "float"
        },
        {
         "name": "Value",
         "rawType": "object",
         "type": "string"
        },
        {
         "name": "Unit",
         "rawType": "object",
         "type": "string"
        },
        {
         "name": "Source",
         "rawType": "object",
         "type": "unknown"
        }
       ],
       "ref": "d6fb1225-b9e5-4e6b-9380-023ce1043d09",
       "rows": [
        [
         "0",
         "Algeria",
         "Senegal",
         "2021.0",
         "0.183414825",
         "USD\tmillions",
         "BCEAO"
        ],
        [
         "1",
         "Australia",
         "Ethiopia",
         "2020.0",
         "13.59617511",
         "USD\tmillions",
         "National\tBank\tof\tEthiopia"
        ],
        [
         "2",
         null,
         "Kenya",
         "2024.0",
         "184,497.099695719",
         "USD\tmillions",
         "Central\tBank\tof\tKenya"
        ],
        [
         "3",
         null,
         "Uganda",
         "2022.0",
         "22",
         "USD\tmillions",
         "Bank\tof\tUganda"
        ],
        [
         "4",
         "Austria",
         "Kenya",
         "2024.0",
         "13,169.065145833",
         "USD\tmillions",
         "Central\tBank\tof\tKenya"
        ],
        [
         "5",
         "Bahamas",
         "Kenya",
         "2024.0",
         "1,453.632639905",
         "USD\tmillions",
         "Central\tBank\tof\tKenya"
        ],
        [
         "6",
         "Bahrain",
         "Kenya",
         "2024.0",
         "5,004.769090469",
         "USD\tmillions",
         "Central\tBank\tof\tKenya"
        ],
        [
         "7",
         null,
         "Morocco",
         "2020.0",
         "30.3408085",
         "USD\tmillions",
         "Bank\tAl-Maghrib"
        ],
        [
         "8",
         "Belgium",
         "Kenya",
         "2024.0",
         "22,844.654997935",
         "USD\tmillions",
         "Central\tBank\tof\tKenya"
        ],
        [
         "9",
         null,
         "Morocco",
         "2020.0",
         "387.629403",
         "USD\tmillions",
         "Bank\tAl-Maghrib"
        ],
        [
         "10",
         null,
         "Senegal",
         "2021.0",
         "88.247787762",
         "USD\tmillions",
         "BCEAO"
        ],
        [
         "11",
         "Benin",
         "Senegal",
         "2021.0",
         "25.846190336",
         "USD\tmillions",
         "BCEAO"
        ],
        [
         "12",
         "Brazil",
         "Senegal",
         "2021.0",
         "29.312422216",
         "USD\tmillions",
         "BCEAO"
        ],
        [
         "13",
         "Burkina\tFaso",
         "Senegal",
         "2021.0",
         "35.216150094",
         "USD\tmillions",
         "BCEAO"
        ],
        [
         "14",
         "Cameroon",
         "Senegal",
         "2021.0",
         "43.126214245",
         "USD\tmillions",
         "BCEAO"
        ],
        [
         "15",
         "Canada",
         "Ethiopia",
         "2020.0",
         "33.89159808",
         "USD\tmillions",
         "National\tBank\tof\tEthiopia"
        ],
        [
         "16",
         null,
         "Kenya",
         "2024.0",
         "130,812.76972775",
         "USD\tmillions",
         "Central\tBank\tof\tKenya"
        ],
        [
         "17",
         null,
         "Morocco",
         "2020.0",
         "99.802037",
         "USD\tmillions",
         "Bank\tAl-Maghrib"
        ],
        [
         "18",
         null,
         "Senegal",
         "2021.0",
         "2.866648143",
         "USD\tmillions",
         "BCEAO"
        ],
        [
         "19",
         null,
         "Uganda",
         "2022.0",
         "82.1",
         "USD\tmillions",
         "Bank\tof\tUganda"
        ],
        [
         "20",
         "Central\tAfrican\tRepublic",
         "Senegal",
         "2021.0",
         "11.097456712",
         "USD\tmillions",
         "BCEAO"
        ],
        [
         "21",
         "Chad",
         "Senegal",
         "2021.0",
         "8.390086853",
         "USD\tmillions",
         "BCEAO"
        ],
        [
         "22",
         "China",
         "Kenya",
         "2024.0",
         "5,981.681937719",
         "USD\tmillions",
         "Central\tBank\tof\tKenya"
        ],
        [
         "23",
         null,
         "Senegal",
         "2021.0",
         "0.358772173",
         "USD\tmillions",
         "BCEAO"
        ],
        [
         "24",
         null,
         "Uganda",
         "2022.0",
         "7",
         "USD\tmillions",
         "Bank\tof\tUganda"
        ],
        [
         "25",
         "Congo,\tDem.\tRep.",
         "Uganda",
         "2022.0",
         "21",
         "USD\tmillions",
         "Bank\tof\tUganda"
        ],
        [
         "26",
         "Congo,\tRep.",
         "Senegal",
         "2021.0",
         "61.407592705",
         "USD\tmillions",
         "BCEAO"
        ],
        [
         "27",
         "Côte\td'Ivoire",
         "Kenya",
         "2024.0",
         "4,351.233359615",
         "USD\tmillions",
         "Central\tBank\tof\tKenya"
        ],
        [
         "28",
         null,
         "Senegal",
         "2021.0",
         "89.989410749",
         "USD\tmillions",
         "BCEAO"
        ],
        [
         "29",
         "Denmark",
         "Morocco",
         "2020.0",
         "28.261131",
         "USD\tmillions",
         "Bank\tAl-Maghrib"
        ],
        [
         "30",
         null,
         "Senegal",
         "2021.0",
         "5.476232008",
         "USD\tmillions",
         "BCEAO"
        ],
        [
         "31",
         "Djibouti",
         "Ethiopia",
         "2020.0",
         "185.47649889",
         "USD\tmillions",
         "National\tBank\tof\tEthiopia"
        ],
        [
         "32",
         "Egypt",
         "Kenya",
         "2024.0",
         "2,710.849916951",
         "USD\tmillions",
         "Central\tBank\tof\tKenya"
        ],
        [
         "33",
         "Equatorial\tGuinea",
         "Senegal",
         "2021.0",
         "4.981180446",
         "USD\tmillions",
         "BCEAO"
        ],
        [
         "34",
         "France",
         "Kenya",
         "2024.0",
         "25,420.562300568",
         "USD\tmillions",
         "Central\tBank\tof\tKenya"
        ],
        [
         "35",
         null,
         "Morocco",
         "2020.0",
         "2,740.1718325",
         "USD\tmillions",
         "Bank\tAl-Maghrib"
        ],
        [
         "36",
         null,
         "Senegal",
         "2021.0",
         "1,630.192958418",
         "USD\tmillions",
         "BCEAO"
        ],
        [
         "37",
         "Gabon",
         "Senegal",
         "2021.0",
         "110.182458279",
         "USD\tmillions",
         "BCEAO"
        ],
        [
         "38",
         "Germany",
         "Ethiopia",
         "2020.0",
         "61.4673327",
         "USD\tmillions",
         "National\tBank\tof\tEthiopia"
        ],
        [
         "39",
         null,
         "Kenya",
         "2024.0",
         "197,764.185703727",
         "USD\tmillions",
         "Central\tBank\tof\tKenya"
        ],
        [
         "40",
         null,
         "Morocco",
         "2020.0",
         "349.588167",
         "USD\tmillions",
         "Bank\tAl-Maghrib"
        ],
        [
         "41",
         null,
         "Senegal",
         "2021.0",
         "81.314844041",
         "USD\tmillions",
         "BCEAO"
        ],
        [
         "42",
         null,
         "Uganda",
         "2022.0",
         "27.9",
         "USD\tmillions",
         "Bank\tof\tUganda"
        ],
        [
         "43",
         "Greece",
         "Senegal",
         "2021.0",
         "7.552688969",
         "USD\tmillions",
         "BCEAO"
        ],
        [
         "44",
         "Guinea-Bissau",
         "Senegal",
         "2021.0",
         "20.567153363",
         "USD\tmillions",
         "BCEAO"
        ],
        [
         "45",
         "India",
         "Kenya",
         "2024.0",
         "20,594.869099147",
         "USD\tmillions",
         "Central\tBank\tof\tKenya"
        ],
        [
         "46",
         null,
         "Senegal",
         "2021.0",
         "0.067644659",
         "USD\tmillions",
         "BCEAO"
        ],
        [
         "47",
         "Iraq",
         "Kenya",
         "2024.0",
         "18,473.974825301",
         "USD\tmillions",
         "Central\tBank\tof\tKenya"
        ],
        [
         "48",
         "Israel",
         "Ethiopia",
         "2020.0",
         "16.12958144",
         "USD\tmillions",
         "National\tBank\tof\tEthiopia"
        ],
        [
         "49",
         "Italy",
         "Ethiopia",
         "2020.0",
         "40.64448902",
         "USD\tmillions",
         "National\tBank\tof\tEthiopia"
        ]
       ],
       "shape": {
        "columns": 6,
        "rows": 88
       }
      },
      "text/html": [
       "<div>\n",
       "<style scoped>\n",
       "    .dataframe tbody tr th:only-of-type {\n",
       "        vertical-align: middle;\n",
       "    }\n",
       "\n",
       "    .dataframe tbody tr th {\n",
       "        vertical-align: top;\n",
       "    }\n",
       "\n",
       "    .dataframe thead th {\n",
       "        text-align: right;\n",
       "    }\n",
       "</style>\n",
       "<table border=\"1\" class=\"dataframe\">\n",
       "  <thead>\n",
       "    <tr style=\"text-align: right;\">\n",
       "      <th></th>\n",
       "      <th>Sending Country</th>\n",
       "      <th>Receiving Country</th>\n",
       "      <th>Date</th>\n",
       "      <th>Value</th>\n",
       "      <th>Unit</th>\n",
       "      <th>Source</th>\n",
       "    </tr>\n",
       "  </thead>\n",
       "  <tbody>\n",
       "    <tr>\n",
       "      <th>0</th>\n",
       "      <td>Algeria</td>\n",
       "      <td>Senegal</td>\n",
       "      <td>2021.0</td>\n",
       "      <td>0.183414825</td>\n",
       "      <td>USD\\tmillions</td>\n",
       "      <td>BCEAO</td>\n",
       "    </tr>\n",
       "    <tr>\n",
       "      <th>1</th>\n",
       "      <td>Australia</td>\n",
       "      <td>Ethiopia</td>\n",
       "      <td>2020.0</td>\n",
       "      <td>13.59617511</td>\n",
       "      <td>USD\\tmillions</td>\n",
       "      <td>National\\tBank\\tof\\tEthiopia</td>\n",
       "    </tr>\n",
       "    <tr>\n",
       "      <th>2</th>\n",
       "      <td>NaN</td>\n",
       "      <td>Kenya</td>\n",
       "      <td>2024.0</td>\n",
       "      <td>184,497.099695719</td>\n",
       "      <td>USD\\tmillions</td>\n",
       "      <td>Central\\tBank\\tof\\tKenya</td>\n",
       "    </tr>\n",
       "    <tr>\n",
       "      <th>3</th>\n",
       "      <td>NaN</td>\n",
       "      <td>Uganda</td>\n",
       "      <td>2022.0</td>\n",
       "      <td>22</td>\n",
       "      <td>USD\\tmillions</td>\n",
       "      <td>Bank\\tof\\tUganda</td>\n",
       "    </tr>\n",
       "    <tr>\n",
       "      <th>4</th>\n",
       "      <td>Austria</td>\n",
       "      <td>Kenya</td>\n",
       "      <td>2024.0</td>\n",
       "      <td>13,169.065145833</td>\n",
       "      <td>USD\\tmillions</td>\n",
       "      <td>Central\\tBank\\tof\\tKenya</td>\n",
       "    </tr>\n",
       "    <tr>\n",
       "      <th>...</th>\n",
       "      <td>...</td>\n",
       "      <td>...</td>\n",
       "      <td>...</td>\n",
       "      <td>...</td>\n",
       "      <td>...</td>\n",
       "      <td>...</td>\n",
       "    </tr>\n",
       "    <tr>\n",
       "      <th>83</th>\n",
       "      <td>NaN</td>\n",
       "      <td>Kenya</td>\n",
       "      <td>2024.0</td>\n",
       "      <td>404,105.02454433</td>\n",
       "      <td>USD\\tmillions</td>\n",
       "      <td>Central\\tBank\\tof\\tKenya</td>\n",
       "    </tr>\n",
       "    <tr>\n",
       "      <th>84</th>\n",
       "      <td>NaN</td>\n",
       "      <td>Morocco</td>\n",
       "      <td>2020.0</td>\n",
       "      <td>532.442406</td>\n",
       "      <td>USD\\tmillions</td>\n",
       "      <td>Bank\\tAl-Maghrib</td>\n",
       "    </tr>\n",
       "    <tr>\n",
       "      <th>85</th>\n",
       "      <td>NaN</td>\n",
       "      <td>Uganda</td>\n",
       "      <td>2022.0</td>\n",
       "      <td>195.7</td>\n",
       "      <td>USD\\tmillions</td>\n",
       "      <td>Bank\\tof\\tUganda</td>\n",
       "    </tr>\n",
       "    <tr>\n",
       "      <th>86</th>\n",
       "      <td>Somalia</td>\n",
       "      <td>Uganda</td>\n",
       "      <td>2022.0</td>\n",
       "      <td>30</td>\n",
       "      <td>USD\\tmillions</td>\n",
       "      <td>Bank\\tof\\tUganda</td>\n",
       "    </tr>\n",
       "    <tr>\n",
       "      <th>87</th>\n",
       "      <td>NaN</td>\n",
       "      <td>Ethiopia</td>\n",
       "      <td>2020.0</td>\n",
       "      <td>67.93372415</td>\n",
       "      <td>USD\\tmillions</td>\n",
       "      <td>NaN</td>\n",
       "    </tr>\n",
       "  </tbody>\n",
       "</table>\n",
       "<p>88 rows × 6 columns</p>\n",
       "</div>"
      ],
      "text/plain": [
       "   Sending Country Receiving Country    Date              Value  \\\n",
       "0          Algeria           Senegal  2021.0        0.183414825   \n",
       "1        Australia          Ethiopia  2020.0        13.59617511   \n",
       "2              NaN             Kenya  2024.0  184,497.099695719   \n",
       "3              NaN            Uganda  2022.0                 22   \n",
       "4          Austria             Kenya  2024.0   13,169.065145833   \n",
       "..             ...               ...     ...                ...   \n",
       "83             NaN             Kenya  2024.0   404,105.02454433   \n",
       "84             NaN           Morocco  2020.0         532.442406   \n",
       "85             NaN            Uganda  2022.0              195.7   \n",
       "86         Somalia            Uganda  2022.0                 30   \n",
       "87             NaN          Ethiopia  2020.0        67.93372415   \n",
       "\n",
       "             Unit                        Source  \n",
       "0   USD\\tmillions                         BCEAO  \n",
       "1   USD\\tmillions  National\\tBank\\tof\\tEthiopia  \n",
       "2   USD\\tmillions      Central\\tBank\\tof\\tKenya  \n",
       "3   USD\\tmillions              Bank\\tof\\tUganda  \n",
       "4   USD\\tmillions      Central\\tBank\\tof\\tKenya  \n",
       "..            ...                           ...  \n",
       "83  USD\\tmillions      Central\\tBank\\tof\\tKenya  \n",
       "84  USD\\tmillions              Bank\\tAl-Maghrib  \n",
       "85  USD\\tmillions              Bank\\tof\\tUganda  \n",
       "86  USD\\tmillions              Bank\\tof\\tUganda  \n",
       "87  USD\\tmillions                           NaN  \n",
       "\n",
       "[88 rows x 6 columns]"
      ]
     },
     "execution_count": 28,
     "metadata": {},
     "output_type": "execute_result"
    }
   ],
   "source": [
    "df1"
   ]
  },
  {
   "cell_type": "code",
   "execution_count": 29,
   "id": "734f7448",
   "metadata": {},
   "outputs": [
    {
     "name": "stdout",
     "output_type": "stream",
     "text": [
      "Before forward fill:\n",
      "  Sending Country Receiving Country    Date              Value           Unit  \\\n",
      "0         Algeria           Senegal  2021.0        0.183414825  USD\\tmillions   \n",
      "1       Australia          Ethiopia  2020.0        13.59617511  USD\\tmillions   \n",
      "2             NaN             Kenya  2024.0  184,497.099695719  USD\\tmillions   \n",
      "3             NaN            Uganda  2022.0                 22  USD\\tmillions   \n",
      "4         Austria             Kenya  2024.0   13,169.065145833  USD\\tmillions   \n",
      "5         Bahamas             Kenya  2024.0    1,453.632639905  USD\\tmillions   \n",
      "6         Bahrain             Kenya  2024.0    5,004.769090469  USD\\tmillions   \n",
      "7             NaN           Morocco  2020.0         30.3408085  USD\\tmillions   \n",
      "8         Belgium             Kenya  2024.0   22,844.654997935  USD\\tmillions   \n",
      "9             NaN           Morocco  2020.0         387.629403  USD\\tmillions   \n",
      "\n",
      "                         Source  \n",
      "0                         BCEAO  \n",
      "1  National\\tBank\\tof\\tEthiopia  \n",
      "2      Central\\tBank\\tof\\tKenya  \n",
      "3              Bank\\tof\\tUganda  \n",
      "4      Central\\tBank\\tof\\tKenya  \n",
      "5      Central\\tBank\\tof\\tKenya  \n",
      "6      Central\\tBank\\tof\\tKenya  \n",
      "7              Bank\\tAl-Maghrib  \n",
      "8      Central\\tBank\\tof\\tKenya  \n",
      "9              Bank\\tAl-Maghrib  \n",
      "\n",
      "Missing values per column before forward fill:\n",
      "Sending Country      38\n",
      "Receiving Country     0\n",
      "Date                  0\n",
      "Value                 0\n",
      "Unit                  0\n",
      "Source                1\n",
      "dtype: int64\n",
      "\n",
      "==================================================\n",
      "After forward fill:\n",
      "  Sending Country Receiving Country    Date              Value           Unit  \\\n",
      "0         Algeria           Senegal  2021.0        0.183414825  USD\\tmillions   \n",
      "1       Australia          Ethiopia  2020.0        13.59617511  USD\\tmillions   \n",
      "2       Australia             Kenya  2024.0  184,497.099695719  USD\\tmillions   \n",
      "3       Australia            Uganda  2022.0                 22  USD\\tmillions   \n",
      "4         Austria             Kenya  2024.0   13,169.065145833  USD\\tmillions   \n",
      "5         Bahamas             Kenya  2024.0    1,453.632639905  USD\\tmillions   \n",
      "6         Bahrain             Kenya  2024.0    5,004.769090469  USD\\tmillions   \n",
      "7         Bahrain           Morocco  2020.0         30.3408085  USD\\tmillions   \n",
      "8         Belgium             Kenya  2024.0   22,844.654997935  USD\\tmillions   \n",
      "9         Belgium           Morocco  2020.0         387.629403  USD\\tmillions   \n",
      "\n",
      "                         Source  \n",
      "0                         BCEAO  \n",
      "1  National\\tBank\\tof\\tEthiopia  \n",
      "2      Central\\tBank\\tof\\tKenya  \n",
      "3              Bank\\tof\\tUganda  \n",
      "4      Central\\tBank\\tof\\tKenya  \n",
      "5      Central\\tBank\\tof\\tKenya  \n",
      "6      Central\\tBank\\tof\\tKenya  \n",
      "7              Bank\\tAl-Maghrib  \n",
      "8      Central\\tBank\\tof\\tKenya  \n",
      "9              Bank\\tAl-Maghrib  \n",
      "\n",
      "Missing values per column after forward fill:\n",
      "Sending Country      0\n",
      "Receiving Country    0\n",
      "Date                 0\n",
      "Value                0\n",
      "Unit                 0\n",
      "Source               0\n",
      "dtype: int64\n"
     ]
    }
   ],
   "source": [
    "# Forward fill missing values - replace NaN with the value from the row above\n",
    "print(\"Before forward fill:\")\n",
    "print(df1.head(10))\n",
    "print(\"\\nMissing values per column before forward fill:\")\n",
    "print(df1.isnull().sum())\n",
    "\n",
    "# Apply forward fill to replace missing values using the newer ffill() method\n",
    "df1_filled = df1.ffill()\n",
    "\n",
    "print(\"\\n\" + \"=\"*50)\n",
    "print(\"After forward fill:\")\n",
    "print(df1_filled.head(10))\n",
    "print(\"\\nMissing values per column after forward fill:\")\n",
    "print(df1_filled.isnull().sum())\n",
    "\n",
    "# Update df1 with the filled version\n",
    "df1 = df1_filled"
   ]
  },
  {
   "cell_type": "code",
   "execution_count": 30,
   "id": "181bb5d4",
   "metadata": {},
   "outputs": [
    {
     "data": {
      "application/vnd.microsoft.datawrangler.viewer.v0+json": {
       "columns": [
        {
         "name": "index",
         "rawType": "int64",
         "type": "integer"
        },
        {
         "name": "Sending Country",
         "rawType": "object",
         "type": "string"
        },
        {
         "name": "Receiving Country",
         "rawType": "object",
         "type": "string"
        },
        {
         "name": "Date",
         "rawType": "float64",
         "type": "float"
        },
        {
         "name": "Value",
         "rawType": "object",
         "type": "string"
        },
        {
         "name": "Unit",
         "rawType": "object",
         "type": "string"
        },
        {
         "name": "Source",
         "rawType": "object",
         "type": "string"
        }
       ],
       "ref": "49875909-62b8-4c80-898e-6d6167bbe321",
       "rows": [
        [
         "0",
         "Algeria",
         "Senegal",
         "2021.0",
         "0.183414825",
         "USD\tmillions",
         "BCEAO"
        ],
        [
         "1",
         "Australia",
         "Ethiopia",
         "2020.0",
         "13.59617511",
         "USD\tmillions",
         "National\tBank\tof\tEthiopia"
        ],
        [
         "2",
         "Australia",
         "Kenya",
         "2024.0",
         "184,497.099695719",
         "USD\tmillions",
         "Central\tBank\tof\tKenya"
        ],
        [
         "3",
         "Australia",
         "Uganda",
         "2022.0",
         "22",
         "USD\tmillions",
         "Bank\tof\tUganda"
        ],
        [
         "4",
         "Austria",
         "Kenya",
         "2024.0",
         "13,169.065145833",
         "USD\tmillions",
         "Central\tBank\tof\tKenya"
        ],
        [
         "5",
         "Bahamas",
         "Kenya",
         "2024.0",
         "1,453.632639905",
         "USD\tmillions",
         "Central\tBank\tof\tKenya"
        ],
        [
         "6",
         "Bahrain",
         "Kenya",
         "2024.0",
         "5,004.769090469",
         "USD\tmillions",
         "Central\tBank\tof\tKenya"
        ],
        [
         "7",
         "Bahrain",
         "Morocco",
         "2020.0",
         "30.3408085",
         "USD\tmillions",
         "Bank\tAl-Maghrib"
        ],
        [
         "8",
         "Belgium",
         "Kenya",
         "2024.0",
         "22,844.654997935",
         "USD\tmillions",
         "Central\tBank\tof\tKenya"
        ],
        [
         "9",
         "Belgium",
         "Morocco",
         "2020.0",
         "387.629403",
         "USD\tmillions",
         "Bank\tAl-Maghrib"
        ],
        [
         "10",
         "Belgium",
         "Senegal",
         "2021.0",
         "88.247787762",
         "USD\tmillions",
         "BCEAO"
        ],
        [
         "11",
         "Benin",
         "Senegal",
         "2021.0",
         "25.846190336",
         "USD\tmillions",
         "BCEAO"
        ],
        [
         "12",
         "Brazil",
         "Senegal",
         "2021.0",
         "29.312422216",
         "USD\tmillions",
         "BCEAO"
        ],
        [
         "13",
         "Burkina\tFaso",
         "Senegal",
         "2021.0",
         "35.216150094",
         "USD\tmillions",
         "BCEAO"
        ],
        [
         "14",
         "Cameroon",
         "Senegal",
         "2021.0",
         "43.126214245",
         "USD\tmillions",
         "BCEAO"
        ],
        [
         "15",
         "Canada",
         "Ethiopia",
         "2020.0",
         "33.89159808",
         "USD\tmillions",
         "National\tBank\tof\tEthiopia"
        ],
        [
         "16",
         "Canada",
         "Kenya",
         "2024.0",
         "130,812.76972775",
         "USD\tmillions",
         "Central\tBank\tof\tKenya"
        ],
        [
         "17",
         "Canada",
         "Morocco",
         "2020.0",
         "99.802037",
         "USD\tmillions",
         "Bank\tAl-Maghrib"
        ],
        [
         "18",
         "Canada",
         "Senegal",
         "2021.0",
         "2.866648143",
         "USD\tmillions",
         "BCEAO"
        ],
        [
         "19",
         "Canada",
         "Uganda",
         "2022.0",
         "82.1",
         "USD\tmillions",
         "Bank\tof\tUganda"
        ],
        [
         "20",
         "Central\tAfrican\tRepublic",
         "Senegal",
         "2021.0",
         "11.097456712",
         "USD\tmillions",
         "BCEAO"
        ],
        [
         "21",
         "Chad",
         "Senegal",
         "2021.0",
         "8.390086853",
         "USD\tmillions",
         "BCEAO"
        ],
        [
         "22",
         "China",
         "Kenya",
         "2024.0",
         "5,981.681937719",
         "USD\tmillions",
         "Central\tBank\tof\tKenya"
        ],
        [
         "23",
         "China",
         "Senegal",
         "2021.0",
         "0.358772173",
         "USD\tmillions",
         "BCEAO"
        ],
        [
         "24",
         "China",
         "Uganda",
         "2022.0",
         "7",
         "USD\tmillions",
         "Bank\tof\tUganda"
        ],
        [
         "25",
         "Congo,\tDem.\tRep.",
         "Uganda",
         "2022.0",
         "21",
         "USD\tmillions",
         "Bank\tof\tUganda"
        ],
        [
         "26",
         "Congo,\tRep.",
         "Senegal",
         "2021.0",
         "61.407592705",
         "USD\tmillions",
         "BCEAO"
        ],
        [
         "27",
         "Côte\td'Ivoire",
         "Kenya",
         "2024.0",
         "4,351.233359615",
         "USD\tmillions",
         "Central\tBank\tof\tKenya"
        ],
        [
         "28",
         "Côte\td'Ivoire",
         "Senegal",
         "2021.0",
         "89.989410749",
         "USD\tmillions",
         "BCEAO"
        ],
        [
         "29",
         "Denmark",
         "Morocco",
         "2020.0",
         "28.261131",
         "USD\tmillions",
         "Bank\tAl-Maghrib"
        ],
        [
         "30",
         "Denmark",
         "Senegal",
         "2021.0",
         "5.476232008",
         "USD\tmillions",
         "BCEAO"
        ],
        [
         "31",
         "Djibouti",
         "Ethiopia",
         "2020.0",
         "185.47649889",
         "USD\tmillions",
         "National\tBank\tof\tEthiopia"
        ],
        [
         "32",
         "Egypt",
         "Kenya",
         "2024.0",
         "2,710.849916951",
         "USD\tmillions",
         "Central\tBank\tof\tKenya"
        ],
        [
         "33",
         "Equatorial\tGuinea",
         "Senegal",
         "2021.0",
         "4.981180446",
         "USD\tmillions",
         "BCEAO"
        ],
        [
         "34",
         "France",
         "Kenya",
         "2024.0",
         "25,420.562300568",
         "USD\tmillions",
         "Central\tBank\tof\tKenya"
        ],
        [
         "35",
         "France",
         "Morocco",
         "2020.0",
         "2,740.1718325",
         "USD\tmillions",
         "Bank\tAl-Maghrib"
        ],
        [
         "36",
         "France",
         "Senegal",
         "2021.0",
         "1,630.192958418",
         "USD\tmillions",
         "BCEAO"
        ],
        [
         "37",
         "Gabon",
         "Senegal",
         "2021.0",
         "110.182458279",
         "USD\tmillions",
         "BCEAO"
        ],
        [
         "38",
         "Germany",
         "Ethiopia",
         "2020.0",
         "61.4673327",
         "USD\tmillions",
         "National\tBank\tof\tEthiopia"
        ],
        [
         "39",
         "Germany",
         "Kenya",
         "2024.0",
         "197,764.185703727",
         "USD\tmillions",
         "Central\tBank\tof\tKenya"
        ],
        [
         "40",
         "Germany",
         "Morocco",
         "2020.0",
         "349.588167",
         "USD\tmillions",
         "Bank\tAl-Maghrib"
        ],
        [
         "41",
         "Germany",
         "Senegal",
         "2021.0",
         "81.314844041",
         "USD\tmillions",
         "BCEAO"
        ],
        [
         "42",
         "Germany",
         "Uganda",
         "2022.0",
         "27.9",
         "USD\tmillions",
         "Bank\tof\tUganda"
        ],
        [
         "43",
         "Greece",
         "Senegal",
         "2021.0",
         "7.552688969",
         "USD\tmillions",
         "BCEAO"
        ],
        [
         "44",
         "Guinea-Bissau",
         "Senegal",
         "2021.0",
         "20.567153363",
         "USD\tmillions",
         "BCEAO"
        ],
        [
         "45",
         "India",
         "Kenya",
         "2024.0",
         "20,594.869099147",
         "USD\tmillions",
         "Central\tBank\tof\tKenya"
        ],
        [
         "46",
         "India",
         "Senegal",
         "2021.0",
         "0.067644659",
         "USD\tmillions",
         "BCEAO"
        ],
        [
         "47",
         "Iraq",
         "Kenya",
         "2024.0",
         "18,473.974825301",
         "USD\tmillions",
         "Central\tBank\tof\tKenya"
        ],
        [
         "48",
         "Israel",
         "Ethiopia",
         "2020.0",
         "16.12958144",
         "USD\tmillions",
         "National\tBank\tof\tEthiopia"
        ],
        [
         "49",
         "Italy",
         "Ethiopia",
         "2020.0",
         "40.64448902",
         "USD\tmillions",
         "National\tBank\tof\tEthiopia"
        ]
       ],
       "shape": {
        "columns": 6,
        "rows": 88
       }
      },
      "text/html": [
       "<div>\n",
       "<style scoped>\n",
       "    .dataframe tbody tr th:only-of-type {\n",
       "        vertical-align: middle;\n",
       "    }\n",
       "\n",
       "    .dataframe tbody tr th {\n",
       "        vertical-align: top;\n",
       "    }\n",
       "\n",
       "    .dataframe thead th {\n",
       "        text-align: right;\n",
       "    }\n",
       "</style>\n",
       "<table border=\"1\" class=\"dataframe\">\n",
       "  <thead>\n",
       "    <tr style=\"text-align: right;\">\n",
       "      <th></th>\n",
       "      <th>Sending Country</th>\n",
       "      <th>Receiving Country</th>\n",
       "      <th>Date</th>\n",
       "      <th>Value</th>\n",
       "      <th>Unit</th>\n",
       "      <th>Source</th>\n",
       "    </tr>\n",
       "  </thead>\n",
       "  <tbody>\n",
       "    <tr>\n",
       "      <th>0</th>\n",
       "      <td>Algeria</td>\n",
       "      <td>Senegal</td>\n",
       "      <td>2021.0</td>\n",
       "      <td>0.183414825</td>\n",
       "      <td>USD\\tmillions</td>\n",
       "      <td>BCEAO</td>\n",
       "    </tr>\n",
       "    <tr>\n",
       "      <th>1</th>\n",
       "      <td>Australia</td>\n",
       "      <td>Ethiopia</td>\n",
       "      <td>2020.0</td>\n",
       "      <td>13.59617511</td>\n",
       "      <td>USD\\tmillions</td>\n",
       "      <td>National\\tBank\\tof\\tEthiopia</td>\n",
       "    </tr>\n",
       "    <tr>\n",
       "      <th>2</th>\n",
       "      <td>Australia</td>\n",
       "      <td>Kenya</td>\n",
       "      <td>2024.0</td>\n",
       "      <td>184,497.099695719</td>\n",
       "      <td>USD\\tmillions</td>\n",
       "      <td>Central\\tBank\\tof\\tKenya</td>\n",
       "    </tr>\n",
       "    <tr>\n",
       "      <th>3</th>\n",
       "      <td>Australia</td>\n",
       "      <td>Uganda</td>\n",
       "      <td>2022.0</td>\n",
       "      <td>22</td>\n",
       "      <td>USD\\tmillions</td>\n",
       "      <td>Bank\\tof\\tUganda</td>\n",
       "    </tr>\n",
       "    <tr>\n",
       "      <th>4</th>\n",
       "      <td>Austria</td>\n",
       "      <td>Kenya</td>\n",
       "      <td>2024.0</td>\n",
       "      <td>13,169.065145833</td>\n",
       "      <td>USD\\tmillions</td>\n",
       "      <td>Central\\tBank\\tof\\tKenya</td>\n",
       "    </tr>\n",
       "    <tr>\n",
       "      <th>...</th>\n",
       "      <td>...</td>\n",
       "      <td>...</td>\n",
       "      <td>...</td>\n",
       "      <td>...</td>\n",
       "      <td>...</td>\n",
       "      <td>...</td>\n",
       "    </tr>\n",
       "    <tr>\n",
       "      <th>83</th>\n",
       "      <td>Saudi\\tArabia</td>\n",
       "      <td>Kenya</td>\n",
       "      <td>2024.0</td>\n",
       "      <td>404,105.02454433</td>\n",
       "      <td>USD\\tmillions</td>\n",
       "      <td>Central\\tBank\\tof\\tKenya</td>\n",
       "    </tr>\n",
       "    <tr>\n",
       "      <th>84</th>\n",
       "      <td>Saudi\\tArabia</td>\n",
       "      <td>Morocco</td>\n",
       "      <td>2020.0</td>\n",
       "      <td>532.442406</td>\n",
       "      <td>USD\\tmillions</td>\n",
       "      <td>Bank\\tAl-Maghrib</td>\n",
       "    </tr>\n",
       "    <tr>\n",
       "      <th>85</th>\n",
       "      <td>Saudi\\tArabia</td>\n",
       "      <td>Uganda</td>\n",
       "      <td>2022.0</td>\n",
       "      <td>195.7</td>\n",
       "      <td>USD\\tmillions</td>\n",
       "      <td>Bank\\tof\\tUganda</td>\n",
       "    </tr>\n",
       "    <tr>\n",
       "      <th>86</th>\n",
       "      <td>Somalia</td>\n",
       "      <td>Uganda</td>\n",
       "      <td>2022.0</td>\n",
       "      <td>30</td>\n",
       "      <td>USD\\tmillions</td>\n",
       "      <td>Bank\\tof\\tUganda</td>\n",
       "    </tr>\n",
       "    <tr>\n",
       "      <th>87</th>\n",
       "      <td>Somalia</td>\n",
       "      <td>Ethiopia</td>\n",
       "      <td>2020.0</td>\n",
       "      <td>67.93372415</td>\n",
       "      <td>USD\\tmillions</td>\n",
       "      <td>Bank\\tof\\tUganda</td>\n",
       "    </tr>\n",
       "  </tbody>\n",
       "</table>\n",
       "<p>88 rows × 6 columns</p>\n",
       "</div>"
      ],
      "text/plain": [
       "   Sending Country Receiving Country    Date              Value  \\\n",
       "0          Algeria           Senegal  2021.0        0.183414825   \n",
       "1        Australia          Ethiopia  2020.0        13.59617511   \n",
       "2        Australia             Kenya  2024.0  184,497.099695719   \n",
       "3        Australia            Uganda  2022.0                 22   \n",
       "4          Austria             Kenya  2024.0   13,169.065145833   \n",
       "..             ...               ...     ...                ...   \n",
       "83   Saudi\\tArabia             Kenya  2024.0   404,105.02454433   \n",
       "84   Saudi\\tArabia           Morocco  2020.0         532.442406   \n",
       "85   Saudi\\tArabia            Uganda  2022.0              195.7   \n",
       "86         Somalia            Uganda  2022.0                 30   \n",
       "87         Somalia          Ethiopia  2020.0        67.93372415   \n",
       "\n",
       "             Unit                        Source  \n",
       "0   USD\\tmillions                         BCEAO  \n",
       "1   USD\\tmillions  National\\tBank\\tof\\tEthiopia  \n",
       "2   USD\\tmillions      Central\\tBank\\tof\\tKenya  \n",
       "3   USD\\tmillions              Bank\\tof\\tUganda  \n",
       "4   USD\\tmillions      Central\\tBank\\tof\\tKenya  \n",
       "..            ...                           ...  \n",
       "83  USD\\tmillions      Central\\tBank\\tof\\tKenya  \n",
       "84  USD\\tmillions              Bank\\tAl-Maghrib  \n",
       "85  USD\\tmillions              Bank\\tof\\tUganda  \n",
       "86  USD\\tmillions              Bank\\tof\\tUganda  \n",
       "87  USD\\tmillions              Bank\\tof\\tUganda  \n",
       "\n",
       "[88 rows x 6 columns]"
      ]
     },
     "execution_count": 30,
     "metadata": {},
     "output_type": "execute_result"
    }
   ],
   "source": [
    "df1"
   ]
  },
  {
   "cell_type": "code",
   "execution_count": null,
   "id": "01538e61",
   "metadata": {},
   "outputs": [
    {
     "name": "stdout",
     "output_type": "stream",
     "text": [
      "DataFrame saved as '10_8.csv'\n",
      "Shape of saved DataFrame: (88, 6)\n",
      "Columns saved: ['Sending Country', 'Receiving Country', 'Date', 'Value', 'Unit', 'Source']\n"
     ]
    },
    {
     "ename": "",
     "evalue": "",
     "output_type": "error",
     "traceback": [
      "\u001b[1;31mThe Kernel crashed while executing code in the current cell or a previous cell. \n",
      "\u001b[1;31mPlease review the code in the cell(s) to identify a possible cause of the failure. \n",
      "\u001b[1;31mClick <a href='https://aka.ms/vscodeJupyterKernelCrash'>here</a> for more info. \n",
      "\u001b[1;31mView Jupyter <a href='command:jupyter.viewOutput'>log</a> for further details."
     ]
    }
   ],
   "source": [
    "# Save df1 as CSV file\n",
    "df1.to_csv('10_8.csv', index=False, encoding='utf-8')\n",
    "print(\"DataFrame saved as '10_8.csv'\")\n",
    "print(f\"Shape of saved DataFrame: {df1.shape}\")\n",
    "print(f\"Columns saved: {list(df1.columns)}\")"
   ]
  }
 ],
 "metadata": {
  "kernelspec": {
   "display_name": "Python 3",
   "language": "python",
   "name": "python3"
  },
  "language_info": {
   "codemirror_mode": {
    "name": "ipython",
    "version": 3
   },
   "file_extension": ".py",
   "mimetype": "text/x-python",
   "name": "python",
   "nbconvert_exporter": "python",
   "pygments_lexer": "ipython3",
   "version": "3.13.5"
  }
 },
 "nbformat": 4,
 "nbformat_minor": 5
}
